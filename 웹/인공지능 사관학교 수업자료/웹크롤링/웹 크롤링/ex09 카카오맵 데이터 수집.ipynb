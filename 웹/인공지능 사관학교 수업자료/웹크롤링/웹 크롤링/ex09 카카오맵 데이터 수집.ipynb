{
 "cells": [
  {
   "cell_type": "code",
   "execution_count": 1,
   "id": "e2cd74c9",
   "metadata": {},
   "outputs": [],
   "source": [
    "from selenium import webdriver as wb\n",
    "from selenium.webdriver.common.keys import Keys\n",
    "from selenium.webdriver.common.by import By"
   ]
  },
  {
   "cell_type": "code",
   "execution_count": 7,
   "id": "e3668faf",
   "metadata": {},
   "outputs": [],
   "source": [
    "driver = wb.Chrome()\n",
    "driver.get(\"https://map.kakao.com/\")"
   ]
  },
  {
   "cell_type": "code",
   "execution_count": 8,
   "id": "fc1acf16",
   "metadata": {},
   "outputs": [],
   "source": [
    "#1. 검색창에 광주맛집 검색\n",
    "# 지도설정 레이어를 클릭!\n",
    "layer = driver.find_element(By.ID,\"dimmedLayer\")\n",
    "layer.click()"
   ]
  },
  {
   "cell_type": "markdown",
   "id": "4d038f20",
   "metadata": {},
   "source": [
    "### id나 클래스에(선택자에) .,# 기호가 들어가 있는 경우\n",
    "\n",
    "- 컴퓨터가 해석할 때 #(아이디), .(클래스)로 인식하기 때문에\n",
    "- 문자로 인식 시키기 위해서 \\# or \\. 사용!\n",
    "- 문자로 \".\", \"#\" 으로 인식한다~"
   ]
  },
  {
   "cell_type": "code",
   "execution_count": 11,
   "id": "b8449afb",
   "metadata": {},
   "outputs": [],
   "source": [
    "#검색창 찾기\n",
    "search = driver.find_element(By.CSS_SELECTOR,\"#search\\.keyword\\.query\")"
   ]
  },
  {
   "cell_type": "code",
   "execution_count": null,
   "id": "e5c1dad6",
   "metadata": {},
   "outputs": [],
   "source": []
  }
 ],
 "metadata": {
  "kernelspec": {
   "display_name": "Python 3 (ipykernel)",
   "language": "python",
   "name": "python3"
  },
  "language_info": {
   "codemirror_mode": {
    "name": "ipython",
    "version": 3
   },
   "file_extension": ".py",
   "mimetype": "text/x-python",
   "name": "python",
   "nbconvert_exporter": "python",
   "pygments_lexer": "ipython3",
   "version": "3.9.12"
  },
  "toc": {
   "base_numbering": 1,
   "nav_menu": {},
   "number_sections": true,
   "sideBar": true,
   "skip_h1_title": false,
   "title_cell": "Table of Contents",
   "title_sidebar": "Contents",
   "toc_cell": false,
   "toc_position": {},
   "toc_section_display": true,
   "toc_window_display": false
  }
 },
 "nbformat": 4,
 "nbformat_minor": 5
}
