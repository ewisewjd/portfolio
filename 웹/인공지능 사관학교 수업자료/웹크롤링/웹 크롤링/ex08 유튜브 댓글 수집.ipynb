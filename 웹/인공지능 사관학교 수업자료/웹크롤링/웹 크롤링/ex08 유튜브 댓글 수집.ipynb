{
 "cells": [
  {
   "cell_type": "code",
   "execution_count": 1,
   "id": "7cbf212f",
   "metadata": {},
   "outputs": [],
   "source": [
    "from selenium import webdriver as wb\n",
    "from selenium.webdriver.common.keys import Keys\n",
    "from selenium.webdriver.common.by import By\n",
    "import time"
   ]
  },
  {
   "cell_type": "code",
   "execution_count": 2,
   "id": "c22639dc",
   "metadata": {},
   "outputs": [],
   "source": [
    "#1. 브라우저를 실행 > 유튜브채널 사이트로!\n",
    "driver = wb.Chrome()\n",
    "driver.get(\"https://www.youtube.com/watch?v=H00a8FIXolk\")"
   ]
  },
  {
   "cell_type": "code",
   "execution_count": 9,
   "id": "b7361d82",
   "metadata": {},
   "outputs": [
    {
     "name": "stdout",
     "output_type": "stream",
     "text": [
      "하도봐서 고멤뿐만아니라 시청자들까지 누군지 알아보는게 레전드  ㅋㅋㅋㅋㅋㅋㅋㅋㅋㅋㅋㅋㅋㅋㅋㅋㅋㅋ\n",
      "진짜 이런 역설들 브알챗으로 실험하는거 너무 재밌음ㅋㅋㅋㅋㅋㅋ\n",
      "4:44 자막날조 너무 자연스러워서 눈치못챌뻔했네ㅋㅋㅋㅋㅋ\n",
      "역시 싸패온ㅋㅋㅋㅋ\n",
      "이런 컨텐츠들 항상 무지성하게 급마무리되는 점이 좋음\n",
      "아니 피카온 자동차 운전 자주하냐고 물어볼 때 사람 납치하러 운전한다는 자막 너무 자연스러워서 그냥 지나갔네 ㅋㅋㅋㅋ\n",
      "생일역설도 재미있었지만 감자생산량이 많을 수 밖에 없는 이유를 이 영상에서 더 알 수가 있어서 유익했습니다 ㅎㅎ\n",
      "어쩌다 보니 갑자기 의도치 읺게 오늘도 인연을 만드는 큐피트 우왁굳ㅋㅋㅋㅋㅋㅋㅋ\n",
      "이렇게 소소하게 시청자들 모아서 표본? 만드는거 재밌다ㅋㅋㅋㅋㅋㅋㅋㅋ 고멤 아니더라도 편하게 비빌 수 있고 딱히 뭐 어필해야하는 순간도 없으니 알잘딱되네\n",
      "솔직히 수학적으로는 맞다고 해도 저게 진짜일까 했었는데 처음부터 생일 똑같은 사람 나와서 너무 웃겼음ㅋㅋㅋㅋㅋㅋ\n",
      "표본 모아서 실험하는거 재밌음 자주 해줘 형 ㅋㅋㅋㅋ\n",
      "생일이랑 심지어 태어난 년도까지 같은건 진짜 신기하네ㅋㅋㅋㅋ 컨텐츠 너무 재밌다 형\n",
      "3:17\n",
      "기린눈나 왁굳형 혈액형 듣고 줄바꾸는거 \n",
      "댕커엽ㅋㅋㅋㅋㅋㅋㅋㅋㅋㅋㅋㅋㅋㅋㅋㅋㅋㅋ\n",
      "왁굳형 !! 팬치들과 함께 통계내거나 설문조사하고 결과 같이 보는거 쥰내 재밋어!!! 자주해죠~~~\n",
      "이런 컨텐츠 너무 좋다.. 요즘 뭔가 형이 뭐 하면은 '어 판 만들어줄테니까 난 보기만 할게 너네 알아서 놀아' 이런 느낌이었는데 (뭔가 형은 병풍인 느낌) \n",
      "\n",
      "근데 이건 형이 MC도 보고 질문도 하고 또 그거에 시청자들이 실시간으로 반응하고 누가 주인공 되는 거 없이 각자 시청자의 선에서 색깔이 튀니까 형이 더 빛나는거 같고\n",
      "생일 똑같다니까 바로 사겨라 나오는 거 진짜 아저시같아 형 ㅋㅋㅋㅋㅋㅋ\n",
      "아니 진짜 될 줄은 몰랐는데 생일의 역설 ㄹㅇ 신기했습니다 ㅋㅋㅋㅋㅋㅋㅋㅋㅋ\n",
      "형 이런 실험 진짜 좋은 거 같아 ㅋㅋㅋㅋ 호기심이 확 생기네\n",
      "2:30 뭘 자연스럽게 합격ㅋㅋㅋㅋㅋㅋㅋㅋ ㅋㅋㅋ\n",
      "아 이런 무지성 컨텐츠와 그걸 위해 모여주는 팬치들까지 너무 재미있닼ㅋㅋㅋ\n",
      "진짜 노가리가 이렇게 컨텐츠로 나오는게 쥰내 알차 ㅋㅋㅋㅋㅋㅋㅋㅋㅋㅋㅋ\n"
     ]
    }
   ],
   "source": [
    "#2. 댓글정보를 수집\n",
    "review = driver.find_elements(By.ID,\"content-text\")\n",
    "for i in review :\n",
    "    print(i.text)"
   ]
  },
  {
   "cell_type": "code",
   "execution_count": 10,
   "id": "a9953a68",
   "metadata": {},
   "outputs": [
    {
     "data": {
      "text/plain": [
       "20"
      ]
     },
     "execution_count": 10,
     "metadata": {},
     "output_type": "execute_result"
    }
   ],
   "source": [
    "# 수집한 댓글의 길이 체크\n",
    "len(review)"
   ]
  },
  {
   "cell_type": "markdown",
   "id": "3d0eee78",
   "metadata": {},
   "source": [
    "### 스크롤 내리는 방법\n",
    "- 키보드의 END키를 활용!\n",
    "- 전체 페이지를 움직이기 때문에 body태그를 접근\n",
    "- body태그에게 키보드의 END값을 전달>body.send_keys(Keys.END)\n",
    "- [주의점]\n",
    "- 반복 작업시 while문은 사용금지 > body는 계속 존재 > 무한루프\n",
    "- for문을 활용해서 많은 양의 반복을 통해 진행 추천!"
   ]
  },
  {
   "cell_type": "code",
   "execution_count": 15,
   "id": "14325e3b",
   "metadata": {
    "collapsed": true
   },
   "outputs": [
    {
     "ename": "KeyboardInterrupt",
     "evalue": "",
     "output_type": "error",
     "traceback": [
      "\u001b[1;31m---------------------------------------------------------------------------\u001b[0m",
      "\u001b[1;31mKeyboardInterrupt\u001b[0m                         Traceback (most recent call last)",
      "Input \u001b[1;32mIn [15]\u001b[0m, in \u001b[0;36m<cell line: 2>\u001b[1;34m()\u001b[0m\n\u001b[0;32m      2\u001b[0m body \u001b[38;5;241m=\u001b[39m driver\u001b[38;5;241m.\u001b[39mfind_element(By\u001b[38;5;241m.\u001b[39mTAG_NAME,\u001b[38;5;124m\"\u001b[39m\u001b[38;5;124mbody\u001b[39m\u001b[38;5;124m\"\u001b[39m)\n\u001b[0;32m      3\u001b[0m body\u001b[38;5;241m.\u001b[39msend_keys(Keys\u001b[38;5;241m.\u001b[39mEND)\n\u001b[1;32m----> 4\u001b[0m \u001b[43mtime\u001b[49m\u001b[38;5;241;43m.\u001b[39;49m\u001b[43msleep\u001b[49m\u001b[43m(\u001b[49m\u001b[38;5;241;43m0.5\u001b[39;49m\u001b[43m)\u001b[49m\n",
      "\u001b[1;31mKeyboardInterrupt\u001b[0m: "
     ]
    }
   ],
   "source": [
    "for i in range(100) :\n",
    "    body = driver.find_element(By.TAG_NAME,\"body\")\n",
    "    body.send_keys(Keys.END)\n",
    "    time.sleep(0.5)"
   ]
  }
 ],
 "metadata": {
  "kernelspec": {
   "display_name": "Python 3 (ipykernel)",
   "language": "python",
   "name": "python3"
  },
  "language_info": {
   "codemirror_mode": {
    "name": "ipython",
    "version": 3
   },
   "file_extension": ".py",
   "mimetype": "text/x-python",
   "name": "python",
   "nbconvert_exporter": "python",
   "pygments_lexer": "ipython3",
   "version": "3.9.12"
  },
  "toc": {
   "base_numbering": 1,
   "nav_menu": {},
   "number_sections": true,
   "sideBar": true,
   "skip_h1_title": false,
   "title_cell": "Table of Contents",
   "title_sidebar": "Contents",
   "toc_cell": false,
   "toc_position": {},
   "toc_section_display": true,
   "toc_window_display": false
  }
 },
 "nbformat": 4,
 "nbformat_minor": 5
}
