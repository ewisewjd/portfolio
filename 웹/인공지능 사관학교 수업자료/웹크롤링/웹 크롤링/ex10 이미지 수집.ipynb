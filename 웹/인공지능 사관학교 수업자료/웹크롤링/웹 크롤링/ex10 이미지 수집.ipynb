{
 "cells": [
  {
   "cell_type": "code",
   "execution_count": 1,
   "id": "afafc8bc",
   "metadata": {},
   "outputs": [],
   "source": [
    "from selenium import webdriver as wb\n",
    "from selenium.webdriver.common.keys import Keys\n",
    "from selenium.webdriver.common.by import By\n",
    "import time\n",
    "# 파일시스템을 위한 라이브러리(파일,폴더를 생성,삭제)\n",
    "import os\n",
    "# 이미지의 url값을 파일로 변형시켜주는 라이브러리\n",
    "from urllib.request import urlretrieve"
   ]
  },
  {
   "cell_type": "code",
   "execution_count": 2,
   "id": "6984a982",
   "metadata": {},
   "outputs": [],
   "source": [
    "#1. 크롬을 통해서 네이버 메인사이트로 이동\n",
    "driver = wb.Chrome()\n",
    "driver.get(\"http://www.naver.com\")"
   ]
  },
  {
   "cell_type": "code",
   "execution_count": 4,
   "id": "846afa4a",
   "metadata": {
    "collapsed": true
   },
   "outputs": [
    {
     "ename": "NameError",
     "evalue": "name 'Key' is not defined",
     "output_type": "error",
     "traceback": [
      "\u001b[1;31m---------------------------------------------------------------------------\u001b[0m",
      "\u001b[1;31mNameError\u001b[0m                                 Traceback (most recent call last)",
      "Input \u001b[1;32mIn [4]\u001b[0m, in \u001b[0;36m<cell line: 5>\u001b[1;34m()\u001b[0m\n\u001b[0;32m      3\u001b[0m search \u001b[38;5;241m=\u001b[39m driver\u001b[38;5;241m.\u001b[39mfind_element(By\u001b[38;5;241m.\u001b[39mID,\u001b[38;5;124m\"\u001b[39m\u001b[38;5;124mquery\u001b[39m\u001b[38;5;124m\"\u001b[39m)\n\u001b[0;32m      4\u001b[0m search\u001b[38;5;241m.\u001b[39msend_keys(\u001b[38;5;124m\"\u001b[39m\u001b[38;5;124m손흥민\u001b[39m\u001b[38;5;124m\"\u001b[39m)\n\u001b[1;32m----> 5\u001b[0m search\u001b[38;5;241m.\u001b[39msend_keys(\u001b[43mKey\u001b[49m\u001b[38;5;241m.\u001b[39mENTER)\n",
      "\u001b[1;31mNameError\u001b[0m: name 'Key' is not defined"
     ]
    }
   ],
   "source": [
    "#2.검색창에 원하는 검색 입력\n",
    "#2.1 검색까지 진행\n",
    "search = driver.find_element(By.ID,\"query\")\n",
    "search.send_keys(\"손흥민\")\n",
    "search.send_keys(Keys.ENTER)"
   ]
  },
  {
   "cell_type": "code",
   "execution_count": 8,
   "id": "d078c8f3",
   "metadata": {},
   "outputs": [],
   "source": [
    "#3. 이미지 탭 클릭\n",
    "tap = driver.find_element(By.CSS_SELECTOR,\"#lnb > div.lnb_group > div > ul > li:nth-child(2) > a\")\n",
    "tap.click()"
   ]
  },
  {
   "cell_type": "code",
   "execution_count": null,
   "id": "ae7ff716",
   "metadata": {},
   "outputs": [],
   "source": [
    "# 스크롤 작동하는 코드 (화면구성 더 많아진다~ 로딩받는 데이터 증가!)"
   ]
  },
  {
   "cell_type": "code",
   "execution_count": 20,
   "id": "db405551",
   "metadata": {},
   "outputs": [],
   "source": [
    "# 4. 이미지 태그들을 수집\n",
    "# 이유는? 이미지 태그 속에 존재하는 src만 추출하기 위해서!\n",
    "img = driver.find_elements(By.CSS_SELECTOR,\"._image._listImage\")"
   ]
  },
  {
   "cell_type": "code",
   "execution_count": 13,
   "id": "96016b30",
   "metadata": {
    "collapsed": true
   },
   "outputs": [
    {
     "data": {
      "text/plain": [
       "'https://search.pstatic.net/common/?src=http%3A%2F%2Fimgnews.naver.net%2Fimage%2F469%2F2022%2F07%2F10%2F0000685289_001_20220710100105779.jpg&type=a340'"
      ]
     },
     "execution_count": 13,
     "metadata": {},
     "output_type": "execute_result"
    }
   ],
   "source": [
    "# 나 img리스트의 0번째 데이터에서 src 속성을 가져다줘!\n",
    "# 속성을 수집할 때는 get_attribute(\"속성\")\n",
    "img[0].get_attribute(\"src\")"
   ]
  },
  {
   "cell_type": "code",
   "execution_count": 21,
   "id": "6c3f6c10",
   "metadata": {},
   "outputs": [],
   "source": [
    "# src만 담아줄 리스트 새로 제작\n",
    "srcList = []\n",
    "for i in img :\n",
    "    srcList.append(i.get_attribute(\"src\"))"
   ]
  },
  {
   "cell_type": "code",
   "execution_count": 16,
   "id": "893d37dc",
   "metadata": {},
   "outputs": [],
   "source": [
    "# 이미지를 저장!\n",
    "# 바탕화면에 이미지 폴더를 생성\n",
    "# 바탕화면에 이미지라는 폴더가 없다면, 바탕화면에 이미지 폴더 만들어줘~\n",
    "if not os.path.isdir(\"C:/Users/user/Desktop/이미지\") :\n",
    "    os.mkdir(\"C:/Users/user/Desktop/이미지\")"
   ]
  },
  {
   "cell_type": "code",
   "execution_count": 22,
   "id": "4e59d601",
   "metadata": {
    "collapsed": true
   },
   "outputs": [
    {
     "ename": "KeyboardInterrupt",
     "evalue": "",
     "output_type": "error",
     "traceback": [
      "\u001b[1;31m---------------------------------------------------------------------------\u001b[0m",
      "\u001b[1;31mKeyboardInterrupt\u001b[0m                         Traceback (most recent call last)",
      "Input \u001b[1;32mIn [22]\u001b[0m, in \u001b[0;36m<cell line: 3>\u001b[1;34m()\u001b[0m\n\u001b[0;32m      4\u001b[0m urlretrieve(i,\u001b[38;5;124m\"\u001b[39m\u001b[38;5;124mC:/Users/user/Desktop/이미지/\u001b[39m\u001b[38;5;124m\"\u001b[39m\u001b[38;5;241m+\u001b[39m\u001b[38;5;28mstr\u001b[39m(cnt)\u001b[38;5;241m+\u001b[39m\u001b[38;5;124m\"\u001b[39m\u001b[38;5;124m.jpg\u001b[39m\u001b[38;5;124m\"\u001b[39m)\n\u001b[0;32m      5\u001b[0m cnt \u001b[38;5;241m=\u001b[39m cnt \u001b[38;5;241m+\u001b[39m \u001b[38;5;241m1\u001b[39m;\n\u001b[1;32m----> 6\u001b[0m \u001b[43mtime\u001b[49m\u001b[38;5;241;43m.\u001b[39;49m\u001b[43msleep\u001b[49m\u001b[43m(\u001b[49m\u001b[38;5;241;43m1\u001b[39;49m\u001b[43m)\u001b[49m\n",
      "\u001b[1;31mKeyboardInterrupt\u001b[0m: "
     ]
    }
   ],
   "source": [
    "# url값을 이미지 폴더에 저장\n",
    "cnt = 0;\n",
    "for i in srcList :\n",
    "    urlretrieve(i,\"C:/Users/user/Desktop/이미지/\"+str(cnt)+\".jpg\")\n",
    "    cnt = cnt + 1;\n",
    "    time.sleep(1)"
   ]
  },
  {
   "cell_type": "markdown",
   "id": "195c408a",
   "metadata": {},
   "source": [
    "# 이미지가 중간에 깨지는 이유는?\n",
    "- 이미지는 텍스트 파일보다 크기가 더 크기 때문에\n",
    "- 화면상에 스크롤을 통해서 더 많이 로딩을 받기!\n",
    "- 1. 크롬실행\n",
    "- 2. 스크롤을 충분히 진행 // 화면구성\n",
    "- 3. img태그를 수집 // 태그수집\n",
    "- 4. img태그 속 src만 추출 // 데이터가공\n",
    "- 5. 파일로 저장 // 데이터활용"
   ]
  },
  {
   "cell_type": "code",
   "execution_count": null,
   "id": "d0317d5d",
   "metadata": {},
   "outputs": [],
   "source": []
  }
 ],
 "metadata": {
  "kernelspec": {
   "display_name": "Python 3 (ipykernel)",
   "language": "python",
   "name": "python3"
  },
  "language_info": {
   "codemirror_mode": {
    "name": "ipython",
    "version": 3
   },
   "file_extension": ".py",
   "mimetype": "text/x-python",
   "name": "python",
   "nbconvert_exporter": "python",
   "pygments_lexer": "ipython3",
   "version": "3.9.12"
  },
  "toc": {
   "base_numbering": 1,
   "nav_menu": {},
   "number_sections": true,
   "sideBar": true,
   "skip_h1_title": false,
   "title_cell": "Table of Contents",
   "title_sidebar": "Contents",
   "toc_cell": false,
   "toc_position": {},
   "toc_section_display": true,
   "toc_window_display": false
  }
 },
 "nbformat": 4,
 "nbformat_minor": 5
}
