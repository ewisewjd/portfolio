{
 "cells": [
  {
   "cell_type": "markdown",
   "metadata": {},
   "source": [
    "# 연습"
   ]
  },
  {
   "cell_type": "markdown",
   "metadata": {},
   "source": [
    "#### 패키지 불러오기"
   ]
  },
  {
   "cell_type": "code",
   "execution_count": 1,
   "metadata": {},
   "outputs": [],
   "source": [
    "# 데이터 구성:Series, DataFrame\n",
    "import pandas as pd\n",
    "# 행렬 연산\n",
    "import numpy as np\n",
    "# 데이터 시각화\n",
    "import matplotlib.pyplot as plt\n",
    "import matplotlib\n",
    "# scaling\n",
    "from sklearn.preprocessing import StandardScaler\n",
    "# 데이터 분할:train, test\n",
    "from sklearn.model_selection import train_test_split\n",
    "# 로지스틱 회귀\n",
    "from statsmodels.api import Logit\n",
    "# 분류모델 평가 함수\n",
    "from sklearn.metrics import accuracy_score, f1_score \n",
    "from sklearn.metrics import confusion_matrix, classification_report"
   ]
  },
  {
   "cell_type": "markdown",
   "metadata": {},
   "source": [
    "#### 그래프 옵션 지정"
   ]
  },
  {
   "cell_type": "code",
   "execution_count": 2,
   "metadata": {},
   "outputs": [],
   "source": [
    "# 그래프 한글폰트 적용:맑은 고딕\n",
    "matplotlib.rc(\"font\", family = \"Malgun Gothic\")\n",
    "# 그래프 (-) 기호 표시\n",
    "matplotlib.rc(\"axes\", unicode_minus = False)"
   ]
  },
  {
   "cell_type": "markdown",
   "metadata": {},
   "source": [
    "## 데이터 구성하기"
   ]
  },
  {
   "cell_type": "code",
   "execution_count": 5,
   "metadata": {
    "scrolled": true
   },
   "outputs": [
    {
     "data": {
      "text/html": [
       "<div>\n",
       "<style scoped>\n",
       "    .dataframe tbody tr th:only-of-type {\n",
       "        vertical-align: middle;\n",
       "    }\n",
       "\n",
       "    .dataframe tbody tr th {\n",
       "        vertical-align: top;\n",
       "    }\n",
       "\n",
       "    .dataframe thead th {\n",
       "        text-align: right;\n",
       "    }\n",
       "</style>\n",
       "<table border=\"1\" class=\"dataframe\">\n",
       "  <thead>\n",
       "    <tr style=\"text-align: right;\">\n",
       "      <th></th>\n",
       "      <th>BAD</th>\n",
       "      <th>LOAN</th>\n",
       "      <th>MORTDUE</th>\n",
       "      <th>VALUE</th>\n",
       "      <th>REASON</th>\n",
       "      <th>JOB</th>\n",
       "      <th>YOJ</th>\n",
       "      <th>DEROG</th>\n",
       "      <th>DELINQ</th>\n",
       "      <th>CLAGE</th>\n",
       "      <th>NINQ</th>\n",
       "      <th>CLNO</th>\n",
       "      <th>DEBTINC</th>\n",
       "    </tr>\n",
       "  </thead>\n",
       "  <tbody>\n",
       "    <tr>\n",
       "      <th>0</th>\n",
       "      <td>1</td>\n",
       "      <td>1700</td>\n",
       "      <td>30548</td>\n",
       "      <td>40320.0</td>\n",
       "      <td>HomeImp</td>\n",
       "      <td>Other</td>\n",
       "      <td>9.0</td>\n",
       "      <td>0</td>\n",
       "      <td>0.0</td>\n",
       "      <td>101.466002</td>\n",
       "      <td>1.0</td>\n",
       "      <td>8</td>\n",
       "      <td>37.113614</td>\n",
       "    </tr>\n",
       "    <tr>\n",
       "      <th>1</th>\n",
       "      <td>1</td>\n",
       "      <td>1800</td>\n",
       "      <td>28502</td>\n",
       "      <td>43034.0</td>\n",
       "      <td>HomeImp</td>\n",
       "      <td>Other</td>\n",
       "      <td>11.0</td>\n",
       "      <td>0</td>\n",
       "      <td>0.0</td>\n",
       "      <td>88.766030</td>\n",
       "      <td>0.0</td>\n",
       "      <td>8</td>\n",
       "      <td>36.884894</td>\n",
       "    </tr>\n",
       "    <tr>\n",
       "      <th>2</th>\n",
       "      <td>0</td>\n",
       "      <td>2300</td>\n",
       "      <td>102370</td>\n",
       "      <td>120953.0</td>\n",
       "      <td>HomeImp</td>\n",
       "      <td>Office</td>\n",
       "      <td>2.0</td>\n",
       "      <td>0</td>\n",
       "      <td>0.0</td>\n",
       "      <td>90.992533</td>\n",
       "      <td>0.0</td>\n",
       "      <td>13</td>\n",
       "      <td>31.588503</td>\n",
       "    </tr>\n",
       "    <tr>\n",
       "      <th>3</th>\n",
       "      <td>1</td>\n",
       "      <td>2400</td>\n",
       "      <td>34863</td>\n",
       "      <td>47471.0</td>\n",
       "      <td>HomeImp</td>\n",
       "      <td>Mgr</td>\n",
       "      <td>12.0</td>\n",
       "      <td>0</td>\n",
       "      <td>0.0</td>\n",
       "      <td>70.491080</td>\n",
       "      <td>1.0</td>\n",
       "      <td>21</td>\n",
       "      <td>38.263601</td>\n",
       "    </tr>\n",
       "    <tr>\n",
       "      <th>4</th>\n",
       "      <td>0</td>\n",
       "      <td>2400</td>\n",
       "      <td>98449</td>\n",
       "      <td>117195.0</td>\n",
       "      <td>HomeImp</td>\n",
       "      <td>Office</td>\n",
       "      <td>4.0</td>\n",
       "      <td>0</td>\n",
       "      <td>0.0</td>\n",
       "      <td>93.811775</td>\n",
       "      <td>0.0</td>\n",
       "      <td>13</td>\n",
       "      <td>29.681827</td>\n",
       "    </tr>\n",
       "  </tbody>\n",
       "</table>\n",
       "</div>"
      ],
      "text/plain": [
       "   BAD  LOAN  MORTDUE     VALUE   REASON     JOB   YOJ  DEROG  DELINQ  \\\n",
       "0    1  1700    30548   40320.0  HomeImp   Other   9.0      0     0.0   \n",
       "1    1  1800    28502   43034.0  HomeImp   Other  11.0      0     0.0   \n",
       "2    0  2300   102370  120953.0  HomeImp  Office   2.0      0     0.0   \n",
       "3    1  2400    34863   47471.0  HomeImp     Mgr  12.0      0     0.0   \n",
       "4    0  2400    98449  117195.0  HomeImp  Office   4.0      0     0.0   \n",
       "\n",
       "        CLAGE  NINQ  CLNO    DEBTINC  \n",
       "0  101.466002   1.0     8  37.113614  \n",
       "1   88.766030   0.0     8  36.884894  \n",
       "2   90.992533   0.0    13  31.588503  \n",
       "3   70.491080   1.0    21  38.263601  \n",
       "4   93.811775   0.0    13  29.681827  "
      ]
     },
     "execution_count": 5,
     "metadata": {},
     "output_type": "execute_result"
    }
   ],
   "source": [
    "df_raw = pd.read_csv(\"./HMEQ.csv\")\n",
    "df_raw.head()"
   ]
  },
  {
   "cell_type": "code",
   "execution_count": 6,
   "metadata": {},
   "outputs": [
    {
     "name": "stdout",
     "output_type": "stream",
     "text": [
      "<class 'pandas.core.frame.DataFrame'>\n",
      "RangeIndex: 3748 entries, 0 to 3747\n",
      "Data columns (total 13 columns):\n",
      " #   Column   Non-Null Count  Dtype  \n",
      "---  ------   --------------  -----  \n",
      " 0   BAD      3748 non-null   int64  \n",
      " 1   LOAN     3748 non-null   int64  \n",
      " 2   MORTDUE  3748 non-null   int64  \n",
      " 3   VALUE    3734 non-null   float64\n",
      " 4   REASON   3748 non-null   object \n",
      " 5   JOB      3667 non-null   object \n",
      " 6   YOJ      3543 non-null   float64\n",
      " 7   DEROG    3748 non-null   int64  \n",
      " 8   DELINQ   3718 non-null   float64\n",
      " 9   CLAGE    3711 non-null   float64\n",
      " 10  NINQ     3692 non-null   float64\n",
      " 11  CLNO     3748 non-null   int64  \n",
      " 12  DEBTINC  3748 non-null   float64\n",
      "dtypes: float64(6), int64(5), object(2)\n",
      "memory usage: 380.8+ KB\n"
     ]
    }
   ],
   "source": [
    "# Data 확인\n",
    "df_raw.info()"
   ]
  },
  {
   "cell_type": "code",
   "execution_count": 7,
   "metadata": {
    "scrolled": true
   },
   "outputs": [
    {
     "name": "stdout",
     "output_type": "stream",
     "text": [
      "Data 구조: (3748, 13)\n",
      "\n",
      "변수 :  Index(['BAD', 'LOAN', 'MORTDUE', 'VALUE', 'REASON', 'JOB', 'YOJ', 'DEROG',\n",
      "       'DELINQ', 'CLAGE', 'NINQ', 'CLNO', 'DEBTINC'],\n",
      "      dtype='object')\n"
     ]
    }
   ],
   "source": [
    "# Data 확인\n",
    "print(\"Data 구조:\", df_raw.shape)\n",
    "print()\n",
    "print(\"변수 : \", df_raw.columns)"
   ]
  },
  {
   "cell_type": "markdown",
   "metadata": {},
   "source": [
    "## 데이터 전처리"
   ]
  },
  {
   "cell_type": "markdown",
   "metadata": {},
   "source": [
    "#### 결측치 처리"
   ]
  },
  {
   "cell_type": "code",
   "execution_count": 8,
   "metadata": {},
   "outputs": [
    {
     "data": {
      "text/plain": [
       "BAD          0\n",
       "LOAN         0\n",
       "MORTDUE      0\n",
       "VALUE       14\n",
       "REASON       0\n",
       "JOB         81\n",
       "YOJ        205\n",
       "DEROG        0\n",
       "DELINQ      30\n",
       "CLAGE       37\n",
       "NINQ        56\n",
       "CLNO         0\n",
       "DEBTINC      0\n",
       "dtype: int64"
      ]
     },
     "execution_count": 8,
     "metadata": {},
     "output_type": "execute_result"
    }
   ],
   "source": [
    "# 결측치 확인\n",
    "df_raw.isnull().sum(axis = 0)"
   ]
  },
  {
   "cell_type": "code",
   "execution_count": 9,
   "metadata": {
    "scrolled": true
   },
   "outputs": [
    {
     "name": "stderr",
     "output_type": "stream",
     "text": [
      "/tmp/ipykernel_24731/2248862190.py:6: FutureWarning: The default value of numeric_only in DataFrame.mean is deprecated. In a future version, it will default to False. In addition, specifying 'numeric_only=None' is deprecated. Select only valid columns or specify the value of numeric_only to silence this warning.\n",
      "  df_raw.fillna(df_raw.mean(), inplace=True)\n"
     ]
    }
   ],
   "source": [
    "# fillna: 결측치 대체 함수\n",
    "# JOB 변수의 결측치는 \"Other\"로 대체, inplace: fillna 함수 적용 후 df_raw 데이터에 저장, False면 저장 안 함\n",
    "df_raw[\"JOB\"].fillna(\"Other\", inplace = True)\n",
    "\n",
    "# 숫자형 변수의 결측치는 해당 변수의 평균값 입력: df_raw.mean() 각 변수별 평균 계산 후 결측치 대체\n",
    "df_raw.fillna(df_raw.mean(), inplace=True)"
   ]
  },
  {
   "cell_type": "code",
   "execution_count": 10,
   "metadata": {},
   "outputs": [
    {
     "data": {
      "text/plain": [
       "BAD        0\n",
       "LOAN       0\n",
       "MORTDUE    0\n",
       "VALUE      0\n",
       "REASON     0\n",
       "JOB        0\n",
       "YOJ        0\n",
       "DEROG      0\n",
       "DELINQ     0\n",
       "CLAGE      0\n",
       "NINQ       0\n",
       "CLNO       0\n",
       "DEBTINC    0\n",
       "dtype: int64"
      ]
     },
     "execution_count": 10,
     "metadata": {},
     "output_type": "execute_result"
    }
   ],
   "source": [
    "# 결측치 재확인\n",
    "df_raw.isnull().sum(axis = 0)\n"
   ]
  },
  {
   "cell_type": "markdown",
   "metadata": {},
   "source": [
    "#### 참조:범주형 변수 수준 확인"
   ]
  },
  {
   "cell_type": "code",
   "execution_count": 11,
   "metadata": {},
   "outputs": [
    {
     "name": "stdout",
     "output_type": "stream",
     "text": [
      "REASON : 2\n",
      "JOB : 6\n"
     ]
    }
   ],
   "source": [
    "# 명목형 변수 목록\n",
    "obj_cols = df_raw.select_dtypes(\"object\").columns\n",
    "\n",
    "for col in obj_cols:\n",
    "    _n = len(df_raw[col].value_counts())\n",
    "    print(col, \":\", str(_n))"
   ]
  },
  {
   "cell_type": "markdown",
   "metadata": {},
   "source": [
    "#### 데이터 분할"
   ]
  },
  {
   "cell_type": "code",
   "execution_count": 12,
   "metadata": {},
   "outputs": [
    {
     "name": "stdout",
     "output_type": "stream",
     "text": [
      "train data size : (2623, 13)\n",
      "test data size : (1125, 13)\n"
     ]
    }
   ],
   "source": [
    "# train_test_split(데이터, test_size = test 데이터 비율, random_state: 랜덤)\n",
    "df_train, df_test = train_test_split(df_raw, # 데이터\n",
    "                                     test_size = 0.3, # test 데이터의 비율\n",
    "                                     random_state = 1234)  # random state\n",
    "\n",
    "print(\"train data size : {}\".format(df_train.shape))\n",
    "print(\"test data size : {}\".format(df_test.shape))"
   ]
  },
  {
   "cell_type": "markdown",
   "metadata": {},
   "source": [
    "## 로지스틱 회귀모델 및 회귀계수 검토"
   ]
  },
  {
   "cell_type": "code",
   "execution_count": 13,
   "metadata": {
    "scrolled": false
   },
   "outputs": [
    {
     "name": "stdout",
     "output_type": "stream",
     "text": [
      "Optimization terminated successfully.\n",
      "         Current function value: 0.237614\n",
      "         Iterations 8\n",
      "                           Logit Regression Results                           \n",
      "==============================================================================\n",
      "Dep. Variable:                    BAD   No. Observations:                 2623\n",
      "Model:                          Logit   Df Residuals:                     2606\n",
      "Method:                           MLE   Df Model:                           16\n",
      "Date:                Thu, 31 Oct 2024   Pseudo R-squ.:                  0.2257\n",
      "Time:                        11:21:11   Log-Likelihood:                -623.26\n",
      "converged:                       True   LL-Null:                       -804.91\n",
      "Covariance Type:            nonrobust   LLR p-value:                 1.743e-67\n",
      "========================================================================================\n",
      "                           coef    std err          z      P>|z|      [0.025      0.975]\n",
      "----------------------------------------------------------------------------------------\n",
      "Intercept               -5.0942      0.560     -9.100      0.000      -6.191      -3.997\n",
      "C(REASON)[T.HomeImp]    -0.0080      0.176     -0.045      0.964      -0.354       0.338\n",
      "C(JOB)[T.Office]        -0.8256      0.294     -2.807      0.005      -1.402      -0.249\n",
      "C(JOB)[T.Other]         -0.3304      0.227     -1.454      0.146      -0.776       0.115\n",
      "C(JOB)[T.ProfExe]       -0.4247      0.271     -1.566      0.117      -0.956       0.107\n",
      "C(JOB)[T.Sales]          1.1323      0.476      2.381      0.017       0.200       2.064\n",
      "C(JOB)[T.Self]          -0.0454      0.432     -0.105      0.916      -0.892       0.801\n",
      "LOAN                 -1.223e-05   8.08e-06     -1.514      0.130   -2.81e-05     3.6e-06\n",
      "MORTDUE               -2.14e-06   3.57e-06     -0.599      0.549   -9.15e-06    4.87e-06\n",
      "VALUE                 3.061e-06   3.04e-06      1.008      0.313   -2.89e-06    9.01e-06\n",
      "YOJ                     -0.0053      0.012     -0.461      0.645      -0.028       0.017\n",
      "DEROG                    0.6221      0.103      6.043      0.000       0.420       0.824\n",
      "DELINQ                   0.7456      0.077      9.648      0.000       0.594       0.897\n",
      "CLAGE                   -0.0050      0.001     -4.320      0.000      -0.007      -0.003\n",
      "NINQ                     0.0939      0.044      2.131      0.033       0.008       0.180\n",
      "CLNO                    -0.0230      0.009     -2.587      0.010      -0.040      -0.006\n",
      "DEBTINC                  0.1097      0.012      8.829      0.000       0.085       0.134\n",
      "========================================================================================\n"
     ]
    }
   ],
   "source": [
    "# from_formula 함수를 이용하여 변수 역할 지정\n",
    "log_model = Logit.from_formula(\"\"\"BAD ~ LOAN + MORTDUE + VALUE + C(REASON) + C(JOB) + YOJ + DEROG + \n",
    "                    DELINQ + CLAGE + NINQ + CLNO + DEBTINC\"\"\", df_train)\n",
    "# 적합\n",
    "log_result = log_model.fit()\n",
    "\n",
    "# 결과 출력\n",
    "print(log_result.summary())"
   ]
  },
  {
   "cell_type": "code",
   "execution_count": 14,
   "metadata": {
    "scrolled": false
   },
   "outputs": [
    {
     "name": "stdout",
     "output_type": "stream",
     "text": [
      "Optimization terminated successfully.\n",
      "         Current function value: 0.238224\n",
      "         Iterations 8\n",
      "                           Logit Regression Results                           \n",
      "==============================================================================\n",
      "Dep. Variable:                    BAD   No. Observations:                 2623\n",
      "Model:                          Logit   Df Residuals:                     2611\n",
      "Method:                           MLE   Df Model:                           11\n",
      "Date:                Thu, 31 Oct 2024   Pseudo R-squ.:                  0.2237\n",
      "Time:                        11:37:23   Log-Likelihood:                -624.86\n",
      "converged:                       True   LL-Null:                       -804.91\n",
      "Covariance Type:            nonrobust   LLR p-value:                 1.774e-70\n",
      "=====================================================================================\n",
      "                        coef    std err          z      P>|z|      [0.025      0.975]\n",
      "-------------------------------------------------------------------------------------\n",
      "Intercept            -5.1652      0.534     -9.664      0.000      -6.213      -4.118\n",
      "C(JOB)[T.Office]     -0.8003      0.289     -2.773      0.006      -1.366      -0.235\n",
      "C(JOB)[T.Other]      -0.3125      0.223     -1.401      0.161      -0.750       0.125\n",
      "C(JOB)[T.ProfExe]    -0.3513      0.267     -1.317      0.188      -0.874       0.171\n",
      "C(JOB)[T.Sales]       1.2886      0.467      2.762      0.006       0.374       2.203\n",
      "C(JOB)[T.Self]       -0.0369      0.419     -0.088      0.930      -0.858       0.784\n",
      "DEROG                 0.6269      0.102      6.121      0.000       0.426       0.828\n",
      "DELINQ                0.7513      0.076      9.851      0.000       0.602       0.901\n",
      "CLAGE                -0.0052      0.001     -4.539      0.000      -0.007      -0.003\n",
      "NINQ                  0.0875      0.043      2.016      0.044       0.002       0.173\n",
      "CLNO                 -0.0248      0.008     -2.965      0.003      -0.041      -0.008\n",
      "DEBTINC               0.1092      0.012      8.882      0.000       0.085       0.133\n",
      "=====================================================================================\n"
     ]
    }
   ],
   "source": [
    "# 회귀계수가 유의한 변수만 사용한 모델\n",
    "# 회귀계수 유의성 기준 제외변수: REASON, LOAN, MORTDUE, VALUE, YOJ \n",
    "log_model = Logit.from_formula(\"\"\"BAD ~ C(JOB) +  DEROG + \n",
    "                DELINQ + CLAGE + NINQ + CLNO + DEBTINC\"\"\", df_train)\n",
    "# 적합\n",
    "log_result = log_model.fit()\n",
    "\n",
    "# 결과 출력\n",
    "print(log_result.summary())"
   ]
  },
  {
   "cell_type": "markdown",
   "metadata": {},
   "source": [
    "## 예측 및 성능 평가"
   ]
  },
  {
   "cell_type": "markdown",
   "metadata": {},
   "source": [
    "#### 예측"
   ]
  },
  {
   "cell_type": "code",
   "execution_count": 15,
   "metadata": {},
   "outputs": [
    {
     "name": "stdout",
     "output_type": "stream",
     "text": [
      "Train 예측 결과 \n",
      " 3164    0\n",
      "3314    1\n",
      "93      0\n",
      "1456    0\n",
      "3327    0\n",
      "dtype: int64 \n",
      "\n",
      "Confusion Matrix: \n",
      "[[2368   14]\n",
      " [ 192   49]] \n",
      "\n",
      "Test 예측 결과 \n",
      " 1721    0\n",
      "822     0\n",
      "1686    0\n",
      "789     0\n",
      "165     0\n",
      "dtype: int64 \n",
      "\n",
      "Confusion Matrix: \n",
      "[[1016    5]\n",
      " [  81   23]] \n",
      "\n"
     ]
    }
   ],
   "source": [
    "# train 데이터 예측\n",
    "y_pred_train = log_result.predict(df_train)\n",
    "# 0과 1의 값을 가진 class로 변환\n",
    "y_pred_train_class = (y_pred_train > 0.5).astype(int)  # 0.5 : “1/0” 판정 임계값(1 발생 확률) 변경 가능 \n",
    "print(\"Train 예측 결과 \\n\", y_pred_train_class.head(), \"\\n\")\n",
    "print(\"Confusion Matrix: \\n{}\".format(confusion_matrix(df_train[\"BAD\"],y_pred_train_class)),\"\\n\")\n",
    "\n",
    "# test 데이터 예측\n",
    "y_pred_test = log_result.predict(df_test)\n",
    "# 0과 1의 값을 가진 class로 변환\n",
    "y_pred_test_class = (y_pred_test > 0.5).astype(int)\n",
    "print(\"Test 예측 결과 \\n\", y_pred_test_class.head(),\"\\n\")\n",
    "print(\"Confusion Matrix: \\n{}\".format(confusion_matrix(df_test[\"BAD\"],y_pred_test_class)),\"\\n\")"
   ]
  },
  {
   "cell_type": "code",
   "execution_count": 16,
   "metadata": {},
   "outputs": [
    {
     "name": "stdout",
     "output_type": "stream",
     "text": [
      "Train 예측 결과 \n",
      " 3164    0\n",
      "3314    0\n",
      "93      0\n",
      "1456    0\n",
      "3327    0\n",
      "dtype: int64 \n",
      "\n",
      "Confusion Matrix: \n",
      "[[2381    1]\n",
      " [ 204   37]] \n",
      "\n",
      "Test 예측 결과 \n",
      " 1721    0\n",
      "822     0\n",
      "1686    0\n",
      "789     0\n",
      "165     0\n",
      "dtype: int64 \n",
      "\n",
      "Confusion Matrix: \n",
      "[[1016    5]\n",
      " [  81   23]] \n",
      "\n"
     ]
    }
   ],
   "source": [
    "# train 데이터 예측\n",
    "y_pred_train = log_result.predict(df_train)\n",
    "# 0과 1의 값을 가진 class로 변환\n",
    "y_pred_train_class = (y_pred_train > 0.7).astype(int)  # 0.5 : “1/0” 판정 임계값(1 발생 확률) 변경 가능 \n",
    "print(\"Train 예측 결과 \\n\", y_pred_train_class.head(), \"\\n\")\n",
    "print(\"Confusion Matrix: \\n{}\".format(confusion_matrix(df_train[\"BAD\"],y_pred_train_class)),\"\\n\")\n",
    "\n",
    "# test 데이터 예측\n",
    "y_pred_test = log_result.predict(df_test)\n",
    "# 0과 1의 값을 가진 class로 변환\n",
    "y_pred_test_class = (y_pred_test > 0.5).astype(int)\n",
    "print(\"Test 예측 결과 \\n\", y_pred_test_class.head(),\"\\n\")\n",
    "print(\"Confusion Matrix: \\n{}\".format(confusion_matrix(df_test[\"BAD\"],y_pred_test_class)),\"\\n\")"
   ]
  },
  {
   "cell_type": "raw",
   "metadata": {},
   "source": [
    "# 참조!!!!\n",
    "# 0과 1의 값을 가진 class로 변환: 임계값 변경-> 예측 빈도 달라짐 -> 옆 결과 참조\n",
    "y_pred_test_class = (y_pred_test > 0.6).astype(int)\n",
    "print(\"Test 예측 결과-임계값 변경 \\n\", y_pred_test_class.head(), \"\\n\")\n",
    "print(\"Confusion Matrix: \\n{}\".format(confusion_matrix(df_test[\"BAD\"],y_pred_test_class)),\"\\n\")"
   ]
  },
  {
   "cell_type": "markdown",
   "metadata": {},
   "source": [
    "#### 평가"
   ]
  },
  {
   "cell_type": "code",
   "execution_count": null,
   "metadata": {
    "scrolled": false
   },
   "outputs": [],
   "source": [
    "# 실제 train 데이터와 예측 결과 비교\n",
    "print(\"Train 예측/분류 결과\")\n",
    "print(\"Accuracy: {0:.3f}\\n\".format(accuracy_score(df_train[\"BAD\"], y_pred_train_class)))\n",
    "print(\"Confusion Matrix: \\n{}\".format(confusion_matrix(df_train[\"BAD\"],y_pred_train_class)),\"\\n\")\n",
    "print(classification_report(df_train[\"BAD\"], y_pred_train_class, digits=3))\n",
    "\n",
    "# 실제 train 데이터와 예측 결과 비교\n",
    "print(\"Test 예측/분류 결과\")\n",
    "print(\"Accuracy: {0:.3f}\\n\".format(accuracy_score(df_test[\"BAD\"], y_pred_test_class)))\n",
    "print(\"Confusion Matrix: \\n{}\".format(confusion_matrix(df_test[\"BAD\"],y_pred_test_class)),\"\\n\")\n",
    "print(classification_report(df_test[\"BAD\"], y_pred_test_class, digits=3))"
   ]
  },
  {
   "cell_type": "markdown",
   "metadata": {},
   "source": [
    "#### 참조:목표변수 label 지정"
   ]
  },
  {
   "cell_type": "code",
   "execution_count": null,
   "metadata": {},
   "outputs": [],
   "source": [
    "# 목표변수의 빈도 불균형 : f1 score로 모델 평가 \n",
    "print(\"Train 예측/분류 결과\")\n",
    "# print(classification_report(df_test[\"BAD\"], y_pred_test_class, digits=3))\n",
    "print(classification_report(df_test[\"BAD\"], y_pred_test_class, target_names=['승인', '거절'], digits=3))\n",
    "\n",
    "print(\"Test 예측/분류 결과\")\n",
    "# 목표변수의 빈도 불균형 : f1 score로 모델 평가 \n",
    "# print(classification_report(df_test[\"BAD\"], y_pred_test_class, digits=3))\n",
    "print(classification_report(df_test[\"BAD\"], y_pred_test_class, target_names=['승인', '거절'], digits=3))"
   ]
  },
  {
   "cell_type": "markdown",
   "metadata": {},
   "source": [
    "## 결론 도출"
   ]
  },
  {
   "cell_type": "code",
   "execution_count": null,
   "metadata": {
    "scrolled": false
   },
   "outputs": [],
   "source": [
    "# 설명변수 중요도\n",
    "df_logistic_coef = pd.DataFrame({\"Coef\": log_result.params.values[1:]}, index = log_model.exog_names[1:])\n",
    "df_logistic_coef.plot.barh(y = \"Coef\")\n",
    "# df_logistic_coef.plot.barh(y = \"Coef\", figsize=(10,6))"
   ]
  },
  {
   "cell_type": "code",
   "execution_count": null,
   "metadata": {
    "scrolled": false
   },
   "outputs": [],
   "source": [
    "# 0번째=Intercept..\n",
    "print(log_result.params.values[0:1])\n",
    "print(log_model.exog_names[0:1])"
   ]
  },
  {
   "cell_type": "markdown",
   "metadata": {},
   "source": [
    "#### 표준화 회귀 계수"
   ]
  },
  {
   "cell_type": "code",
   "execution_count": null,
   "metadata": {},
   "outputs": [],
   "source": [
    "# select_dtypes: 특정 변수 타입을 선택/제외하여 데이터 추출\n",
    "df_char = df_raw.select_dtypes(include = \"object\")\n",
    "df_numeric = df_raw.select_dtypes(exclude = \"object\")\n",
    "\n",
    "# Data Scaling\n",
    "scaler = StandardScaler()\n",
    "np_numeric_scaled = scaler.fit_transform(df_numeric)\n",
    "df_numeric_scaled = pd.DataFrame(np_numeric_scaled, columns = df_numeric.columns)\n",
    "\n",
    "# 문자 데이터 + 숫자 데이터\n",
    "df_scaled = pd.concat([df_numeric_scaled, df_char],axis = 1)\n",
    "df_scaled.head()"
   ]
  },
  {
   "cell_type": "code",
   "execution_count": null,
   "metadata": {},
   "outputs": [],
   "source": [
    "# BAD 데이터를 0과 1로 변환(정수형), np.where(조건, 조건을 만족하는 경우, 만족하지 않는 경우)\n",
    "df_scaled[\"BAD\"] = np.where(df_scaled[\"BAD\"]> 0, 1, 0)\n",
    "df_scaled.head()"
   ]
  },
  {
   "cell_type": "code",
   "execution_count": null,
   "metadata": {},
   "outputs": [],
   "source": [
    "# 데이터 분할\n",
    "df_scaled_train, df_scaled_test = train_test_split(df_scaled, # 데이터\n",
    "                               test_size = 0.3, # test 데이터의 비율\n",
    "                               random_state = 1234)  # random state"
   ]
  },
  {
   "cell_type": "code",
   "execution_count": null,
   "metadata": {},
   "outputs": [],
   "source": [
    "# from_formula 함수를 이용하여 변수 역할 지정\n",
    "# scaled_log_model = Logit.from_formula(\"\"\"BAD ~ LOAN + MORTDUE + VALUE + C(REASON) + C(JOB) + YOJ + \n",
    "#         DEROG + DELINQ + CLAGE + NINQ + CLNO + DEBTINC\"\"\", df_scaled_train)\n",
    "\n",
    "# 선정된 설명변수 기준\n",
    "scaled_log_model = Logit.from_formula(\"\"\"BAD ~ C(JOB) +  DEROG + \n",
    "                        DELINQ + CLAGE + NINQ + CLNO + DEBTINC\"\"\", df_scaled_train)\n",
    "# 적합\n",
    "scaled_log_result = scaled_log_model.fit()\n",
    "# 결과 출력\n",
    "print(scaled_log_result.summary())"
   ]
  },
  {
   "cell_type": "code",
   "execution_count": null,
   "metadata": {
    "scrolled": false
   },
   "outputs": [],
   "source": [
    "# 설명변수 중요도\n",
    "df_log_scaled_coef = pd.DataFrame({\"Coef\": scaled_log_result.params.values[1:]}, index = scaled_log_model.exog_names[1:])\n",
    "df_log_scaled_coef.plot.barh(y = \"Coef\", legend = False)"
   ]
  },
  {
   "cell_type": "markdown",
   "metadata": {},
   "source": [
    "## End of 로지스틱회귀"
   ]
  }
 ],
 "metadata": {
  "kernelspec": {
   "display_name": "Python 3 (ipykernel)",
   "language": "python",
   "name": "python3"
  },
  "language_info": {
   "codemirror_mode": {
    "name": "ipython",
    "version": 3
   },
   "file_extension": ".py",
   "mimetype": "text/x-python",
   "name": "python",
   "nbconvert_exporter": "python",
   "pygments_lexer": "ipython3",
   "version": "3.10.9"
  }
 },
 "nbformat": 4,
 "nbformat_minor": 2
}
