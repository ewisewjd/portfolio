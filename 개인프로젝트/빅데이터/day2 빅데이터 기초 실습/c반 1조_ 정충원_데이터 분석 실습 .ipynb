{
 "cells": [
  {
   "cell_type": "markdown",
   "id": "8c55bc51",
   "metadata": {},
   "source": [
    "# 데이터 분석 패키지 불러오기 및 데이터 불러오기 "
   ]
  },
  {
   "cell_type": "code",
   "execution_count": 33,
   "id": "31d8ec50",
   "metadata": {},
   "outputs": [],
   "source": [
    "import pandas as pd\n",
    "import numpy as np\n",
    "\n",
    "import matplotlib\n",
    "import matplotlib.pyplot as plt\n",
    "import seaborn as sns\n",
    "\n",
    "import matplotlib as mpl\n",
    "import matplotlib.pyplot as plt\n",
    "# 유니코드 깨짐현상 해결\n",
    "mpl.rcParams['axes.unicode_minus'] = False\n",
    "\n",
    "# 나눔고딕 폰트 적용\n",
    "plt.rcParams[\"font.family\"] = 'NanumGothic'"
   ]
  },
  {
   "cell_type": "markdown",
   "id": "d65666d1",
   "metadata": {},
   "source": [
    "# 실습 1."
   ]
  },
  {
   "cell_type": "markdown",
   "id": "01d75230",
   "metadata": {},
   "source": [
    "## 타이타닉"
   ]
  },
  {
   "cell_type": "markdown",
   "id": "f8717d35",
   "metadata": {},
   "source": [
    "## 데이터 불러오기 "
   ]
  },
  {
   "cell_type": "code",
   "execution_count": 2,
   "id": "defcae2e",
   "metadata": {},
   "outputs": [
    {
     "data": {
      "text/html": [
       "<div>\n",
       "<style scoped>\n",
       "    .dataframe tbody tr th:only-of-type {\n",
       "        vertical-align: middle;\n",
       "    }\n",
       "\n",
       "    .dataframe tbody tr th {\n",
       "        vertical-align: top;\n",
       "    }\n",
       "\n",
       "    .dataframe thead th {\n",
       "        text-align: right;\n",
       "    }\n",
       "</style>\n",
       "<table border=\"1\" class=\"dataframe\">\n",
       "  <thead>\n",
       "    <tr style=\"text-align: right;\">\n",
       "      <th></th>\n",
       "      <th>PassengerId</th>\n",
       "      <th>Survived</th>\n",
       "      <th>Pclass</th>\n",
       "      <th>Name</th>\n",
       "      <th>Sex</th>\n",
       "      <th>Age</th>\n",
       "      <th>SibSp</th>\n",
       "      <th>Parch</th>\n",
       "      <th>Ticket</th>\n",
       "      <th>Fare</th>\n",
       "      <th>Cabin</th>\n",
       "      <th>Embarked</th>\n",
       "    </tr>\n",
       "  </thead>\n",
       "  <tbody>\n",
       "    <tr>\n",
       "      <th>0</th>\n",
       "      <td>1</td>\n",
       "      <td>0</td>\n",
       "      <td>3</td>\n",
       "      <td>Braund, Mr. Owen Harris</td>\n",
       "      <td>male</td>\n",
       "      <td>22.0</td>\n",
       "      <td>1</td>\n",
       "      <td>0</td>\n",
       "      <td>A/5 21171</td>\n",
       "      <td>7.2500</td>\n",
       "      <td>NaN</td>\n",
       "      <td>S</td>\n",
       "    </tr>\n",
       "    <tr>\n",
       "      <th>1</th>\n",
       "      <td>2</td>\n",
       "      <td>1</td>\n",
       "      <td>1</td>\n",
       "      <td>Cumings, Mrs. John Bradley (Florence Briggs Th...</td>\n",
       "      <td>female</td>\n",
       "      <td>38.0</td>\n",
       "      <td>1</td>\n",
       "      <td>0</td>\n",
       "      <td>PC 17599</td>\n",
       "      <td>71.2833</td>\n",
       "      <td>C85</td>\n",
       "      <td>C</td>\n",
       "    </tr>\n",
       "    <tr>\n",
       "      <th>2</th>\n",
       "      <td>3</td>\n",
       "      <td>1</td>\n",
       "      <td>3</td>\n",
       "      <td>Heikkinen, Miss. Laina</td>\n",
       "      <td>female</td>\n",
       "      <td>26.0</td>\n",
       "      <td>0</td>\n",
       "      <td>0</td>\n",
       "      <td>STON/O2. 3101282</td>\n",
       "      <td>7.9250</td>\n",
       "      <td>NaN</td>\n",
       "      <td>S</td>\n",
       "    </tr>\n",
       "    <tr>\n",
       "      <th>3</th>\n",
       "      <td>4</td>\n",
       "      <td>1</td>\n",
       "      <td>1</td>\n",
       "      <td>Futrelle, Mrs. Jacques Heath (Lily May Peel)</td>\n",
       "      <td>female</td>\n",
       "      <td>35.0</td>\n",
       "      <td>1</td>\n",
       "      <td>0</td>\n",
       "      <td>113803</td>\n",
       "      <td>53.1000</td>\n",
       "      <td>C123</td>\n",
       "      <td>S</td>\n",
       "    </tr>\n",
       "    <tr>\n",
       "      <th>4</th>\n",
       "      <td>5</td>\n",
       "      <td>0</td>\n",
       "      <td>3</td>\n",
       "      <td>Allen, Mr. William Henry</td>\n",
       "      <td>male</td>\n",
       "      <td>35.0</td>\n",
       "      <td>0</td>\n",
       "      <td>0</td>\n",
       "      <td>373450</td>\n",
       "      <td>8.0500</td>\n",
       "      <td>NaN</td>\n",
       "      <td>S</td>\n",
       "    </tr>\n",
       "    <tr>\n",
       "      <th>5</th>\n",
       "      <td>6</td>\n",
       "      <td>0</td>\n",
       "      <td>3</td>\n",
       "      <td>Moran, Mr. James</td>\n",
       "      <td>male</td>\n",
       "      <td>30.0</td>\n",
       "      <td>0</td>\n",
       "      <td>0</td>\n",
       "      <td>330877</td>\n",
       "      <td>8.4583</td>\n",
       "      <td>NaN</td>\n",
       "      <td>Q</td>\n",
       "    </tr>\n",
       "    <tr>\n",
       "      <th>6</th>\n",
       "      <td>7</td>\n",
       "      <td>0</td>\n",
       "      <td>1</td>\n",
       "      <td>McCarthy, Mr. Timothy J</td>\n",
       "      <td>male</td>\n",
       "      <td>54.0</td>\n",
       "      <td>0</td>\n",
       "      <td>0</td>\n",
       "      <td>17463</td>\n",
       "      <td>51.8625</td>\n",
       "      <td>E46</td>\n",
       "      <td>S</td>\n",
       "    </tr>\n",
       "    <tr>\n",
       "      <th>7</th>\n",
       "      <td>8</td>\n",
       "      <td>0</td>\n",
       "      <td>3</td>\n",
       "      <td>Palsson, Master. Gosta Leonard</td>\n",
       "      <td>male</td>\n",
       "      <td>2.0</td>\n",
       "      <td>3</td>\n",
       "      <td>1</td>\n",
       "      <td>349909</td>\n",
       "      <td>21.0750</td>\n",
       "      <td>NaN</td>\n",
       "      <td>S</td>\n",
       "    </tr>\n",
       "    <tr>\n",
       "      <th>8</th>\n",
       "      <td>9</td>\n",
       "      <td>1</td>\n",
       "      <td>3</td>\n",
       "      <td>Johnson, Mrs. Oscar W (Elisabeth Vilhelmina Berg)</td>\n",
       "      <td>female</td>\n",
       "      <td>27.0</td>\n",
       "      <td>0</td>\n",
       "      <td>2</td>\n",
       "      <td>347742</td>\n",
       "      <td>11.1333</td>\n",
       "      <td>NaN</td>\n",
       "      <td>S</td>\n",
       "    </tr>\n",
       "    <tr>\n",
       "      <th>9</th>\n",
       "      <td>10</td>\n",
       "      <td>1</td>\n",
       "      <td>2</td>\n",
       "      <td>Nasser, Mrs. Nicholas (Adele Achem)</td>\n",
       "      <td>female</td>\n",
       "      <td>14.0</td>\n",
       "      <td>1</td>\n",
       "      <td>0</td>\n",
       "      <td>237736</td>\n",
       "      <td>30.0708</td>\n",
       "      <td>NaN</td>\n",
       "      <td>C</td>\n",
       "    </tr>\n",
       "    <tr>\n",
       "      <th>10</th>\n",
       "      <td>11</td>\n",
       "      <td>1</td>\n",
       "      <td>3</td>\n",
       "      <td>Sandstrom, Miss. Marguerite Rut</td>\n",
       "      <td>female</td>\n",
       "      <td>4.0</td>\n",
       "      <td>1</td>\n",
       "      <td>1</td>\n",
       "      <td>PP 9549</td>\n",
       "      <td>16.7000</td>\n",
       "      <td>G6</td>\n",
       "      <td>S</td>\n",
       "    </tr>\n",
       "    <tr>\n",
       "      <th>11</th>\n",
       "      <td>12</td>\n",
       "      <td>1</td>\n",
       "      <td>1</td>\n",
       "      <td>Bonnell, Miss. Elizabeth</td>\n",
       "      <td>female</td>\n",
       "      <td>58.0</td>\n",
       "      <td>0</td>\n",
       "      <td>0</td>\n",
       "      <td>113783</td>\n",
       "      <td>26.5500</td>\n",
       "      <td>C103</td>\n",
       "      <td>S</td>\n",
       "    </tr>\n",
       "    <tr>\n",
       "      <th>12</th>\n",
       "      <td>13</td>\n",
       "      <td>0</td>\n",
       "      <td>3</td>\n",
       "      <td>Saundercock, Mr. William Henry</td>\n",
       "      <td>male</td>\n",
       "      <td>20.0</td>\n",
       "      <td>0</td>\n",
       "      <td>0</td>\n",
       "      <td>A/5. 2151</td>\n",
       "      <td>8.0500</td>\n",
       "      <td>NaN</td>\n",
       "      <td>S</td>\n",
       "    </tr>\n",
       "    <tr>\n",
       "      <th>13</th>\n",
       "      <td>14</td>\n",
       "      <td>0</td>\n",
       "      <td>3</td>\n",
       "      <td>Andersson, Mr. Anders Johan</td>\n",
       "      <td>male</td>\n",
       "      <td>39.0</td>\n",
       "      <td>1</td>\n",
       "      <td>5</td>\n",
       "      <td>347082</td>\n",
       "      <td>31.2750</td>\n",
       "      <td>NaN</td>\n",
       "      <td>S</td>\n",
       "    </tr>\n",
       "    <tr>\n",
       "      <th>14</th>\n",
       "      <td>15</td>\n",
       "      <td>0</td>\n",
       "      <td>3</td>\n",
       "      <td>Vestrom, Miss. Hulda Amanda Adolfina</td>\n",
       "      <td>female</td>\n",
       "      <td>14.0</td>\n",
       "      <td>0</td>\n",
       "      <td>0</td>\n",
       "      <td>350406</td>\n",
       "      <td>7.8542</td>\n",
       "      <td>NaN</td>\n",
       "      <td>S</td>\n",
       "    </tr>\n",
       "    <tr>\n",
       "      <th>15</th>\n",
       "      <td>16</td>\n",
       "      <td>1</td>\n",
       "      <td>2</td>\n",
       "      <td>Hewlett, Mrs. (Mary D Kingcome)</td>\n",
       "      <td>female</td>\n",
       "      <td>55.0</td>\n",
       "      <td>0</td>\n",
       "      <td>0</td>\n",
       "      <td>248706</td>\n",
       "      <td>16.0000</td>\n",
       "      <td>NaN</td>\n",
       "      <td>S</td>\n",
       "    </tr>\n",
       "    <tr>\n",
       "      <th>16</th>\n",
       "      <td>17</td>\n",
       "      <td>0</td>\n",
       "      <td>3</td>\n",
       "      <td>Rice, Master. Eugene</td>\n",
       "      <td>male</td>\n",
       "      <td>2.0</td>\n",
       "      <td>4</td>\n",
       "      <td>1</td>\n",
       "      <td>382652</td>\n",
       "      <td>29.1250</td>\n",
       "      <td>NaN</td>\n",
       "      <td>Q</td>\n",
       "    </tr>\n",
       "    <tr>\n",
       "      <th>17</th>\n",
       "      <td>18</td>\n",
       "      <td>1</td>\n",
       "      <td>2</td>\n",
       "      <td>Williams, Mr. Charles Eugene</td>\n",
       "      <td>male</td>\n",
       "      <td>30.0</td>\n",
       "      <td>0</td>\n",
       "      <td>0</td>\n",
       "      <td>244373</td>\n",
       "      <td>13.0000</td>\n",
       "      <td>NaN</td>\n",
       "      <td>S</td>\n",
       "    </tr>\n",
       "    <tr>\n",
       "      <th>18</th>\n",
       "      <td>19</td>\n",
       "      <td>0</td>\n",
       "      <td>3</td>\n",
       "      <td>Vander Planke, Mrs. Julius (Emelia Maria Vande...</td>\n",
       "      <td>female</td>\n",
       "      <td>31.0</td>\n",
       "      <td>1</td>\n",
       "      <td>0</td>\n",
       "      <td>345763</td>\n",
       "      <td>18.0000</td>\n",
       "      <td>NaN</td>\n",
       "      <td>S</td>\n",
       "    </tr>\n",
       "    <tr>\n",
       "      <th>19</th>\n",
       "      <td>20</td>\n",
       "      <td>1</td>\n",
       "      <td>3</td>\n",
       "      <td>Masselmani, Mrs. Fatima</td>\n",
       "      <td>female</td>\n",
       "      <td>30.0</td>\n",
       "      <td>0</td>\n",
       "      <td>0</td>\n",
       "      <td>2649</td>\n",
       "      <td>7.2250</td>\n",
       "      <td>NaN</td>\n",
       "      <td>C</td>\n",
       "    </tr>\n",
       "  </tbody>\n",
       "</table>\n",
       "</div>"
      ],
      "text/plain": [
       "    PassengerId  Survived  Pclass  \\\n",
       "0             1         0       3   \n",
       "1             2         1       1   \n",
       "2             3         1       3   \n",
       "3             4         1       1   \n",
       "4             5         0       3   \n",
       "5             6         0       3   \n",
       "6             7         0       1   \n",
       "7             8         0       3   \n",
       "8             9         1       3   \n",
       "9            10         1       2   \n",
       "10           11         1       3   \n",
       "11           12         1       1   \n",
       "12           13         0       3   \n",
       "13           14         0       3   \n",
       "14           15         0       3   \n",
       "15           16         1       2   \n",
       "16           17         0       3   \n",
       "17           18         1       2   \n",
       "18           19         0       3   \n",
       "19           20         1       3   \n",
       "\n",
       "                                                 Name     Sex   Age  SibSp  \\\n",
       "0                             Braund, Mr. Owen Harris    male  22.0      1   \n",
       "1   Cumings, Mrs. John Bradley (Florence Briggs Th...  female  38.0      1   \n",
       "2                              Heikkinen, Miss. Laina  female  26.0      0   \n",
       "3        Futrelle, Mrs. Jacques Heath (Lily May Peel)  female  35.0      1   \n",
       "4                            Allen, Mr. William Henry    male  35.0      0   \n",
       "5                                    Moran, Mr. James    male  30.0      0   \n",
       "6                             McCarthy, Mr. Timothy J    male  54.0      0   \n",
       "7                      Palsson, Master. Gosta Leonard    male   2.0      3   \n",
       "8   Johnson, Mrs. Oscar W (Elisabeth Vilhelmina Berg)  female  27.0      0   \n",
       "9                 Nasser, Mrs. Nicholas (Adele Achem)  female  14.0      1   \n",
       "10                    Sandstrom, Miss. Marguerite Rut  female   4.0      1   \n",
       "11                           Bonnell, Miss. Elizabeth  female  58.0      0   \n",
       "12                     Saundercock, Mr. William Henry    male  20.0      0   \n",
       "13                        Andersson, Mr. Anders Johan    male  39.0      1   \n",
       "14               Vestrom, Miss. Hulda Amanda Adolfina  female  14.0      0   \n",
       "15                   Hewlett, Mrs. (Mary D Kingcome)   female  55.0      0   \n",
       "16                               Rice, Master. Eugene    male   2.0      4   \n",
       "17                       Williams, Mr. Charles Eugene    male  30.0      0   \n",
       "18  Vander Planke, Mrs. Julius (Emelia Maria Vande...  female  31.0      1   \n",
       "19                            Masselmani, Mrs. Fatima  female  30.0      0   \n",
       "\n",
       "    Parch            Ticket     Fare Cabin Embarked  \n",
       "0       0         A/5 21171   7.2500   NaN        S  \n",
       "1       0          PC 17599  71.2833   C85        C  \n",
       "2       0  STON/O2. 3101282   7.9250   NaN        S  \n",
       "3       0            113803  53.1000  C123        S  \n",
       "4       0            373450   8.0500   NaN        S  \n",
       "5       0            330877   8.4583   NaN        Q  \n",
       "6       0             17463  51.8625   E46        S  \n",
       "7       1            349909  21.0750   NaN        S  \n",
       "8       2            347742  11.1333   NaN        S  \n",
       "9       0            237736  30.0708   NaN        C  \n",
       "10      1           PP 9549  16.7000    G6        S  \n",
       "11      0            113783  26.5500  C103        S  \n",
       "12      0         A/5. 2151   8.0500   NaN        S  \n",
       "13      5            347082  31.2750   NaN        S  \n",
       "14      0            350406   7.8542   NaN        S  \n",
       "15      0            248706  16.0000   NaN        S  \n",
       "16      1            382652  29.1250   NaN        Q  \n",
       "17      0            244373  13.0000   NaN        S  \n",
       "18      0            345763  18.0000   NaN        S  \n",
       "19      0              2649   7.2250   NaN        C  "
      ]
     },
     "execution_count": 2,
     "metadata": {},
     "output_type": "execute_result"
    }
   ],
   "source": [
    "df_titanic=pd.read_csv(\"./titanic.csv\")\n",
    "df_titanic.head(20)"
   ]
  },
  {
   "cell_type": "markdown",
   "id": "f409c773",
   "metadata": {},
   "source": [
    "- 데이터 변수 설명:\n",
    "    - Pclass: 승객등급 1,2,3등석 \n",
    "    - name, sex, age: 이름 그대로\n",
    "    - sibsp:함께 탑승한 형제 , 배우자의 수 \n",
    "    - parch 함께 탑승한 자녀, 부모의 수\n",
    "    - ticket: 티켓아이디\n",
    "    - fare 티켓요금\n",
    "    - cabin: 객실번호\n",
    "    - embarked: 탑승한 곳"
   ]
  },
  {
   "cell_type": "markdown",
   "id": "40ba5587",
   "metadata": {},
   "source": [
    "## 목표 -survived(생존여부 분석)"
   ]
  },
  {
   "cell_type": "markdown",
   "id": "e4ab3f3e",
   "metadata": {},
   "source": [
    "## 분석 방향 설계\n",
    "\n",
    "- 1. 데이터의 요약정보 확인 및 기술 통계량 확인 \n",
    "- 2. 목표변수와 설명 변수의 분포 확인 \n",
    "- 3. 변수들의 결측 및 이상치 처리 \n",
    "- 4. 그래프 분석을 통해 변수간 관계를 확인\n",
    "- 5. 셍존에 영향을 미치는 잠재 인자 도출"
   ]
  },
  {
   "cell_type": "code",
   "execution_count": 3,
   "id": "d967914e",
   "metadata": {},
   "outputs": [
    {
     "name": "stdout",
     "output_type": "stream",
     "text": [
      "<class 'pandas.core.frame.DataFrame'>\n",
      "RangeIndex: 891 entries, 0 to 890\n",
      "Data columns (total 12 columns):\n",
      " #   Column       Non-Null Count  Dtype  \n",
      "---  ------       --------------  -----  \n",
      " 0   PassengerId  891 non-null    int64  \n",
      " 1   Survived     891 non-null    int64  \n",
      " 2   Pclass       891 non-null    int64  \n",
      " 3   Name         891 non-null    object \n",
      " 4   Sex          891 non-null    object \n",
      " 5   Age          891 non-null    float64\n",
      " 6   SibSp        891 non-null    int64  \n",
      " 7   Parch        891 non-null    int64  \n",
      " 8   Ticket       891 non-null    object \n",
      " 9   Fare         891 non-null    float64\n",
      " 10  Cabin        204 non-null    object \n",
      " 11  Embarked     889 non-null    object \n",
      "dtypes: float64(2), int64(5), object(5)\n",
      "memory usage: 83.7+ KB\n"
     ]
    }
   ],
   "source": [
    "## 데이터 의 요약 통계량 확인 및 기술 통계량 확인 \n",
    "df_titanic.info()"
   ]
  },
  {
   "cell_type": "code",
   "execution_count": 4,
   "id": "55098ebb",
   "metadata": {},
   "outputs": [
    {
     "data": {
      "text/html": [
       "<div>\n",
       "<style scoped>\n",
       "    .dataframe tbody tr th:only-of-type {\n",
       "        vertical-align: middle;\n",
       "    }\n",
       "\n",
       "    .dataframe tbody tr th {\n",
       "        vertical-align: top;\n",
       "    }\n",
       "\n",
       "    .dataframe thead th {\n",
       "        text-align: right;\n",
       "    }\n",
       "</style>\n",
       "<table border=\"1\" class=\"dataframe\">\n",
       "  <thead>\n",
       "    <tr style=\"text-align: right;\">\n",
       "      <th></th>\n",
       "      <th>PassengerId</th>\n",
       "      <th>Survived</th>\n",
       "      <th>Pclass</th>\n",
       "      <th>Age</th>\n",
       "      <th>SibSp</th>\n",
       "      <th>Parch</th>\n",
       "      <th>Fare</th>\n",
       "    </tr>\n",
       "  </thead>\n",
       "  <tbody>\n",
       "    <tr>\n",
       "      <th>count</th>\n",
       "      <td>891.000000</td>\n",
       "      <td>891.000000</td>\n",
       "      <td>891.000000</td>\n",
       "      <td>891.000000</td>\n",
       "      <td>891.000000</td>\n",
       "      <td>891.000000</td>\n",
       "      <td>891.000000</td>\n",
       "    </tr>\n",
       "    <tr>\n",
       "      <th>mean</th>\n",
       "      <td>446.000000</td>\n",
       "      <td>0.383838</td>\n",
       "      <td>2.308642</td>\n",
       "      <td>29.758889</td>\n",
       "      <td>0.523008</td>\n",
       "      <td>0.381594</td>\n",
       "      <td>32.204208</td>\n",
       "    </tr>\n",
       "    <tr>\n",
       "      <th>std</th>\n",
       "      <td>257.353842</td>\n",
       "      <td>0.486592</td>\n",
       "      <td>0.836071</td>\n",
       "      <td>13.002570</td>\n",
       "      <td>1.102743</td>\n",
       "      <td>0.806057</td>\n",
       "      <td>49.693429</td>\n",
       "    </tr>\n",
       "    <tr>\n",
       "      <th>min</th>\n",
       "      <td>1.000000</td>\n",
       "      <td>0.000000</td>\n",
       "      <td>1.000000</td>\n",
       "      <td>0.420000</td>\n",
       "      <td>0.000000</td>\n",
       "      <td>0.000000</td>\n",
       "      <td>0.000000</td>\n",
       "    </tr>\n",
       "    <tr>\n",
       "      <th>25%</th>\n",
       "      <td>223.500000</td>\n",
       "      <td>0.000000</td>\n",
       "      <td>2.000000</td>\n",
       "      <td>22.000000</td>\n",
       "      <td>0.000000</td>\n",
       "      <td>0.000000</td>\n",
       "      <td>7.910400</td>\n",
       "    </tr>\n",
       "    <tr>\n",
       "      <th>50%</th>\n",
       "      <td>446.000000</td>\n",
       "      <td>0.000000</td>\n",
       "      <td>3.000000</td>\n",
       "      <td>30.000000</td>\n",
       "      <td>0.000000</td>\n",
       "      <td>0.000000</td>\n",
       "      <td>14.454200</td>\n",
       "    </tr>\n",
       "    <tr>\n",
       "      <th>75%</th>\n",
       "      <td>668.500000</td>\n",
       "      <td>1.000000</td>\n",
       "      <td>3.000000</td>\n",
       "      <td>35.000000</td>\n",
       "      <td>1.000000</td>\n",
       "      <td>0.000000</td>\n",
       "      <td>31.000000</td>\n",
       "    </tr>\n",
       "    <tr>\n",
       "      <th>max</th>\n",
       "      <td>891.000000</td>\n",
       "      <td>1.000000</td>\n",
       "      <td>3.000000</td>\n",
       "      <td>80.000000</td>\n",
       "      <td>8.000000</td>\n",
       "      <td>6.000000</td>\n",
       "      <td>512.329200</td>\n",
       "    </tr>\n",
       "  </tbody>\n",
       "</table>\n",
       "</div>"
      ],
      "text/plain": [
       "       PassengerId    Survived      Pclass         Age       SibSp  \\\n",
       "count   891.000000  891.000000  891.000000  891.000000  891.000000   \n",
       "mean    446.000000    0.383838    2.308642   29.758889    0.523008   \n",
       "std     257.353842    0.486592    0.836071   13.002570    1.102743   \n",
       "min       1.000000    0.000000    1.000000    0.420000    0.000000   \n",
       "25%     223.500000    0.000000    2.000000   22.000000    0.000000   \n",
       "50%     446.000000    0.000000    3.000000   30.000000    0.000000   \n",
       "75%     668.500000    1.000000    3.000000   35.000000    1.000000   \n",
       "max     891.000000    1.000000    3.000000   80.000000    8.000000   \n",
       "\n",
       "            Parch        Fare  \n",
       "count  891.000000  891.000000  \n",
       "mean     0.381594   32.204208  \n",
       "std      0.806057   49.693429  \n",
       "min      0.000000    0.000000  \n",
       "25%      0.000000    7.910400  \n",
       "50%      0.000000   14.454200  \n",
       "75%      0.000000   31.000000  \n",
       "max      6.000000  512.329200  "
      ]
     },
     "execution_count": 4,
     "metadata": {},
     "output_type": "execute_result"
    }
   ],
   "source": [
    "df_titanic.describe()"
   ]
  },
  {
   "cell_type": "code",
   "execution_count": 5,
   "id": "f090c914",
   "metadata": {},
   "outputs": [
    {
     "data": {
      "text/plain": [
       "Index(['PassengerId', 'Survived', 'Pclass', 'Name', 'Sex', 'Age', 'SibSp',\n",
       "       'Parch', 'Ticket', 'Fare', 'Cabin', 'Embarked'],\n",
       "      dtype='object')"
      ]
     },
     "execution_count": 5,
     "metadata": {},
     "output_type": "execute_result"
    }
   ],
   "source": [
    "df_titanic.columns"
   ]
  },
  {
   "cell_type": "code",
   "execution_count": 6,
   "id": "2bbe327b",
   "metadata": {},
   "outputs": [
    {
     "data": {
      "text/plain": [
       "array([[<Axes: title={'center': 'PassengerId'}>,\n",
       "        <Axes: title={'center': 'Survived'}>,\n",
       "        <Axes: title={'center': 'Pclass'}>],\n",
       "       [<Axes: title={'center': 'Age'}>,\n",
       "        <Axes: title={'center': 'SibSp'}>,\n",
       "        <Axes: title={'center': 'Parch'}>],\n",
       "       [<Axes: title={'center': 'Fare'}>, <Axes: >, <Axes: >]],\n",
       "      dtype=object)"
      ]
     },
     "execution_count": 6,
     "metadata": {},
     "output_type": "execute_result"
    },
    {
     "data": {
      "image/png": "[encoded data removed]",
      "text/plain": [
       "<Figure size 1200x1200 with 9 Axes>"
      ]
     },
     "metadata": {},
     "output_type": "display_data"
    }
   ],
   "source": [
    "# 데이터의 분포확인 \n",
    "# 데이터가 어떻게 되어있나?\n",
    "df_titanic.hist(figsize=(12,12))"
   ]
  },
  {
   "cell_type": "markdown",
   "id": "c767d6c2",
   "metadata": {},
   "source": [
    "- 데이터의 분포를 확인해본바 다음과 같은 결과를 얻을 수 있었다. \n",
    "    - 1. passengerid는 승객들의 탑승숫자를 카운트한것으로 생존과는 큰 관련이 없어 보인다. \n",
    "    - 2. 승객들의 이름과 성별을 특히 성별의 경우 의미가 있을것이라고 생각되나 object 객체이므로 데이터 타입 변환을 할수도 있을 것이다.  \n",
    "    - 3. pclass를 통해 확인해본바 승객들의 대부분이 3등급 객실을 사용하였다. \n",
    "        - age: 20대~30대가 가장 많았다. \n",
    "        - sibsp: 함께 탄 사람은 없거나 1명인 경우가 많았다. \n",
    "        - parch: 자녀 , 부모의 수 역시 없는 경우가 많았다. \n",
    "        - fare: 가격은 100파운드 이하가 가장 많았다. \n",
    "    - 이를 통해 알수 있는 사실은 승객의 대부분이 20~30대로 여성 보다 남성이 많았으며 혼자 혹은 많더라도 1명정도 동행한 경우였다. 따라서 대부분 가격이 낮은 티켓을 구입했을 것이라 판단되며 이는 데이터의 분포가 대부분 왼쪽으로 몰려있는 것의 원인이 된다고 생각한다. \n",
    "    - 더불어 대부분의 승객이 사우샘프턴에서 탑승하였는데 이는 타이타닉의 첫 출항지가 사우샘프턴이었기 때문이다. \n",
    "    - 마지막으로 당시 시대상을 고려해본다면 타이타닉에 탑승한 사람들은 마지막 기항지인 뉴욕으로 향하는 사람들이며 미국 이민을 꿈꾸는 사람들었을 것이라는 가정을 해볼수도 있을 것이다. "
   ]
  },
  {
   "cell_type": "markdown",
   "id": "410f5bbc",
   "metadata": {},
   "source": [
    "## 변수들의 결측 및 이상치 처리 "
   ]
  },
  {
   "cell_type": "code",
   "execution_count": 9,
   "id": "fa5f2424",
   "metadata": {},
   "outputs": [
    {
     "data": {
      "text/plain": [
       "PassengerId      0\n",
       "Survived         0\n",
       "Pclass           0\n",
       "Name             0\n",
       "Sex              0\n",
       "Age              0\n",
       "SibSp            0\n",
       "Parch            0\n",
       "Ticket           0\n",
       "Fare             0\n",
       "Cabin          687\n",
       "Embarked         2\n",
       "dtype: int64"
      ]
     },
     "execution_count": 9,
     "metadata": {},
     "output_type": "execute_result"
    }
   ],
   "source": [
    "# 변수들의 결측치를 보자 \n",
    "df_titanic.isnull().sum()"
   ]
  },
  {
   "cell_type": "markdown",
   "id": "98a139bd",
   "metadata": {},
   "source": [
    "- 결측치에는 cabin(객실번호)와 embarked(탑승지) 두열만 존재했다. \n",
    "    - 왜 객실번호에 결측치가 이렇게 많을까?\n",
    "    - 타이타닉이 침몰하기전 탈출하기 위해 밖으로 나온 사람들이 많았고 이러한 사람들의 객실번호를 확인하기 어려웠을것이다. \n",
    "    - 추가로 소실되었을 가능성도 존재한다. \n",
    "    \n",
    "- 결측치를 어떻게 처리할까? \n",
    "    - embarked 결측치는 최빈값으로 넣을것이다. \n",
    "    - cabin 결측치는 너무 많으므로 이를 건드리지 않는것이 더 좋을 것 같다. \n",
    "        - 열을 제거할까? 그런데 유의미한 정보를 가지고 있으면 어떻게 할까?"
   ]
  },
  {
   "cell_type": "code",
   "execution_count": 3,
   "id": "b091e013",
   "metadata": {},
   "outputs": [],
   "source": [
    "df_titanic['Embarked'].fillna(df_titanic['Embarked'].mode(),inplace=True)"
   ]
  },
  {
   "cell_type": "code",
   "execution_count": 10,
   "id": "7b05cb3e",
   "metadata": {},
   "outputs": [],
   "source": [
    "df_titanic[df_titanic['Embarked'].isnull()]=df_titanic[df_titanic['Embarked'].isnull()].fillna('S')"
   ]
  },
  {
   "cell_type": "code",
   "execution_count": 11,
   "id": "27ff31c2",
   "metadata": {},
   "outputs": [
    {
     "data": {
      "text/plain": [
       "PassengerId      0\n",
       "Survived         0\n",
       "Pclass           0\n",
       "Name             0\n",
       "Sex              0\n",
       "Age              0\n",
       "SibSp            0\n",
       "Parch            0\n",
       "Ticket           0\n",
       "Fare             0\n",
       "Cabin          687\n",
       "Embarked         0\n",
       "dtype: int64"
      ]
     },
     "execution_count": 11,
     "metadata": {},
     "output_type": "execute_result"
    }
   ],
   "source": [
    "df_titanic.isnull().sum()"
   ]
  },
  {
   "cell_type": "code",
   "execution_count": 12,
   "id": "1e7aac37",
   "metadata": {},
   "outputs": [
    {
     "name": "stdout",
     "output_type": "stream",
     "text": [
      "<class 'pandas.core.frame.DataFrame'>\n",
      "RangeIndex: 891 entries, 0 to 890\n",
      "Data columns (total 12 columns):\n",
      " #   Column       Non-Null Count  Dtype  \n",
      "---  ------       --------------  -----  \n",
      " 0   PassengerId  891 non-null    int64  \n",
      " 1   Survived     891 non-null    int64  \n",
      " 2   Pclass       891 non-null    int64  \n",
      " 3   Name         891 non-null    object \n",
      " 4   Sex          891 non-null    object \n",
      " 5   Age          891 non-null    float64\n",
      " 6   SibSp        891 non-null    int64  \n",
      " 7   Parch        891 non-null    int64  \n",
      " 8   Ticket       891 non-null    object \n",
      " 9   Fare         891 non-null    float64\n",
      " 10  Cabin        204 non-null    object \n",
      " 11  Embarked     891 non-null    object \n",
      "dtypes: float64(2), int64(5), object(5)\n",
      "memory usage: 83.7+ KB\n"
     ]
    }
   ],
   "source": [
    "# 이상치 확인 \n",
    "## 이상치란? 수치형 데이터의 경우 이상치는 기준값을 벗어난 것\n",
    "## 범주형 데이터의 경우 이상치는 예상외의 값\n",
    "df_titanic.info()"
   ]
  },
  {
   "cell_type": "code",
   "execution_count": 8,
   "id": "ebcddbd8",
   "metadata": {},
   "outputs": [
    {
     "data": {
      "text/plain": [
       "<Axes: xlabel='Embarked', ylabel='count'>"
      ]
     },
     "execution_count": 8,
     "metadata": {},
     "output_type": "execute_result"
    },
    {
     "data": {
      "image/png": "[encoded data removed]",
      "text/plain": [
       "<Figure size 640x480 with 1 Axes>"
      ]
     },
     "metadata": {},
     "output_type": "display_data"
    }
   ],
   "source": [
    "sns.countplot(x=\"Embarked\",data=df_titanic)"
   ]
  },
  {
   "cell_type": "code",
   "execution_count": 7,
   "id": "f93fd4a8",
   "metadata": {},
   "outputs": [
    {
     "data": {
      "text/plain": [
       "<Axes: xlabel='Sex', ylabel='count'>"
      ]
     },
     "execution_count": 7,
     "metadata": {},
     "output_type": "execute_result"
    },
    {
     "data": {
      "image/png": "[encoded data removed]",
      "text/plain": [
       "<Figure size 640x480 with 1 Axes>"
      ]
     },
     "metadata": {},
     "output_type": "display_data"
    }
   ],
   "source": [
    "sns.countplot(x=\"Sex\",data=df_titanic)"
   ]
  },
  {
   "cell_type": "code",
   "execution_count": 74,
   "id": "ba2fb61c",
   "metadata": {},
   "outputs": [
    {
     "data": {
      "text/plain": [
       "<Axes: xlabel='Pclass', ylabel='count'>"
      ]
     },
     "execution_count": 74,
     "metadata": {},
     "output_type": "execute_result"
    },
    {
     "data": {
      "image/png": "[encoded data removed]",
      "text/plain": [
       "<Figure size 640x480 with 1 Axes>"
      ]
     },
     "metadata": {},
     "output_type": "display_data"
    }
   ],
   "source": [
    "sns.countplot(x=\"Pclass\", data=df_titanic)"
   ]
  },
  {
   "cell_type": "code",
   "execution_count": 23,
   "id": "beb041e6",
   "metadata": {},
   "outputs": [],
   "source": [
    "age_list=[i for i in range(0,101,10)]\n",
    "age_label=[f\"{i}대\" for i in range(0,91,10)]"
   ]
  },
  {
   "cell_type": "code",
   "execution_count": 24,
   "id": "93a2e439",
   "metadata": {},
   "outputs": [
    {
     "data": {
      "text/plain": [
       "['0대', '10대', '20대', '30대', '40대', '50대', '60대', '70대', '80대', '90대']"
      ]
     },
     "execution_count": 24,
     "metadata": {},
     "output_type": "execute_result"
    }
   ],
   "source": [
    "age_label"
   ]
  },
  {
   "cell_type": "code",
   "execution_count": 25,
   "id": "edb1a2b0",
   "metadata": {},
   "outputs": [],
   "source": [
    "df_titanic['Agegroup']=pd.cut(df_titanic['Age'],bins=age_list, labels=age_label)"
   ]
  },
  {
   "cell_type": "code",
   "execution_count": 35,
   "id": "3c07a663",
   "metadata": {},
   "outputs": [
    {
     "data": {
      "text/plain": [
       "20대    407\n",
       "30대    155\n",
       "10대    115\n",
       "40대     86\n",
       "0대      64\n",
       "50대     42\n",
       "60대     17\n",
       "70대      5\n",
       "80대      0\n",
       "90대      0\n",
       "Name: Agegroup, dtype: int64"
      ]
     },
     "execution_count": 35,
     "metadata": {},
     "output_type": "execute_result"
    }
   ],
   "source": [
    "df_titanic['Agegroup'].value_counts()"
   ]
  },
  {
   "cell_type": "code",
   "execution_count": 39,
   "id": "9a84e04e",
   "metadata": {},
   "outputs": [
    {
     "data": {
      "text/plain": [
       "<Axes: xlabel='Agegroup', ylabel='Age'>"
      ]
     },
     "execution_count": 39,
     "metadata": {},
     "output_type": "execute_result"
    },
    {
     "data": {
      "image/png": "[encoded data removed]",
      "text/plain": [
       "<Figure size 640x480 with 1 Axes>"
      ]
     },
     "metadata": {},
     "output_type": "display_data"
    }
   ],
   "source": [
    "sns.boxplot(y=df_titanic['Age'],x=df_titanic['Agegroup'], data=df_titanic)"
   ]
  },
  {
   "cell_type": "code",
   "execution_count": 40,
   "id": "8ed67d3e",
   "metadata": {},
   "outputs": [
    {
     "data": {
      "text/plain": [
       "<Axes: xlabel='Agegroup', ylabel='count'>"
      ]
     },
     "execution_count": 40,
     "metadata": {},
     "output_type": "execute_result"
    },
    {
     "data": {
      "image/png": "[encoded data removed]",
      "text/plain": [
       "<Figure size 640x480 with 1 Axes>"
      ]
     },
     "metadata": {},
     "output_type": "display_data"
    }
   ],
   "source": [
    "sns.countplot(x=\"Agegroup\", data=df_titanic)"
   ]
  },
  {
   "cell_type": "code",
   "execution_count": 41,
   "id": "6a90cf18",
   "metadata": {},
   "outputs": [
    {
     "data": {
      "text/plain": [
       "<Axes: xlabel='Fare', ylabel='count'>"
      ]
     },
     "execution_count": 41,
     "metadata": {},
     "output_type": "execute_result"
    },
    {
     "data": {
      "image/png": "[encoded data removed]",
      "text/plain": [
       "<Figure size 640x480 with 1 Axes>"
      ]
     },
     "metadata": {},
     "output_type": "display_data"
    }
   ],
   "source": [
    "sns.countplot(x=\"Fare\", data=df_titanic)"
   ]
  },
  {
   "cell_type": "code",
   "execution_count": 30,
   "id": "06e1ea47",
   "metadata": {},
   "outputs": [
    {
     "data": {
      "text/plain": [
       "<Axes: xlabel='Pclass', ylabel='count'>"
      ]
     },
     "execution_count": 30,
     "metadata": {},
     "output_type": "execute_result"
    }
   ],
   "source": [
    "# 데이터 이상치 확인 \n",
    "x_list=['Pclass','Age','SibSp','Parch','Fare']\n",
    "sns.countplot(x=\"Pclass\", data=df_titanic)"
   ]
  },
  {
   "cell_type": "code",
   "execution_count": null,
   "id": "688f9106",
   "metadata": {},
   "outputs": [],
   "source": [
    "x_list=['Pclass','Age','SibSp','Parch','Fare']\n"
   ]
  },
  {
   "cell_type": "code",
   "execution_count": 42,
   "id": "42c145d5",
   "metadata": {},
   "outputs": [
    {
     "data": {
      "text/plain": [
       "<Axes: xlabel='Fare'>"
      ]
     },
     "execution_count": 42,
     "metadata": {},
     "output_type": "execute_result"
    },
    {
     "data": {
      "image/png": "[encoded data removed]",
      "text/plain": [
       "<Figure size 640x480 with 1 Axes>"
      ]
     },
     "metadata": {},
     "output_type": "display_data"
    }
   ],
   "source": [
    "sns.boxplot(x='Fare',data=df_titanic)\n",
    "# 유독 비싸게 티켓 가격을 구입한 사람들이 존재한다. \n",
    "## 이상치로 판단해야 할까? \n"
   ]
  },
  {
   "cell_type": "code",
   "execution_count": 45,
   "id": "fb2e538c",
   "metadata": {},
   "outputs": [
    {
     "data": {
      "text/plain": [
       "<Axes: xlabel='SibSp'>"
      ]
     },
     "execution_count": 45,
     "metadata": {},
     "output_type": "execute_result"
    },
    {
     "data": {
      "image/png": "[encoded data removed]",
      "text/plain": [
       "<Figure size 640x480 with 1 Axes>"
      ]
     },
     "metadata": {},
     "output_type": "display_data"
    }
   ],
   "source": [
    "sns.boxplot(x='SibSp',data=df_titanic)\n",
    "# 그래프에서는 2명이상 이상치로 판단하였다. "
   ]
  },
  {
   "cell_type": "code",
   "execution_count": 44,
   "id": "81bccb6a",
   "metadata": {},
   "outputs": [
    {
     "data": {
      "text/plain": [
       "<Axes: xlabel='Parch'>"
      ]
     },
     "execution_count": 44,
     "metadata": {},
     "output_type": "execute_result"
    },
    {
     "data": {
      "image/png": "[encoded data removed]",
      "text/plain": [
       "<Figure size 640x480 with 1 Axes>"
      ]
     },
     "metadata": {},
     "output_type": "display_data"
    }
   ],
   "source": [
    "sns.boxplot(x='Parch',data=df_titanic)\n",
    "# 혼자 탄 사람 이외에 부모, 가족은 전부 이상치로 판단한다. "
   ]
  },
  {
   "cell_type": "code",
   "execution_count": 48,
   "id": "1e95ba39",
   "metadata": {},
   "outputs": [
    {
     "data": {
      "text/html": [
       "<div>\n",
       "<style scoped>\n",
       "    .dataframe tbody tr th:only-of-type {\n",
       "        vertical-align: middle;\n",
       "    }\n",
       "\n",
       "    .dataframe tbody tr th {\n",
       "        vertical-align: top;\n",
       "    }\n",
       "\n",
       "    .dataframe thead th {\n",
       "        text-align: right;\n",
       "    }\n",
       "</style>\n",
       "<table border=\"1\" class=\"dataframe\">\n",
       "  <thead>\n",
       "    <tr style=\"text-align: right;\">\n",
       "      <th></th>\n",
       "      <th>PassengerId</th>\n",
       "      <th>Survived</th>\n",
       "      <th>Pclass</th>\n",
       "      <th>Name</th>\n",
       "      <th>Sex</th>\n",
       "      <th>Age</th>\n",
       "      <th>SibSp</th>\n",
       "      <th>Parch</th>\n",
       "      <th>Ticket</th>\n",
       "      <th>Fare</th>\n",
       "      <th>Cabin</th>\n",
       "      <th>Embarked</th>\n",
       "      <th>Agegroup</th>\n",
       "    </tr>\n",
       "  </thead>\n",
       "  <tbody>\n",
       "  </tbody>\n",
       "</table>\n",
       "</div>"
      ],
      "text/plain": [
       "Empty DataFrame\n",
       "Columns: [PassengerId, Survived, Pclass, Name, Sex, Age, SibSp, Parch, Ticket, Fare, Cabin, Embarked, Agegroup]\n",
       "Index: []"
      ]
     },
     "execution_count": 48,
     "metadata": {},
     "output_type": "execute_result"
    }
   ],
   "source": [
    "df_titanic[df_titanic['Age']>100]\n",
    "#나이가 100보다 많은 사람은 없다. \n"
   ]
  },
  {
   "cell_type": "markdown",
   "id": "f84824a6",
   "metadata": {},
   "source": [
    "## 그래프 분석을 통한 변수간 관계확인 "
   ]
  },
  {
   "cell_type": "markdown",
   "id": "b2df6556",
   "metadata": {},
   "source": [
    "- 일단 목표는 survived이므로 survived에 대한 부분을 살펴보자 "
   ]
  },
  {
   "cell_type": "code",
   "execution_count": 49,
   "id": "244c32d6",
   "metadata": {},
   "outputs": [
    {
     "data": {
      "image/png": "[encoded data removed]",
      "text/plain": [
       "<Figure size 640x480 with 1 Axes>"
      ]
     },
     "metadata": {},
     "output_type": "display_data"
    }
   ],
   "source": [
    "df_survived=df_titanic['Survived'].value_counts().plot.pie(autopct=\"%.1f%%\")"
   ]
  },
  {
   "cell_type": "markdown",
   "id": "25b7102f",
   "metadata": {},
   "source": [
    "- 사망자는 61%이고 생존자는 38%이다. "
   ]
  },
  {
   "cell_type": "markdown",
   "id": "a4d3bcb1",
   "metadata": {},
   "source": [
    "- 그렇다면 각 변수가 survived에 미치는 부분을 그래프로 그려보자"
   ]
  },
  {
   "cell_type": "code",
   "execution_count": 51,
   "id": "abe3f9bf",
   "metadata": {},
   "outputs": [
    {
     "data": {
      "text/plain": [
       "<Axes: xlabel='Age', ylabel='Sex'>"
      ]
     },
     "execution_count": 51,
     "metadata": {},
     "output_type": "execute_result"
    },
    {
     "data": {
      "image/png": "[encoded data removed]",
      "text/plain": [
       "<Figure size 640x480 with 1 Axes>"
      ]
     },
     "metadata": {},
     "output_type": "display_data"
    }
   ],
   "source": [
    "## 성별 사망자와 생존자를 살펴보자 \n",
    "sns.scatterplot(x='Age',y='Sex', hue='Survived',style=\"Survived\",data=df_titanic)"
   ]
  },
  {
   "cell_type": "markdown",
   "id": "8cfc53b5",
   "metadata": {},
   "source": [
    "- 산점도를 통해 분석해 보았으나 명확하게 빈도수를 파악하긴 어려워보였다. \n",
    "- 겉으로 보기엔 여성이 남성에 비해 더 생존률이 높아보였다. 따라서 이부분을 다른 그래프로 대체해보아야한다. "
   ]
  },
  {
   "cell_type": "code",
   "execution_count": 58,
   "id": "95d19866",
   "metadata": {},
   "outputs": [],
   "source": [
    "male_survived=df_titanic[(df_titanic['Sex']=='male')&(df_titanic['Survived']==1)]['Sex'].value_counts()"
   ]
  },
  {
   "cell_type": "code",
   "execution_count": 67,
   "id": "d3c73784",
   "metadata": {},
   "outputs": [
    {
     "data": {
      "text/plain": [
       "109"
      ]
     },
     "execution_count": 67,
     "metadata": {},
     "output_type": "execute_result"
    }
   ],
   "source": [
    "male_survived[0]"
   ]
  },
  {
   "cell_type": "code",
   "execution_count": 60,
   "id": "51114e1d",
   "metadata": {},
   "outputs": [],
   "source": [
    "male_unsurvived=df_titanic[(df_titanic['Sex']=='male')&(df_titanic['Survived']==0)]['Sex'].value_counts()"
   ]
  },
  {
   "cell_type": "code",
   "execution_count": 62,
   "id": "b168894a",
   "metadata": {},
   "outputs": [],
   "source": [
    "female_survived=df_titanic[(df_titanic['Sex']=='female')&(df_titanic['Survived']==1)]['Sex'].value_counts()"
   ]
  },
  {
   "cell_type": "code",
   "execution_count": 63,
   "id": "73174d29",
   "metadata": {},
   "outputs": [],
   "source": [
    "female_unsurvived=df_titanic[(df_titanic['Sex']=='female')&(df_titanic['Survived']==0)]['Sex'].value_counts()"
   ]
  },
  {
   "cell_type": "code",
   "execution_count": 70,
   "id": "46a59fa5",
   "metadata": {},
   "outputs": [
    {
     "data": {
      "text/plain": [
       "([<matplotlib.patches.Wedge at 0x7f76348730a0>,\n",
       "  <matplotlib.patches.Wedge at 0x7f7634828910>],\n",
       " [Text(-0.7581208209006488, 0.7970274906908333, '생존'),\n",
       "  Text(0.7581207462775459, -0.7970275616712241, '사망')],\n",
       " [Text(-0.4135204477639902, 0.43474226764954543, '74.2%'),\n",
       "  Text(0.41352040706047954, -0.4347423063661222, '25.8%')])"
      ]
     },
     "execution_count": 70,
     "metadata": {},
     "output_type": "execute_result"
    },
    {
     "data": {
      "image/png": "[encoded data removed]",
      "text/plain": [
       "<Figure size 1800x1000 with 2 Axes>"
      ]
     },
     "metadata": {},
     "output_type": "display_data"
    }
   ],
   "source": [
    "\n",
    "fig,axes=plt.subplots(nrows=1,ncols=2,figsize=(18,10))\n",
    "axes[0].pie([male_survived[0],male_unsurvived[0]],labels=['생존','사망'],autopct='%.1f%%')\n",
    "axes[1].pie([female_survived[0],female_unsurvived[0]],labels=['생존','사망'],autopct='%.1f%%')\n"
   ]
  },
  {
   "cell_type": "markdown",
   "id": "69fdbfc9",
   "metadata": {},
   "source": [
    "- 두 값을 비교하여 볼때 여성이 남성에 비해 더 많이 생존한 것을 확인 할수 있다. "
   ]
  },
  {
   "cell_type": "markdown",
   "id": "0336051d",
   "metadata": {},
   "source": [
    "- 상식적으로 생각하여 볼때 1등급 좌석이 일반적으로 위에 있으므로 더 탈출하기가 용이할것이다. 이를 확인하여 보자 "
   ]
  },
  {
   "cell_type": "code",
   "execution_count": 71,
   "id": "190aa268",
   "metadata": {},
   "outputs": [
    {
     "data": {
      "text/plain": [
       "<Axes: xlabel='Pclass', ylabel='Age'>"
      ]
     },
     "execution_count": 71,
     "metadata": {},
     "output_type": "execute_result"
    },
    {
     "data": {
      "image/png": "[encoded data removed]",
      "text/plain": [
       "<Figure size 640x480 with 1 Axes>"
      ]
     },
     "metadata": {},
     "output_type": "display_data"
    }
   ],
   "source": [
    "sns.scatterplot(x='Pclass',y='Age', hue='Survived',style=\"Survived\",data=df_titanic)"
   ]
  },
  {
   "cell_type": "markdown",
   "id": "38fb8d50",
   "metadata": {},
   "source": [
    "- 위 그래프에서 3등급에 탑승한 사람들이 사망한 경우가 훨신 많음을 알수 있으며 1등급에 탑승한 사람들이 많이 살아남았다는 것을 알 수 있다. \n",
    "- 또한 예상외로 2등급에서 어린 나이에 탑승한 사람들이 살아남았다는 것을 확인 할 수 있었다. "
   ]
  },
  {
   "cell_type": "markdown",
   "id": "7b3fe29f",
   "metadata": {},
   "source": [
    "- 그렇다면 이러한 것을 토대로 여성들이 1등급에 많이 탑승하지는 않았을까? 혹은 나이가 많거나 적은 사람이 1등급에 탑승하지 않았을까? 궁금해졌다. "
   ]
  },
  {
   "cell_type": "code",
   "execution_count": 72,
   "id": "8bc4eb1d",
   "metadata": {},
   "outputs": [
    {
     "data": {
      "text/plain": [
       "<Axes: xlabel='Age', ylabel='Pclass'>"
      ]
     },
     "execution_count": 72,
     "metadata": {},
     "output_type": "execute_result"
    },
    {
     "data": {
      "image/png": "[encoded data removed]",
      "text/plain": [
       "<Figure size 640x480 with 1 Axes>"
      ]
     },
     "metadata": {},
     "output_type": "display_data"
    }
   ],
   "source": [
    "sns.scatterplot(x='Age',y='Pclass', hue='Sex',style=\"Sex\",data=df_titanic)"
   ]
  },
  {
   "cell_type": "code",
   "execution_count": 73,
   "id": "eb95a6e0",
   "metadata": {},
   "outputs": [
    {
     "data": {
      "text/plain": [
       "Pclass  Sex   \n",
       "1       male      122\n",
       "        female     94\n",
       "2       male      108\n",
       "        female     76\n",
       "3       male      347\n",
       "        female    144\n",
       "Name: Sex, dtype: int64"
      ]
     },
     "execution_count": 73,
     "metadata": {},
     "output_type": "execute_result"
    }
   ],
   "source": [
    "df_titanic.groupby(['Pclass'])['Sex'].value_counts()"
   ]
  },
  {
   "cell_type": "markdown",
   "id": "7018c66a",
   "metadata": {},
   "source": [
    "- 위 두 자료들을 보았을때 비율적으로 여성분들이 2~1등급 칸에 더 많이 포함되어 있음을 알 수 있다. 이것이 생존율에 큰 영향을 미쳤을 지도 모르겠다. "
   ]
  },
  {
   "cell_type": "markdown",
   "id": "73658a62",
   "metadata": {},
   "source": [
    "- 그렇다면 탑승항구별로 어디서 여성분들과 남성분들이 탔는지 그리고 사망했는지 비율을 확인해 볼수 있지 않을까?\n"
   ]
  },
  {
   "cell_type": "code",
   "execution_count": 75,
   "id": "4ff4e687",
   "metadata": {},
   "outputs": [
    {
     "data": {
      "text/plain": [
       "<Axes: xlabel='Embarked', ylabel='count'>"
      ]
     },
     "execution_count": 75,
     "metadata": {},
     "output_type": "execute_result"
    },
    {
     "data": {
      "image/png": "[encoded data removed]",
      "text/plain": [
       "<Figure size 640x480 with 1 Axes>"
      ]
     },
     "metadata": {},
     "output_type": "display_data"
    }
   ],
   "source": [
    "sns.countplot(x=\"Embarked\",hue='Sex',data=df_titanic)"
   ]
  },
  {
   "cell_type": "markdown",
   "id": "ba7adb39",
   "metadata": {},
   "source": [
    "- 사우스 햄스턴의 탑승객이 많은 이유는 출항지였기 때문이다.\n",
    "- 그런데 사우스 햄스턴에서 출발한 사람들의 비율을 보면 남성이 여성에 2배 가까이 되는 것을 볼수 있다. \n",
    "- 나머지 두 항구에서 남성과 여성의 비율차가 앞서 사우스 햄스턴처럼 크지 않은것을 본다면 어쩌면 나머지 항구에서 탑승한 사람들은 결혼해서 동승했을 가능성도 고려해 볼수 있겠다. "
   ]
  },
  {
   "cell_type": "markdown",
   "id": "578fa0ee",
   "metadata": {},
   "source": [
    "# 실습 2."
   ]
  },
  {
   "cell_type": "markdown",
   "id": "22722864",
   "metadata": {},
   "source": [
    "## 데이터 불러오기 \n"
   ]
  },
  {
   "cell_type": "code",
   "execution_count": 2,
   "id": "ce499863",
   "metadata": {},
   "outputs": [
    {
     "data": {
      "text/html": [
       "<div>\n",
       "<style scoped>\n",
       "    .dataframe tbody tr th:only-of-type {\n",
       "        vertical-align: middle;\n",
       "    }\n",
       "\n",
       "    .dataframe tbody tr th {\n",
       "        vertical-align: top;\n",
       "    }\n",
       "\n",
       "    .dataframe thead th {\n",
       "        text-align: right;\n",
       "    }\n",
       "</style>\n",
       "<table border=\"1\" class=\"dataframe\">\n",
       "  <thead>\n",
       "    <tr style=\"text-align: right;\">\n",
       "      <th></th>\n",
       "      <th>manufacturer</th>\n",
       "      <th>model</th>\n",
       "      <th>displacement</th>\n",
       "      <th>year</th>\n",
       "      <th>cylinder</th>\n",
       "      <th>automatic</th>\n",
       "      <th>driving</th>\n",
       "      <th>mpg</th>\n",
       "      <th>highway_mileage</th>\n",
       "      <th>fuel</th>\n",
       "      <th>class</th>\n",
       "    </tr>\n",
       "  </thead>\n",
       "  <tbody>\n",
       "    <tr>\n",
       "      <th>0</th>\n",
       "      <td>audi</td>\n",
       "      <td>a4</td>\n",
       "      <td>1.8</td>\n",
       "      <td>1999</td>\n",
       "      <td>4</td>\n",
       "      <td>auto</td>\n",
       "      <td>f</td>\n",
       "      <td>18</td>\n",
       "      <td>29</td>\n",
       "      <td>p</td>\n",
       "      <td>compact</td>\n",
       "    </tr>\n",
       "    <tr>\n",
       "      <th>1</th>\n",
       "      <td>audi</td>\n",
       "      <td>a4</td>\n",
       "      <td>1.8</td>\n",
       "      <td>1999</td>\n",
       "      <td>4</td>\n",
       "      <td>manual</td>\n",
       "      <td>f</td>\n",
       "      <td>21</td>\n",
       "      <td>29</td>\n",
       "      <td>p</td>\n",
       "      <td>compact</td>\n",
       "    </tr>\n",
       "    <tr>\n",
       "      <th>2</th>\n",
       "      <td>audi</td>\n",
       "      <td>a4</td>\n",
       "      <td>2.0</td>\n",
       "      <td>2008</td>\n",
       "      <td>4</td>\n",
       "      <td>manual</td>\n",
       "      <td>f</td>\n",
       "      <td>20</td>\n",
       "      <td>31</td>\n",
       "      <td>p</td>\n",
       "      <td>compact</td>\n",
       "    </tr>\n",
       "    <tr>\n",
       "      <th>3</th>\n",
       "      <td>audi</td>\n",
       "      <td>a4</td>\n",
       "      <td>2.0</td>\n",
       "      <td>2008</td>\n",
       "      <td>4</td>\n",
       "      <td>auto</td>\n",
       "      <td>f</td>\n",
       "      <td>21</td>\n",
       "      <td>30</td>\n",
       "      <td>p</td>\n",
       "      <td>compact</td>\n",
       "    </tr>\n",
       "    <tr>\n",
       "      <th>4</th>\n",
       "      <td>audi</td>\n",
       "      <td>a4</td>\n",
       "      <td>2.8</td>\n",
       "      <td>1999</td>\n",
       "      <td>6</td>\n",
       "      <td>auto</td>\n",
       "      <td>f</td>\n",
       "      <td>16</td>\n",
       "      <td>26</td>\n",
       "      <td>p</td>\n",
       "      <td>compact</td>\n",
       "    </tr>\n",
       "  </tbody>\n",
       "</table>\n",
       "</div>"
      ],
      "text/plain": [
       "  manufacturer model  displacement  year  cylinder automatic driving  mpg  \\\n",
       "0         audi    a4           1.8  1999         4      auto       f   18   \n",
       "1         audi    a4           1.8  1999         4    manual       f   21   \n",
       "2         audi    a4           2.0  2008         4    manual       f   20   \n",
       "3         audi    a4           2.0  2008         4      auto       f   21   \n",
       "4         audi    a4           2.8  1999         6      auto       f   16   \n",
       "\n",
       "   highway_mileage fuel    class  \n",
       "0               29    p  compact  \n",
       "1               29    p  compact  \n",
       "2               31    p  compact  \n",
       "3               30    p  compact  \n",
       "4               26    p  compact  "
      ]
     },
     "execution_count": 2,
     "metadata": {},
     "output_type": "execute_result"
    }
   ],
   "source": [
    "df_car=pd.read_csv(\"./mycars.csv\")\n",
    "df_car.head()"
   ]
  },
  {
   "cell_type": "code",
   "execution_count": 3,
   "id": "ea17e59f",
   "metadata": {},
   "outputs": [
    {
     "data": {
      "text/html": [
       "<div>\n",
       "<style scoped>\n",
       "    .dataframe tbody tr th:only-of-type {\n",
       "        vertical-align: middle;\n",
       "    }\n",
       "\n",
       "    .dataframe tbody tr th {\n",
       "        vertical-align: top;\n",
       "    }\n",
       "\n",
       "    .dataframe thead th {\n",
       "        text-align: right;\n",
       "    }\n",
       "</style>\n",
       "<table border=\"1\" class=\"dataframe\">\n",
       "  <thead>\n",
       "    <tr style=\"text-align: right;\">\n",
       "      <th></th>\n",
       "      <th>displacement</th>\n",
       "      <th>year</th>\n",
       "      <th>cylinder</th>\n",
       "      <th>mpg</th>\n",
       "      <th>highway_mileage</th>\n",
       "    </tr>\n",
       "  </thead>\n",
       "  <tbody>\n",
       "    <tr>\n",
       "      <th>count</th>\n",
       "      <td>234.000</td>\n",
       "      <td>234.00</td>\n",
       "      <td>234.000</td>\n",
       "      <td>234.000</td>\n",
       "      <td>234.000</td>\n",
       "    </tr>\n",
       "    <tr>\n",
       "      <th>mean</th>\n",
       "      <td>3.472</td>\n",
       "      <td>2003.50</td>\n",
       "      <td>5.889</td>\n",
       "      <td>16.859</td>\n",
       "      <td>23.440</td>\n",
       "    </tr>\n",
       "    <tr>\n",
       "      <th>std</th>\n",
       "      <td>1.292</td>\n",
       "      <td>4.51</td>\n",
       "      <td>1.612</td>\n",
       "      <td>4.256</td>\n",
       "      <td>5.955</td>\n",
       "    </tr>\n",
       "    <tr>\n",
       "      <th>min</th>\n",
       "      <td>1.600</td>\n",
       "      <td>1999.00</td>\n",
       "      <td>4.000</td>\n",
       "      <td>9.000</td>\n",
       "      <td>12.000</td>\n",
       "    </tr>\n",
       "    <tr>\n",
       "      <th>25%</th>\n",
       "      <td>2.400</td>\n",
       "      <td>1999.00</td>\n",
       "      <td>4.000</td>\n",
       "      <td>14.000</td>\n",
       "      <td>18.000</td>\n",
       "    </tr>\n",
       "    <tr>\n",
       "      <th>50%</th>\n",
       "      <td>3.300</td>\n",
       "      <td>2003.50</td>\n",
       "      <td>6.000</td>\n",
       "      <td>17.000</td>\n",
       "      <td>24.000</td>\n",
       "    </tr>\n",
       "    <tr>\n",
       "      <th>75%</th>\n",
       "      <td>4.600</td>\n",
       "      <td>2008.00</td>\n",
       "      <td>8.000</td>\n",
       "      <td>19.000</td>\n",
       "      <td>27.000</td>\n",
       "    </tr>\n",
       "    <tr>\n",
       "      <th>max</th>\n",
       "      <td>7.000</td>\n",
       "      <td>2008.00</td>\n",
       "      <td>8.000</td>\n",
       "      <td>35.000</td>\n",
       "      <td>44.000</td>\n",
       "    </tr>\n",
       "  </tbody>\n",
       "</table>\n",
       "</div>"
      ],
      "text/plain": [
       "       displacement     year  cylinder      mpg  highway_mileage\n",
       "count       234.000   234.00   234.000  234.000          234.000\n",
       "mean          3.472  2003.50     5.889   16.859           23.440\n",
       "std           1.292     4.51     1.612    4.256            5.955\n",
       "min           1.600  1999.00     4.000    9.000           12.000\n",
       "25%           2.400  1999.00     4.000   14.000           18.000\n",
       "50%           3.300  2003.50     6.000   17.000           24.000\n",
       "75%           4.600  2008.00     8.000   19.000           27.000\n",
       "max           7.000  2008.00     8.000   35.000           44.000"
      ]
     },
     "execution_count": 3,
     "metadata": {},
     "output_type": "execute_result"
    }
   ],
   "source": [
    "df_car.describe().round(3)"
   ]
  },
  {
   "cell_type": "markdown",
   "id": "263d6df0",
   "metadata": {},
   "source": [
    "## 문제 해결 "
   ]
  },
  {
   "cell_type": "code",
   "execution_count": 5,
   "id": "7223bd67",
   "metadata": {},
   "outputs": [
    {
     "data": {
      "text/html": [
       "<div>\n",
       "<style scoped>\n",
       "    .dataframe tbody tr th:only-of-type {\n",
       "        vertical-align: middle;\n",
       "    }\n",
       "\n",
       "    .dataframe tbody tr th {\n",
       "        vertical-align: top;\n",
       "    }\n",
       "\n",
       "    .dataframe thead th {\n",
       "        text-align: right;\n",
       "    }\n",
       "</style>\n",
       "<table border=\"1\" class=\"dataframe\">\n",
       "  <thead>\n",
       "    <tr style=\"text-align: right;\">\n",
       "      <th></th>\n",
       "      <th>automatic</th>\n",
       "      <th>mpg</th>\n",
       "      <th>highway_mileage</th>\n",
       "    </tr>\n",
       "  </thead>\n",
       "  <tbody>\n",
       "    <tr>\n",
       "      <th>0</th>\n",
       "      <td>auto</td>\n",
       "      <td>18</td>\n",
       "      <td>29</td>\n",
       "    </tr>\n",
       "    <tr>\n",
       "      <th>1</th>\n",
       "      <td>manual</td>\n",
       "      <td>21</td>\n",
       "      <td>29</td>\n",
       "    </tr>\n",
       "    <tr>\n",
       "      <th>2</th>\n",
       "      <td>manual</td>\n",
       "      <td>20</td>\n",
       "      <td>31</td>\n",
       "    </tr>\n",
       "    <tr>\n",
       "      <th>3</th>\n",
       "      <td>auto</td>\n",
       "      <td>21</td>\n",
       "      <td>30</td>\n",
       "    </tr>\n",
       "    <tr>\n",
       "      <th>4</th>\n",
       "      <td>auto</td>\n",
       "      <td>16</td>\n",
       "      <td>26</td>\n",
       "    </tr>\n",
       "    <tr>\n",
       "      <th>...</th>\n",
       "      <td>...</td>\n",
       "      <td>...</td>\n",
       "      <td>...</td>\n",
       "    </tr>\n",
       "    <tr>\n",
       "      <th>229</th>\n",
       "      <td>auto</td>\n",
       "      <td>19</td>\n",
       "      <td>28</td>\n",
       "    </tr>\n",
       "    <tr>\n",
       "      <th>230</th>\n",
       "      <td>manual</td>\n",
       "      <td>21</td>\n",
       "      <td>29</td>\n",
       "    </tr>\n",
       "    <tr>\n",
       "      <th>231</th>\n",
       "      <td>auto</td>\n",
       "      <td>16</td>\n",
       "      <td>26</td>\n",
       "    </tr>\n",
       "    <tr>\n",
       "      <th>232</th>\n",
       "      <td>manual</td>\n",
       "      <td>18</td>\n",
       "      <td>26</td>\n",
       "    </tr>\n",
       "    <tr>\n",
       "      <th>233</th>\n",
       "      <td>auto</td>\n",
       "      <td>17</td>\n",
       "      <td>26</td>\n",
       "    </tr>\n",
       "  </tbody>\n",
       "</table>\n",
       "<p>234 rows × 3 columns</p>\n",
       "</div>"
      ],
      "text/plain": [
       "    automatic  mpg  highway_mileage\n",
       "0        auto   18               29\n",
       "1      manual   21               29\n",
       "2      manual   20               31\n",
       "3        auto   21               30\n",
       "4        auto   16               26\n",
       "..        ...  ...              ...\n",
       "229      auto   19               28\n",
       "230    manual   21               29\n",
       "231      auto   16               26\n",
       "232    manual   18               26\n",
       "233      auto   17               26\n",
       "\n",
       "[234 rows x 3 columns]"
      ]
     },
     "execution_count": 5,
     "metadata": {},
     "output_type": "execute_result"
    }
   ],
   "source": [
    "# 자동차 구동방식별 요약 통계량 구하기 \n",
    "df_car_set=df_car[['automatic','mpg','highway_mileage']]\n",
    "df_car_set"
   ]
  },
  {
   "cell_type": "code",
   "execution_count": 6,
   "id": "655fa5b5",
   "metadata": {},
   "outputs": [
    {
     "data": {
      "text/html": [
       "<div>\n",
       "<style scoped>\n",
       "    .dataframe tbody tr th:only-of-type {\n",
       "        vertical-align: middle;\n",
       "    }\n",
       "\n",
       "    .dataframe tbody tr th {\n",
       "        vertical-align: top;\n",
       "    }\n",
       "\n",
       "    .dataframe thead tr th {\n",
       "        text-align: left;\n",
       "    }\n",
       "\n",
       "    .dataframe thead tr:last-of-type th {\n",
       "        text-align: right;\n",
       "    }\n",
       "</style>\n",
       "<table border=\"1\" class=\"dataframe\">\n",
       "  <thead>\n",
       "    <tr>\n",
       "      <th></th>\n",
       "      <th colspan=\"8\" halign=\"left\">mpg</th>\n",
       "      <th colspan=\"8\" halign=\"left\">highway_mileage</th>\n",
       "    </tr>\n",
       "    <tr>\n",
       "      <th></th>\n",
       "      <th>count</th>\n",
       "      <th>mean</th>\n",
       "      <th>std</th>\n",
       "      <th>min</th>\n",
       "      <th>25%</th>\n",
       "      <th>50%</th>\n",
       "      <th>75%</th>\n",
       "      <th>max</th>\n",
       "      <th>count</th>\n",
       "      <th>mean</th>\n",
       "      <th>std</th>\n",
       "      <th>min</th>\n",
       "      <th>25%</th>\n",
       "      <th>50%</th>\n",
       "      <th>75%</th>\n",
       "      <th>max</th>\n",
       "    </tr>\n",
       "    <tr>\n",
       "      <th>automatic</th>\n",
       "      <th></th>\n",
       "      <th></th>\n",
       "      <th></th>\n",
       "      <th></th>\n",
       "      <th></th>\n",
       "      <th></th>\n",
       "      <th></th>\n",
       "      <th></th>\n",
       "      <th></th>\n",
       "      <th></th>\n",
       "      <th></th>\n",
       "      <th></th>\n",
       "      <th></th>\n",
       "      <th></th>\n",
       "      <th></th>\n",
       "      <th></th>\n",
       "    </tr>\n",
       "  </thead>\n",
       "  <tbody>\n",
       "    <tr>\n",
       "      <th>auto</th>\n",
       "      <td>157.0</td>\n",
       "      <td>15.968153</td>\n",
       "      <td>3.848777</td>\n",
       "      <td>9.0</td>\n",
       "      <td>13.0</td>\n",
       "      <td>16.0</td>\n",
       "      <td>18.0</td>\n",
       "      <td>29.0</td>\n",
       "      <td>157.0</td>\n",
       "      <td>22.292994</td>\n",
       "      <td>5.623054</td>\n",
       "      <td>12.0</td>\n",
       "      <td>17.0</td>\n",
       "      <td>22.0</td>\n",
       "      <td>26.0</td>\n",
       "      <td>41.0</td>\n",
       "    </tr>\n",
       "    <tr>\n",
       "      <th>manual</th>\n",
       "      <td>77.0</td>\n",
       "      <td>18.675325</td>\n",
       "      <td>4.488118</td>\n",
       "      <td>9.0</td>\n",
       "      <td>15.0</td>\n",
       "      <td>18.0</td>\n",
       "      <td>21.0</td>\n",
       "      <td>35.0</td>\n",
       "      <td>77.0</td>\n",
       "      <td>25.779221</td>\n",
       "      <td>5.961772</td>\n",
       "      <td>12.0</td>\n",
       "      <td>23.0</td>\n",
       "      <td>26.0</td>\n",
       "      <td>29.0</td>\n",
       "      <td>44.0</td>\n",
       "    </tr>\n",
       "  </tbody>\n",
       "</table>\n",
       "</div>"
      ],
      "text/plain": [
       "             mpg                                                    \\\n",
       "           count       mean       std  min   25%   50%   75%   max   \n",
       "automatic                                                            \n",
       "auto       157.0  15.968153  3.848777  9.0  13.0  16.0  18.0  29.0   \n",
       "manual      77.0  18.675325  4.488118  9.0  15.0  18.0  21.0  35.0   \n",
       "\n",
       "          highway_mileage                                                     \n",
       "                    count       mean       std   min   25%   50%   75%   max  \n",
       "automatic                                                                     \n",
       "auto                157.0  22.292994  5.623054  12.0  17.0  22.0  26.0  41.0  \n",
       "manual               77.0  25.779221  5.961772  12.0  23.0  26.0  29.0  44.0  "
      ]
     },
     "execution_count": 6,
     "metadata": {},
     "output_type": "execute_result"
    }
   ],
   "source": [
    "df_car_set=df_car_set.groupby('automatic').describe()\n",
    "df_car_set"
   ]
  },
  {
   "cell_type": "markdown",
   "id": "6263282f",
   "metadata": {},
   "source": [
    "# 실습3"
   ]
  },
  {
   "cell_type": "code",
   "execution_count": 37,
   "id": "298d3df2",
   "metadata": {},
   "outputs": [
    {
     "data": {
      "text/plain": [
       "0     11\n",
       "1      8\n",
       "2      7\n",
       "3      6\n",
       "4      6\n",
       "      ..\n",
       "58     2\n",
       "59     2\n",
       "60     1\n",
       "61     1\n",
       "62     1\n",
       "Name: cnt, Length: 63, dtype: int64"
      ]
     },
     "execution_count": 37,
     "metadata": {},
     "output_type": "execute_result"
    }
   ],
   "source": [
    "count=df_car[['automatic','model']].value_counts().to_frame().reset_index()\n",
    "count.rename(columns = {count.columns[2]:'cnt'},inplace=True)\n",
    "\n",
    "count['cnt']"
   ]
  },
  {
   "cell_type": "code",
   "execution_count": 38,
   "id": "7435a3ef",
   "metadata": {},
   "outputs": [],
   "source": [
    "percent=(count['cnt']/sum(count['cnt']))*100"
   ]
  },
  {
   "cell_type": "code",
   "execution_count": 39,
   "id": "cb23786d",
   "metadata": {},
   "outputs": [
    {
     "data": {
      "text/plain": [
       "0     4.700855\n",
       "1     3.418803\n",
       "2     2.991453\n",
       "3     2.564103\n",
       "4     2.564103\n",
       "        ...   \n",
       "58    0.854701\n",
       "59    0.854701\n",
       "60    0.427350\n",
       "61    0.427350\n",
       "62    0.427350\n",
       "Name: cnt, Length: 63, dtype: float64"
      ]
     },
     "execution_count": 39,
     "metadata": {},
     "output_type": "execute_result"
    }
   ],
   "source": [
    "percent"
   ]
  },
  {
   "cell_type": "code",
   "execution_count": 35,
   "id": "43e771a3",
   "metadata": {},
   "outputs": [
    {
     "data": {
      "text/plain": [
       "0       4.700855\n",
       "1       8.119658\n",
       "2      11.111111\n",
       "3      13.675214\n",
       "4      16.239316\n",
       "         ...    \n",
       "58     97.863248\n",
       "59     98.717949\n",
       "60     99.145299\n",
       "61     99.572650\n",
       "62    100.000000\n",
       "Name: cnt, Length: 63, dtype: float64"
      ]
     },
     "execution_count": 35,
     "metadata": {},
     "output_type": "execute_result"
    }
   ],
   "source": [
    "#cumpct계산\n",
    "cumpct=np.cumsum(percent)\n",
    "cumpct"
   ]
  },
  {
   "cell_type": "code",
   "execution_count": 40,
   "id": "50f574f7",
   "metadata": {},
   "outputs": [
    {
     "data": {
      "text/plain": [
       "0      11\n",
       "1      19\n",
       "2      26\n",
       "3      32\n",
       "4      38\n",
       "     ... \n",
       "58    229\n",
       "59    231\n",
       "60    232\n",
       "61    233\n",
       "62    234\n",
       "Name: cnt, Length: 63, dtype: int64"
      ]
     },
     "execution_count": 40,
     "metadata": {},
     "output_type": "execute_result"
    }
   ],
   "source": [
    "cumcnt=np.cumsum(count['cnt'])\n",
    "cumcnt"
   ]
  },
  {
   "cell_type": "code",
   "execution_count": 45,
   "id": "bd8521b0",
   "metadata": {},
   "outputs": [
    {
     "data": {
      "text/html": [
       "<div>\n",
       "<style scoped>\n",
       "    .dataframe tbody tr th:only-of-type {\n",
       "        vertical-align: middle;\n",
       "    }\n",
       "\n",
       "    .dataframe tbody tr th {\n",
       "        vertical-align: top;\n",
       "    }\n",
       "\n",
       "    .dataframe thead th {\n",
       "        text-align: right;\n",
       "    }\n",
       "</style>\n",
       "<table border=\"1\" class=\"dataframe\">\n",
       "  <thead>\n",
       "    <tr style=\"text-align: right;\">\n",
       "      <th></th>\n",
       "      <th></th>\n",
       "      <th>mpg</th>\n",
       "    </tr>\n",
       "    <tr>\n",
       "      <th>automatic</th>\n",
       "      <th>model</th>\n",
       "      <th></th>\n",
       "    </tr>\n",
       "  </thead>\n",
       "  <tbody>\n",
       "    <tr>\n",
       "      <th rowspan=\"5\" valign=\"top\">auto</th>\n",
       "      <th>4runner 4wd</th>\n",
       "      <td>4</td>\n",
       "    </tr>\n",
       "    <tr>\n",
       "      <th>a4</th>\n",
       "      <td>4</td>\n",
       "    </tr>\n",
       "    <tr>\n",
       "      <th>a4 quattro</th>\n",
       "      <td>4</td>\n",
       "    </tr>\n",
       "    <tr>\n",
       "      <th>a6 quattro</th>\n",
       "      <td>3</td>\n",
       "    </tr>\n",
       "    <tr>\n",
       "      <th>altima</th>\n",
       "      <td>3</td>\n",
       "    </tr>\n",
       "    <tr>\n",
       "      <th>...</th>\n",
       "      <th>...</th>\n",
       "      <td>...</td>\n",
       "    </tr>\n",
       "    <tr>\n",
       "      <th rowspan=\"5\" valign=\"top\">manual</th>\n",
       "      <th>pathfinder 4wd</th>\n",
       "      <td>1</td>\n",
       "    </tr>\n",
       "    <tr>\n",
       "      <th>ram 1500 pickup 4wd</th>\n",
       "      <td>4</td>\n",
       "    </tr>\n",
       "    <tr>\n",
       "      <th>sonata</th>\n",
       "      <td>3</td>\n",
       "    </tr>\n",
       "    <tr>\n",
       "      <th>tiburon</th>\n",
       "      <td>4</td>\n",
       "    </tr>\n",
       "    <tr>\n",
       "      <th>toyota tacoma 4wd</th>\n",
       "      <td>4</td>\n",
       "    </tr>\n",
       "  </tbody>\n",
       "</table>\n",
       "<p>63 rows × 1 columns</p>\n",
       "</div>"
      ],
      "text/plain": [
       "                               mpg\n",
       "automatic model                   \n",
       "auto      4runner 4wd            4\n",
       "          a4                     4\n",
       "          a4 quattro             4\n",
       "          a6 quattro             3\n",
       "          altima                 3\n",
       "...                            ...\n",
       "manual    pathfinder 4wd         1\n",
       "          ram 1500 pickup 4wd    4\n",
       "          sonata                 3\n",
       "          tiburon                4\n",
       "          toyota tacoma 4wd      4\n",
       "\n",
       "[63 rows x 1 columns]"
      ]
     },
     "execution_count": 45,
     "metadata": {},
     "output_type": "execute_result"
    }
   ],
   "source": [
    "count=df_car.groupby(['automatic','model'])['mpg'].count().to_frame()\n",
    "count"
   ]
  },
  {
   "cell_type": "code",
   "execution_count": null,
   "id": "b5832392",
   "metadata": {},
   "outputs": [],
   "source": []
  }
 ],
 "metadata": {
  "kernelspec": {
   "display_name": "Python 3 (ipykernel)",
   "language": "python",
   "name": "python3"
  },
  "language_info": {
   "codemirror_mode": {
    "name": "ipython",
    "version": 3
   },
   "file_extension": ".py",
   "mimetype": "text/x-python",
   "name": "python",
   "nbconvert_exporter": "python",
   "pygments_lexer": "ipython3",
   "version": "3.10.9"
  }
 },
 "nbformat": 4,
 "nbformat_minor": 5
}
