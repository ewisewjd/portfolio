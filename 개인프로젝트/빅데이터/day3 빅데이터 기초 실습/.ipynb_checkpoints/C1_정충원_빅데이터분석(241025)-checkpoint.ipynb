{
 "cells": [
  {
   "cell_type": "code",
   "execution_count": 40,
   "id": "bde821ef",
   "metadata": {},
   "outputs": [],
   "source": [
    "import pandas as pd\n",
    "from scipy import stats\n",
    "import numpy as np\n",
    "from statsmodels.stats.proportion import proportions_ztest"
   ]
  },
  {
   "cell_type": "markdown",
   "id": "046467f6",
   "metadata": {},
   "source": [
    "# 실습 1. 확률계산"
   ]
  },
  {
   "cell_type": "code",
   "execution_count": 7,
   "id": "124c4282",
   "metadata": {},
   "outputs": [
    {
     "name": "stdout",
     "output_type": "stream",
     "text": [
      "나의 키180는 15.9%에 포함되어 있습니다\n"
     ]
    }
   ],
   "source": [
    "mu=175\n",
    "sigma=5\n",
    "x=180\n",
    "\n",
    "prob=stats.norm.cdf(x,mu,sigma)\n",
    "print(f\"나의 키{x}는 {(1-prob)*100:.1f}%에 포함되어 있습니다\")"
   ]
  },
  {
   "cell_type": "markdown",
   "id": "418f1a7c",
   "metadata": {},
   "source": [
    "- 확률계산은 해당 값을 기준으로 확률분포 그래프의 영역을 구하는 것이다. \n",
    "- 평균과 표준편차를 통해 나의 키가 어디에 속하는지 확률을 구하였다. "
   ]
  },
  {
   "cell_type": "markdown",
   "id": "10084326",
   "metadata": {},
   "source": [
    "# 실습 2. 확률계산"
   ]
  },
  {
   "cell_type": "code",
   "execution_count": 8,
   "id": "75689b5e",
   "metadata": {},
   "outputs": [
    {
     "name": "stdout",
     "output_type": "stream",
     "text": [
      "0.6826894921370859입니다\n",
      "0.15865525393145707입니다\n"
     ]
    }
   ],
   "source": [
    "mu=12\n",
    "sigma=3\n",
    "x1=9\n",
    "x2=15\n",
    "\n",
    "\n",
    "prob1=stats.norm.cdf(x1,mu,sigma)\n",
    "prob2=stats.norm.cdf(x2,mu,sigma)\n",
    "\n",
    "##문제를 풀어보자 \n",
    "#1.1리터를 가지고 9이상 15이하를 달릴 확률\n",
    "print(f\"{prob2-prob1}입니다\")\n",
    "#2.15이상을 달릴 확률\n",
    "print(f\"{1-prob2}입니다\")"
   ]
  },
  {
   "cell_type": "markdown",
   "id": "ab2e1bc8",
   "metadata": {},
   "source": [
    "- 확률계산에서 평균과 표준편차를 이용하여 현재 값을 토대로 확률을 구하였다. \n",
    "- 해당확률에서 구간은 prob2-prob1 이며 15이상 달릴 확률은 1-prob2이다"
   ]
  },
  {
   "cell_type": "markdown",
   "id": "e8e82641",
   "metadata": {},
   "source": [
    "# 실습3. 확률분포 (t분포)"
   ]
  },
  {
   "cell_type": "code",
   "execution_count": 10,
   "id": "2bb58a1a",
   "metadata": {},
   "outputs": [
    {
     "name": "stdout",
     "output_type": "stream",
     "text": [
      "0.9758939106344332입니다.\n"
     ]
    }
   ],
   "source": [
    "t=2.0\n",
    "df=100\n",
    "prob=stats.t.cdf(t,df)\n",
    "\n",
    "print(f\"{prob}입니다.\" )"
   ]
  },
  {
   "cell_type": "markdown",
   "id": "3bbaaa37",
   "metadata": {},
   "source": [
    "- t분포는 모집단의 평균을 모를때 평균을 추정하기 위해 사용된다. \n",
    "- 해당 값에서는 확률변수 2.0,  자유도 100으로 하여 값을 추정하였다. "
   ]
  },
  {
   "cell_type": "markdown",
   "id": "85ebd3d7",
   "metadata": {},
   "source": [
    "# 실습 4. 확률분포(카이제곱 분포)\n"
   ]
  },
  {
   "cell_type": "code",
   "execution_count": 15,
   "id": "eba6151e",
   "metadata": {},
   "outputs": [
    {
     "name": "stdout",
     "output_type": "stream",
     "text": [
      "8.239722367590797e-11입니다.\n"
     ]
    }
   ],
   "source": [
    "chisq=3.0\n",
    "df=30\n",
    "\n",
    "prob=stats.chi2.cdf(chisq,df)\n",
    "\n",
    "print(f\"{prob}입니다.\" )"
   ]
  },
  {
   "cell_type": "markdown",
   "id": "da828843",
   "metadata": {},
   "source": [
    "- 카이제곱분포는 표본의 분산을 통해 모집단의 분산을 추정할때 사용된다. \n",
    "- 해당 값에서는 카이제곱분포의 값이 3.0일때 자유도가 30인경우 누적확률을 구한 것이다. "
   ]
  },
  {
   "cell_type": "markdown",
   "id": "d6844371",
   "metadata": {},
   "source": [
    "# 실습 5. 확률분포(f분포)"
   ]
  },
  {
   "cell_type": "code",
   "execution_count": 16,
   "id": "9788bb08",
   "metadata": {},
   "outputs": [
    {
     "name": "stdout",
     "output_type": "stream",
     "text": [
      "0.8495702459436559입니다.\n"
     ]
    }
   ],
   "source": [
    "f=1.5\n",
    "dfnum=10\n",
    "dfden=100\n",
    "\n",
    "# 누적확률값 계산\n",
    "\n",
    "prob=stats.f.cdf(x=f,dfn=dfnum,dfd=dfden)\n",
    "\n",
    "print(f\"{prob}입니다.\" )"
   ]
  },
  {
   "cell_type": "markdown",
   "id": "0c93f678",
   "metadata": {},
   "source": [
    "- f 분포는 두 분포의 분산산을 비교하는데 사용한다. \n",
    "- 여기서는 자유도가 각각 10과 100일때 확률변수가 1.5일경우 값을 구한것이다."
   ]
  },
  {
   "cell_type": "markdown",
   "id": "b2af0aac",
   "metadata": {},
   "source": [
    "# 실습 6. 확률분포(이항분포)"
   ]
  },
  {
   "cell_type": "code",
   "execution_count": 18,
   "id": "c94a3ad7",
   "metadata": {},
   "outputs": [
    {
     "name": "stdout",
     "output_type": "stream",
     "text": [
      "(P(X=0))=0.118\n",
      "(P(X=1))=0.303\n",
      "(P(X=2))=0.324\n",
      "(P(X=3))=0.185\n",
      "(P(X=4))=0.060\n",
      "(P(X=5))=0.010\n"
     ]
    }
   ],
   "source": [
    "n=6\n",
    "for i in range(n):\n",
    "#이항분포 probability mass function\n",
    "    prob=stats.binom.pmf(k=i,n=n,p=0.3)\n",
    "    print(f\"(P(X={i}))={prob:.3F}\")"
   ]
  },
  {
   "cell_type": "markdown",
   "id": "e1391aae",
   "metadata": {},
   "source": [
    "- 이항분포는 이산형 변수에 경우에 사용된다. \n",
    "- 여러번 반복하여 시행했을때 값을 찾는 것이다. \n",
    "- 공장에서 불량이 30일때 5대를 임의로 선택했을 경우 불량대수가 각각 0,1,2,3,4,5 대가 나올 확률은 위와 같다."
   ]
  },
  {
   "cell_type": "markdown",
   "id": "d1b9eac8",
   "metadata": {},
   "source": [
    "# 실습 7. 추론통계- 정규성 검정"
   ]
  },
  {
   "cell_type": "code",
   "execution_count": 22,
   "id": "13b539b7",
   "metadata": {},
   "outputs": [
    {
     "name": "stdout",
     "output_type": "stream",
     "text": [
      "shapiro test: statistic=0.906264066696167, p-value=0.2563020884990692\n",
      "shapiro test: statistic=0.9729753732681274, p-value=0.9169775247573853\n"
     ]
    }
   ],
   "source": [
    "df=pd.read_csv(\"./2sample_t_test.csv\",encoding='euc-kr')\n",
    "df\n",
    "\n",
    "#정규성 검정: sapiro\n",
    "\n",
    "statistic1, p1=stats.shapiro(df['Mat_A'])\n",
    "statistic2, p2=stats.shapiro(df['Mat_B'])\n",
    "\n",
    "print(f\"shapiro test: statistic={statistic1}, p-value={p1}\")\n",
    "print(f\"shapiro test: statistic={statistic2}, p-value={p2}\")"
   ]
  },
  {
   "cell_type": "markdown",
   "id": "11a165e7",
   "metadata": {},
   "source": [
    "- 정규성 검정은 데이터가 정규분포를 따르는지 확인하는 과정이다. \n",
    "- 각각의 데이터가 정규분포를 따르는지 안따르는지 그 값을 p-value를 통해 확인한다. \n",
    "- 위에 두 데이터의 경우 두 데이터의 p-value값이 모두 0.05를 넘으며 특히 아래 데이터는 0.9에 달한다 \n",
    "    - 이때 귀무가설을 기각할수 없어 귀무가설이 채택되므로 두 데이터는 정규분포의 형태를 따른다고 볼수 있다. "
   ]
  },
  {
   "cell_type": "markdown",
   "id": "40b54efd",
   "metadata": {},
   "source": [
    "# 실습 8. 추론통계- 모평균 구간추정"
   ]
  },
  {
   "cell_type": "code",
   "execution_count": 27,
   "id": "f9513f66",
   "metadata": {},
   "outputs": [
    {
     "name": "stdout",
     "output_type": "stream",
     "text": [
      "신뢰구간: ([array([17.83460717])], [array([21.16539283])])\n"
     ]
    },
    {
     "name": "stderr",
     "output_type": "stream",
     "text": [
      "/home/piai/anaconda3/lib/python3.10/site-packages/numpy/core/fromnumeric.py:3430: FutureWarning: In a future version, DataFrame.mean(axis=None) will return a scalar mean over the entire DataFrame. To retain the old behavior, use 'frame.mean(axis=0)' or just 'frame.mean()'\n",
      "  return mean(axis=axis, dtype=dtype, out=out, **kwargs)\n"
     ]
    }
   ],
   "source": [
    "# 데이터 입력 \n",
    "\n",
    "df=pd.DataFrame({\"sample\":[18,18,20,21,20,23,19,18,17,21,22,20,20,21,20,19,19,18,17,19]})\n",
    "\n",
    "## 모평균 신뢰 구간 추정 \n",
    "lower, upper=stats.norm.interval(0.95,loc=np.mean(df),scale=3.8/np.sqrt(20))\n",
    "\n",
    "print(f\"신뢰구간: {[lower],[upper]}\")"
   ]
  },
  {
   "cell_type": "markdown",
   "id": "cc37c6e3",
   "metadata": {},
   "source": [
    "- 신뢰구간이란 모수가 존재하리라고 생각되는 구간이다. 우리가 추출하 표본을 통해 얻은 정보를 이용하여 모수를 추정할때 그 구간을 말하는 것이다. \n",
    "- 모평균의 구간추정은 표본 데이터를 통해 모집단의 평균을 추정할수있는 신뢰 구간을 얻는 것이라 할 수있다. \n",
    "- 위 데이터의 신뢰구간은 각각 17,21이며 이 사이에 모집단의 평균이 존재한다고 가정할수 있을 것이다. "
   ]
  },
  {
   "cell_type": "markdown",
   "id": "a6846f54",
   "metadata": {},
   "source": [
    "# 실습 9 추론통계- 모평균 신뢰구간 추정->모 표준편차를 모르는 경우"
   ]
  },
  {
   "cell_type": "code",
   "execution_count": 30,
   "id": "a2b20d5b",
   "metadata": {},
   "outputs": [
    {
     "name": "stdout",
     "output_type": "stream",
     "text": [
      "신뢰구간: ([array([70.59528541])], [array([72.40471459])])\n"
     ]
    },
    {
     "name": "stderr",
     "output_type": "stream",
     "text": [
      "/home/piai/anaconda3/lib/python3.10/site-packages/numpy/core/fromnumeric.py:3430: FutureWarning: In a future version, DataFrame.mean(axis=None) will return a scalar mean over the entire DataFrame. To retain the old behavior, use 'frame.mean(axis=0)' or just 'frame.mean()'\n",
      "  return mean(axis=axis, dtype=dtype, out=out, **kwargs)\n"
     ]
    }
   ],
   "source": [
    "# 데이터 입력 \n",
    "\n",
    "df=pd.DataFrame({\"sample\":[73,71,74,69,70,73,70,68,75,72,70,72,73,70,70,72,71,70,75,72]})\n",
    "\n",
    "## 모평균 신뢰 구간 추정 \n",
    "lower, upper=stats.t.interval(0.95,len(df)-1,loc=np.mean(df),scale=stats.sem(df))\n",
    "\n",
    "print(f\"신뢰구간: {[lower],[upper]}\")"
   ]
  },
  {
   "cell_type": "markdown",
   "id": "c6e4e754",
   "metadata": {},
   "source": [
    "- 위는 모집단의 표준편차를 모르는 경우를 가정한 값이다. \n",
    "- 이경우 표본 평균과 표본 표준편차를 이용하여 모평균 값의 신뢰구간을 추정한다. \n",
    "- 95% 신뢰구간은 70과 72이므로 원하는 평균 인장강도 값을 맞출수 있을 것으로 보인다. "
   ]
  },
  {
   "cell_type": "markdown",
   "id": "d98b40e5",
   "metadata": {},
   "source": [
    "# 실습 10 추론통계- 1sample t-test"
   ]
  },
  {
   "cell_type": "code",
   "execution_count": 33,
   "id": "762ee984",
   "metadata": {},
   "outputs": [
    {
     "name": "stdout",
     "output_type": "stream",
     "text": [
      "t통계량:[3.379], p-value:[0.008]\n"
     ]
    }
   ],
   "source": [
    "df=pd.DataFrame({\"데이터\":[85.0,79.0,79.1,79.9,81.6,78.6,85.4,83.4,78.1,79.2]})\n",
    "\n",
    "t_result=stats.ttest_1samp(df,78.0)\n",
    "\n",
    "#t값과 p값의 저장\n",
    "t,p=t_result.statistic.round(3),t_result.pvalue.round(3)\n",
    "\n",
    "# 1-sample t-test의 값 t,p 출력\n",
    "print(f\"t통계량:{t}, p-value:{p}\")"
   ]
  },
  {
   "cell_type": "markdown",
   "id": "39fab48a",
   "metadata": {},
   "source": [
    "- 1sample t test는 단일 집단의 평균이 기존의 주장하는 평균과 다른점이 있는지를 확인하는 것이다. \n",
    "- 위 경우 고객 서비스 센터 개선 이후 데이터를 통해 고객 만족도의 향상이 있었는지를 판단하고자하였다. \n",
    "- 해당 식에서 1 sample test로 추론해본바\n",
    "    - pvalue값은 0.08로 일반적인 유의수준 0.05보다 높으므로 귀무가설을 기각할수 없다. 물론 차이는 미미하다고 생각하지만 이경우 유의미한 고객 만족도 향상은 없다고 할수 있을 것이다."
   ]
  },
  {
   "cell_type": "markdown",
   "id": "c3d0b0d7",
   "metadata": {},
   "source": [
    "# 실습 11 추론통계- 2sample t-test"
   ]
  },
  {
   "cell_type": "code",
   "execution_count": 34,
   "id": "f9fb77cb",
   "metadata": {},
   "outputs": [
    {
     "name": "stdout",
     "output_type": "stream",
     "text": [
      "t통계량:1.94, p-value:0.073\n"
     ]
    }
   ],
   "source": [
    "df=pd.DataFrame({\"A\":[1.883,1.715,1.799,1.768,1.711,1.832,1.427,1.344],\n",
    "                \"B\":[1.435,1.572,1.486,1.511,1.457,1.548,1.404,1.800]})\n",
    "\n",
    "t_result=stats.ttest_ind(df[\"A\"],df[\"B\"])\n",
    "\n",
    "t,p=t_result.statistic.round(3),t_result.pvalue.round(3)\n",
    "\n",
    "\n",
    "# 2 sample t-test의 값 t,p 출력\n",
    "print(f\"t통계량:{t}, p-value:{p}\")"
   ]
  },
  {
   "cell_type": "markdown",
   "id": "5ebd12b3",
   "metadata": {},
   "source": [
    "-  2 sample t test는 두 집단의 평균이 같은지 다른지를 검정하는 것이다. 두집단으로 부터 얻은 독립적인 2개의 표본을 검정에 사용한다. \n",
    "- A공급자와 B 공급자의 평균치가 차이가 있다고 할수 있는가?\n",
    "    - 이경우 Pvalue값은 0.05보다 높으므로 귀무가설을 기각할수 없으며 따라서 평균치에 유의미한 차이를 보인다고 할수 없을 것이다. "
   ]
  },
  {
   "cell_type": "markdown",
   "id": "7ed09d16",
   "metadata": {},
   "source": [
    "# 실습 12 추론통계 -paired t-test"
   ]
  },
  {
   "cell_type": "code",
   "execution_count": 38,
   "id": "b74ffe48",
   "metadata": {},
   "outputs": [
    {
     "name": "stdout",
     "output_type": "stream",
     "text": [
      "t통계량:-2.2660652174327494, p-value:0.04968161840827287\n"
     ]
    }
   ],
   "source": [
    "df=pd.DataFrame({\"before\":[720,589,780,648,720,589,780,648,780,648],\n",
    "                \"after\":[710,580,787,712,750,600,782,670,790,680]})\n",
    "woman=[f\"woman{i}\" for  i in range(1,11)]\n",
    "df.index=woman\n",
    "\n",
    "t_result=stats.ttest_rel(df[\"before\"],df[\"after\"])\n",
    "\n",
    "t,p=t_result.statistic,t_result.pvalue\n",
    "\n",
    "# 2 sample t-test의 값 t,p 출력\n",
    "print(f\"t통계량:{t}, p-value:{p}\")"
   ]
  },
  {
   "cell_type": "markdown",
   "id": "6b209bb9",
   "metadata": {},
   "source": [
    "- paired t test는 앞뒤 전후 간에 차이가 있는지에 대한 검정이다. \n",
    "- 위 데이터는 회사원들이 영어 학원에 가기 전과 후로 나누어 이데 대해 차이가 있는지를 검정한 것이다. \n",
    "- 해당 통계결과 p value값이 0.05보다 낮음으로 대립가설이 채택되며 이경우 유의미한 차이가 있다고 볼수도 있다."
   ]
  },
  {
   "cell_type": "markdown",
   "id": "e09323d8",
   "metadata": {},
   "source": [
    "# 실습 13 추론통계- 1proportion test"
   ]
  },
  {
   "cell_type": "code",
   "execution_count": 41,
   "id": "665cac85",
   "metadata": {},
   "outputs": [
    {
     "name": "stdout",
     "output_type": "stream",
     "text": [
      "t통계량:-2.0412414523193148, p-value:0.0412268333371637\n"
     ]
    }
   ],
   "source": [
    "count=40\n",
    "n_obs=100\n",
    "value=0.5\n",
    "\n",
    "z,p=proportions_ztest(count,n_obs,value)\n",
    "\n",
    "\n",
    "print(f\"t통계량:{z}, p-value:{p}\")"
   ]
  },
  {
   "cell_type": "markdown",
   "id": "9412ec8f",
   "metadata": {},
   "source": [
    "- 1proportion test는 한집단의 비율이 특정 비률과 같은지를 검증한다. \n",
    "- 위의 데이터는 동전을 100번 던져서 앞면이 40번 나왔을경우 정상동전인가 아닌가를 판단하는 판단한다. \n",
    "- 정상동전이라면 앞면과 뒷면이 나올 확률은 각각 0.5일것이며 \n",
    "    - 위 데이터를 토대로 본바 p value의 값이 0.05이하이므로 정상적이지 않다고 판단된다. "
   ]
  },
  {
   "cell_type": "markdown",
   "id": "41c85f20",
   "metadata": {},
   "source": [
    "# 실습 14 추론통계- 2 proportion test"
   ]
  },
  {
   "cell_type": "code",
   "execution_count": 42,
   "id": "f9deb86b",
   "metadata": {},
   "outputs": [
    {
     "name": "stdout",
     "output_type": "stream",
     "text": [
      "t통계량:2.0729633895345208, p-value:0.03817568685216671\n"
     ]
    }
   ],
   "source": [
    "count=[14,5]\n",
    "n_obs=[1200,1200]\n",
    "\n",
    "\n",
    "z,p=proportions_ztest(count,n_obs)\n",
    "\n",
    "print(f\"t통계량:{z}, p-value:{p}\")"
   ]
  },
  {
   "cell_type": "markdown",
   "id": "c190e96e",
   "metadata": {},
   "source": [
    "- 2 proportion test의 경우 두집단의 비율이 같은지 다른지를 판단하는 것이다. \n",
    "- 동일한 제품을 생산하는 경우 두공장에서 불량률을 측정해 보았을 때 위와 같았다. \n",
    "- 때문에 이를 토대로 불량률이 같은지 다른지를 판단하려한다. \n",
    "- p value값이 0.05이하이므로 대립가설이 채택되고 이 경우 공장의 불량률은 다르다고 할 수 있다."
   ]
  },
  {
   "cell_type": "markdown",
   "id": "cb76d757",
   "metadata": {},
   "source": [
    "# 실습 15 추론통계-카이제곱 검정"
   ]
  },
  {
   "cell_type": "code",
   "execution_count": 45,
   "id": "c767e89b",
   "metadata": {},
   "outputs": [
    {
     "name": "stdout",
     "output_type": "stream",
     "text": [
      "chi:89.59365499259926, pval:7.567109770783976e-08, dof:30, expected:[[7.26027397 6.43835616 4.10958904 3.01369863 1.50684932 7.67123288]\n",
      " [7.50228311 6.65296804 4.24657534 3.11415525 1.55707763 7.92694064]\n",
      " [9.19634703 8.15525114 5.20547945 3.8173516  1.9086758  9.71689498]\n",
      " [7.26027397 6.43835616 4.10958904 3.01369863 1.50684932 7.67123288]\n",
      " [7.01826484 6.22374429 3.97260274 2.91324201 1.456621   7.41552511]\n",
      " [7.74429224 6.86757991 4.38356164 3.21461187 1.60730594 8.1826484 ]\n",
      " [7.01826484 6.22374429 3.97260274 2.91324201 1.456621   7.41552511]]\n"
     ]
    }
   ],
   "source": [
    "df=pd.DataFrame({\"A\":[8,1,8,7,10,9,10],\n",
    "                \"B\":[8,2,14,5,5,9,4],\n",
    "                \"C\":[4,1,3,4,9,5,4],\n",
    "                \"D\":[4,1,2,3,2,7,3],\n",
    "                \"E\":[3,1,3,1,1,1,1],\n",
    "                \"F\":[3,25,8,10,2,1,7]})\n",
    "\n",
    "df.index=[\"as\",\"가격\",\"성능\",\"확장성\",\"디자인\",\"안정성\",\"기능성\"]\n",
    "\n",
    "chi,pval,dof,expected=stats.chi2_contingency(df)\n",
    "\n",
    "print(f\"chi:{chi}, pval:{pval}, dof:{dof}, expected:{expected}\")"
   ]
  },
  {
   "cell_type": "markdown",
   "id": "3e1b8a20",
   "metadata": {},
   "source": [
    "- 카이제곱 검정은 관찰된 빈도가 기대되는 빈도와 의미있게 다른지 여부를 검증한다. \n",
    "- 위 데이터는 6가지 제품에 대해 이미지 차이가 있는가 유무를 판별하는 것이다. \n",
    "- 이 경우 귀무가설은 이미지 차이가 없다 이고 대립가설은 이미지 차이가 있다 이다. \n",
    "- 해당 데이터를 검정해본바 p value의 값이 0.05이하이므로 이미지 차이가 있다고 볼수있다. \n"
   ]
  },
  {
   "cell_type": "markdown",
   "id": "c77868f5",
   "metadata": {},
   "source": [
    "# 실습 16 추론통계- ANOVA"
   ]
  },
  {
   "cell_type": "code",
   "execution_count": 130,
   "id": "1c909edf",
   "metadata": {},
   "outputs": [
    {
     "name": "stdout",
     "output_type": "stream",
     "text": [
      "Statistic: 0.9879403114318848, p-value: 0.983557939529419\n",
      "Statistic: 0.9769707918167114, p-value: 0.9355478286743164\n",
      "Statistic: 0.8929420113563538, p-value: 0.3338908553123474\n",
      "Statistic: 0.9713904857635498, p-value: 0.901641845703125\n",
      "F 통계량4.171868041291934, pvalue0.019013221784198356\n",
      "Statistic: 0.982139527797699, p-value: 0.9907686114311218\n",
      "Statistic: 0.9098271131515503, p-value: 0.2122616022825241\n",
      "F 통계량9.653815948538297, pvalue0.005139574956672389\n"
     ]
    }
   ],
   "source": [
    "import pandas as pd\n",
    "from scipy import stats\n",
    "\n",
    "# CSV 파일 읽기\n",
    "df = pd.read_csv(\"./ANOVA.csv\")\n",
    "\n",
    "\n",
    "# 1. 강종 별로 정련시간에 차이가 있는지\n",
    "\n",
    "# 각 강종별 데이터 추출\n",
    "df_gangjong_a = df[df['gangjong'] == \"a\"]['time']\n",
    "df_gangjong_b = df[df['gangjong'] == \"b\"]['time']\n",
    "df_gangjong_c = df[df['gangjong'] == \"c\"]['time']\n",
    "df_gangjong_d = df[df['gangjong'] == \"d\"]['time']\n",
    "\n",
    "##정규성 검사 \n",
    "statistic, p = stats.shapiro(df_gangjong_a)\n",
    "print(f\"Statistic: {statistic}, p-value: {p:}\")\n",
    "statistic, p = stats.shapiro(df_gangjong_b)\n",
    "print(f\"Statistic: {statistic}, p-value: {p:}\")\n",
    "statistic, p = stats.shapiro(df_gangjong_c)\n",
    "print(f\"Statistic: {statistic}, p-value: {p:}\")\n",
    "statistic, p = stats.shapiro(df_gangjong_d)\n",
    "print(f\"Statistic: {statistic}, p-value: {p:}\")\n",
    "\n",
    "## 등분산성 검정 \n",
    "stats.bartlett(df_gangjong_a,df_gangjong_b,df_gangjong_c,df_gangjong_d)\n",
    "\n",
    "###ANOVA 실행 \n",
    "f_result=stats.f_oneway(df_gangjong_a,df_gangjong_b,df_gangjong_c,df_gangjong_d)\n",
    "\n",
    "f,p=f_result.statistic, f_result.pvalue\n",
    "\n",
    "## 결과 확인  \n",
    "print(f\"F 통계량{f}, pvalue{p}\")\n",
    "\n",
    "\n",
    "\n",
    "# 2. 타입별 정련시간에 차이가 있는지 \n",
    "\n",
    "# 타입별 데이터 추출 \n",
    "df_type_a = df[df['type'] == \"a\"]['time']\n",
    "df_type_b = df[df['type'] == \"b\"]['time']\n",
    "\n",
    "##정규성 검사 \n",
    "statistic, p = stats.shapiro(df_type_a)\n",
    "print(f\"Statistic: {statistic}, p-value: {p:}\")\n",
    "statistic, p = stats.shapiro(df_type_b)\n",
    "print(f\"Statistic: {statistic}, p-value: {p:}\")\n",
    "\n",
    "## 등분산성 검정 \n",
    "stats.bartlett(df_type_a,df_type_b)\n",
    "\n",
    "###ANOVA 실행 \n",
    "f_result=stats.f_oneway(df_type_a,df_type_b)\n",
    "\n",
    "f,p=f_result.statistic, f_result.pvalue\n",
    "\n",
    "## 결과 확인  \n",
    "print(f\"F 통계량{f}, pvalue{p}\")"
   ]
  },
  {
   "cell_type": "markdown",
   "id": "74021d25",
   "metadata": {},
   "source": [
    "- 철강에 대한 데이터를 강종과 타입으로 나누어 ANOVA 검사를 실시한 경우이다. \n",
    "- ANOVA 검사는 다중 분산 검사로 비교되는 집단들간의 평균차이를 검정하기 위해 사용되는 검정이다. \n",
    "- 위 검사 결과 각각의 데이터는 모두 정규성을 보인다고 판단할 수있으며 \n",
    "- P 값의 결과에 따라 강종별, 타입별 데이터의 분산에 차이가 없다고 판단할수 있을 것이다."
   ]
  },
  {
   "cell_type": "markdown",
   "id": "64251a5b",
   "metadata": {},
   "source": [
    "# 실습 17 추론통계- 상관 분석 "
   ]
  },
  {
   "cell_type": "code",
   "execution_count": 72,
   "id": "04d91ca4",
   "metadata": {},
   "outputs": [
    {
     "name": "stdout",
     "output_type": "stream",
     "text": [
      "corr:-0.723107314935157, pval:0.0003152005510027819\n"
     ]
    }
   ],
   "source": [
    "df=pd.DataFrame({\"strength\":[37.6,38.6,37.2,36.4,38.6,39,37.2,36.1,35.9,37.1,36.9,37.5,36.3,38.1,39,36.9,36.8,37.6,33,33.5],\n",
    "                \"temperature\":[14,15,14,16,17,14,17,16,15,16,14,16,18,13,15,17,14,16,20,21]})\n",
    "\n",
    "corr,pval=stats.pearsonr(df[\"strength\"],df['temperature'])\n",
    "\n",
    "print(f\"corr:{corr}, pval:{pval}\")"
   ]
  },
  {
   "cell_type": "markdown",
   "id": "ba616ab2",
   "metadata": {},
   "source": [
    "- 상관 분석은 두 데이터 간에 상관관계를 검증하는 분석이다. \n",
    "- 두데이터 강도와 온도의 상관관계를 분석하여 보았을 때 두 데이터는 음의 상관 관계를 가지고 있다고 판단할수 있을 것이다. "
   ]
  },
  {
   "cell_type": "code",
   "execution_count": null,
   "id": "179e054e",
   "metadata": {},
   "outputs": [],
   "source": []
  }
 ],
 "metadata": {
  "kernelspec": {
   "display_name": "Python 3 (ipykernel)",
   "language": "python",
   "name": "python3"
  },
  "language_info": {
   "codemirror_mode": {
    "name": "ipython",
    "version": 3
   },
   "file_extension": ".py",
   "mimetype": "text/x-python",
   "name": "python",
   "nbconvert_exporter": "python",
   "pygments_lexer": "ipython3",
   "version": "3.10.9"
  }
 },
 "nbformat": 4,
 "nbformat_minor": 5
}
