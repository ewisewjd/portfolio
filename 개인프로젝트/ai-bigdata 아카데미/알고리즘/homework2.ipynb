{
 "cells": [
  {
   "cell_type": "code",
   "execution_count": null,
   "id": "88a6271f",
   "metadata": {},
   "outputs": [],
   "source": [
    "def binarySearch(data, left, right, q):\n",
    "    if left > right:\n",
    "        return left  \n",
    "\n",
    "    mid = (left + right) // 2\n",
    "    if data[mid] == q:\n",
    "        return mid\n",
    "    elif data[mid] > q:\n",
    "        return binarySearch(data, left, mid - 1, q)  \n",
    "    else:\n",
    "        return binarySearch(data, mid + 1, right, q)  \n",
    "\n",
    "def choose_value(data, q):\n",
    "   \n",
    "    idx = binarySearch(data, 0, len(data) - 1, q)\n",
    "    \n",
    "    \n",
    "    answers = []\n",
    "    \n",
    "    # 좌측 값\n",
    "    if idx - 1 >= 0:\n",
    "        answers.append(data[idx - 1])\n",
    "    \n",
    "    # 우측 값\n",
    "    if idx < len(data):\n",
    "        answers.append(data[idx])\n",
    "    \n",
    "    choose = min(answers, key=lambda x: (abs(x - q), x))\n",
    "    return choose\n",
    "\n",
    "t = int(input())\n",
    "\n",
    "for _ in range(t):\n",
    "    # 각 테스트 케이스 마다 두줄을 입력받는다. 1. 띄어쓰기로 구분된 숫자 리스트 2. 찾고자하는 숫자리스트\n",
    "    data = list(map(int, input().split()))\n",
    "    query = list(map(int, input().split()))\n",
    "    \n",
    "    answer = [choose_value(data, q) for q in query]\n",
    "    print(*answer)\n"
   ]
  }
 ],
 "metadata": {
  "kernelspec": {
   "display_name": "Python 3 (ipykernel)",
   "language": "python",
   "name": "python3"
  },
  "language_info": {
   "codemirror_mode": {
    "name": "ipython",
    "version": 3
   },
   "file_extension": ".py",
   "mimetype": "text/x-python",
   "name": "python",
   "nbconvert_exporter": "python",
   "pygments_lexer": "ipython3",
   "version": "3.10.9"
  }
 },
 "nbformat": 4,
 "nbformat_minor": 5
}
