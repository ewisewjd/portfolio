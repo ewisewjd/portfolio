{
 "cells": [
  {
   "cell_type": "code",
   "execution_count": 3,
   "id": "034521c6",
   "metadata": {},
   "outputs": [
    {
     "name": "stdout",
     "output_type": "stream",
     "text": [
      "2\n",
      "1 -1 2 7 3 -1 4 -1 5 -1\n",
      "13453  4 2 1 5 -1\n",
      "5"
     ]
    }
   ],
   "source": [
    "t=int(input())\n",
    "\n",
    "for _ in range(t):\n",
    "    l=list(map(int, input().split()))\n",
    "    ls=[]\n",
    "    for i in l:\n",
    "        \n",
    "        if i >0:\n",
    "            ls.append(i)\n",
    "        elif i== -1:\n",
    "            print(ls.pop(), end=\" \")\n",
    "        else:\n",
    "            pass"
   ]
  },
  {
   "cell_type": "code",
   "execution_count": 4,
   "id": "9f70e635",
   "metadata": {},
   "outputs": [
    {
     "name": "stdout",
     "output_type": "stream",
     "text": [
      "2\n",
      "1 -1 2 7 3 -1 4 -1 5 -1\n",
      "[1, 3, 4, 5]\n",
      "3 4 2 1 5 -1\n",
      "[5]\n"
     ]
    }
   ],
   "source": [
    "# t=int(input())\n",
    "# for _ in range(t):\n",
    "#     stack=[]\n",
    "#     ans=[]\n",
    "#     qry=list(map(int,input().split()))\n",
    "    \n",
    "#     for q in qry:\n",
    "#         if q>0:\n",
    "#             stack.append(q)\n",
    "#         else:\n",
    "#             ans.append(stack.pop())\n",
    "            \n",
    "#     print(*ans) #*를 사용하면 리스트가 출력되는것이 아니라 리스트의 요소들만 출력된다. "
   ]
  },
  {
   "cell_type": "code",
   "execution_count": null,
   "id": "cb86555b",
   "metadata": {},
   "outputs": [],
   "source": []
  }
 ],
 "metadata": {
  "kernelspec": {
   "display_name": "Python 3 (ipykernel)",
   "language": "python",
   "name": "python3"
  },
  "language_info": {
   "codemirror_mode": {
    "name": "ipython",
    "version": 3
   },
   "file_extension": ".py",
   "mimetype": "text/x-python",
   "name": "python",
   "nbconvert_exporter": "python",
   "pygments_lexer": "ipython3",
   "version": "3.10.9"
  }
 },
 "nbformat": 4,
 "nbformat_minor": 5
}
