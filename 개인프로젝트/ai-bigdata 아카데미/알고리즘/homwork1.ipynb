{
 "cells": [
  {
   "cell_type": "code",
   "execution_count": 43,
   "id": "c5cc3e5b",
   "metadata": {},
   "outputs": [
    {
     "name": "stdout",
     "output_type": "stream",
     "text": [
      "5\n",
      "-1 32 -1\n",
      "0\n",
      "44 31 22 19 -1 20 -1\n",
      "2\n",
      "17 12 15 62 25 31 8 9 63 -1 11 16 -1 88 72 75\n",
      "6\n",
      "100 100 100 100 25 25 25 25 25 -1 25 25 25 25 25 -1\n",
      "0\n",
      "33 1 1 1 1 1 -1 33 1 1 1 1 1 -1 33 1 1 1 1 1 -1\n",
      "15\n"
     ]
    }
   ],
   "source": [
    "t=int(input())\n",
    "for _ in range(t):\n",
    "    gamja=list(map(int,input().split()))\n",
    "    check=[]\n",
    "    total_count=0\n",
    "    \n",
    "    for i in gamja:\n",
    "        if i !=-1:\n",
    "            check.append(i)\n",
    "        else:\n",
    "            for j in check[-5:]:\n",
    "                check.pop()\n",
    "                if j<=20 or j>=80:\n",
    "                    total_count+=1\n",
    "                    \n",
    "    print(total_count)"
   ]
  },
  {
   "cell_type": "code",
   "execution_count": null,
   "id": "395684c7",
   "metadata": {},
   "outputs": [],
   "source": []
  },
  {
   "cell_type": "code",
   "execution_count": null,
   "id": "74d7531c",
   "metadata": {},
   "outputs": [],
   "source": []
  }
 ],
 "metadata": {
  "kernelspec": {
   "display_name": "Python 3 (ipykernel)",
   "language": "python",
   "name": "python3"
  },
  "language_info": {
   "codemirror_mode": {
    "name": "ipython",
    "version": 3
   },
   "file_extension": ".py",
   "mimetype": "text/x-python",
   "name": "python",
   "nbconvert_exporter": "python",
   "pygments_lexer": "ipython3",
   "version": "3.10.9"
  }
 },
 "nbformat": 4,
 "nbformat_minor": 5
}
