{
 "cells": [
  {
   "cell_type": "code",
   "execution_count": 7,
   "id": "ed962840",
   "metadata": {},
   "outputs": [
    {
     "name": "stdout",
     "output_type": "stream",
     "text": [
      "6\n",
      "1\n",
      "1\n",
      "2\n",
      "1\n",
      "4\n",
      "3\n",
      "7\n",
      "13\n",
      "50\n",
      "12586269025\n",
      "200\n",
      "280571172992510140037611932413038677189525\n"
     ]
    }
   ],
   "source": [
    "t=int(input())\n",
    "for _ in range(t):\n",
    "    n=int(input())\n",
    "    fib=[0]*(n+1)\n",
    "    \n",
    "    for i in range(1,n+1):\n",
    "        if i==1 or i==2:\n",
    "            fib[i]=1\n",
    "        \n",
    "        else:\n",
    "            fib[i]=fib[i-1]+fib[i-2]\n",
    "\n",
    "    \n",
    "    print(fib[n])\n",
    "    \n",
    "#     for i in range(n):\n",
    "#         total+= n-1+n-2\n",
    "#         if n==1 or n==2:\n",
    "#             total=1\n",
    "#         print(total)"
   ]
  },
  {
   "cell_type": "code",
   "execution_count": null,
   "id": "eaf35c6d",
   "metadata": {},
   "outputs": [],
   "source": []
  }
 ],
 "metadata": {
  "kernelspec": {
   "display_name": "Python 3 (ipykernel)",
   "language": "python",
   "name": "python3"
  },
  "language_info": {
   "codemirror_mode": {
    "name": "ipython",
    "version": 3
   },
   "file_extension": ".py",
   "mimetype": "text/x-python",
   "name": "python",
   "nbconvert_exporter": "python",
   "pygments_lexer": "ipython3",
   "version": "3.10.9"
  }
 },
 "nbformat": 4,
 "nbformat_minor": 5
}
