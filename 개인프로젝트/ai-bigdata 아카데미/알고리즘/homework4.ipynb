{
 "cells": [
  {
   "cell_type": "code",
   "execution_count": null,
   "id": "e83e1a08",
   "metadata": {},
   "outputs": [],
   "source": [
    "t=int(input())\n",
    "\n",
    "for _ in range(t):\n",
    "    n,m=map(int, input().split())\n",
    "    data=[]\n",
    "    \n",
    "    for i in range(n):\n",
    "        data.append(list(map(int,input().split())))\n",
    "        \n",
    "    T=[[0]*m for i in range(n)]\n",
    "    \n",
    "    for i in range(n):\n",
    "        for j in range(m):\n",
    "            if i==0 and j==0:\n",
    "                T[i][j]=data[i][j]\n",
    "            elif i==0:\n",
    "                T[i][j]=T[i][j-1]+data[i][j]\n",
    "            \n",
    "            elif j==0:\n",
    "                T[i][j]=T[i-1][j]+data[i][j]\n",
    "            \n",
    "            else:\n",
    "                max_path=max(T[i][j-1], T[i-1][j],T[i-1][j-1])+data[i][j]\n",
    "                \n",
    "                if i >= 2 and j >= 2:\n",
    "                    max_path=max(max_path, T[i-2][j-2] + data[i][j])\n",
    "                T[i][j] = max_path \n",
    "    \n",
    "    print(T[n-1][m-1])"
   ]
  }
 ],
 "metadata": {
  "kernelspec": {
   "display_name": "Python 3 (ipykernel)",
   "language": "python",
   "name": "python3"
  },
  "language_info": {
   "codemirror_mode": {
    "name": "ipython",
    "version": 3
   },
   "file_extension": ".py",
   "mimetype": "text/x-python",
   "name": "python",
   "nbconvert_exporter": "python",
   "pygments_lexer": "ipython3",
   "version": "3.10.9"
  }
 },
 "nbformat": 4,
 "nbformat_minor": 5
}
