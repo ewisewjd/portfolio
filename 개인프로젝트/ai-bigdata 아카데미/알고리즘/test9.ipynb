{
 "cells": [
  {
   "cell_type": "code",
   "execution_count": null,
   "id": "f103a149",
   "metadata": {},
   "outputs": [],
   "source": [
    "import sys\n",
    "sys.setrecursionlimit(1000000)\n",
    "\n",
    "\n",
    "\n",
    "t=int(input())\n",
    "for _ in range(t):\n",
    "    N,M=map(int,input().split())\n",
    "    List=[[] for _ in range(N)]\n",
    "    \n",
    "    for i in range(M):\n",
    "        u,v=map(int,input().split())\n",
    "        List[u].append(v)\n",
    "        List[v].append(u)\n",
    "        \n",
    "    for i in range(N):\n",
    "        List[i].sort(reverse=True)\n",
    "        \n",
    "    check=[False]*N\n",
    "    stack=[0]\n",
    "    \n",
    "    while stack:\n",
    "        v=stack.pop()\n",
    "        if check[v]==True:\n",
    "            continue\n",
    "            \n",
    "        \n",
    "        check[v]=True\n",
    "        print(v,end=\" \")\n",
    "        \n",
    "        for i in List[v]:\n",
    "            if check[i]==False:\n",
    "                stack.append(i)\n",
    "       \n",
    "    print(\"\")"
   ]
  }
 ],
 "metadata": {
  "kernelspec": {
   "display_name": "Python 3 (ipykernel)",
   "language": "python",
   "name": "python3"
  },
  "language_info": {
   "codemirror_mode": {
    "name": "ipython",
    "version": 3
   },
   "file_extension": ".py",
   "mimetype": "text/x-python",
   "name": "python",
   "nbconvert_exporter": "python",
   "pygments_lexer": "ipython3",
   "version": "3.10.9"
  }
 },
 "nbformat": 4,
 "nbformat_minor": 5
}
