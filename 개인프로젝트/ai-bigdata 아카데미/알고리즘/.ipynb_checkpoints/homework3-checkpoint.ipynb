{
 "cells": [
  {
   "cell_type": "code",
   "execution_count": null,
   "id": "dcf46e77",
   "metadata": {},
   "outputs": [],
   "source": [
    "\n",
    "# 1. 라이브러리 임포트 \n",
    "import sys\n",
    "sys.setrecursionlimit(1000000)\n",
    "from collections import deque\n",
    "\n",
    "# 2. testcase 숫자와 입력을 받음 \n",
    "t=int(input())\n",
    "for _ in range(t):\n",
    "    N,M=map(int,input().split()) #정점의 개수 n과 간선의 개수 m\n",
    "    List=[[] for _ in range(N)]\n",
    "    \n",
    "    for i in range(M):\n",
    "        u,v=map(int,input().split())\n",
    "        List[u].append(v)\n",
    "    \n",
    "    for i in range(N):\n",
    "        List[i].sort()\n",
    "    \n",
    "    check=[False]*N\n",
    "    queue = deque([0])\n",
    "        \n",
    "        \n",
    "    check[0] = True  \n",
    "       \n",
    "    while queue:\n",
    "            \n",
    "        v = queue.popleft()  \n",
    "            \n",
    "        print(v, end=\" \")\n",
    "               \n",
    "          \n",
    "        for i in List[v]:\n",
    "            if not check[i]:\n",
    "                check[i] = True\n",
    "                queue.append(i) \n",
    "\n",
    "    print()  \n"
   ]
  }
 ],
 "metadata": {
  "kernelspec": {
   "display_name": "Python 3 (ipykernel)",
   "language": "python",
   "name": "python3"
  },
  "language_info": {
   "codemirror_mode": {
    "name": "ipython",
    "version": 3
   },
   "file_extension": ".py",
   "mimetype": "text/x-python",
   "name": "python",
   "nbconvert_exporter": "python",
   "pygments_lexer": "ipython3",
   "version": "3.10.9"
  }
 },
 "nbformat": 4,
 "nbformat_minor": 5
}
