{
 "cells": [
  {
   "cell_type": "code",
   "execution_count": 4,
   "id": "d13d4c0a",
   "metadata": {},
   "outputs": [
    {
     "name": "stdout",
     "output_type": "stream",
     "text": [
      "4\n",
      "200\n",
      "2\n",
      "700\n",
      "3\n",
      "7900\n",
      "8\n",
      "53200\n",
      "6\n"
     ]
    }
   ],
   "source": [
    "# t=int(input())\n",
    "# for _ in range(t):\n",
    "#     insert_coin=int(input())\n",
    "#     count_coin=0\n",
    "#     count_coin+=insert_coin//50000\n",
    "#     count_coin+=(insert_coin%50000)//10000\n",
    "#     count_coin+=((insert_coin%50000)%10000)//5000\n",
    "#     count_coin+=(((insert_coin%50000)%10000)%5000)//1000\n",
    "#     count_coin+=((((insert_coin%50000)%10000)%5000)%1000)//500\n",
    "#     count_coin+=(((((insert_coin%50000)%10000)%5000)%1000)%500)//100\n",
    "#     print(count_coin)"
   ]
  },
  {
   "cell_type": "code",
   "execution_count": 10,
   "id": "8316a08b",
   "metadata": {},
   "outputs": [
    {
     "name": "stdout",
     "output_type": "stream",
     "text": [
      "4\n",
      "200\n",
      "2\n",
      "700\n",
      "3\n",
      "7900\n",
      "8\n",
      "53200\n",
      "6\n"
     ]
    }
   ],
   "source": [
    "t=int(input())\n",
    "for _ in range(t):\n",
    "    n=int(input())\n",
    "    coins=[50000,10000,5000,1000,500,100]\n",
    "    coinnum=0\n",
    "    for coin in coins:\n",
    "        coinnum+=n//coin\n",
    "        n%=coin\n",
    "    print(coinnum)\n",
    "   "
   ]
  },
  {
   "cell_type": "code",
   "execution_count": null,
   "id": "e7151e55",
   "metadata": {},
   "outputs": [],
   "source": []
  }
 ],
 "metadata": {
  "kernelspec": {
   "display_name": "Python 3 (ipykernel)",
   "language": "python",
   "name": "python3"
  },
  "language_info": {
   "codemirror_mode": {
    "name": "ipython",
    "version": 3
   },
   "file_extension": ".py",
   "mimetype": "text/x-python",
   "name": "python",
   "nbconvert_exporter": "python",
   "pygments_lexer": "ipython3",
   "version": "3.10.9"
  }
 },
 "nbformat": 4,
 "nbformat_minor": 5
}
