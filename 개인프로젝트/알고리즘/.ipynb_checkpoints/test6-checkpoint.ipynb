{
 "cells": [
  {
   "cell_type": "code",
   "execution_count": 1,
   "id": "9821fcdc",
   "metadata": {},
   "outputs": [
    {
     "name": "stdout",
     "output_type": "stream",
     "text": [
      "3\n",
      "1 2 3 4 5\n",
      "1 3 6\n"
     ]
    },
    {
     "ename": "NameError",
     "evalue": "name 'rigth' is not defined",
     "output_type": "error",
     "traceback": [
      "\u001b[0;31m---------------------------------------------------------------------------\u001b[0m",
      "\u001b[0;31mNameError\u001b[0m                                 Traceback (most recent call last)",
      "Cell \u001b[0;32mIn[1], line 23\u001b[0m\n\u001b[1;32m     20\u001b[0m answer\u001b[38;5;241m=\u001b[39m[]\n\u001b[1;32m     22\u001b[0m \u001b[38;5;28;01mfor\u001b[39;00m q \u001b[38;5;129;01min\u001b[39;00m query:\n\u001b[0;32m---> 23\u001b[0m     answer\u001b[38;5;241m.\u001b[39mappend(\u001b[43mbinarySearch\u001b[49m\u001b[43m(\u001b[49m\u001b[43mdata\u001b[49m\u001b[43m,\u001b[49m\u001b[38;5;241;43m0\u001b[39;49m\u001b[43m,\u001b[49m\u001b[38;5;28;43mlen\u001b[39;49m\u001b[43m(\u001b[49m\u001b[43mdata\u001b[49m\u001b[43m)\u001b[49m\u001b[38;5;241;43m-\u001b[39;49m\u001b[38;5;241;43m1\u001b[39;49m\u001b[43m,\u001b[49m\u001b[43mq\u001b[49m\u001b[43m)\u001b[49m)\n\u001b[1;32m     25\u001b[0m \u001b[38;5;28mprint\u001b[39m(\u001b[38;5;241m*\u001b[39manswer)\n",
      "Cell \u001b[0;32mIn[1], line 2\u001b[0m, in \u001b[0;36mbinarySearch\u001b[0;34m(data, left, right, q)\u001b[0m\n\u001b[1;32m      1\u001b[0m \u001b[38;5;28;01mdef\u001b[39;00m \u001b[38;5;21mbinarySearch\u001b[39m(data,left,right,q): \u001b[38;5;66;03m#data의 left:right 범위 내에서 q의 위치를 반환하는 함수\u001b[39;00m\n\u001b[0;32m----> 2\u001b[0m     \u001b[38;5;28;01mif\u001b[39;00m left\u001b[38;5;241m>\u001b[39m\u001b[43mrigth\u001b[49m:\n\u001b[1;32m      3\u001b[0m         \u001b[38;5;28;01mreturn\u001b[39;00m \u001b[38;5;241m-\u001b[39m\u001b[38;5;241m1\u001b[39m\n\u001b[1;32m      5\u001b[0m     mid\u001b[38;5;241m=\u001b[39m(left\u001b[38;5;241m+\u001b[39mright)\u001b[38;5;241m/\u001b[39m\u001b[38;5;241m/\u001b[39m\u001b[38;5;241m2\u001b[39m \u001b[38;5;66;03m#중간 위치의 값 설정\u001b[39;00m\n",
      "\u001b[0;31mNameError\u001b[0m: name 'rigth' is not defined"
     ]
    }
   ],
   "source": [
    "def binarySearch(data,left,right,q): #data의 left:right 범위 내에서 q의 위치를 반환하는 함수\n",
    "    if left>right:\n",
    "        return -1\n",
    "    \n",
    "    mid=(left+right)//2 #중간 위치의 값 설정\n",
    "    if data[mid]==q:\n",
    "        return mid\n",
    "    \n",
    "    # 문제 분할 q와 data[mid]관계에 따라 부분 문제를 호출 \n",
    "    if data[mid]>q:\n",
    "        subproblem=binarySearch(data,left,mid-1,q)\n",
    "    elif data[mid]<q:\n",
    "        subproblem=binarySearch(data,mid+1,right,q)\n",
    "    return subproblem\n",
    "\n",
    "t=int(input())\n",
    "for _ in range(t):\n",
    "    data=list(map(int, input().split()))\n",
    "    query=list(map(int, input().split()))\n",
    "    answer=[]\n",
    "    \n",
    "    for q in query:\n",
    "        answer.append(binarySearch(data,0,len(data)-1,q))\n",
    "        \n",
    "    print(*answer)\n",
    "    \n",
    "    \n",
    "        "
   ]
  },
  {
   "cell_type": "code",
   "execution_count": null,
   "id": "15b9fc9c",
   "metadata": {},
   "outputs": [],
   "source": []
  }
 ],
 "metadata": {
  "kernelspec": {
   "display_name": "Python 3 (ipykernel)",
   "language": "python",
   "name": "python3"
  },
  "language_info": {
   "codemirror_mode": {
    "name": "ipython",
    "version": 3
   },
   "file_extension": ".py",
   "mimetype": "text/x-python",
   "name": "python",
   "nbconvert_exporter": "python",
   "pygments_lexer": "ipython3",
   "version": "3.10.9"
  }
 },
 "nbformat": 4,
 "nbformat_minor": 5
}
