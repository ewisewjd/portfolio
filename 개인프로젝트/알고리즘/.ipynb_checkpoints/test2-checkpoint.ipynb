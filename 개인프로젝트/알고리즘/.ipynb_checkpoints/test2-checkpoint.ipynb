{
 "cells": [
  {
   "cell_type": "code",
   "execution_count": 1,
   "id": "7ed7abb4",
   "metadata": {},
   "outputs": [
    {
     "name": "stdout",
     "output_type": "stream",
     "text": [
      "3\n",
      "1 5 9 11 12\n",
      "38\n",
      "0 1 0 2 0 3 4 0 5 \n",
      "15\n",
      "100 120 -20 -30\n",
      "170\n"
     ]
    }
   ],
   "source": [
    "def Sum(l):\n",
    "    s=0\n",
    "    for i in l:\n",
    "        s=s+i\n",
    "    return s\n",
    "\n",
    "t=int(input())\n",
    "for _ in range(t):\n",
    "    a=list(map(int,input().split()))\n",
    "    print(sum(a))"
   ]
  },
  {
   "cell_type": "code",
   "execution_count": null,
   "id": "15ebeca0",
   "metadata": {},
   "outputs": [],
   "source": []
  }
 ],
 "metadata": {
  "kernelspec": {
   "display_name": "Python 3 (ipykernel)",
   "language": "python",
   "name": "python3"
  },
  "language_info": {
   "codemirror_mode": {
    "name": "ipython",
    "version": 3
   },
   "file_extension": ".py",
   "mimetype": "text/x-python",
   "name": "python",
   "nbconvert_exporter": "python",
   "pygments_lexer": "ipython3",
   "version": "3.10.9"
  }
 },
 "nbformat": 4,
 "nbformat_minor": 5
}
