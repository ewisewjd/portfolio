{
  "nbformat": 4,
  "nbformat_minor": 0,
  "metadata": {
    "colab": {
      "provenance": [],
      "collapsed_sections": [
        "t6zne1nmzw49",
        "fklZoXTm5L_C",
        "19Y9bC7z5P5l",
        "M3NB5WNQ5gLx",
        "T6f_rHiy7EPO",
        "VT_zsken7fFQ",
        "Dwy115Ba8uX5",
        "1ZRcuXkZ-VhP",
        "vQa5HQNtA67n"
      ],
      "toc_visible": true
    },
    "kernelspec": {
      "name": "python3",
      "display_name": "Python 3"
    },
    "language_info": {
      "name": "python"
    }
  },
  "cells": [
    {
      "cell_type": "markdown",
      "source": [
        "# 1  파이썬 시작하기 \n"
      ],
      "metadata": {
        "id": "ZKQTTmYgJu1W"
      }
    },
    {
      "cell_type": "markdown",
      "source": [
        "## 1. 파이썬이란 "
      ],
      "metadata": {
        "id": "gEag3WoVzPQE"
      }
    },
    {
      "cell_type": "markdown",
      "source": [
        "- 프로그램: 컴퓨터를 움직이게 하는 명령어의 집합 \n",
        "- 프로그래밍 언어 : 프로그램을 작성하기 위해 명령어를 체계화한 것 \n",
        "\n"
      ],
      "metadata": {
        "id": "ODbCiv5BzSci"
      }
    },
    {
      "cell_type": "markdown",
      "source": [
        "- 파이썬 : 네덜란드 출신 귀도 반 로섬이 개발한 프로그래밍 언어 \n",
        "  - 몬티 파이썬의 날으는 서커스에서 유래 \n",
        "  - 현재 파이썬 소프트웨어 재단에서 파이썬 개발 및 유지를 담당 \n",
        "  "
      ],
      "metadata": {
        "id": "ld2CrsinzhFJ"
      }
    },
    {
      "cell_type": "markdown",
      "source": [
        "### 파이썬의 특징 \n",
        "\n",
        "- 오픈소스 소프트웨어 \n",
        "  - 파이썬은 무료다. 소스까지 공개 되어 있어 파이썬을 사용하는 것 뿐만 아니라 자체 내용까지 학습할수 있다. \n",
        "\n",
        "- 멀티 플랫폼\n",
        "  - 윈도우 , 맥, 리눅스등에서 동작한다. \n",
        "\n",
        "- 각종 문서가 풍부하게 제공됩니다. \n",
        "  - 튜토리얼을 포함한 문서가 공개 \n",
        "\n",
        "- 폭넓은 분야에 적용할 수 있는 범용 언어\n",
        "  - 머신러닝 입러닝, 과학기술계산, 데이터분석, 웹 애플리케이션등 멀티 플레이 언어 \n",
        "  - 글루 언어로 불림( 다른 프로그램과 쉽게 결합하여 사용가능)\n",
        "\n",
        "- 다양한 프로그래밍 패러다임을 흡수\n",
        "  - 명령형 , 절차형, 함수형, 객체지향 프로그래밍 등과 같은 다양한 프로그래밍 패러다임을 내포 \n",
        "\n",
        "- 스크립트 언어 \n",
        "  - 스크립트 언어는 작성, 실행, 테스트등을 간단히 수행 \n",
        "  - 다른 언어보다 짧고 효율적으로 작성 가능 \n",
        "  - 가독성이 좋아 코드를 읽기 쉽습니다. \n",
        "\n",
        "- 라이브러리가 풍부합니다. \n",
        "  - 빠른 보급과 폭넓은 분야에 걸친 라이브러리가 제공 \n",
        "\n",
        "- 프로그램의 실행속도가 아주 빠르지는 않다. \n",
        "  - 인터프리터 형식이며 동적언어이므로 속도가 빠르지 않다. \n",
        "  - 필요한 부분에 고속 라이브러리를 활용하면 빠른 처리가 가능하다. \n",
        "\n",
        "- 배우는 것이 결코 쉽지많은 않다.\n",
        "  - 파이썬은 배우기 쉽다고 알려졌으나 그렇지만은 않다.내부적으로 효율적인 코드 작성이 필요하고 이해가 필요하다. "
      ],
      "metadata": {
        "id": "t6zne1nmzw49"
      }
    },
    {
      "cell_type": "markdown",
      "source": [
        "### 파이썬 실행하기 \n"
      ],
      "metadata": {
        "id": "tUETLSCE5HET"
      }
    },
    {
      "cell_type": "markdown",
      "source": [
        "#### 인터랙티브 셀 \n",
        "\n",
        "- 프로그램을 한 행씩 실행 "
      ],
      "metadata": {
        "id": "fklZoXTm5L_C"
      }
    },
    {
      "cell_type": "markdown",
      "source": [
        "#### 통합 개발 환경에서 실행 \n",
        "\n",
        "-  idle라고 하는 통합 개발 환경을 사용하여 실행"
      ],
      "metadata": {
        "id": "19Y9bC7z5P5l"
      }
    },
    {
      "cell_type": "markdown",
      "source": [
        "#### 파이썬 명령으로 실행 \n",
        "\n",
        "- .py 확장자로 저장된 프로그램을 이용하여 실행 "
      ],
      "metadata": {
        "id": "M3NB5WNQ5gLx"
      }
    },
    {
      "cell_type": "markdown",
      "source": [
        "## 2. 파이썬의 기초 다지기 "
      ],
      "metadata": {
        "id": "IaWRX1Yl5mH0"
      }
    },
    {
      "cell_type": "markdown",
      "source": [
        "### 인터랙티브 셀 \n",
        "\n",
        "- 대화형 모드라고 불리는 인터랙티브 셀을 사용\n",
        "\n"
      ],
      "metadata": {
        "id": "xwJCbCES5oNB"
      }
    },
    {
      "cell_type": "markdown",
      "source": [
        "#### 인터랙티브 셀(대화형 모드)의 실행과 종료 \n",
        "\n",
        "- 퍼이썬 명령으로 인터렉티브 셀을 실행 \n",
        "  - window: 시작메뉴-> python-> python3.7 \n",
        "  - window 에서는 powershell 혹은 명령프롬프트(cmd)에서 python을 입력 합니다. \n",
        "  - linux:  셀프롬프트에 python을 입력\n"
      ],
      "metadata": {
        "id": "gi7cnWud5ufz"
      }
    },
    {
      "cell_type": "markdown",
      "source": [
        "- 인터랙티브 셀을 실행하면 오른쪽 방향의 부등호가 (>>>) 3개 연달아 나타난다. \n",
        "  - 인터랙티브 셀을 본격적으로 사용하기 전에 기본적인 내용을 알아보자 "
      ],
      "metadata": {
        "id": "ykP3i_F85zDx"
      }
    },
    {
      "cell_type": "markdown",
      "source": [
        "#### 종료방법 \n",
        "\n",
        "- (1) quit()함수 또는 exit()함수를 사용하여 종료하기 \n",
        "\n",
        "- (2) 키보드로 강제 종료하기 \n",
        "  - window: ctrl+ z 키와 enter\n",
        "  - 리눅스, 맥: ctrl+ d와 enter\n",
        "\n",
        "![image.png](data:image/png;base64,iVBORw0KGgoAAAANSUhEUgAAARsAAAE3CAYAAACaQ+VsAAAAAXNSR0IArs4c6QAAAARnQU1BAACxjwv8YQUAAAAJcEhZcwAAEnQAABJ0Ad5mH3gAABk6SURBVHhe7d1rlt0ms4DhzvfTnoMvY4gHkKHnTxJnTLGdcypJ2eUyoEICBOh91mJtSSBuQrW1d7fbP3348OHv//fy6dOnl8+fP7+8fv36RfY9e8znp/Lsa+qYvqaOvXnz5uW33377Zx/AHv733ysAdEWwATAEwQbAEAQbAEMQbAAMQbABMATBBsAQoWCjvwOTYvNSvzOTk8orlQewNp5sAAxBsAEwBMEGwBDLBJtff/31u3SWPTeynXKl/dHOjDE6vpXmwVq136tbItjI4vjll1++SywYlLA+5jN9sNFA4xFw+tD5Zm7R2pbf2XCj3Evmn2sAb+pgo++yOaU83EeuC09H8EJ/PKu0n9qOvJaO6R/POgo2tSKLX2+SUrs+39ebO7emnPbD8uVr81PsOdqu8vveUb7QPqTK6flaRvmyNf3wdSl7frRdFSlXW+cTbfkxKkcv/NFrDV1kNvkFJ6LlVKq8FalPzzl67UnakJQba2QcNbQOu637VrTdmv7VlH2iH4KNPl30Yuu3TzWqd/st6eLy/CKLlrNS5dWZ+u6mffP9i4yjNC45nqrjSKTdXN25/pzpx5M86smmtdyiEz0XXo92UzdWqZ0zpL7WdWIdBJuL9ObRlGPL2HRWtN0atr6W9SqtU/peKxWkztaFezwu2Oii1UXq98+QczVJXf6mELaMT2fZOkrt2vH5fUuO+dSKttmyTqxl6mAjCzN1A6lcXumc3vSGGt2Hu9o9Iv2RJH27yo6vVZ0Yh49RF7S4sc/U0aJdq3TjXglgWi9BAWL6YJNb7Ec3yBW5NoVtN9q3aLmo1vW1Jv2I9qV2HDr2EePUtrxR7e/mh1/qe/Xq1X9Z3/gfR+d+VK3bpdfctr5Kevv27Q//I6a/6Fcutl8sucWTWmiRcrm+1ZTL5Vln6zva93L5R+cd0fPl1TqqM9qurdeWL52fyov0L1dnqa2nWSbYYD9nbkRu3nXxnQ2mJwFGE4FmXTzZABii+slGA4PnA4fKlfei5YBa8kSE+/ExClvjo9c8qj9G+ScQ3fevQrZz+6Vt/RhVekfquYBWWaB+flr1OTr+lvNkxzJ6HK3d1W5Ej3mOWuL3bFLJTtoZV8+/my7olnNyFz+W1a/NrHrMc00dy36MevKi1EXjXZ0TOTdyfrRchNTjx9Li2qbqfbJe81yD72zwlSy+yA0aLfdUzE0awWZBuyzm0tOHHD/7rstTzfd6zXOtLYLN0WTZfNnWfd22+ZbNz5URkXJ6PFL2LKmPm+yYzru9Brqt+5bNS+V7pTKaZ+srlb9DpG8276isetyTjdyMekPqduoGlYmz+ZJSkxktJ2rKRsi5Nkl9iNH50mug27qvfJ7PP6NHna1E+6Z5dlv3c5YNNjopQl5zF8uWq5E6x7eTqzvXnzP9KJH6bMrNAX4UuRa11zcq0vYdeo1XTR9sZJCpNOsFu1OrRYF/sca+aTEXl4KN/iJeis/zv7incttKBplKnhzzNxpBCS3oG5xNqPe472yAGhJY7JucJtTbKtjIItB3HV0kO9rlndVeL+/K9SvVW2OXNdRrnmvxZAPgUIvgvV2w0Sg+Ilrn3jF6t3+23dQ5I5TaTY3laBwRuTmqUZrnkVq0F5nn0nhtubMe+2SjE6vpLF+PpBYX5shd7fbgxzLTOHLzrMdXEpnn3HhzfPmSS39iIrVdej06pttX/lLf0eTgWXZYD7us6S2ebDSqEmjg6TvvqnZa09s92QCYEz+NAjAEwQbAEFMHG/tdTC6txPf3aL+1VvWP7re6q927XR1nr3mqvR6ng41+v3JW6XzNky/GbModA9BWjwDFxygAQxBsgMnt8gRPsBnIL5pVF9Fd49hl/nZRez1O/56NPSb88dRrbltfdfvNmzcvv//++z/blnyOTA0od1xpvn21cudGy7XSu39av1fb7uxazV90XrRcjs+P1qsi9Vtat55T054vo0rtRz0u2AhfNnV+9FhLvfuXy69pd3bReYkck30RKefLWNF6c0r1p/J8/bn2auu9aouPUTIpOqGen7TUBPrzcxNdaqeVu/rXur47ROelZv4i5VLnqVJbV9XUnTuW63cPfGeDR2hxc+OabYJNKkrnIn+EnJtKs0j1TRLu0Xr97YgnmwxZJLk0g1S/NAEz2irYyI2m7y68q2C00evPtmeljs2gKtjoT4ui/E+cRGpbXlNlZzTrhVSz9+8uu86LBhybZn2T3e5jlE5+bsIlz/PltQ5vlgvZo389x5uqu4fovNTMX7Sc0rpz+T1IWzbN6nHf2cjFkMVgU+oCRcvdpXX/Zh9vVHQcrcvdQfrSix93C1W/1Gc/4viPO76MvB4dy23LX+pL/VJfRGkxlPKerPe8rDrvZ/o9eqyp9mad7y2ebGRyNa24qHf2hGty5/qT9mz7d/QhQvq13ZMNgDk97jsb/Psu46WOAS0RbB4m95itj+NALwSbibW++XOBRhFw0BPBZnEEB6yCYPMQR081iqcb9HIYbPSnRCX2J0n21YrU48mijyz81uVmEQkOwCqmfrKRmy3yTtu63G5kvDLuqCfOEfpb4mOULv5IMGlZLkrrsnXauu22dyVP83W7VB642zLf2UiAiLzjti53RM7XulrVGaFt2W3dB2a03BfEckPJzRwJJi3Lpcg5qRucmx740XLBRsjNrEGipHU5AOctGWwkKOSeKqzW5QCct1yw0aAQCSAtywG4ZplgE336aF1uBzJGGWvUU+YFYy0RbHTxRwJIy3IA2pk62EhQiLzLti4XJfVIfZ4/Fi3XU64PnpRpNT+AdfjHs+w/MzjaLr3mtvXVpnfv3i31x7NywcXftNFyKnrj23pL5SP1RdsEahFsOpn1pi31i0CDnpb80TfOk2AiQcUj0KA3nmwADMGTDYAhCDYAhiDYABiCYANgCIINgCEINgCGINgAGKIYbPT3YLzccUvLHNUhr75M7hwA6+LJBsAQBBsAQxBsAAxBsAEwBMEGwBAEGwBDEGwADEGwATAEwQbAEAQbAENcDjb2nx3YV6uUB+AZeLIBMATBBsAQBBsAQywTbOT/NbLpLHtuZDvlSvujnRljdHwrzYO1ar9Xt0SwkcUh/4GaTSwYlLA+5jN9sNFA4xFw+tD5Zm7R2pbf2XCj3Evmn2sAb+pgo++yOaU83EeuC09H8Ir/17f/JbzUL+f5Y6nXo2N+++3bty9//PHHYbCpFVn8epOU2vX5vt7cuTXltB+WL1+bn2LP0XaV3/eO8oX2IVVOz9cyypet6YevS9nzo+2qSLnaOp9oy49ROXrhj15r6CKzyS84ES2nUuWtSH16ztFrT9KGpNxYI+OooXXYbd23ou3W9K+m7BM9Kti0povL84ssWs5KlVdn6rub9s33LzKO0rjkeKqOI5F2c3Xn+nOmH0/yNdjoR5mco/woW4/fbtXGKLlFJ3ouvB7tpm6sUjtnSH2t68Q6eLK5SG8eTTm2jE1nRdutYetrWa/SOqXvtVJB6mxduMfjgo0uWl2kfv8MOVeT1OVvCmHL+HSWraPUrh2f37fkmE+taJst68Rapg42sjBTN5DK5ZXO6U1vqNF9uKvdI9IfSdK3q+z4WtWJcfgYdUGLG/tMHS3atUo37pUApvUSFCCmDza5xX50g1yRa1PYdqN9i5aLal1fa9KPaF9qx6FjHzFObcsb1f5uvv5S319//fXy5cuX7C/1HW2XXqPbuq+/1Gf5i37lYvvFkls8qYUWKZfrW025XJ51tr6jfS+Xf3TeET1fXq2jOqPt2npt+dL5qbxI/3J1ltp6mmWCDfZz5kbk5l0X39lgehJgNBFo1sWTDYAheLLB9uSJCPf7Ltjok4WXO55TWx7ohY9e8/juY5T8iYnXr1//l/UtaPjgYfd9GXn1+am81Lbu2z8xkdNzAa2yQP38tOpzdPwt58mOZfQ4Wrur3Yge8xy1xO/ZpJKdtDOunn83XdAt5+QufiyrX5tZ9ZjnmjqW/c7myYtSF413dU7k3Mj50XIRUo8fS4trm6r3yXrNcw2+IMZXsvgiN2i03FMxN2kEmwXtsphLTx9y/Oy7Lk813+s1z7W2CDZHk2XzZVv3ddvmWzY/V0ZEyunxSNmzpD5usmM67/Ya6LbuWzYvle+Vymiera9U/g6Rvtm8o7LqcU82cjPqDanbqRtUJs7mS0pNZrScqCkbIefaJPUhRudLr4Fu677yeT7/jB51thLtm+bZbd3PWTbY6KQIec1dLFuuRuoc306u7lx/zvSjROqzKTcH+FHkWtRe36hI23foNV41fbCRQabSrBfsTq0WBf7FGvumxVxMH2xkkKnkyTF/oxGU0IK+wdmEev8EG/3N3YizZUvbuTzgbhJY7JucJtTb6gtiWQT6rqOLZEe7vLPa6+VduX6lemvssoZ6zXOtrYINgD5aBO/tgo1G8RHROveO0bv9s+2mzhmh1G5qLEfjiMjNUY3SPI/Uor3IPJfGa8ud9dgnG51YTWf5eiS1uDBH7mq3Bz+WmcaRm2c9vpLIPOfGm+PLl/zzJybkL/R9+vQp9Ccm/Be4voy8Hh3z237/3bt3p/9S39Hk4Fl2WA+7rOktnmw0qhJo4Ok776p2WtPbPdkAmBM/jQIwBMEGwBBTBxv7XUwurcT392i/tVb1j+63uqvdu10dZ695qr0e2WCj36OU2O9a7Ktlj+W2Repc+WLMptwxAG31CFB8jAIwBMEGmNwuT/AEm4H8oll1Ed01jl3mbxe11yP7ezaR71p0u/Qa3bb7ud+zkc+RqQHljivNt69W7txouVZ690/r92rbnV2r+YvOi5bL8fnRelWkfkvr1nNq2vNlVKn9qMcFG+HLps6PHmupd/9y+TXtzi46L5Fjsi8i5XwZK1pvTqn+VJ6vP9debb1XbfExSiZFJ9Tzk5aaQH9+bqJL7bRyV/9a13eH6LzUzF+kXOo8VWrrqpq6c8dy/e6B72zwCC1ublyzTbBJRelc5I+Qc1NpFqm+ScI9Wq+/HfFkkyGLJJdmkOqXJmBGWwUbudH03YV3FYw2ev3Z9qzUsRkkg43+ZAg/mvVCqtn7d5dd50UDjk2zvslu9zFKJz834ZLn+fJahzfLhezRv57jTdXdQ3ReauYvWk5p3bn8HqQtm2b1uO9s5GLIYrApdYGi5e7Sun+zjzcqOo7W5e4gfenFj7uF5C/1+Y9Rdj+1XXqNbtv9Xn+DuJT3ZL3nZdV5P9Pv0WNNtTfrfG/xZCOTq2nFRb2zJ1yTO9eftGfbv6MPEdKv7Z5sAMzpcd/Z4N93GS91DGiJYPMwucdsfRwHeiHYTKz1zZ8LNIqAg54INosjOGAVBJuHOHqqUTzdoJepg40s+sjCb11uFpHgAKyiW7DRH2WX+DL2R+BCbrbIO23rcruR8cq4o544R+hviY9RuvgjwaRluSitK1fnUTu5/NJ5ti3dLpUH7rbMdzYSICLvuK3LHZHzta5cnaV29Pxa2pbdPlMPMMpyXxDLDSU3aO7mVa3Lpcg5qRtc67RSx3LnAztaLtgIuUFTN6/XutxVtg0CDZ5myWAjN2rkZm1dLkXP9SlHAw6BBk+zXLDRGzUSQFqWy9FzUwnAN8sEGwkKkSeC1uVa0zbldZTa9u6YF+xviWCji//oBmhd7orUzW1vYnlNlQF2NXWwkZvR3qA5rctF5QJGqo3Usdz5PUTbSvUTaKHbH886Opbbl/T+/ful/niWv4kjgcbK5UdvfNv+mXasaJtArcvBJrdvX4+O+2Pyl/o+fvz4zzG0VQomBBr0tOSPvnGeBBP7JKQINOiNYPNAqaBCoEFvBBsAQxBsAAxBsAEwBMEGwBAEGwBDEGwADEGwATAEwQbAEIfBRv8pgchtC78vUscAPBNPNgCGINgAGIJgA2AIgg2AIQg2AIYg2AAYgmADYAiCDYAhCDYAhiDYABjilmAj/4wh8s8dAOyDJxsAQxBsAAyxTLCR/9fIprPsuZHtlCvtj3ZmjNHxrTQP1qr9Xt0SwUYWh/y/RjaxYFDC+pjP9MFGA41HwOlD55u5RWtbfmfDjXIvmX+uAbypg42+y+aU8nAfuS48HcH76cOHD39/+fLl5dOnTy+fP39+ef369Xe/83K0XXotbZf237179/Lx48fDYFMrsvj1Jim16/N9vblza8ppPyxfvjY/xZ6j7Sq/7x3lC+1Dqpyer2WUL1vTD1+XsudH21WRcrV1PtGWH6Ny9MIfvdbQRWaTX3AiWk6lyluR+vSco9eepA1JubFGxlFD67Dbum9F263pX03ZJ3pUsGlNF5fnF1m0nJUqr87Udzftm+9fZBylccnxVB1HIu3m6s7150w/nuR/+vFF+f2R7mz7jNyiEz0XXo92UzdWqZ0zpL7WdWIdPNlcpDePphxbxqazou3WsPW1rFdpndL3WqkgdbYu3ONxwUYXrS5Sv3+GnKtJ6vI3hbBlfDrL1lFq147P71tyzKdWtM2WdWItUwcbWZipG0jl8krn9KY31Og+3NXuEemPJOnbVXZ8rerEOHyMuqDFjX2mjhbtWqUb90oA03oJChDTB5vcYj+6Qa7ItSlsu9G+RctFta6vNelHtC+149CxjxintuWNan83P/38889/y0+B9Jf6Xr169V/Wv+xPiFLbpdfSdmpfj+kv9Vn+ol+52H6x5BZPaqFFyuX6VlMul2edre9o38vlH513RM+XV+uozmi7tl5bvnR+Ki/Sv1ydpbaeZplgg/2cuRG5edfFdzaYngQYTQSadfFkA2AInmywPXkiwv26BBt9QhG57ZxIGSCKj17z6PIx6sy2Te/fv//6JyZyei6gVRaon59WfY6Ov+U82bGMHkdrd7Ub0WOeo5b4PZtUspN2xtXz76YLuuWc3MWPZfVrM6se81xTx7Lf2Tx5Ueqi8a7OiZwbOT9aLkLq8WNpcW1T9T5Zr3muwRfE+EoWX+QGjZZ7KuYmjWCzoF0Wc+npQ46ffdflqeZ7vea51hbB5miybL5s675u23zL5ufKiEg5PR4pe5bUx012TOfdXgPd1n3L5qXyvVIZzbP1lcrfIdI3m3dUVj3uyUZuRr0hdTt1g8rE2XxJqcmMlhM1ZSPkXJukPsTofOk10G3dVz7P55/Ro85Won3TPLut+znLBhudFCGvuYtly9VInePbydWd68+ZfpRIfTbl5gA/ilyL2usbFWn7Dr3Gq6YPNjLIVJr1gt2p1aLAv1hj37SYi+mDjQwylTw55m80ghJa0Dc4m1Dvcd/ZADUksNg3OU2oVww28k8HlN3OiZSxassfkUWg7zq6SHa0yzurvV7eletXqrfGLmuo1zzX4skGwKEWwXu7YKNRfES0zr1j9G7/bLupc0YotZsay9E4InJzVKM0zyO1aC8yz6Xx2nJnPfbJRidW01m+HkktLsyRu9rtwY9lpnHk5lmPryQyz7nx5vjyJcU/MWG/U/Hfr+i+fT065rdT+5L0T0yccTQ5eJYd1sMua3qLJxuNqgQaePrOu6qd1vR2TzYA5sRPowAMQbABMMTUwcZ+F5NLK/H9PdpvrVX9o/ut7mr3blfH2Wueaq/H1MFGvhizKXcMQFs9AtSpYGO/2M2xedFyAPbFdzbA5HZ5gifYDOQXzaqL6K5x7DJ/u6i9Hqd+z0a3/TF7PLetrzb5Y7nfs5HPkakB5Y4rzbevVu7caLlWevdP6/dq251dq/mLzouWy/H50XpVpH5L69ZzatrzZVSp/ajHBRvhy6bOjx5rqXf/cvk17c4uOi+RY7IvIuV8GStab06p/lSerz/XXm29V23xMUomRSfU85OWmkB/fm6iS+20clf/Wtd3h+i81MxfpFzqPFVq66qaunPHcv3uge9s8Agtbm5cs02wSUXpXOSPkHNTaRapvknCPVqvvx3xZJMhiySXZpDqlyZgRlsFG7nR9N2FdxWMNnr92fas1LEZ8GRTadYLqWbv3112nRcNODbN+ibbJNjoj68j9Mfbvejk5yZc8jxfXuvwZrmQPfrXc7ypunuIzkvN/EXLKa07l9+DtGXTrB73ZCMXQxaDTakLFC13l9b9m328UdFxtC53B+lLL37cLTT5pb7Ua2n7KK/X3yAu5T1Z73lZdd7P9Hv0WFPtzTrfWzzZyORqWnFR7+wJ1+TO9Sft2fbv6EOE9Gu7JxsAc+KnUQCGINg0JI+KANL4GNWIflZOfWaOBKEZP2cDLRFsGvABJhVwcmrKAivjY1QDPlgQaIAfTR1s5GaUdKR1OQDtDfsYdZRnj7179+7lzz///GdfSICIPAG0LtfTDH0ARlriY5TclHJzSippXQ5AO0s82VgSICJPBK3LtXRHm8DdlvuCOPpU0rocgGuWe7KxJEBEnhBal7tiRBvAjJb80bfcsJGbtnU5AOfxnc3AIENAw5Mt82QjN2rkZm1dDkAb/J7NIAQ2PN0Sv0F8dJO2LgegvaV/GrUKCXBHCIDYXfNgkztWs79bsAGw6I++AayHYANgCIINgCEINgCGINgAGIJgA2AIgg2AIQg2AIYg2AAYgmADYAiCDYAhQsFG/92SlTqWUirn86J1AlgPTzYAhiDYABiCYANgCIINgCEINgCGINgAGIJgA2AIgg2AIQg2AIYg2AAYIhtsav85gi2fOhZ15hwAs3t5+T+VmMLxA92nEAAAAABJRU5ErkJggg==)"
      ],
      "metadata": {
        "id": "T6f_rHiy7EPO"
      }
    },
    {
      "cell_type": "markdown",
      "source": [
        "#### 이전에 입력했던 명령어 불러오기 \n",
        "\n",
        "- 앞에서 사용했던 명령문과 동일하거나 유사한 명령어를 불러오려면 처음부터 입력할 필요가 없이\n",
        "  - 화살표 위 아래, page up page down키를 사용하여 불러온다 "
      ],
      "metadata": {
        "id": "VT_zsken7fFQ"
      }
    },
    {
      "cell_type": "markdown",
      "source": [
        "### 연산자와 피연산자 \n",
        "\n",
        "- 인터랙티브 셀을 이용하여 계산식을 입력하면 연산 결과가 표시된다. \n",
        "\n",
        "  - 사칙연산과 거듭제곱\n",
        "    - +, -,*,/\n",
        "    - //(나눗셈의 몫 연산자), %(나눗셈의 나머지 연산자), **(거듭제곱), () 우선순위 괄호\n",
        "\n"
      ],
      "metadata": {
        "id": "R1PiXC8F8ITp"
      }
    },
    {
      "cell_type": "markdown",
      "source": [
        "#### 연산자와 피연산자 \n",
        "\n",
        "- 연산을 하기 위해 사용되는 기호(+,-)등의 기호는 연산자라고 하고 연산의 대상이 되는 수 (7,3)등은 피 연산자 라고 한다. \n",
        "\n",
        "   - 사칙연산은 왼쪽에서 오른쪽으로 계산한다. \n",
        "   - 곱셈과 나눗셈은 덧셈과 뺄셈보다 우선한다. \n",
        "   - 괄호 안에 있는 식을 먼저 계산한다.\n",
        "   - 소괄호는 중첩해서 사용이 가능하다.  "
      ],
      "metadata": {
        "id": "Dwy115Ba8uX5"
      }
    },
    {
      "cell_type": "markdown",
      "source": [
        "### 연산자의 우선순위 \n",
        "\n",
        "- 삼항 연산자와 단항 연산자 \n",
        "  -"
      ],
      "metadata": {
        "id": "QZKnN1_F9Sg7"
      }
    },
    {
      "cell_type": "code",
      "source": [
        "7*-3"
      ],
      "metadata": {
        "colab": {
          "base_uri": "https://localhost:8080/"
        },
        "id": "A15hQxnN9mqg",
        "outputId": "b2a245f5-b4dc-4544-cde5-bb6f477fd67f"
      },
      "execution_count": 1,
      "outputs": [
        {
          "output_type": "execute_result",
          "data": {
            "text/plain": [
              "-21"
            ]
          },
          "metadata": {},
          "execution_count": 1
        }
      ]
    },
    {
      "cell_type": "code",
      "source": [
        "7*+3"
      ],
      "metadata": {
        "colab": {
          "base_uri": "https://localhost:8080/"
        },
        "id": "ZQM9dF9U9oDn",
        "outputId": "c5fc45f6-e8fe-432b-ac9f-9eaad302c132"
      },
      "execution_count": 2,
      "outputs": [
        {
          "output_type": "execute_result",
          "data": {
            "text/plain": [
              "21"
            ]
          },
          "metadata": {},
          "execution_count": 2
        }
      ]
    },
    {
      "cell_type": "markdown",
      "source": [
        "- +,- 단항 연산자는 곱셈 및 나눗셈 연산자 보다도 우선하여 연산을 수행한다. "
      ],
      "metadata": {
        "id": "MBnv-Uxw9pdG"
      }
    },
    {
      "cell_type": "markdown",
      "source": [
        "### 수치 자료형과 숫자 리터럴 \n",
        "\n",
        "#### 수치 자료형 \n",
        "\n",
        "- 수나 문자를 표현하는 종류나 방법을 자료형 이라고 표현 \n",
        "- 파이썬은 3개의 수치 자료형이 존재 \n",
        "  - int 타입 : 정수를 나타내는 정수형\n",
        "  - float타입: 실수를 나타내는 실수형\n",
        "  - complex 타입: 복소수를 나타내는 복소수형\n",
        "\n",
        "  "
      ],
      "metadata": {
        "id": "XLekCaUy9zS6"
      }
    },
    {
      "cell_type": "markdown",
      "source": [
        "#### 숫자 리터럴 \n",
        "\n",
        "- 7이나 3.0 과 같이 수의 값을 나타내는 방법을 숫자 리터럴이라고 한다. \n",
        "  - 7은 정수 리터럴이고 3.0은 실수 리터럴이다. \n",
        "  - 리터럴이란 문자그대로의 의미와 표현되었다라는 뜻이 있다. \n",
        "  - 정수값은 10진수 뿐만 아니라 2진수, 8진수 16진수로도 표현될수 있다. "
      ],
      "metadata": {
        "id": "1ZRcuXkZ-VhP"
      }
    },
    {
      "cell_type": "markdown",
      "source": [
        "### 문자 리터럴과 이스케이프 시퀀스 \n",
        "\n"
      ],
      "metadata": {
        "id": "MOPzAKnC_UHf"
      }
    },
    {
      "cell_type": "markdown",
      "source": [
        "#### 문자 리터럴 \n",
        "\n",
        "- 문자를 나열하여 입력한  것을 문자열(string)이라고 부르고 이 일련의 문자열을 표기하는 것을 문자 리터럴이라고 한다. \n",
        "- 문자 리터럴은 따옴표로 묶인 단일 문자 \n",
        "  - 작은 따옴표, 큰 따옴표로 묶어 표기 \n",
        "  "
      ],
      "metadata": {
        "id": "YvRuvg_QADzp"
      }
    },
    {
      "cell_type": "code",
      "source": [
        "\"A\""
      ],
      "metadata": {
        "colab": {
          "base_uri": "https://localhost:8080/",
          "height": 36
        },
        "id": "ZlrgNsS2Af2M",
        "outputId": "2e7c8de8-8cbb-482b-d516-c56680e5a957"
      },
      "execution_count": 4,
      "outputs": [
        {
          "output_type": "execute_result",
          "data": {
            "text/plain": [
              "'A'"
            ],
            "application/vnd.google.colaboratory.intrinsic+json": {
              "type": "string"
            }
          },
          "metadata": {},
          "execution_count": 4
        }
      ]
    },
    {
      "cell_type": "code",
      "source": [
        "\"Seoul\""
      ],
      "metadata": {
        "colab": {
          "base_uri": "https://localhost:8080/",
          "height": 36
        },
        "id": "oSBpUu9DAhnn",
        "outputId": "9585e688-8e89-4e5b-878e-d4d014249b8b"
      },
      "execution_count": 5,
      "outputs": [
        {
          "output_type": "execute_result",
          "data": {
            "text/plain": [
              "'Seoul'"
            ],
            "application/vnd.google.colaboratory.intrinsic+json": {
              "type": "string"
            }
          },
          "metadata": {},
          "execution_count": 5
        }
      ]
    },
    {
      "cell_type": "code",
      "source": [
        "\"서울\""
      ],
      "metadata": {
        "colab": {
          "base_uri": "https://localhost:8080/",
          "height": 36
        },
        "id": "EX2Eqiv0AnVo",
        "outputId": "60b3ad3f-18ae-4bd2-e011-526ea79a71cb"
      },
      "execution_count": 6,
      "outputs": [
        {
          "output_type": "execute_result",
          "data": {
            "text/plain": [
              "'서울'"
            ],
            "application/vnd.google.colaboratory.intrinsic+json": {
              "type": "string"
            }
          },
          "metadata": {},
          "execution_count": 6
        }
      ]
    },
    {
      "cell_type": "code",
      "source": [
        "\"서\"+\"울\"+\"시\""
      ],
      "metadata": {
        "colab": {
          "base_uri": "https://localhost:8080/",
          "height": 36
        },
        "id": "yWqNqA6KAovK",
        "outputId": "d69a14d5-3555-4096-efaa-390b545cafcd"
      },
      "execution_count": 7,
      "outputs": [
        {
          "output_type": "execute_result",
          "data": {
            "text/plain": [
              "'서울시'"
            ],
            "application/vnd.google.colaboratory.intrinsic+json": {
              "type": "string"
            }
          },
          "metadata": {},
          "execution_count": 7
        }
      ]
    },
    {
      "cell_type": "code",
      "source": [
        "\"서울\"*3"
      ],
      "metadata": {
        "colab": {
          "base_uri": "https://localhost:8080/",
          "height": 36
        },
        "id": "1REPTxKwArZu",
        "outputId": "e11d5a0b-3f43-42ec-a8a6-f35e90792c53"
      },
      "execution_count": 8,
      "outputs": [
        {
          "output_type": "execute_result",
          "data": {
            "text/plain": [
              "'서울서울서울'"
            ],
            "application/vnd.google.colaboratory.intrinsic+json": {
              "type": "string"
            }
          },
          "metadata": {},
          "execution_count": 8
        }
      ]
    },
    {
      "cell_type": "markdown",
      "source": [
        "- 문자 리터럴의 타입은 str 타입 이다. \n",
        "  - \"문자\" + 숫자는 실행되지 않고 오류가 난다. "
      ],
      "metadata": {
        "id": "DvuuQhY2AtsS"
      }
    },
    {
      "cell_type": "markdown",
      "source": [
        "#### 이스케이프 시퀀스\n",
        "\n",
        "- 작은 따옴표는 문자열의 시작과 끝을 나타내는 특수문자이다. \n",
        "  - 문자열 내에서 작은 다옴표를 입력하기 위해서는 \\(역슬래이스)를 사용하여 입력해야한다. \n",
        "  \n"
      ],
      "metadata": {
        "id": "vQa5HQNtA67n"
      }
    },
    {
      "cell_type": "code",
      "source": [
        "#오류\n",
        "'this isn't pen' "
      ],
      "metadata": {
        "colab": {
          "base_uri": "https://localhost:8080/",
          "height": 135
        },
        "id": "VEatZZiWBRz4",
        "outputId": "368d169c-fce6-4150-c8dd-2a87578c4654"
      },
      "execution_count": 9,
      "outputs": [
        {
          "output_type": "error",
          "ename": "SyntaxError",
          "evalue": "ignored",
          "traceback": [
            "\u001b[0;36m  File \u001b[0;32m\"<ipython-input-9-932701ace463>\"\u001b[0;36m, line \u001b[0;32m2\u001b[0m\n\u001b[0;31m    'this isn't pen'\u001b[0m\n\u001b[0m              ^\u001b[0m\n\u001b[0;31mSyntaxError\u001b[0m\u001b[0;31m:\u001b[0m invalid syntax\n"
          ]
        }
      ]
    },
    {
      "cell_type": "code",
      "source": [
        "# 이스케이프 사용 \n",
        "'this isn\\'t pen'\n"
      ],
      "metadata": {
        "colab": {
          "base_uri": "https://localhost:8080/",
          "height": 36
        },
        "id": "5d5qD1KZBad1",
        "outputId": "29a421d9-08dc-4e39-c9e8-62763652910c"
      },
      "execution_count": 10,
      "outputs": [
        {
          "output_type": "execute_result",
          "data": {
            "text/plain": [
              "\"this isn't pen\""
            ],
            "application/vnd.google.colaboratory.intrinsic+json": {
              "type": "string"
            }
          },
          "metadata": {},
          "execution_count": 10
        }
      ]
    },
    {
      "cell_type": "markdown",
      "source": [
        "- 이처럼 역슬래시와 함께 단일 문자를 입력하는 방법을 이스케이프 시퀀스라고 한다. "
      ],
      "metadata": {
        "id": "AmfDUG4eBhc5"
      }
    },
    {
      "cell_type": "markdown",
      "source": [
        "### 문자열 표기 방법 \n",
        "\n",
        "- 작은 따옴표(') 한개로 구성된 문자열은 문자열 시작의 작은 따옴표(')와 또한 작은 따옴표를 나타내기 위한 \\, 그리고 문자열을 끝내는 작은 따옴표(')를 합쳐 4개의 문자로 나타낸다. \n",
        "\n",
        "\n",
        "  - 문자열을 나타내는 방법은 다음과 같아 \n",
        "    -  작은 따옴표를 사용\n",
        "    - 큰 따옴표를 사용\n",
        "    - 작은 따옴표 세개를 사용\n",
        "    - 큰 따옴표 세개를 사용 "
      ],
      "metadata": {
        "id": "T5UI1ZBLBnbB"
      }
    },
    {
      "cell_type": "markdown",
      "source": [
        "#### raw 문자열 리터럴 \n",
        "\n",
        "- raw 문자열 리터럴은 이스케이프 시퀀스를 입력한 값 그대로 처리하는 문자열 앞에 r 혹은 R을 사용하여 처리 "
      ],
      "metadata": {
        "id": "ZQadQQKQDtu8"
      }
    },
    {
      "cell_type": "code",
      "source": [
        "'\\\\\\\\\\\\\\\\'"
      ],
      "metadata": {
        "colab": {
          "base_uri": "https://localhost:8080/",
          "height": 36
        },
        "id": "hga8cXh2ErdN",
        "outputId": "e5d50a76-f017-49a5-dc3e-8cbb8939c918"
      },
      "execution_count": 12,
      "outputs": [
        {
          "output_type": "execute_result",
          "data": {
            "text/plain": [
              "'\\\\\\\\\\\\\\\\'"
            ],
            "application/vnd.google.colaboratory.intrinsic+json": {
              "type": "string"
            }
          },
          "metadata": {},
          "execution_count": 12
        }
      ]
    },
    {
      "cell_type": "code",
      "source": [
        "r'\\\\\\\\'"
      ],
      "metadata": {
        "colab": {
          "base_uri": "https://localhost:8080/",
          "height": 36
        },
        "id": "lxAqmxLzEtpV",
        "outputId": "c99ccfb5-60f2-490a-bc01-ea646acf184d"
      },
      "execution_count": 13,
      "outputs": [
        {
          "output_type": "execute_result",
          "data": {
            "text/plain": [
              "'\\\\\\\\\\\\\\\\'"
            ],
            "application/vnd.google.colaboratory.intrinsic+json": {
              "type": "string"
            }
          },
          "metadata": {},
          "execution_count": 13
        }
      ]
    },
    {
      "cell_type": "markdown",
      "source": [
        "### 변수와 타입 \n",
        "\n",
        "- 변수란 정수, 실수, 문자열등의 값을 담아두기 위한 상자와 같은 것이다. 값을 넣어두고 언제든지 꺼내 쓸수 있다."
      ],
      "metadata": {
        "id": "qaJOmHj_Ez_N"
      }
    },
    {
      "cell_type": "markdown",
      "source": [
        "- 변수 값의 대입과 연산 \n"
      ],
      "metadata": {
        "id": "2LaXP9sSFE3O"
      }
    },
    {
      "cell_type": "code",
      "source": [
        "x=17"
      ],
      "metadata": {
        "id": "mctVip7dFQVE"
      },
      "execution_count": 14,
      "outputs": []
    },
    {
      "cell_type": "code",
      "source": [
        "y=52"
      ],
      "metadata": {
        "id": "5klgYlYPFR8K"
      },
      "execution_count": 15,
      "outputs": []
    },
    {
      "cell_type": "code",
      "source": [
        "z=x+y"
      ],
      "metadata": {
        "id": "jfxTq1L1FU1Y"
      },
      "execution_count": 16,
      "outputs": []
    },
    {
      "cell_type": "code",
      "source": [
        "x"
      ],
      "metadata": {
        "colab": {
          "base_uri": "https://localhost:8080/"
        },
        "id": "rdNcQIEIFWAB",
        "outputId": "c15ba9b4-24cd-49b6-a968-4599fb5f0391"
      },
      "execution_count": 17,
      "outputs": [
        {
          "output_type": "execute_result",
          "data": {
            "text/plain": [
              "17"
            ]
          },
          "metadata": {},
          "execution_count": 17
        }
      ]
    },
    {
      "cell_type": "code",
      "source": [
        "y"
      ],
      "metadata": {
        "colab": {
          "base_uri": "https://localhost:8080/"
        },
        "id": "e9Plz-ojFXaZ",
        "outputId": "473ace25-9923-4e92-8f94-8775201b85b3"
      },
      "execution_count": 18,
      "outputs": [
        {
          "output_type": "execute_result",
          "data": {
            "text/plain": [
              "52"
            ]
          },
          "metadata": {},
          "execution_count": 18
        }
      ]
    },
    {
      "cell_type": "code",
      "source": [
        "z"
      ],
      "metadata": {
        "colab": {
          "base_uri": "https://localhost:8080/"
        },
        "id": "a3pPYmZkFYJd",
        "outputId": "ffd63e3c-95ce-4d4d-ba8e-050a1477e547"
      },
      "execution_count": 19,
      "outputs": [
        {
          "output_type": "execute_result",
          "data": {
            "text/plain": [
              "69"
            ]
          },
          "metadata": {},
          "execution_count": 19
        }
      ]
    },
    {
      "cell_type": "code",
      "source": [
        "x+2"
      ],
      "metadata": {
        "colab": {
          "base_uri": "https://localhost:8080/"
        },
        "id": "lOFzPtOJFYep",
        "outputId": "61d862d1-9b8d-4f1b-809e-e5a91317ee4c"
      },
      "execution_count": 20,
      "outputs": [
        {
          "output_type": "execute_result",
          "data": {
            "text/plain": [
              "19"
            ]
          },
          "metadata": {},
          "execution_count": 20
        }
      ]
    },
    {
      "cell_type": "code",
      "source": [
        "x,y,z"
      ],
      "metadata": {
        "colab": {
          "base_uri": "https://localhost:8080/"
        },
        "id": "bHyIiJumFZ32",
        "outputId": "3aaf86b8-6aeb-4d04-f095-3ff654557fc3"
      },
      "execution_count": 21,
      "outputs": [
        {
          "output_type": "execute_result",
          "data": {
            "text/plain": [
              "(17, 52, 69)"
            ]
          },
          "metadata": {},
          "execution_count": 21
        }
      ]
    },
    {
      "cell_type": "markdown",
      "source": [
        "  - 변수 값의 대입은 = 기호를 사용한다. (대입)라고 한다.\n",
        "  - 인터랙티브 셀에 변수명만 입력하면 그 변수 의 값이 표시된다.\n",
        "  - 변수끼리 산술연산을하면 그 연산 결과 값이 나온다.\n",
        "  - 변수에 타입은 들어가는 값에 따라 변한다."
      ],
      "metadata": {
        "id": "2UnoxUtVFbYu"
      }
    },
    {
      "cell_type": "markdown",
      "source": [
        "#### type 함수를 이용하여 변수 타입 확인하기 \n",
        "\n",
        "- type() 함수를 이용하여 변수의 타입을 확인 할수 있습니다. "
      ],
      "metadata": {
        "id": "CraO21WRFs4O"
      }
    },
    {
      "cell_type": "code",
      "source": [
        "type(x)"
      ],
      "metadata": {
        "colab": {
          "base_uri": "https://localhost:8080/"
        },
        "id": "fIMcoPAGGOog",
        "outputId": "d9bc5948-76ba-4f15-e00a-af4b094aa1ce"
      },
      "execution_count": 22,
      "outputs": [
        {
          "output_type": "execute_result",
          "data": {
            "text/plain": [
              "int"
            ]
          },
          "metadata": {},
          "execution_count": 22
        }
      ]
    },
    {
      "cell_type": "code",
      "source": [
        "x=3.14\n",
        "type(x)"
      ],
      "metadata": {
        "colab": {
          "base_uri": "https://localhost:8080/"
        },
        "id": "pGFaZssaGRu5",
        "outputId": "34997c99-c915-4193-ac2e-d4e585849b45"
      },
      "execution_count": 24,
      "outputs": [
        {
          "output_type": "execute_result",
          "data": {
            "text/plain": [
              "float"
            ]
          },
          "metadata": {},
          "execution_count": 24
        }
      ]
    },
    {
      "cell_type": "markdown",
      "source": [
        "#### 식과 문 \n",
        "- 대입은 식이 아닌 문이다. \n",
        "- 덧셈은 식이자 문이기도 하다. \n",
        "  - 식을 입력하면 결과가 나오지만 문을 입력하면 수행만 된다. "
      ],
      "metadata": {
        "id": "1ES8h4rFGABm"
      }
    },
    {
      "cell_type": "markdown",
      "source": [
        "### 대입문 \n",
        "\n",
        "- =은 연산자가 아니다. 그러나 관습적으로 대입 연산자라고 표현하며 대입을 수행하는 문을 대입문이라고 한다. "
      ],
      "metadata": {
        "id": "nP4BJAoDGN7G"
      }
    },
    {
      "cell_type": "markdown",
      "source": [
        "#### 여러개의 변수에 같은 값을 일괄적으로 대입하기 "
      ],
      "metadata": {
        "id": "yRVqv7yqHOTV"
      }
    },
    {
      "cell_type": "code",
      "source": [
        "x=y=1"
      ],
      "metadata": {
        "id": "6OyOwll4HSb5"
      },
      "execution_count": 26,
      "outputs": []
    },
    {
      "cell_type": "markdown",
      "source": [
        "#### 여러개의 변수에 각각 다른 값을 한번에 대입하기 \n"
      ],
      "metadata": {
        "id": "le1-cE-GHTp8"
      }
    },
    {
      "cell_type": "code",
      "source": [
        "x,y,z=1,2,3"
      ],
      "metadata": {
        "id": "ZGG72VHqHgg5"
      },
      "execution_count": 27,
      "outputs": []
    },
    {
      "cell_type": "markdown",
      "source": [
        "- 변형 예제"
      ],
      "metadata": {
        "id": "1k1058R6HjUJ"
      }
    },
    {
      "cell_type": "code",
      "source": [
        "x=6\n",
        "y=2\n",
        "x,y=y+2,x+3"
      ],
      "metadata": {
        "id": "7Gemsqr9HnjU"
      },
      "execution_count": 28,
      "outputs": []
    },
    {
      "cell_type": "markdown",
      "source": [
        "- 여러개의 변수에 일괄적으로 대입할때는 대입은 순서대로가 아니라 동시에 이루어진다. "
      ],
      "metadata": {
        "id": "QoaF1yeOHs9R"
      }
    },
    {
      "cell_type": "markdown",
      "source": [
        "### \\를 사용한 행의 연속 \n",
        "- 행의 마지막에 \\를 입력하면 줄바꿈을 사용하지 않고 다음 행에 이어서 작성할수 있다. \n",
        "  - 즉 현재 행과 다음행을 연결할때는 현재행의 끝에 \\를 입력한다. \n",
        "  - 행의 끝에 \\ 가 있으면 다음 행으로 이어진다."
      ],
      "metadata": {
        "id": "tZPxcLxzH61x"
      }
    },
    {
      "cell_type": "code",
      "source": [
        " x \\\n",
        " =17"
      ],
      "metadata": {
        "id": "conmFsJdIj4K"
      },
      "execution_count": 29,
      "outputs": []
    },
    {
      "cell_type": "markdown",
      "source": [
        "## 3. 정리 "
      ],
      "metadata": {
        "id": "EpohkCucInit"
      }
    },
    {
      "cell_type": "markdown",
      "source": [
        "### 다음은 이번 단원을 정리한 것이다\n",
        "\n",
        "- 파이썬은 명령형, 절차형, 함수형, 객체지향 프로그래밍과 같은 다양한 프로그래밍 패러다임에 대응하는 스크립트 프로그래밍 언어로써 급속도로 확산되고 있다. \n",
        "\n",
        "- 버전을 지속적으로 높이고 있다. \n",
        "\n",
        "- 인터랙티브 셀에서 대화형으로 실행하거나 명령어 혹은 통합 개발 환경에서 실행가능하다.\n",
        "\n",
        "- 기본대화 모드에서는 >>> 를사용하며 quit()나 exit()등을 입력하면 종료된다. \n",
        "\n",
        "- 연산을 수행하기 위한 기호는 연산자라고 하고 연산의 대상이 되는 숫자나 문자는 피연산자로 한다. \n",
        "\n",
        "- 연산자는 피연산자의 개수에 따라 단항, 2항, 3항 연산자로 나뉜다. \n",
        "\n",
        "- 기본적인 계산을 위한 연산자는 거듭제곱의 **, 단항의 +,- 2항의 *,/,//,%,+,-등이 있다\n",
        "\n",
        "- 연산자에는 우선순위가 있다. 그러나 괄호를 사용하면 연산의 우선순위를 지정할수 있다.\n",
        "\n",
        "- 숫자나 문자의 특성을 규정하는 것은 타입이다.\n",
        "\n",
        "- 수치 자료형에는 정수형(int 타입), 실수형(float 타입), 복소수형(complex 타입)이 있다. \n",
        "\n",
        "- 숫자나 문자열로 숫자 값을 나타내는 표기를 숫자 리터럴이라고 한다. \n",
        "\n",
        "- 숫자 리터럴은 2진수, 8진수, 10진수, 16진수의 네종류 기수로 나타낼수 있다. \n",
        "\n",
        "- 실수형의 끝에는 e\" 형식으로 지수 표기를 붙일수 있다. \n",
        "\n",
        "- 한국어 버전의 window에서는 \\ 대신에 원기호가 표시된다. \n",
        "\n",
        "- 역 슬래시와 글자를 함께 입력하는 단일 문자인 이스케이프 시퀀스에는 개형 문자 \\n, 복귀 문자 \\r 등이 있다. \n",
        "\n",
        "- 행의 마지막( 개행 문자 직전)에 \\를 입력하면 현재의 행을 다음 행으로 분리하여 연속할 수 있다. \n",
        "\n",
        "- 문자 값을 나타내는 타입은 string =str 타입이다. 문자열의 시작과 끝에 작은 따옴표 ' 큰따옴표 \" 각각의 세개씩 입력하여 '''나 \"\"\" 을 붙인다. \n",
        "\n",
        "- 공백 문자로 나뉘어져 있는 문자열 리터럴은 결합할수 있다. \n",
        "\n",
        "- raw 문자열 리터럴은 리터럴 안에 포함된 이스케이프 시퀀스가 입력된 그대로 처리된다. \n",
        "\n",
        "- 연산자 + 로 숫자 값끼리 덧셈이나 문자끼리의 덧셈은 가능하지만 문자와 숫자 값을 섞은 덧셈은 불가능하다. \n",
        "\n",
        "- 변수에는 정수나 실수 , 문자열등의 값을 담아둘수 있고, 언제든지 그 값을 불러 올수있다. \n",
        "\n",
        "- x+17  은 식이며 x=17은 식이 아닌 문이다. 데입을 위한 기호 =는 다양한 기능을 갖고 있지만 연산자는 아니다. \n",
        "\n",
        "- 최초로 사용하는 이름의 변수에 값을 대입하면 그 이름의 변수가 자동으로 선언된다. \n",
        "\n",
        "- 이미 선언된 변수에는 현재의 타입과 다른 타입의 값을 대입할수 있다. \n",
        "\n",
        "- 여러개의 변수를 쉼표로 구분하여 한번에 값을 대입할 수 있다. 이대읍은 논리적으로 동시에 수행한다.\n",
        "\n",
        "- 변수나 리터럴의 타입은 type()으로 확인 할 수 있다. "
      ],
      "metadata": {
        "id": "s_U7oyh0JBsb"
      }
    },
    {
      "cell_type": "markdown",
      "source": [
        "# 2 화면의 출력하고 키보드로 입력하기 \n"
      ],
      "metadata": {
        "id": "aBiKt5BEPSQW"
      }
    },
    {
      "cell_type": "markdown",
      "source": [
        "## 화면에 출력하기 \n"
      ],
      "metadata": {
        "id": "wAG8F0tAPZN7"
      }
    },
    {
      "cell_type": "markdown",
      "source": [
        "### print 함수를 사용하여 화면에 출력하기 "
      ],
      "metadata": {
        "id": "sGtp3fd3PjLL"
      }
    },
    {
      "cell_type": "markdown",
      "source": [
        "#### 스크립트 \n",
        "\n",
        "- 워드나 메모장등과 같이 프로그램도 파일로 저장하여 언제든 실행하고 수정 할수 있다. \n",
        "- 이러한 프로그램을 스크립트 프로그램이라고 하며 이를 저장한 파일을 스크립트 파일이라고 한다. "
      ],
      "metadata": {
        "id": "nncOsdnlP002"
      }
    },
    {
      "cell_type": "code",
      "source": [
        "print(\"hello\")"
      ],
      "metadata": {
        "colab": {
          "base_uri": "https://localhost:8080/"
        },
        "id": "fq6pTrTMP6Zb",
        "outputId": "9892b8d4-4754-4e78-e593-60dd6ead9d78"
      },
      "execution_count": 30,
      "outputs": [
        {
          "output_type": "stream",
          "name": "stdout",
          "text": [
            "hello\n"
          ]
        }
      ]
    },
    {
      "cell_type": "markdown",
      "source": [
        "#### 주석\n",
        "\n",
        "- 주석은 스크립트의 동작에 어떠한 영향도 주지 않는다. \n",
        "  - 작성자 자신을 포함하여 코드를 읽고 있는 사람에서 전하고자 하는 내용을 한국어나 영어로 간결하게 작성한다. \n",
        "  "
      ],
      "metadata": {
        "id": "mSmH3iZJQMmA"
      }
    },
    {
      "cell_type": "markdown",
      "source": [
        "#### 빈행 \n",
        "\n",
        "- 빈행은 읽기쉬운 코드, 가독성을 위해서 사용한다. "
      ],
      "metadata": {
        "id": "-2nPHqcxQfuY"
      }
    },
    {
      "cell_type": "markdown",
      "source": [
        "#### print 함수를 사용하여 화면에 출력하기 \n",
        "\n",
        "-  화면에 출력하는 코드를 직접 구현하기는 어려움 \n",
        "  - 파이썬은 print라는 함수를 사용 \n",
        "  - print 이용할수 있는 표준함수를 내장함수라고 한다."
      ],
      "metadata": {
        "id": "gKGiU4ABQ-l4"
      }
    },
    {
      "cell_type": "markdown",
      "source": [
        "### 출력과 개행\n",
        "\n"
      ],
      "metadata": {
        "id": "CdnYQjO3joio"
      }
    },
    {
      "cell_type": "code",
      "source": [
        "print(\"안녕하세요\")\n",
        "print(\"만나서 반갑습니다\")"
      ],
      "metadata": {
        "colab": {
          "base_uri": "https://localhost:8080/"
        },
        "id": "zAxKlqbmj3IV",
        "outputId": "e80a3461-02d5-49e7-e4b6-401f61fd32fb"
      },
      "execution_count": 31,
      "outputs": [
        {
          "output_type": "stream",
          "name": "stdout",
          "text": [
            "안녕하세요\n",
            "만나서 반갑습니다\n"
          ]
        }
      ]
    },
    {
      "cell_type": "markdown",
      "source": [
        "#### 출력후 개행하지 않는 방법 "
      ],
      "metadata": {
        "id": "bQwuZIP_j8hl"
      }
    },
    {
      "cell_type": "code",
      "source": [
        "print(\"안녕하세요\", end=\" \")\n",
        "print(\"만나서 반갑습니다.\")"
      ],
      "metadata": {
        "colab": {
          "base_uri": "https://localhost:8080/"
        },
        "id": "5vP_PQGPkBWT",
        "outputId": "df2ce897-ea42-4022-a797-8a472512afa3"
      },
      "execution_count": 32,
      "outputs": [
        {
          "output_type": "stream",
          "name": "stdout",
          "text": [
            "안녕하세요 만나서 반갑습니다.\n"
          ]
        }
      ]
    },
    {
      "cell_type": "markdown",
      "source": [
        "- print 함수에 전달되는 두번째 인수 end=\" \"는 다음과 같은 의미이다. \n",
        "  - 표수 후 자동으로 출력하는 문자열 end를 줄바꿈이 아닌 \" \"로 변경한다."
      ],
      "metadata": {
        "id": "Bms76TGBkI-_"
      }
    },
    {
      "cell_type": "markdown",
      "source": [
        "#### 출력 중에 개행하기 \n",
        "\n",
        "- 문자열 내에서 바꾸려 할때는 개행 문자에 해당하는 이스케이프 시퀀스 \\n을 삽입한다. "
      ],
      "metadata": {
        "id": "A4ms58XQka19"
      }
    },
    {
      "cell_type": "code",
      "source": [
        "print('바람\\n숲\\n불\\n산')"
      ],
      "metadata": {
        "colab": {
          "base_uri": "https://localhost:8080/"
        },
        "id": "jpmJciTakkfY",
        "outputId": "68016b68-a68e-4ae0-92cd-9005dbe6f9f3"
      },
      "execution_count": 33,
      "outputs": [
        {
          "output_type": "stream",
          "name": "stdout",
          "text": [
            "바람\n",
            "숲\n",
            "불\n",
            "산\n"
          ]
        }
      ]
    },
    {
      "cell_type": "markdown",
      "source": [
        "#### 개행만 출력하기 \n",
        "\n",
        "- 개행만 출력할땐 괄호안에 아무것도 입력하지 않은 채로 print()를 호출한다. "
      ],
      "metadata": {
        "id": "tNI7fmNXktJG"
      }
    },
    {
      "cell_type": "code",
      "source": [
        "print(\"안녕하세요\")\n",
        "print()\n",
        "print(\"만나서 반갑습니다. \")"
      ],
      "metadata": {
        "colab": {
          "base_uri": "https://localhost:8080/"
        },
        "id": "mgFn92UMk7Cu",
        "outputId": "4902e5bb-a7ed-409b-e88f-41729ddde872"
      },
      "execution_count": 34,
      "outputs": [
        {
          "output_type": "stream",
          "name": "stdout",
          "text": [
            "안녕하세요\n",
            "\n",
            "만나서 반갑습니다. \n"
          ]
        }
      ]
    },
    {
      "cell_type": "markdown",
      "source": [
        "#### 문자열 평가와 print 함수 \n",
        "\n",
        "- 인터랙티브 셀에 문자열을 입력하여 값을 출력하는 것과 print를 사용하여 출력하는 것은 다른 의미이다. \n",
        "\n",
        "- 문자열리터럴은 하나의 식이기 때문에 문자열 자체를 평가한 값이 응답과 같이 출력 된다. \n"
      ],
      "metadata": {
        "id": "MpNh0SCulALx"
      }
    },
    {
      "cell_type": "markdown",
      "source": [
        "![image.png](data:image/png;base64,iVBORw0KGgoAAAANSUhEUgAAANgAAABGCAYAAACuTFreAAAAAXNSR0IArs4c6QAAAARnQU1BAACxjwv8YQUAAAAJcEhZcwAAEnQAABJ0Ad5mH3gAAAXBSURBVHhe7dvLSuxAEAbgnqN4wJ0giiDidfQV3PkWvq5bV64El24FVyoiKnisHEtr2u50ZaZ60p35Pwi5VborndRkLjra39//2Nvbc5eXl64WFxcX7uzs7GstvW5N275FHrKN2HLN5nFOfrvzHLs/X/MGdUxTinUcwFBNFBhVNU2porCO64ralPx1AKnP+yX6FpGLIpWMdZwF6ov68Qs71rc2jnH7Kam4VL/+/hA+hvtKtUlCMXy8pGmLzBIn++XlVHvymJDU/nlKfgbTJmsdNwvqg/j9hPrWbpO059AW1zWX2JzROokdz/x1Ejo2Fme9jfB2f535x4baklL752niLWIIJUoJ88nHWMfNKjTA3DejZU2ctVz9htqU2vqVtPlZxPk07fnrUqyvviQLjFDCbSfFrOMAaqcqMCoEzSuDddw8cC7+BGULvUDTegn3lJQsME5aUzSWcfPCuYSmElAe8sbx16Fs0QKji6i5kNZxkA8Xpy+0rQbyfEq9t4IFxsmmEraOKwlfuKGha0DnJqearkttJgpMO+DWcX3hm82XO+e++mXUh5x8tE2Tn0WcT9OexG3H9vetyr9FTGkb8NA+/6KmLpb2gqbitP367YTajfUlt8diSKxNqe1YqUuc7JeXte0x2UZpBllgEBe6GUu+QVNKzx0FtoC6PiFKI/MvPXcUGEBGqh+aAWA6KDCAjFoLzH+vzmLbrWjbt8hDthFbrtk8z2koY2YJTzCAjFBgABmhwAAyai2wWn98hH7gfvltqt/B6MMsDab/oTY2wNo4xu2npOJS/fr7Q/gY7ivVJgnF8PGSpi0yS5zsl5dT7cljQlL74cfUBUY0F0a7TdJewLa4rrnE5ozWSex45q+T0LGxOOtthLf768w/NtSWlNoPP6b+DBYaYNrGF5HELoQfZy1Xv6E2pbZ+JW1+FnE+TXv+uhTrC8LwJQdARtkLjF7xQhOULfQUo3U8vbrJXmB0QWJTCSgPeeP46wCzwFtEQ1ycvtC2GsjzwYvOdHorsFpvuhS+KeWEG3NxZS2wtlf0nDddX/0y6kNOPtqmyc8izqdpT+K2Y/uh3Vw+g9EFktM8LlYf/VIfWtr8+ooDG/iPZmOhG7bmmxgFOBsUWAZ0U0q13aAyfxTXbFBgABnha3qAjFBgABmhwAAyQoEBZIQCA8hoosDo61n/K+YQ6ziAoQp+TU9Fofn9wzoOYGiiv4PxkydVGNZxAEOS/KHZ+imljQMYAtVfclg/pbRxALXr9KdS1k8pbRxArZoC293ddVdXV+7t7e1r8yTrJ5M2DqB2o4ODg4/t7W13fX3tXl5evjb/sH4aaeMAhqApsPX1dXd/f+/u7u6+Nts/jbRxAEPSFNjq6qr7+/evu7m5aTZaP420cQBD0xQYLWxtbbnz83N3enpq9jTCUwsW3XeBLS8vu7W1NXd7e+uenp6anQAwmz+j0ahZoG8Q6UuOnZ0dt7Ky0mwDgNl8/7EvFdrj46N7fX114/HYbW5uNtsAYHqjw8PD5i3ix8dHMxF6u7ixsdE80R4eHtzz83PztvH9/b3ZDwA6wQKjOT296NtF/oZxaWnp+4nGcaCD8cqn9LEdHR0dfeb4U1hymeehbX0rIYe+1TYGi3jNVAUWmmt1je9TTbmS2vLNofQxaAqMFihRTrZtzst9KyUPjZpyJbXlm4PVGIzG4/FnW5PFJZfb5kNT23kh3/IFC0wz1+oa36eacs0J18zOd4EROZeJh/b3rYQctGrKNadFHIemwGjBLx6a+9uIXNboGt+nmnIlteWbQ+ljMDo+Pv7M8X+SNJfLoTmRy30pIQetmnIlteVbsl8F1mU+NLWd11CvQxelj0FTYLQgi0cmHVrvomv8ENU2BrhmdkYnJyef4/l/QGkul0NzIpeHpLbzGup16KL0MfhVYJp5F9Mc05eacs0J42CnKTBa8IsoNe9bKXn0qbYxWLxr5tw/BG4zkdNHrwcAAAAASUVORK5CYII=)"
      ],
      "metadata": {
        "id": "rSG-L_3Cmk9U"
      }
    },
    {
      "cell_type": "code",
      "source": [
        "print(\"hello\\ngoodbye\")"
      ],
      "metadata": {
        "colab": {
          "base_uri": "https://localhost:8080/"
        },
        "id": "J8oPL35ImxLV",
        "outputId": "bbb30425-b70d-41d2-9cfe-0bf003c21f4e"
      },
      "execution_count": 35,
      "outputs": [
        {
          "output_type": "stream",
          "name": "stdout",
          "text": [
            "hello\n",
            "goodbye\n"
          ]
        }
      ]
    },
    {
      "cell_type": "markdown",
      "source": [
        "- 인터렉티브 셀은 개행문자가 그대로 출력이 되고 print문은 사람 중심으로 개행이되어서 출력된다."
      ],
      "metadata": {
        "id": "ZeWYZQ29m11O"
      }
    },
    {
      "cell_type": "markdown",
      "source": [
        "##  키보드로 입력하기 \n"
      ],
      "metadata": {
        "id": "w5y3oN2ym9tT"
      }
    },
    {
      "cell_type": "markdown",
      "source": [
        "### input 함수를 사용하여 키보드로 문자열 입력받기 \n",
        "\n",
        "- input 함수는 키보드로 문자열을 입력받아 리턴한다. \n",
        "  - input으로 입력받은 타입은 문자열 그차체가 된다. \n",
        "  "
      ],
      "metadata": {
        "id": "N9RMJGNgnM7M"
      }
    },
    {
      "cell_type": "code",
      "source": [
        "name=input('이름이 무엇입니까?;')\n",
        "print('안녕하세요 ',name ,'씨')"
      ],
      "metadata": {
        "colab": {
          "base_uri": "https://localhost:8080/"
        },
        "id": "SNl0zV9BoAnS",
        "outputId": "3301043e-19cd-4547-f943-cbed4cb862d7"
      },
      "execution_count": 36,
      "outputs": [
        {
          "output_type": "stream",
          "name": "stdout",
          "text": [
            "이름이 무엇입니까?;정충원\n",
            "안녕하세요  정충원 씨\n"
          ]
        }
      ]
    },
    {
      "cell_type": "markdown",
      "source": [
        "#### 여러 문자열 출력하기 \n",
        "\n",
        "- print 함수가 각 문자열 사이를 구분하기 위해서 공백을 출력한다는 점을 주의 하라 \n",
        "  - 만일 공백을 출력하지 않도록 하려면 다음과 같이 하면 된다. "
      ],
      "metadata": {
        "id": "Aq4x5GqEoNCr"
      }
    },
    {
      "cell_type": "code",
      "source": [
        "name=input('이름이 무엇입니까?;')\n",
        "print('안녕하세요',name ,'씨', sep=\"\")"
      ],
      "metadata": {
        "colab": {
          "base_uri": "https://localhost:8080/"
        },
        "id": "rAsCCa9QomtE",
        "outputId": "81238e21-63eb-4a0b-e4c7-850991c0c269"
      },
      "execution_count": 38,
      "outputs": [
        {
          "output_type": "stream",
          "name": "stdout",
          "text": [
            "이름이 무엇입니까?;정충원\n",
            "안녕하세요정충원씨\n"
          ]
        }
      ]
    },
    {
      "cell_type": "markdown",
      "source": [
        "- sep=\"\"은 다음과 같은 의미를 지닌다. \n",
        "  - 출력할때 구분 문자열 sep를 공백이 아닌 빈 문자열 ''로 변경한다.\n",
        "  - sep에 원하는 문자열을 지정할수 있다. 만일 \\n을 사용한다면 각 문자열마다 개행이 된다. \n",
        "  "
      ],
      "metadata": {
        "id": "gvq2FtkXorGe"
      }
    },
    {
      "cell_type": "markdown",
      "source": [
        "#### 문자열을 숫자 값으로 변환 \n",
        "\n",
        "- 두개의 정수값을 입력받아 사칙연산을 수행한다. \n"
      ],
      "metadata": {
        "id": "gHozOiQFpiKU"
      }
    },
    {
      "cell_type": "code",
      "source": [
        "s= input('정수 a:')\n",
        "a=int(s)\n",
        "s=input('정수 b:')\n",
        "b=int(s)\n",
        "\n",
        "print(\"a+b는 \",a+b, '입니다')"
      ],
      "metadata": {
        "colab": {
          "base_uri": "https://localhost:8080/"
        },
        "id": "jlp4uYknp1m0",
        "outputId": "f281e534-abbe-4165-9599-ff1ebdad7d12"
      },
      "execution_count": 41,
      "outputs": [
        {
          "output_type": "stream",
          "name": "stdout",
          "text": [
            "정수 a:7\n",
            "정수 b:3\n",
            "a+b는  10 입니다\n"
          ]
        }
      ]
    },
    {
      "cell_type": "markdown",
      "source": [
        "- int 함수를 사용하여 문자열을 int 타입 정수로 변환 하였다. "
      ],
      "metadata": {
        "id": "dKBhSLauqH8C"
      }
    },
    {
      "cell_type": "markdown",
      "source": [
        "- 문자열을 입력받고 숫자 값으로 변환하는 과정을 한번에 수행하면 코드가 간결해진다. "
      ],
      "metadata": {
        "id": "Icy_LGojqZ99"
      }
    },
    {
      "cell_type": "code",
      "source": [
        "a=int(input('정수 a:'))\n",
        "b=int(input('정수 b:'))\n"
      ],
      "metadata": {
        "colab": {
          "base_uri": "https://localhost:8080/"
        },
        "id": "_5qg3BRUqjX3",
        "outputId": "61830806-5eee-4a84-fcbb-9a8db054502f"
      },
      "execution_count": 43,
      "outputs": [
        {
          "name": "stdout",
          "output_type": "stream",
          "text": [
            "정수 a:7\n",
            "정수 b:3\n"
          ]
        }
      ]
    },
    {
      "cell_type": "markdown",
      "source": [
        "- 문자열과 숫자값은 +로 연결할수 없다.\n",
        "  - 그러나 str 함수를 사용하여 문자열로 변환한다면 응용이 가능하다."
      ],
      "metadata": {
        "id": "zzAB-JAmqqL1"
      }
    },
    {
      "cell_type": "code",
      "source": [
        "print(\"a+b는\",str(a+b), '입니다')"
      ],
      "metadata": {
        "colab": {
          "base_uri": "https://localhost:8080/"
        },
        "id": "AACNxWxwrE6Y",
        "outputId": "82fc6930-f58f-4638-f033-2c17093786b3"
      },
      "execution_count": 45,
      "outputs": [
        {
          "output_type": "stream",
          "name": "stdout",
          "text": [
            "a+b는 10 입니다\n"
          ]
        }
      ]
    },
    {
      "cell_type": "markdown",
      "source": [
        "#### format 메소드를 이용한 문자열 서식화 \n",
        "\n",
        "- 문자열 안에 정수값을 포함할수 있는 방법이 존재한다. "
      ],
      "metadata": {
        "id": "U2wiXCHCrKMJ"
      }
    },
    {
      "cell_type": "code",
      "source": [
        "print(\"a+b는 의 합은 {} 입니다\".format(a+b))\n",
        "print(\"{}와{}의 합은 {} 입니다\".format(a,b,a+b))"
      ],
      "metadata": {
        "colab": {
          "base_uri": "https://localhost:8080/"
        },
        "id": "ub5JDep9rWkD",
        "outputId": "d90c323a-e83a-4bf1-aae0-69a7f0f940fc"
      },
      "execution_count": 46,
      "outputs": [
        {
          "output_type": "stream",
          "name": "stdout",
          "text": [
            "a+b는 의 합은 10 입니다\n",
            "7와3의 합은 10 입니다\n"
          ]
        }
      ]
    },
    {
      "cell_type": "markdown",
      "source": [
        "- 문자열.format(인수들) \n",
        "  - 문자열에는 {}이 포함되어 있다."
      ],
      "metadata": {
        "id": "C7EMdNNkrurX"
      }
    },
    {
      "cell_type": "markdown",
      "source": [
        "### 정해진 수의 값을 나타내는 변수 \n",
        "\n",
        "- 원의 반지름을 키보드로 입력받아 원의 둘레와 원의 넓이를 구해 출력하는 코드를 만들어 보자 \n",
        "\n"
      ],
      "metadata": {
        "id": "RNeQTWhbr8HT"
      }
    },
    {
      "cell_type": "code",
      "source": [
        "r=float(input(\"반지름:\"))\n",
        "\n",
        "print(\"원의 둘레는 \", 2*3.14*r,'입니다')\n",
        "print('넓이는',3.14*r*r,'입니다')"
      ],
      "metadata": {
        "colab": {
          "base_uri": "https://localhost:8080/"
        },
        "id": "usTLKf7JsO7e",
        "outputId": "a028ba7d-1afa-4447-c97f-de61e71f0ad1"
      },
      "execution_count": 47,
      "outputs": [
        {
          "output_type": "stream",
          "name": "stdout",
          "text": [
            "반지름:7.2\n",
            "원의 둘레는  45.216 입니다\n",
            "넓이는 162.7776 입니다\n"
          ]
        }
      ]
    },
    {
      "cell_type": "markdown",
      "source": [
        "- 작성자 이외에는 의도를 정확하게 알수없는 숫자값을 매직넘버라고 한다. \n",
        "  - 이러한 매직넘버는 가능한 사용하지 않는것이 좋다.\n",
        "\n",
        "- 다음처럼 코드를 변경하면 가독성이 좋은 코드가 된다. "
      ],
      "metadata": {
        "id": "EAOtoLP5spiW"
      }
    },
    {
      "cell_type": "code",
      "source": [
        "PI=3.14159\n",
        "\n",
        "r=float(input(\"반지름:\"))\n",
        "\n",
        "print(\"원의 둘레는 \", 2*PI*r,'입니다')\n",
        "print('넓이는',PI*r*r,'입니다')"
      ],
      "metadata": {
        "colab": {
          "base_uri": "https://localhost:8080/"
        },
        "id": "j_UpfGQ9s_-W",
        "outputId": "3032569f-fe6d-4a15-bb40-de5be8354ae0"
      },
      "execution_count": 49,
      "outputs": [
        {
          "output_type": "stream",
          "name": "stdout",
          "text": [
            "반지름:7.2\n",
            "원의 둘레는  45.238896 입니다\n",
            "넓이는 162.8600256 입니다\n"
          ]
        }
      ]
    },
    {
      "cell_type": "markdown",
      "source": [
        "- 첫줄에서 변수에 원주율을 대입하고 이를 계속하여 변수로 사용하여 계산한다. \n",
        "  - 상수용(변경되지 않는 변수)변수는 대문자와 밑줄로 구성하는것이 관례이다. \n",
        "\n",
        "- 코드에는 장점이 있다. \n",
        " - 1. 한군데에서만 값을 관리하면 된다. \n",
        " - 2. 가독성이 좋은 코드가 된다. \n",
        " "
      ],
      "metadata": {
        "id": "OqLM7SgjtIpb"
      }
    },
    {
      "cell_type": "markdown",
      "source": [
        "## 정리 "
      ],
      "metadata": {
        "id": "608WbHrttvOh"
      }
    },
    {
      "cell_type": "markdown",
      "source": [
        "- 파이썬의 스크립트 프로그램은 확장자 .py로 저장이 된다. \n",
        "\n",
        "- 코드의 있는 문은 기본적으로 순차 실행이다.\n",
        "\n",
        "- 스크립트 프로그램에는 작성자 자신을 포함하여 읽는 사람에게 전달하고자 하는 주석을 간결하게 작성할수 있다. \n",
        "\n",
        "- 주석이나 빈행은 코드 실행에 아무런 영향을 주지 않는다. \n",
        "\n",
        "- print 함수나 input 함수와 같은 편리한 기능을 가진 함수들이 내장함수로써 제공된다. \n",
        "\n",
        "-  함수를 호출하여 연산을 할때는 호출연산자인 () 를 붙여 함수명(인수) 형식으로 함수를 호출한다. \n",
        "\n",
        "- 문자열을 화면에 출력하려면 출력하고자 하는 문자열을 인수로 전달하여 print 함수로 호출한다. 문자열에 개행이 있으면 중간에 개행 될수있다.\n",
        "\n",
        "- print 함수는 전달받은 인수 사이에 구분을 위한 공백을 출력하는 동시에 마지막에는 자동으로 개행 문자를 출력한다.  구분을 변경할때는 sep='문자열'을 전달하고 개행을 변경할때는 end=\"문자열\"을 사용한다. \n",
        "\n",
        "- input 함수는 키보드로 입력한 문자열을 받아 반환한다. 마지막 엔터키까지 수행 되지만 개행문자는 반환되지 않는다. \n",
        "\n",
        "- 문자열을 인수로써 전달하면 그 문자열을 출력한 다음 입력받는다.\n",
        "\n",
        "- 문자열을 정수 값으로 변환 할때는 그 문자열을 인수로 전달하여 int 함수를 호출한다. \n",
        "\n",
        "- 문자열을 실수 값으로 변환 할때는 float 함수를 호출한다. \n",
        "\n",
        "- 숫자값을 문자열로 변환할때는 10진수라면 str, 2진수는 bin, 8진수는 oct, 16진수는  hex함수를 호출한다.\n",
        "\n",
        "- format 메소드를 호출하면 문자열 내에 별도 문자열과 숫자 값을 서식화 하여 삽입한 문자열을 생성할수 있다. 호출형식은 문자열.format(인수)이며 문자열 내에 {}를 포함한다.\n",
        "\n",
        "- 숫자 값을 그대로 사용하면 정체불명의 매직 넘버가 될수 있다. 대문자와 밑줄 문자로 구성된 이름의 변수에 값을 넣어두고 그 변수를 사용하면 좋다. "
      ],
      "metadata": {
        "id": "S90AsM_jtyV2"
      }
    },
    {
      "cell_type": "markdown",
      "source": [
        "# 3 프로그램 흐름의 분기 "
      ],
      "metadata": {
        "id": "EiOcPOH1vuFx"
      }
    },
    {
      "cell_type": "markdown",
      "source": [
        "## if 문\n",
        "\n"
      ],
      "metadata": {
        "id": "m1GOsgrOvylJ"
      }
    },
    {
      "cell_type": "markdown",
      "source": [
        "### if문 \n"
      ],
      "metadata": {
        "id": "_QAwYCmw84Ll"
      }
    },
    {
      "cell_type": "code",
      "source": [
        "n= int(input(\" 정수값:\"))\n",
        "\n",
        "if n>0:\n",
        "  print(\"양의 정수입니다. \")"
      ],
      "metadata": {
        "colab": {
          "base_uri": "https://localhost:8080/"
        },
        "id": "frZA1hXb9Dnf",
        "outputId": "861f72a4-b778-4efa-a7ca-deef89d1a9b1"
      },
      "execution_count": 50,
      "outputs": [
        {
          "output_type": "stream",
          "name": "stdout",
          "text": [
            " 정수값:15\n",
            "양의 정수입니다. \n"
          ]
        }
      ]
    },
    {
      "cell_type": "markdown",
      "source": [
        "- if 로 시작하여 콜론(:)으로 끝나는 식으로 평가를 하고 그 결과가 참인 경우 에만 콜론 이후의 작성된 문을 실행한다. \n",
        "\n",
        "  - 판정식은 Ture 참과 False 거짓을 생성한다. "
      ],
      "metadata": {
        "id": "uXwIbD2H9LIW"
      }
    },
    {
      "cell_type": "markdown",
      "source": [
        "### 비교 연산자 \n",
        "- 연산자 >와 같이 피연산자의 값을 비교하는 연산자를 비교연산자라고 한다\n",
        "  - 비교연산자에는 다음과 같이 \n",
        "    - >,<,<=,>=,==,!= 6개로 구성되 어있다.\n",
        "  - 비교 연산자를 두개이상 연속하여 사용한 모습을 볼수있다. \n",
        "\n",
        "- 비교연산자가 값을 비교하는 두개의 피연산자는 서로 다른 타입이어도 된다.따라서 정수와 실수 처럼 서로 타입이 다른 값을 비교할수 있다."
      ],
      "metadata": {
        "id": "0dMrfk3m9lqS"
      }
    },
    {
      "cell_type": "markdown",
      "source": [
        "### if문(else 절)"
      ],
      "metadata": {
        "id": "zvk5e4tY-LNx"
      }
    },
    {
      "cell_type": "code",
      "source": [
        " n=int(input(\"정수값:\"))\n",
        "\n",
        " if n>0:\n",
        "   print(\"양의 정수입니다\")\n",
        "else:\n",
        "  print(\"음의 정수입니다\")"
      ],
      "metadata": {
        "colab": {
          "base_uri": "https://localhost:8080/"
        },
        "id": "s4GNQFNy-Pjn",
        "outputId": "07619652-dffc-43ae-de5f-26836c987bae"
      },
      "execution_count": 51,
      "outputs": [
        {
          "output_type": "stream",
          "name": "stdout",
          "text": [
            "정수값:15\n",
            "양의 정수입니다\n"
          ]
        }
      ]
    },
    {
      "cell_type": "markdown",
      "source": [
        "- 위에 예제에는 else: 이하의 코드가 추가 되었다\n",
        "  - else는 ~가 아니면 이라는 뜻으로 판정식으로 평가한 값이 참이면 if 문장을 실행하고 아니라면 else절의 문장이 실행된다. "
      ],
      "metadata": {
        "id": "ldvW78Aj-elu"
      }
    },
    {
      "cell_type": "markdown",
      "source": [
        "### 등가성 판정 \n",
        "\n"
      ],
      "metadata": {
        "id": "dnPM7MYN-wps"
      }
    },
    {
      "cell_type": "code",
      "source": [
        "a=int(input(\" 정수값:\"))\n",
        "b=int(input(\" 정수값:\"))\n",
        "\n",
        "if a==b:\n",
        "  print(\" 두 숫자의 값은 같습니다\")\n",
        "\n",
        "else: \n",
        "  print(\" 두숫자의 값은 같지 않습니다.\")"
      ],
      "metadata": {
        "colab": {
          "base_uri": "https://localhost:8080/"
        },
        "id": "nUmfKB0_-zmq",
        "outputId": "e3ab4a20-5f26-4b8e-f951-880d33c61dec"
      },
      "execution_count": 52,
      "outputs": [
        {
          "output_type": "stream",
          "name": "stdout",
          "text": [
            " 정수값:37\n",
            " 정수값:52\n",
            " 두숫자의 값은 같지 않습니다.\n"
          ]
        }
      ]
    },
    {
      "cell_type": "markdown",
      "source": [
        "- if 문의 판정식에서 == 는 좌우 피연산자가 같은지를 판정하는 비교연산자이다. \n",
        " - 만약 좌우 피연산자가 다른지 판정할때는 != 연산자를 통해 구현할수 있다. "
      ],
      "metadata": {
        "id": "XCrm2bxC_D8J"
      }
    },
    {
      "cell_type": "markdown",
      "source": [
        "### if 문 (elif 절) \n",
        "\n"
      ],
      "metadata": {
        "id": "MJs6Vfvw_T9k"
      }
    },
    {
      "cell_type": "markdown",
      "source": [
        "- elif는 else if 의 약자이며 ~가 아니고 ~라면이라는 뜻이다. \n",
        "  - if 절과 else 절 사이에  elif 식:문 형식으로 포함되어 있으며 if 문이 거짓일경우 조건을 하나더 추ㅏ하기 위해 사용된다. \n",
        "  "
      ],
      "metadata": {
        "id": "nX155MRv_aZo"
      }
    },
    {
      "cell_type": "markdown",
      "source": [
        "- if 문 안에서 elif 절은 여러번 사용할수 있다."
      ],
      "metadata": {
        "id": "e2SYT21k_6C5"
      }
    },
    {
      "cell_type": "markdown",
      "source": [
        "#### if 문의 나열  "
      ],
      "metadata": {
        "id": "7f0X-LUgAIuj"
      }
    },
    {
      "cell_type": "markdown",
      "source": [
        "- if 문을 여러개 나열한다면 각 판정식이 참인경우에만 순차적으로 출력된다. \n",
        "  - 이것은 elif 절과 else절이 이는 if문과는 다르다."
      ],
      "metadata": {
        "id": "yoa1kF9KAKud"
      }
    },
    {
      "cell_type": "markdown",
      "source": [
        "### pass문 "
      ],
      "metadata": {
        "id": "rQjskbmwAWCW"
      }
    },
    {
      "cell_type": "markdown",
      "source": [
        "- if 문 안의 각 절에서 수행할수 없을 때, 혹은 아무런 동작을 하지 않고 넘길때 단순히 pass라고 쓰기만 하면 실행하지 않고 넘길수 있다"
      ],
      "metadata": {
        "id": "F3CMv99aAZxQ"
      }
    },
    {
      "cell_type": "code",
      "source": [
        "n=int(input('정수값:'))\n",
        "\n",
        "if n>0:\n",
        "  print('양수입니다.')\n",
        "\n",
        "elif n==0:\n",
        "  pass\n",
        "\n",
        "else:\n",
        "  print(\"음수입니다.\")\n"
      ],
      "metadata": {
        "colab": {
          "base_uri": "https://localhost:8080/"
        },
        "id": "anzCruJOAljI",
        "outputId": "a973774a-f8c0-4231-9fc4-5059365f1d36"
      },
      "execution_count": 54,
      "outputs": [
        {
          "name": "stdout",
          "output_type": "stream",
          "text": [
            "정수값:0\n"
          ]
        }
      ]
    },
    {
      "cell_type": "markdown",
      "source": [
        "- pass 문이 필요한 이유는 구문상 실행문이 필요한 곳에서 아무것도 실행시키지 않을때 사용하기 때문이다. \n",
        "  - 이때 주석으로 대체하거나 비워두면 안된다. 반드시 하나의 문이 있어야 되기 때문이다. "
      ],
      "metadata": {
        "id": "oNSQBQmjA4ch"
      }
    },
    {
      "cell_type": "markdown",
      "source": [
        "### 단순문 \n",
        "\n",
        "- pass문은 단순문의 일종이다. \n",
        "  - 단순문에는 다음 두가지를 많이 사용한다. \n",
        "  - 표현식문\n",
        "    -  호출하는 동시에 식 그자체가 문이되는 경우(print())\n",
        "  - 대입문\n",
        "    - 대입하는 문 \n",
        "\n",
        "- 기타 단순문 (pass문, break문, continue문, del문)"
      ],
      "metadata": {
        "id": "6YfPM3SwBI76"
      }
    },
    {
      "cell_type": "markdown",
      "source": [
        "### 논리형  \n",
        "\n",
        "- 참과 거짓을 나타내는 타입은 논리형 이라고하는 bool (부울)타입이다. \n",
        "  - 논리형 타입이 가질수 있는 값이 두가지로 참이면 true , 거짓이면 false이다. 일반적으로는 내부적으로는 True는 1, False는 0으로 나타낸다.\n",
        "\n",
        "- python은 다음 규칙에따라 True, False를 구분한다. \n",
        "  - False, 0,0.0, None, 빈값, 빈 집합은 은 모두 False다\n",
        "  - 이외에 값과 True는 참이다. \n",
        "\n"
      ],
      "metadata": {
        "id": "NuC-oqLdBmL0"
      }
    },
    {
      "cell_type": "markdown",
      "source": [
        "### 식과 평가 \n"
      ],
      "metadata": {
        "id": "8WATqwTWGCRb"
      }
    },
    {
      "cell_type": "markdown",
      "source": [
        "#### 식 \n",
        "\n",
        "- 식: 식은 아래 세가지의 총칭이라고 할 수 있다.\n",
        "  - 변수\n",
        "  - 리터럴\n",
        "  - 변수와 리터럴을 연산자로 결합한 것 \n",
        "  "
      ],
      "metadata": {
        "id": "UtxGyCSnIN2u"
      }
    },
    {
      "cell_type": "markdown",
      "source": [
        "#### 평가 \n",
        "- 식에는 기본적으로 값과 타입이 있다 \n",
        "- 평가: 평가란 식의 값을 확인하는 것이다. \n",
        "\n",
        "  - 덧셈의 평가 : int+int\n",
        "  - 비교식의 평가 : int>int\n",
        "  -  덧셈식의 평가 : bool + int\n",
        "\n"
      ],
      "metadata": {
        "id": "pqT5ctsxIXrr"
      }
    },
    {
      "cell_type": "code",
      "source": [
        "True +5"
      ],
      "metadata": {
        "colab": {
          "base_uri": "https://localhost:8080/"
        },
        "id": "QY6_zXL8IydH",
        "outputId": "b6afa855-b593-46c6-c570-44151112082d"
      },
      "execution_count": 55,
      "outputs": [
        {
          "output_type": "execute_result",
          "data": {
            "text/plain": [
              "6"
            ]
          },
          "metadata": {},
          "execution_count": 55
        }
      ]
    },
    {
      "cell_type": "code",
      "source": [
        "False+5\n"
      ],
      "metadata": {
        "colab": {
          "base_uri": "https://localhost:8080/"
        },
        "id": "0y43KqsTI0T6",
        "outputId": "dc701f1e-3265-4ab6-f3c0-736a36b64435"
      },
      "execution_count": 56,
      "outputs": [
        {
          "output_type": "execute_result",
          "data": {
            "text/plain": [
              "5"
            ]
          },
          "metadata": {},
          "execution_count": 56
        }
      ]
    },
    {
      "cell_type": "markdown",
      "source": [
        "### 논리 연산자 \n",
        "\n"
      ],
      "metadata": {
        "id": "2lt94mbPI2wJ"
      }
    },
    {
      "cell_type": "markdown",
      "source": [
        "#### 논리 곱 연산자 and\n",
        "\n",
        "- and 연산자를 사용한 식 x and y는 x 그리고 y란 의미이다. 양쪽이 모두 참이어야 한다"
      ],
      "metadata": {
        "id": "pDdwCSS-JQbb"
      }
    },
    {
      "cell_type": "markdown",
      "source": [
        "#### 논리합 연산자 or\n",
        "\n",
        "- or 연산자를 사용한 식 x or y는 x 또는 y라는 의미입니다. 입력받은 값이 어느 한쪽에라도 해당되는가를 판단\n",
        "\n"
      ],
      "metadata": {
        "id": "XcBOrrswJnbp"
      }
    },
    {
      "cell_type": "markdown",
      "source": [
        "#### 논리 부정 연산자 not\n",
        "\n",
        "-  논리의 값을 반전 "
      ],
      "metadata": {
        "id": "EXuacnmkJ64l"
      }
    },
    {
      "cell_type": "code",
      "source": [
        "15 and 16"
      ],
      "metadata": {
        "colab": {
          "base_uri": "https://localhost:8080/"
        },
        "id": "HfaS7jJKJ9Jr",
        "outputId": "d357c4fa-93bf-493d-b91a-6abf54ed9863"
      },
      "execution_count": 58,
      "outputs": [
        {
          "output_type": "execute_result",
          "data": {
            "text/plain": [
              "16"
            ]
          },
          "metadata": {},
          "execution_count": 58
        }
      ]
    },
    {
      "cell_type": "code",
      "source": [
        "15 or 16"
      ],
      "metadata": {
        "colab": {
          "base_uri": "https://localhost:8080/"
        },
        "id": "AHDm6a0nLLHL",
        "outputId": "77ec829e-b167-469e-9086-4f1739a436a9"
      },
      "execution_count": 59,
      "outputs": [
        {
          "output_type": "execute_result",
          "data": {
            "text/plain": [
              "15"
            ]
          },
          "metadata": {},
          "execution_count": 59
        }
      ]
    },
    {
      "cell_type": "code",
      "source": [
        "not 15"
      ],
      "metadata": {
        "colab": {
          "base_uri": "https://localhost:8080/"
        },
        "id": "d85ggq2LLSqx",
        "outputId": "a3968c28-deaf-4eb7-86c6-0c0d770646b7"
      },
      "execution_count": 60,
      "outputs": [
        {
          "output_type": "execute_result",
          "data": {
            "text/plain": [
              "False"
            ]
          },
          "metadata": {},
          "execution_count": 60
        }
      ]
    },
    {
      "cell_type": "code",
      "source": [
        "not 0"
      ],
      "metadata": {
        "colab": {
          "base_uri": "https://localhost:8080/"
        },
        "id": "MMQpvrVhLVue",
        "outputId": "75270130-d719-4acf-bb4e-bd0a9a7fbee4"
      },
      "execution_count": 61,
      "outputs": [
        {
          "output_type": "execute_result",
          "data": {
            "text/plain": [
              "True"
            ]
          },
          "metadata": {},
          "execution_count": 61
        }
      ]
    },
    {
      "cell_type": "markdown",
      "source": [
        "### 논리연산식의 평가와 단락 평가 "
      ],
      "metadata": {
        "id": "T8hFmRE3MhEh"
      }
    },
    {
      "cell_type": "markdown",
      "source": [
        "#### and"
      ],
      "metadata": {
        "id": "vWtVndW2Mp1W"
      }
    },
    {
      "cell_type": "code",
      "source": [
        "a= int(input())\n",
        "b=int(input())\n",
        "\n",
        "c= b!=0 and a%b\n",
        "\n",
        "print(c, end=\" \")\n",
        "\n",
        "if c:\n",
        "  print('a와 b는 나누어 떨어지지 않는다')\n",
        "else:\n",
        "  print('b는 0거나 ,a는 b로 나누어 떨어진다.')"
      ],
      "metadata": {
        "colab": {
          "base_uri": "https://localhost:8080/"
        },
        "id": "nxATVRG4MuYa",
        "outputId": "29d823e4-e2ed-4201-bb43-29f585ef038c"
      },
      "execution_count": 64,
      "outputs": [
        {
          "output_type": "stream",
          "name": "stdout",
          "text": [
            "12\n",
            "4\n",
            "0 b는 0거나 ,a는 b로 나누어 떨어진다.\n"
          ]
        }
      ]
    },
    {
      "cell_type": "markdown",
      "source": [
        "- and 연산자의 기능은 다음과 같다\n",
        "  - x를 평가해서  거짓이면 그 값을 생성한다. 그렇지 않으면 y를 평가하여 그 값을 생성한다. "
      ],
      "metadata": {
        "id": "zHrx56wrNJA_"
      }
    },
    {
      "cell_type": "markdown",
      "source": [
        "- or 연산자의 기능은 다음과 같다\n",
        "  - x를 평가해서 참이면 그  값을 생성하고 그렇지 않으면 y 를 평가하여 그 값을 생성한다. \n",
        "\n",
        "  "
      ],
      "metadata": {
        "id": "ezcIrWT3NkRq"
      }
    },
    {
      "cell_type": "markdown",
      "source": [
        "- 단락평가 : 논리 연산의 쳥가 결과가 왼쪽 피연산자의 평가 결과 만으로 명확해질경우 오른쪽 피연산자의 평가가 생략되는 것을 단락 평가라고 한다. "
      ],
      "metadata": {
        "id": "afqA2MgFN8HC"
      }
    },
    {
      "cell_type": "markdown",
      "source": [
        "### 다중 값 비교 \n",
        "\n",
        "- 논리곱 연산자와 논리합 연산자 or을 사용하여 여러행의 걸처 복잡한 판정을 작성할수 있다. \n",
        "  - 긴 수식은 ()를 이용하면 가독성이 편리하고 괄호안에 주석을 달수도 있다. "
      ],
      "metadata": {
        "id": "ciGch-wwOLC5"
      }
    },
    {
      "cell_type": "markdown",
      "source": [
        "- 비교연산자를 연속으로 사용하면 and 연산자를 사용한것과 같은 결과를 낼수 있따. \n",
        "  - x< y< =z는 x< y and y<=z와 동일하다. "
      ],
      "metadata": {
        "id": "DSFgjfWiR3HD"
      }
    },
    {
      "cell_type": "markdown",
      "source": [
        "### 집합을 이용한 판정 "
      ],
      "metadata": {
        "id": "V5eVDwtSSrKJ"
      }
    },
    {
      "cell_type": "code",
      "source": [
        "month = int(input('계절을 알아봅시다. \\n몇월입니까:'))\n",
        "\n",
        "if month in {3,4,5}:\n",
        "  print(\"봄입니다\")\n",
        "elif month in {6,7,8}:\n",
        "  print(\" 여름입니다. \")\n",
        "elif month in{9, 10,11}:\n",
        "  print(\"가을입니다.\")\n",
        "elif month in {12,1,2}:\n",
        "  print(\"겨울입니다\")"
      ],
      "metadata": {
        "colab": {
          "base_uri": "https://localhost:8080/"
        },
        "id": "Kq_riN-7Sv3J",
        "outputId": "ec3b078f-80f8-4517-e635-7d4a220c75a1"
      },
      "execution_count": 65,
      "outputs": [
        {
          "output_type": "stream",
          "name": "stdout",
          "text": [
            "계절을 알아봅시다. \n",
            "몇월입니까:3\n",
            "봄입니다\n"
          ]
        }
      ]
    },
    {
      "cell_type": "markdown",
      "source": [
        "- 데이터를 쉼표(,)로 구분하여 {}중괄호로 묶은 것을 집합이라고 한다. \n",
        "  -  a in 집합은 a 가 집합에서 포함되어 있는지를 판정한다.\n",
        "\n",
        "  "
      ],
      "metadata": {
        "id": "bIASMsPzTT9o"
      }
    },
    {
      "cell_type": "markdown",
      "source": [
        "### 조건 연산자 \n",
        "\n",
        "- if 문을 사용하지 않은 방식으로도 작성가능하다 \n",
        "\n"
      ],
      "metadata": {
        "id": "TKPEkmztUAdk"
      }
    },
    {
      "cell_type": "code",
      "source": [
        "a= int(input('정수 a:'))\n",
        "b=int(input(' 정수 b:'))\n",
        "\n",
        "min2= a if a <b else b \n",
        "\n",
        "print(' 작은 값은', min2,' 입니다.')"
      ],
      "metadata": {
        "colab": {
          "base_uri": "https://localhost:8080/"
        },
        "id": "vAXsbFEzXpEL",
        "outputId": "2aa949a7-ed8e-46d9-b6c9-5c424dc89e6f"
      },
      "execution_count": 66,
      "outputs": [
        {
          "output_type": "stream",
          "name": "stdout",
          "text": [
            "정수 a:32\n",
            " 정수 b:20\n",
            " 작은 값은 20  입니다.\n"
          ]
        }
      ]
    },
    {
      "cell_type": "markdown",
      "source": [
        "- 조건연산자 \n",
        "  - x if y else z : y를 평가한 값이 참이면 x를 평가한 값을, 그렇지 않으면 z를 평가한 값을 생성합니다.\n",
        "  - 조건연산자는 유일한 3항연산자이다.\n",
        "  - y를 평가한 값이 참이면 z의 평가를 생략 , 거짓이면 x의 평가 생략 즉 단락평가"
      ],
      "metadata": {
        "id": "nahEvWg7YeUv"
      }
    },
    {
      "cell_type": "code",
      "source": [],
      "metadata": {
        "id": "V9YXzHvnYx23"
      },
      "execution_count": null,
      "outputs": []
    }
  ]
}