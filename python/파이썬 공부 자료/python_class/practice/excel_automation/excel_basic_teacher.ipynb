{
 "cells": [
  {
   "attachments": {},
   "cell_type": "markdown",
   "metadata": {},
   "source": [
    "## openpyxl\n",
    "\n",
    "- 파이썬은 => librabry 베이스\n",
    "- 머신러닝 => pytorch // (알고리즘 채워가면 된다.)"
   ]
  },
  {
   "cell_type": "code",
   "execution_count": 1,
   "metadata": {},
   "outputs": [
    {
     "name": "stdout",
     "output_type": "stream",
     "text": [
      "Requirement already satisfied: openpyxl in /Users/inseop/opt/anaconda3/lib/python3.9/site-packages (3.0.10)\n",
      "Requirement already satisfied: et_xmlfile in /Users/inseop/opt/anaconda3/lib/python3.9/site-packages (from openpyxl) (1.1.0)\n"
     ]
    }
   ],
   "source": [
    "!pip install openpyxl"
   ]
  },
  {
   "cell_type": "code",
   "execution_count": 2,
   "metadata": {},
   "outputs": [],
   "source": [
    "import openpyxl"
   ]
  },
  {
   "cell_type": "code",
   "execution_count": 4,
   "metadata": {},
   "outputs": [],
   "source": [
    "# 기본적인 엑셀 파일 생성\n",
    "from datetime import datetime\n",
    "\n",
    "workbook = openpyxl.Workbook() # 하나의 엑셀 파일을 생성\n",
    "# worksheet = workbook['Sheet1']\n",
    "worksheet = workbook.active # 기본 Sheet를 연다\n",
    "\n",
    "worksheet.title = \"Info\" # sheet 이름 지정\n",
    "worksheet.append([\"1\", \"2\", \"3\", \"4\", \"5\"])\n",
    "worksheet.append([\"1\", \"2\", \"3\", \"4\", \"5\"])\n",
    "worksheet.append([\"1\", \"2\", \"3\", \"4\", \"5\"])\n",
    "worksheet.append([\"1\", \"2\", \"3\", \"4\", \"5\"])\n",
    "worksheet.append([\"1\", \"2\", \"3\", \"4\", \"5\"])\n",
    "\n",
    "worksheet.insert_rows(3) # 3행에 비어있는 칸을 생성해죠\n",
    "worksheet.insert_rows(3) # 3행에 비어있는 칸을 생성해죠\n",
    "worksheet.insert_rows(3) # 3행에 비어있는 칸을 생성해죠\n",
    "\n",
    "worksheet.merge_cells(\"A1:D1\")\n",
    "\n",
    "today = datetime.today().strftime(\"%Y-%m-%d\") # 2023-04-28\n",
    "workbook.create_sheet(today)\n",
    "\n",
    "workbook.save(\"./test.xlsx\")"
   ]
  },
  {
   "cell_type": "code",
   "execution_count": 11,
   "metadata": {},
   "outputs": [
    {
     "name": "stdout",
     "output_type": "stream",
     "text": [
      "8\n",
      "5\n"
     ]
    }
   ],
   "source": [
    "# 엑셀 데이터 불러오기\n",
    "\n",
    "wb = openpyxl.load_workbook(\"./test.xlsx\")\n",
    "ws = wb['Info'] # sheet 이름\n",
    "\n",
    "# (1) 좌표값으로 데이터를 불러오는 방법\n",
    "ws.cell(2,5).value # 행, 열\n",
    "\n",
    "# (2) 고유값으로 데이터 불러오는 방법\n",
    "ws['E2'].value\n",
    "\n",
    "# (3) 엑셀 데이터 정보\n",
    "print(ws.max_row)\n",
    "print(ws.max_column)"
   ]
  },
  {
   "cell_type": "code",
   "execution_count": null,
   "metadata": {},
   "outputs": [],
   "source": []
  }
 ],
 "metadata": {
  "kernelspec": {
   "display_name": "base",
   "language": "python",
   "name": "python3"
  },
  "language_info": {
   "codemirror_mode": {
    "name": "ipython",
    "version": 3
   },
   "file_extension": ".py",
   "mimetype": "text/x-python",
   "name": "python",
   "nbconvert_exporter": "python",
   "pygments_lexer": "ipython3",
   "version": "3.9.13"
  },
  "orig_nbformat": 4
 },
 "nbformat": 4,
 "nbformat_minor": 2
}
