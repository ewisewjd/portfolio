{
 "cells": [
  {
   "cell_type": "code",
   "execution_count": 2,
   "metadata": {},
   "outputs": [],
   "source": [
    "from selenium import webdriver\n",
    "from selenium.webdriver.common.by import By\n",
    "import time"
   ]
  },
  {
   "cell_type": "code",
   "execution_count": 3,
   "metadata": {},
   "outputs": [],
   "source": [
    "browser = webdriver.Chrome() # 크롬 브라우저 창을 띄우는 코드"
   ]
  },
  {
   "cell_type": "code",
   "execution_count": 13,
   "metadata": {},
   "outputs": [],
   "source": [
    "url = 'https://news.naver.com/main/list.naver?mode=LS2D&mid=shm&sid1=101&sid2=259'\n",
    "browser.get(url)"
   ]
  },
  {
   "cell_type": "code",
   "execution_count": 8,
   "metadata": {},
   "outputs": [
    {
     "name": "stdout",
     "output_type": "stream",
     "text": [
      "생명보험사들이 출연해 만든 사회공헌활동 기구 생명보험사회공헌위원회가 전국 산불 피해 복구 및 이재민 지원을 위해 5000만원을 …\n",
      "생명보험사회공헌위원회는 19일 전국 산불 피해지역 복구 및 이재민 지원을 위해 대한적십자사를 통해 5000만원을 전달했다고 밝혔 …\n",
      "▲ 삼성카드는 CJ올리브네트웍스, 네이버클라우드, NICE평가정보, 롯데멤버스와 함께 '데이터 얼라이언스' 업무제휴 협약을 체결 …\n",
      "= 19일 오전 서울 중구 하나은행 딜링룸 전광판을 통해 게시된 코스피 지수가 전 거래일(2571.09) 대비 상승 출발을 하고 …\n",
      "= 19일 오전 서울 중구 하나은행 딜링룸 전광판을 통해 게시된 코스피 지수가 전 거래일(2571.09) 대비 상승 출발을 하고 …\n",
      "= 19일 오전 서울 중구 하나은행 딜링룸 전광판을 통해 게시된 코스피 지수가 전 거래일(2571.09) 대비 상승 출발을 하고 …\n",
      "= 19일 오전 서울 중구 하나은행 딜링룸 전광판을 통해 게시된 코스피 지수가 전 거래일(2571.09) 대비 상승 출발을 하고 …\n",
      "= 19일 오전 서울 중구 하나은행 딜링룸 전광판을 통해 게시된 코스피 지수가 전 거래일(2571.09) 대비 상승 출발을 하고 …\n",
      "= 19일 오전 서울 중구 하나은행 딜링룸 전광판을 통해 게시된 코스피 지수가 전 거래일(2571.09) 대비 상승 출발을 하고 …\n",
      "= 19일 오전 서울 중구 하나은행 딜링룸 전광판을 통해 게시된 코스피 지수가 전 거래일(2571.09) 대비 상승 출발을 하고 …\n",
      "하나은행이 개인사업자 전용 모바일 플랫폼인 ‘사장님ON’의 금융·비금융 서비스를 강화한다고 19일 밝혔다. 하나은행의 ‘사장님O …\n",
      "KB자산운용이 글로벌 자산군에 분산 투자하는 ‘KB DWS멀티에셋와이즈리턴펀드’를 출시한다고 19일 밝혔다. ‘KB DWS멀티에 …\n",
      "DB손해보험은 지난 10일 의사나라를 운영하고 있는 한국엠바이오와 의사나라 의료배상책임보험 출시를 위한 업무협약을 체결했다고 1 …\n",
      "토스는 어린이⋅청소년용 선불 카드인 '유스카드' 누적 발급량이 100만장을 넘어섰다고 19일 밝혔다. 토스에 따르면 …\n",
      "이차전지(2차전지) 양극재 업체 에코프로(086520)가 장 초반 3% 이상 하락하고 있다. 오는 5월 예정된 모건스탠리캐피탈인 …\n",
      "수출입은행은 지난 18일 여의도 본점에서 올해 첫 'ESG(환경·사회·지배구조) 위원회'를 개최했다고 19일 밝혔다. 이에 앞서 …\n",
      "기사내용 요약 비트코인, 2.35% 뛴 3961만원 하루 만에 3만달러 회복 [서울=뉴시스]이지영 기자 = 이틀 연속 급락세를 …\n",
      "한국투자증권은 LG화학의 첨단소재와 배터리 부문 성장이 본격화할 것이라며 목표주가를 기존 94만원에서 106만원으로 올린다고 1 …\n",
      "신한은행은 본점에서 창업진흥원과 유망 스타트업의 발굴·육성 및 ESG 경영지원을 위해 업무협약을 체결했다고 19일 밝혔다. 창업 …\n",
      "한국수출입은행은 환경·사회·지배구조(ESG) 주요 현안들을 다룬 ESG 위원회를 개최했다고 19일 밝혔다. 수은은 지난 18일 …\n"
     ]
    }
   ],
   "source": [
    "# 뉴스 제목, 뉴스 내용, 언론사\n",
    "\n",
    "# first_content = browser.find_element(By.CLASS_NAME, 'lede').text\n",
    "\n",
    "contents = browser.find_elements(By.CLASS_NAME, 'lede')\n",
    "\n",
    "for i in contents:\n",
    "    print(i.text)"
   ]
  },
  {
   "cell_type": "code",
   "execution_count": 22,
   "metadata": {},
   "outputs": [
    {
     "name": "stdout",
     "output_type": "stream",
     "text": [
      "Requirement already satisfied: pandas in /opt/homebrew/lib/python3.10/site-packages (1.5.3)\n",
      "Requirement already satisfied: numpy>=1.21.0 in /opt/homebrew/lib/python3.10/site-packages (from pandas) (1.24.1)\n",
      "Requirement already satisfied: python-dateutil>=2.8.1 in /Users/inseop/Library/Python/3.10/lib/python/site-packages (from pandas) (2.8.2)\n",
      "Requirement already satisfied: pytz>=2020.1 in /opt/homebrew/lib/python3.10/site-packages (from pandas) (2022.7.1)\n",
      "Requirement already satisfied: six>=1.5 in /opt/homebrew/lib/python3.10/site-packages (from python-dateutil>=2.8.1->pandas) (1.16.0)\n",
      "\n",
      "\u001b[1m[\u001b[0m\u001b[34;49mnotice\u001b[0m\u001b[1;39;49m]\u001b[0m\u001b[39;49m A new release of pip is available: \u001b[0m\u001b[31;49m23.0\u001b[0m\u001b[39;49m -> \u001b[0m\u001b[32;49m23.1\u001b[0m\n",
      "\u001b[1m[\u001b[0m\u001b[34;49mnotice\u001b[0m\u001b[1;39;49m]\u001b[0m\u001b[39;49m To update, run: \u001b[0m\u001b[32;49mpython3.10 -m pip install --upgrade pip\u001b[0m\n",
      "Note: you may need to restart the kernel to use updated packages.\n"
     ]
    }
   ],
   "source": [
    "pip install pandas"
   ]
  },
  {
   "cell_type": "code",
   "execution_count": 23,
   "metadata": {},
   "outputs": [],
   "source": [
    "import pandas as pd"
   ]
  },
  {
   "cell_type": "code",
   "execution_count": 24,
   "metadata": {},
   "outputs": [],
   "source": [
    "# 할머니\n",
    "table = browser.find_element(By.CLASS_NAME, 'list_body')\n",
    "\n",
    "# 엄마\n",
    "# datas = table.find_elements(By.CLASS_NAME, 'photo') # photo가 없는 경우에는 뉴스 크롤링이 불가함.\n",
    "\n",
    "datas = table.find_elements(By.TAG_NAME, 'li')\n",
    "\n",
    "data_list = []\n",
    "for i in datas:\n",
    "    link = i.find_element(By.TAG_NAME, 'a').get_attribute('href')\n",
    "    # print(link)\n",
    "\n",
    "    title = i.find_element(By.TAG_NAME, 'img').get_attribute('alt')\n",
    "    # print(title)\n",
    "\n",
    "    content = i.find_element(By.CLASS_NAME, 'lede').text\n",
    "    # print(content)\n",
    "\n",
    "    data = {\n",
    "        \"title\" : title,\n",
    "        \"content\" : content,\n",
    "        \"link\" : link\n",
    "    }\n",
    "\n",
    "    data_list.append(data)\n",
    "\n",
    "df = pd.DataFrame(data_list)\n",
    "df.to_csv(\"./naver_news.csv\", encoding=\"utf-8-sig\") # csv파일 저장"
   ]
  },
  {
   "cell_type": "code",
   "execution_count": null,
   "metadata": {},
   "outputs": [],
   "source": []
  }
 ],
 "metadata": {
  "interpreter": {
   "hash": "1b420848bddad60c0e5045a5b23e65b559d259bcc34afb948709bef4d47348d9"
  },
  "kernelspec": {
   "display_name": "Python 3.11.1 64-bit",
   "language": "python",
   "name": "python3"
  },
  "language_info": {
   "codemirror_mode": {
    "name": "ipython",
    "version": 3
   },
   "file_extension": ".py",
   "mimetype": "text/x-python",
   "name": "python",
   "nbconvert_exporter": "python",
   "pygments_lexer": "ipython3",
   "version": "3.11.1"
  },
  "orig_nbformat": 4,
  "vscode": {
   "interpreter": {
    "hash": "6ecdebf77f2ee3a47348d003f751c63e810ca996c1c68d1179f338200fa83b34"
   }
  }
 },
 "nbformat": 4,
 "nbformat_minor": 2
}
