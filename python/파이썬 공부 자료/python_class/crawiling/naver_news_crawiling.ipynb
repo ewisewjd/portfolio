{
 "cells": [
  {
   "cell_type": "code",
   "execution_count": 12,
   "metadata": {},
   "outputs": [],
   "source": [
    "from selenium import webdriver\n",
    "from selenium.webdriver.common.by import By\n",
    "import time "
   ]
  },
  {
   "cell_type": "code",
   "execution_count": 6,
   "metadata": {},
   "outputs": [
    {
     "name": "stdout",
     "output_type": "stream",
     "text": [
      "Collecting selenium\n",
      "  Downloading selenium-4.8.3-py3-none-any.whl (6.5 MB)\n",
      "     ---------------------------------------- 6.5/6.5 MB 4.6 MB/s eta 0:00:00\n",
      "Collecting urllib3[socks]~=1.26\n",
      "  Downloading urllib3-1.26.15-py2.py3-none-any.whl (140 kB)\n",
      "     -------------------------------------- 140.9/140.9 kB 4.2 MB/s eta 0:00:00\n",
      "Collecting trio~=0.17\n",
      "  Downloading trio-0.22.0-py3-none-any.whl (384 kB)\n",
      "     -------------------------------------- 384.9/384.9 kB 6.0 MB/s eta 0:00:00\n",
      "Collecting trio-websocket~=0.9\n",
      "  Downloading trio_websocket-0.10.2-py3-none-any.whl (17 kB)\n",
      "Collecting certifi>=2021.10.8\n",
      "  Downloading certifi-2022.12.7-py3-none-any.whl (155 kB)\n",
      "     -------------------------------------- 155.3/155.3 kB 4.7 MB/s eta 0:00:00\n",
      "Collecting attrs>=19.2.0\n",
      "  Downloading attrs-23.1.0-py3-none-any.whl (61 kB)\n",
      "     ---------------------------------------- 61.2/61.2 kB 1.6 MB/s eta 0:00:00\n",
      "Collecting sortedcontainers\n",
      "  Downloading sortedcontainers-2.4.0-py2.py3-none-any.whl (29 kB)\n",
      "Collecting async-generator>=1.9\n",
      "  Downloading async_generator-1.10-py3-none-any.whl (18 kB)\n",
      "Collecting idna\n",
      "  Downloading idna-3.4-py3-none-any.whl (61 kB)\n",
      "     ---------------------------------------- 61.5/61.5 kB 3.2 MB/s eta 0:00:00\n",
      "Collecting outcome\n",
      "  Downloading outcome-1.2.0-py2.py3-none-any.whl (9.7 kB)\n",
      "Collecting sniffio\n",
      "  Using cached sniffio-1.3.0-py3-none-any.whl (10 kB)\n",
      "Collecting cffi>=1.14\n",
      "  Downloading cffi-1.15.1-cp311-cp311-win_amd64.whl (179 kB)\n",
      "     -------------------------------------- 179.0/179.0 kB 5.4 MB/s eta 0:00:00\n",
      "Collecting exceptiongroup\n",
      "  Downloading exceptiongroup-1.1.1-py3-none-any.whl (14 kB)\n",
      "Collecting wsproto>=0.14\n",
      "  Downloading wsproto-1.2.0-py3-none-any.whl (24 kB)\n",
      "Collecting PySocks!=1.5.7,<2.0,>=1.5.6\n",
      "  Downloading PySocks-1.7.1-py3-none-any.whl (16 kB)\n",
      "Collecting pycparser\n",
      "  Using cached pycparser-2.21-py2.py3-none-any.whl (118 kB)\n",
      "Collecting h11<1,>=0.9.0\n",
      "  Downloading h11-0.14.0-py3-none-any.whl (58 kB)\n",
      "     ---------------------------------------- 58.3/58.3 kB 3.0 MB/s eta 0:00:00\n",
      "Installing collected packages: sortedcontainers, urllib3, sniffio, PySocks, pycparser, idna, h11, exceptiongroup, certifi, attrs, async-generator, wsproto, outcome, cffi, trio, trio-websocket, selenium\n",
      "Successfully installed PySocks-1.7.1 async-generator-1.10 attrs-23.1.0 certifi-2022.12.7 cffi-1.15.1 exceptiongroup-1.1.1 h11-0.14.0 idna-3.4 outcome-1.2.0 pycparser-2.21 selenium-4.8.3 sniffio-1.3.0 sortedcontainers-2.4.0 trio-0.22.0 trio-websocket-0.10.2 urllib3-1.26.15 wsproto-1.2.0\n",
      "Note: you may need to restart the kernel to use updated packages.\n"
     ]
    },
    {
     "name": "stderr",
     "output_type": "stream",
     "text": [
      "\n",
      "[notice] A new release of pip available: 22.3.1 -> 23.1\n",
      "[notice] To update, run: python.exe -m pip install --upgrade pip\n"
     ]
    }
   ],
   "source": [
    "pip install selenium"
   ]
  },
  {
   "cell_type": "code",
   "execution_count": 24,
   "metadata": {},
   "outputs": [],
   "source": [
    "browser=webdriver.Chrome ()"
   ]
  },
  {
   "cell_type": "code",
   "execution_count": 33,
   "metadata": {},
   "outputs": [],
   "source": [
    "url='https://news.naver.com/main/list.naver?mode=LS2D&mid=shm&sid1=101&sid2=259'\n",
    "browser.get(url)"
   ]
  },
  {
   "cell_type": "code",
   "execution_count": 34,
   "metadata": {},
   "outputs": [
    {
     "name": "stdout",
     "output_type": "stream",
     "text": [
      "‘부산 블록체인 콘퍼런스’(BBC·Busan Blockchain Conference)가 오는 24일 열린다. 블록체인 관련 민관 …\n",
      "IBK기업은행은 '2023 IBK기업은행배 여자바둑 마스터스' 대회를 지난해에 이어 3회째 개최한다고 19일 밝혔다. 이번 달 …\n",
      "DB손해보험(대표 정종표)은 의료품 쇼핑몰 의사나라를 운영하는 한국엠바이오㈜(대표 구본훈)와 ‘의사나라 의료배상책임보험’ 출시를 …\n",
      "KB손해보험 등 KB금융그룹 내 5개 계열사가 소방산업 발전 기여를 위해 소방산업공제조합과 소방산업 발전 및 공제사업 활성화를 …\n",
      "추경호 경제부총리는 최근 가속화되고 있는 경제분절화와 관련해 범정부 차원에 사전점검·대응체계를 운영하고 있다며 '경제안보공급망 …\n",
      "생명보험사회공헌위원회는 19일 전국 산불 피해지역 복구 및 이재민 지원을 위해 대한적십자사를 통해 5000만원을 전달했다. 정희 …\n",
      "중국 춘추시대 정(鄭) 나라에 자산(子産) 이란 명재상이 있었습니다. 공자(孔子)도 깊은 존경을 밝힌 인물입니다. 당시 정나라는 …\n",
      "교보생명이 중소기업벤처부 주관 기술창업투자 프로그램 '팁스' 운영사로 선정됐다고 19일 밝혔다. 팁스는 중소벤처기업부와 한국엔젤 …\n",
      "침체된 반도체 경기가 하반기에는 개선될 가능성이 높지만 회복 시점과 속도의 불확실성은 여전히 크다는 분석이 나왔다. 한국은행 조 …\n",
      "기사내용 요약 6월 중 최종 합격자 발표 금융투자협회는 올해 신입직원 공개채용을 실시한다고 19일 밝혔다. 채용부문은 ▲일반(경 …\n",
      "하나은행은 개인사업자를 위한 전용 모바일 플랫폼인 '사장님ON'의 금융 및 비금융 서비스를 확대한다고 19일 밝혔다. '사장님O …\n",
      "KB국민은행은 택시호출 플랫폼 우티(UT)와 함께 음주운전 예방 캠페인을 실시한다고 19일 밝혔다. 국민은행은 지난해 9월 티맵 …\n",
      "카카오뱅크는 세계 최대 규모의 사이버 방어 훈련인 ‘락드쉴즈(Locked Shields) 2023’에 대한민국 연합팀 일원으로 …\n",
      "DB손해보험(대표 정종표)은 지난 10일 의료소모품 쇼핑몰 '의사나라' 운영회사인 한국엠바이오(대표 구본훈)와 신규 의료배상책임 …\n",
      "국내 대형 시중은행들의 해외 유가증권 투자 수익률이 일제히 하강 곡선을 그린 것으로 나타났다. 다른 부문의 자산운용 효율이 전반 …\n",
      "하나은행이 개인사업자를 위한 전용 모바일 플랫폼 '사장님온(ON)'을 통해 차별화된 금융 및 비금융 서비스를 제공한다. 사장님O …\n",
      "기사내용 요약 DWS자산운용, 6292억원에 매각 마스턴투자운용이 광화문 지역을 대표하는 콘코디언 빌딩 인수를 확정했다고 19일 …\n",
      "19일 서울시 중구 농협중앙회 본관에서 박홍진 현대그린푸드 사장(왼쪽)과 우성태 농협경제지주 대표가 국산 농식품 판로 확대를 위 …\n",
      "18일 미국 주요지수 흐름 엇갈려 ‘삼성과 결별설’ 구글 연일 하락 넷플릭스 매출 기대 소폭 밑돌아 골드만삭스 실적 부진·BoA …\n",
      "케이뱅크가 자동차보험료를 조회하면 모바일상품권 1만원을 지급하는 이벤트를 실시한다. 케이뱅크는 DB손해보험과 제휴를 맺고 다이렉 …\n"
     ]
    }
   ],
   "source": [
    "# 뉴스 제목 , 뉴스 내용 , 언론사 \n",
    "\n",
    "contents=browser.find_elements(By.CLASS_NAME,\"lede\")\n",
    "\n",
    "for i in contents:\n",
    "    print(i.text) "
   ]
  },
  {
   "cell_type": "code",
   "execution_count": 27,
   "metadata": {},
   "outputs": [
    {
     "name": "stdout",
     "output_type": "stream",
     "text": [
      "기사내용 요약 6월 중 최종 합격자 발표 금융투자협회는 올해 신입직원 공개채용을 실시한다고 19일 밝혔다. 채용부문은 ▲일반(경 …\n",
      "하나은행은 개인사업자를 위한 전용 모바일 플랫폼인 '사장님ON'의 금융 및 비금융 서비스를 확대한다고 19일 밝혔다. '사장님O …\n",
      "최근 음주운전으로 인한 인명 사고가 잇따르는 가운데 국민은행이 택시호출 플랫폼 UT(우티)와 함께 ‘음주운전 예방 캠페인’을 실 …\n",
      "KB국민은행은 택시호출 플랫폼 우티(UT)와 함께 음주운전 예방 캠페인을 실시한다고 19일 밝혔다. 국민은행은 지난해 9월 티맵 …\n",
      "카카오뱅크는 세계 최대 규모의 사이버 방어 훈련인 ‘락드쉴즈(Locked Shields) 2023’에 대한민국 연합팀 일원으로 …\n",
      "DB손해보험(대표 정종표)은 지난 10일 의료소모품 쇼핑몰 '의사나라' 운영회사인 한국엠바이오(대표 구본훈)와 신규 의료배상책임 …\n",
      "국내 대형 시중은행들의 해외 유가증권 투자 수익률이 일제히 하강 곡선을 그린 것으로 나타났다. 다른 부문의 자산운용 효율이 전반 …\n",
      "하나은행이 개인사업자를 위한 전용 모바일 플랫폼 '사장님온(ON)'을 통해 차별화된 금융 및 비금융 서비스를 제공한다. 사장님O …\n",
      "기사내용 요약 DWS자산운용, 6292억원에 매각 마스턴투자운용이 광화문 지역을 대표하는 콘코디언 빌딩 인수를 확정했다고 19일 …\n",
      "19일 서울시 중구 농협중앙회 본관에서 박홍진 현대그린푸드 사장(왼쪽)과 우성태 농협경제지주 대표가 국산 농식품 판로 확대를 위 …\n",
      "18일 미국 주요지수 흐름 엇갈려 ‘삼성과 결별설’ 구글 연일 하락 넷플릭스 매출 기대 소폭 밑돌아 골드만삭스 실적 부진·BoA …\n",
      "케이뱅크가 자동차보험료를 조회하면 모바일상품권 1만원을 지급하는 이벤트를 실시한다. 케이뱅크는 DB손해보험과 제휴를 맺고 다이렉 …\n",
      "올해 1분기 파생결합증권(DLS) 미상환 발행잔액이 증가한 것으로 나타났다. 한국예탁결제원은 지난 달 말 기준 DLS 미상환 발 …\n",
      "Sh수협은행은 부경대에 '해양·수산 전문인력 양성 및 연구활동 지원'을 위한 학교 발전기금 3억원을 전달했다고 18일 밝혔다. …\n",
      "모바일 금융 서비스 ‘토스'를 운영하는 비바리퍼블리카(이하 토스)는 어린이·청소년용 선불 카드인 ‘유스카드(USS card)’ …\n",
      "KB손해보험 등 KB금융지주(105560) 내 5개 계열사는 지난 18일 소방산업공제조합과 소방산업 발전 및 공제사업 활성화를 …\n",
      "토스(비바리퍼블리카)는 어린이·청소년용 선불 카드 '유스카드'의 누적 발급량이 100만장을 돌파했다고 19일 밝혔다. 유스카드는 …\n",
      "한국투자증권은 19일 크래프톤에 대해 작은 변화에도 주가가 오를 수 있다며 목표주가를 기존 20만원에서 22만원으로 올렸다. 정 …\n",
      "모바일 금융 서비스 ‘토스’ 운영사 비바리퍼블리카는 어린이·청소년용 선불 카드인 ‘유스카드(USS card)’ 누적 발급량 10 …\n",
      "교보생명은 보험업권 최초로 중소기업벤처부 주관 기술창업투자 프로그램인 ‘팁스(TIPS)’의 운영사로 선정됐다고 19일 밝혔다. …\n"
     ]
    }
   ],
   "source": [
    "# 뉴스 제목, 뉴스 내용, 언론사\n",
    "\n",
    "# first_content = browser.find_element(By.CLASS_NAME, 'lede').text\n",
    "\n",
    "contents = browser.find_elements(By.CLASS_NAME, 'lede')\n",
    "\n",
    "for i in contents:\n",
    "    print(i.text)"
   ]
  },
  {
   "cell_type": "code",
   "execution_count": 28,
   "metadata": {},
   "outputs": [
    {
     "data": {
      "text/plain": [
       "20"
      ]
     },
     "execution_count": 28,
     "metadata": {},
     "output_type": "execute_result"
    }
   ],
   "source": [
    "# 할머니\n",
    "table = browser.find_element(By.CLASS_NAME, 'list_body')\n",
    "\n",
    "# 엄마\n",
    "datas = table.find_elements(By.CLASS_NAME, 'photo') # photo가 없는 경우에는 뉴스 크롤링이 불가능함\n",
    "len(datas)\n",
    "\n"
   ]
  },
  {
   "cell_type": "code",
   "execution_count": 30,
   "metadata": {},
   "outputs": [
    {
     "name": "stdout",
     "output_type": "stream",
     "text": [
      "\n",
      "\n",
      "\n",
      "\n",
      "\n",
      "\n",
      "\n",
      "\n",
      "\n",
      "\n",
      "\n",
      "\n",
      "\n",
      "\n",
      "\n",
      "\n",
      "\n",
      "\n",
      "\n",
      "\n"
     ]
    }
   ],
   "source": [
    "datas = table.find_elements(By.TAG_NAME, 'li') \n",
    "len(datas)\n",
    "\n",
    "for i in datas:\n",
    "    dt_list=i.find_element(By.TAG_NAME, \"dt\").text\n",
    "    if len(dt_list)==2: #img 태그가 있다는 뜻임\n",
    "        i.find_element(By.TAG_NAME,'a').get_attribute('alt')\n",
    "    elif len(dt_list)==1: # img태그가있다는 뜻 \n",
    "        "
   ]
  },
  {
   "cell_type": "code",
   "execution_count": 35,
   "metadata": {},
   "outputs": [
    {
     "ename": "StaleElementReferenceException",
     "evalue": "Message: stale element reference: element is not attached to the page document\n  (Session info: chrome=112.0.5615.121)\nStacktrace:\nBacktrace:\n\tGetHandleVerifier [0x0115DCE3+50899]\n\t(No symbol) [0x010EE111]\n\t(No symbol) [0x00FF5588]\n\t(No symbol) [0x00FF7EDB]\n\t(No symbol) [0x00FF7DB0]\n\t(No symbol) [0x00FF8030]\n\t(No symbol) [0x01020552]\n\t(No symbol) [0x01020AFB]\n\t(No symbol) [0x01018F71]\n\t(No symbol) [0x0103B944]\n\t(No symbol) [0x01018EC6]\n\t(No symbol) [0x0103BC54]\n\t(No symbol) [0x0104E01C]\n\t(No symbol) [0x0103B6F6]\n\t(No symbol) [0x01017708]\n\t(No symbol) [0x0101886D]\n\tGetHandleVerifier [0x013C3EAE+2566302]\n\tGetHandleVerifier [0x013F92B1+2784417]\n\tGetHandleVerifier [0x013F327C+2759788]\n\tGetHandleVerifier [0x011F5740+672048]\n\t(No symbol) [0x010F8872]\n\t(No symbol) [0x010F41C8]\n\t(No symbol) [0x010F42AB]\n\t(No symbol) [0x010E71B7]\n\tBaseThreadInitThunk [0x779BFA29+25]\n\tRtlGetAppContainerNamedObjectPath [0x77E17A7E+286]\n\tRtlGetAppContainerNamedObjectPath [0x77E17A4E+238]\n",
     "output_type": "error",
     "traceback": [
      "\u001b[1;31m---------------------------------------------------------------------------\u001b[0m",
      "\u001b[1;31mStaleElementReferenceException\u001b[0m            Traceback (most recent call last)",
      "Cell \u001b[1;32mIn[35], line 2\u001b[0m\n\u001b[0;32m      1\u001b[0m \u001b[38;5;28;01mfor\u001b[39;00m i \u001b[38;5;129;01min\u001b[39;00m datas:\n\u001b[1;32m----> 2\u001b[0m     link\u001b[38;5;241m=\u001b[39m\u001b[43mi\u001b[49m\u001b[38;5;241;43m.\u001b[39;49m\u001b[43mfind_element\u001b[49m\u001b[43m(\u001b[49m\u001b[43mBy\u001b[49m\u001b[38;5;241;43m.\u001b[39;49m\u001b[43mTAG_NAME\u001b[49m\u001b[43m,\u001b[49m\u001b[38;5;124;43m'\u001b[39;49m\u001b[38;5;124;43ma\u001b[39;49m\u001b[38;5;124;43m'\u001b[39;49m\u001b[43m)\u001b[49m\u001b[38;5;241m.\u001b[39mget_attribute(\u001b[38;5;124m'\u001b[39m\u001b[38;5;124mhref\u001b[39m\u001b[38;5;124m'\u001b[39m)\n\u001b[0;32m      4\u001b[0m     title\u001b[38;5;241m=\u001b[39mi\u001b[38;5;241m.\u001b[39mfind_element(By\u001b[38;5;241m.\u001b[39mTAG_NAME,\u001b[38;5;124m'\u001b[39m\u001b[38;5;124mimg\u001b[39m\u001b[38;5;124m'\u001b[39m)\u001b[38;5;241m.\u001b[39mget_attribute(\u001b[38;5;124m'\u001b[39m\u001b[38;5;124malt\u001b[39m\u001b[38;5;124m'\u001b[39m)\n\u001b[0;32m      5\u001b[0m     \u001b[38;5;28mprint\u001b[39m(title)\n",
      "File \u001b[1;32mc:\\Users\\jung\\AppData\\Local\\Programs\\Python\\Python311\\Lib\\site-packages\\selenium\\webdriver\\remote\\webelement.py:426\u001b[0m, in \u001b[0;36mWebElement.find_element\u001b[1;34m(self, by, value)\u001b[0m\n\u001b[0;32m    <a href='file:///c%3A/Users/jung/AppData/Local/Programs/Python/Python311/Lib/site-packages/selenium/webdriver/remote/webelement.py?line=422'>423</a>\u001b[0m     by \u001b[39m=\u001b[39m By\u001b[39m.\u001b[39mCSS_SELECTOR\n\u001b[0;32m    <a href='file:///c%3A/Users/jung/AppData/Local/Programs/Python/Python311/Lib/site-packages/selenium/webdriver/remote/webelement.py?line=423'>424</a>\u001b[0m     value \u001b[39m=\u001b[39m \u001b[39mf\u001b[39m\u001b[39m'\u001b[39m\u001b[39m[name=\u001b[39m\u001b[39m\"\u001b[39m\u001b[39m{\u001b[39;00mvalue\u001b[39m}\u001b[39;00m\u001b[39m\"\u001b[39m\u001b[39m]\u001b[39m\u001b[39m'\u001b[39m\n\u001b[1;32m--> <a href='file:///c%3A/Users/jung/AppData/Local/Programs/Python/Python311/Lib/site-packages/selenium/webdriver/remote/webelement.py?line=425'>426</a>\u001b[0m \u001b[39mreturn\u001b[39;00m \u001b[39mself\u001b[39;49m\u001b[39m.\u001b[39;49m_execute(Command\u001b[39m.\u001b[39;49mFIND_CHILD_ELEMENT, {\u001b[39m\"\u001b[39;49m\u001b[39musing\u001b[39;49m\u001b[39m\"\u001b[39;49m: by, \u001b[39m\"\u001b[39;49m\u001b[39mvalue\u001b[39;49m\u001b[39m\"\u001b[39;49m: value})[\u001b[39m\"\u001b[39m\u001b[39mvalue\u001b[39m\u001b[39m\"\u001b[39m]\n",
      "File \u001b[1;32mc:\\Users\\jung\\AppData\\Local\\Programs\\Python\\Python311\\Lib\\site-packages\\selenium\\webdriver\\remote\\webelement.py:404\u001b[0m, in \u001b[0;36mWebElement._execute\u001b[1;34m(self, command, params)\u001b[0m\n\u001b[0;32m    <a href='file:///c%3A/Users/jung/AppData/Local/Programs/Python/Python311/Lib/site-packages/selenium/webdriver/remote/webelement.py?line=401'>402</a>\u001b[0m     params \u001b[39m=\u001b[39m {}\n\u001b[0;32m    <a href='file:///c%3A/Users/jung/AppData/Local/Programs/Python/Python311/Lib/site-packages/selenium/webdriver/remote/webelement.py?line=402'>403</a>\u001b[0m params[\u001b[39m\"\u001b[39m\u001b[39mid\u001b[39m\u001b[39m\"\u001b[39m] \u001b[39m=\u001b[39m \u001b[39mself\u001b[39m\u001b[39m.\u001b[39m_id\n\u001b[1;32m--> <a href='file:///c%3A/Users/jung/AppData/Local/Programs/Python/Python311/Lib/site-packages/selenium/webdriver/remote/webelement.py?line=403'>404</a>\u001b[0m \u001b[39mreturn\u001b[39;00m \u001b[39mself\u001b[39;49m\u001b[39m.\u001b[39;49m_parent\u001b[39m.\u001b[39;49mexecute(command, params)\n",
      "File \u001b[1;32mc:\\Users\\jung\\AppData\\Local\\Programs\\Python\\Python311\\Lib\\site-packages\\selenium\\webdriver\\remote\\webdriver.py:440\u001b[0m, in \u001b[0;36mWebDriver.execute\u001b[1;34m(self, driver_command, params)\u001b[0m\n\u001b[0;32m    <a href='file:///c%3A/Users/jung/AppData/Local/Programs/Python/Python311/Lib/site-packages/selenium/webdriver/remote/webdriver.py?line=437'>438</a>\u001b[0m response \u001b[39m=\u001b[39m \u001b[39mself\u001b[39m\u001b[39m.\u001b[39mcommand_executor\u001b[39m.\u001b[39mexecute(driver_command, params)\n\u001b[0;32m    <a href='file:///c%3A/Users/jung/AppData/Local/Programs/Python/Python311/Lib/site-packages/selenium/webdriver/remote/webdriver.py?line=438'>439</a>\u001b[0m \u001b[39mif\u001b[39;00m response:\n\u001b[1;32m--> <a href='file:///c%3A/Users/jung/AppData/Local/Programs/Python/Python311/Lib/site-packages/selenium/webdriver/remote/webdriver.py?line=439'>440</a>\u001b[0m     \u001b[39mself\u001b[39;49m\u001b[39m.\u001b[39;49merror_handler\u001b[39m.\u001b[39;49mcheck_response(response)\n\u001b[0;32m    <a href='file:///c%3A/Users/jung/AppData/Local/Programs/Python/Python311/Lib/site-packages/selenium/webdriver/remote/webdriver.py?line=440'>441</a>\u001b[0m     response[\u001b[39m\"\u001b[39m\u001b[39mvalue\u001b[39m\u001b[39m\"\u001b[39m] \u001b[39m=\u001b[39m \u001b[39mself\u001b[39m\u001b[39m.\u001b[39m_unwrap_value(response\u001b[39m.\u001b[39mget(\u001b[39m\"\u001b[39m\u001b[39mvalue\u001b[39m\u001b[39m\"\u001b[39m, \u001b[39mNone\u001b[39;00m))\n\u001b[0;32m    <a href='file:///c%3A/Users/jung/AppData/Local/Programs/Python/Python311/Lib/site-packages/selenium/webdriver/remote/webdriver.py?line=441'>442</a>\u001b[0m     \u001b[39mreturn\u001b[39;00m response\n",
      "File \u001b[1;32mc:\\Users\\jung\\AppData\\Local\\Programs\\Python\\Python311\\Lib\\site-packages\\selenium\\webdriver\\remote\\errorhandler.py:245\u001b[0m, in \u001b[0;36mErrorHandler.check_response\u001b[1;34m(self, response)\u001b[0m\n\u001b[0;32m    <a href='file:///c%3A/Users/jung/AppData/Local/Programs/Python/Python311/Lib/site-packages/selenium/webdriver/remote/errorhandler.py?line=242'>243</a>\u001b[0m         alert_text \u001b[39m=\u001b[39m value[\u001b[39m\"\u001b[39m\u001b[39malert\u001b[39m\u001b[39m\"\u001b[39m]\u001b[39m.\u001b[39mget(\u001b[39m\"\u001b[39m\u001b[39mtext\u001b[39m\u001b[39m\"\u001b[39m)\n\u001b[0;32m    <a href='file:///c%3A/Users/jung/AppData/Local/Programs/Python/Python311/Lib/site-packages/selenium/webdriver/remote/errorhandler.py?line=243'>244</a>\u001b[0m     \u001b[39mraise\u001b[39;00m exception_class(message, screen, stacktrace, alert_text)  \u001b[39m# type: ignore[call-arg]  # mypy is not smart enough here\u001b[39;00m\n\u001b[1;32m--> <a href='file:///c%3A/Users/jung/AppData/Local/Programs/Python/Python311/Lib/site-packages/selenium/webdriver/remote/errorhandler.py?line=244'>245</a>\u001b[0m \u001b[39mraise\u001b[39;00m exception_class(message, screen, stacktrace)\n",
      "\u001b[1;31mStaleElementReferenceException\u001b[0m: Message: stale element reference: element is not attached to the page document\n  (Session info: chrome=112.0.5615.121)\nStacktrace:\nBacktrace:\n\tGetHandleVerifier [0x0115DCE3+50899]\n\t(No symbol) [0x010EE111]\n\t(No symbol) [0x00FF5588]\n\t(No symbol) [0x00FF7EDB]\n\t(No symbol) [0x00FF7DB0]\n\t(No symbol) [0x00FF8030]\n\t(No symbol) [0x01020552]\n\t(No symbol) [0x01020AFB]\n\t(No symbol) [0x01018F71]\n\t(No symbol) [0x0103B944]\n\t(No symbol) [0x01018EC6]\n\t(No symbol) [0x0103BC54]\n\t(No symbol) [0x0104E01C]\n\t(No symbol) [0x0103B6F6]\n\t(No symbol) [0x01017708]\n\t(No symbol) [0x0101886D]\n\tGetHandleVerifier [0x013C3EAE+2566302]\n\tGetHandleVerifier [0x013F92B1+2784417]\n\tGetHandleVerifier [0x013F327C+2759788]\n\tGetHandleVerifier [0x011F5740+672048]\n\t(No symbol) [0x010F8872]\n\t(No symbol) [0x010F41C8]\n\t(No symbol) [0x010F42AB]\n\t(No symbol) [0x010E71B7]\n\tBaseThreadInitThunk [0x779BFA29+25]\n\tRtlGetAppContainerNamedObjectPath [0x77E17A7E+286]\n\tRtlGetAppContainerNamedObjectPath [0x77E17A4E+238]\n"
     ]
    }
   ],
   "source": [
    "for i in datas:\n",
    "    link=i.find_element(By.TAG_NAME,'a').get_attribute('href')\n",
    "    \n",
    "    title=i.find_element(By.TAG_NAME,'img').get_attribute('alt')\n",
    "    print(title)"
   ]
  },
  {
   "cell_type": "code",
   "execution_count": 41,
   "metadata": {},
   "outputs": [],
   "source": [
    "# 할머니\n",
    "table = browser.find_element(By.CLASS_NAME, 'list_body')\n",
    "\n",
    "# 엄마\n",
    "# datas = table.find_elements(By.CLASS_NAME, 'photo') # photo가 없는 경우에는 뉴스 크롤링이 불가함.\n",
    "\n",
    "datas = table.find_elements(By.TAG_NAME, 'li')\n",
    "\n",
    "# for i in datas:\n",
    "#     dt_list = i.find_elements(By.TAG_NAME, 'dt')\n",
    "#     if len(dt_list) == 2: # img 태그가 있다는 뜻.\n",
    "#         i.find_element(By.TAG_NAME, 'a').get_attribute('alt')\n",
    "#     elif len(dt_list) == 1: # img 태그가 없다는 뜻.\n",
    "\n",
    "\n",
    "data_list=[]\n",
    "\n",
    "for i in datas:\n",
    "    link = i.find_element(By.TAG_NAME, 'a').get_attribute('href')\n",
    "    # print(link)\n",
    "\n",
    "    title = i.find_element(By.TAG_NAME, 'img').get_attribute('alt')\n",
    "    # print(title)\n",
    "\n",
    "    content = i.find_element(By.CLASS_NAME, 'lede').text\n",
    "    #print(content)\n",
    "    \n",
    "    data={\"title\":title,\"contents\":content,\"link\":link}\n",
    "    \n",
    "    data_list.append(data)\n",
    "    \n",
    "#data_list\n",
    "\n",
    "df=pd.DataFrame(data_list)\n",
    "df.to_csv(\"./naver_news.csv\",encoding=\"utf-8-sig\") # csv파일 저장"
   ]
  },
  {
   "cell_type": "code",
   "execution_count": 39,
   "metadata": {},
   "outputs": [
    {
     "name": "stdout",
     "output_type": "stream",
     "text": [
      "^C\n",
      "Note: you may need to restart the kernel to use updated packages.\n"
     ]
    },
    {
     "name": "stderr",
     "output_type": "stream",
     "text": [
      "\n",
      "[notice] A new release of pip available: 22.3.1 -> 23.1\n",
      "[notice] To update, run: python.exe -m pip install --upgrade pip\n"
     ]
    },
    {
     "name": "stdout",
     "output_type": "stream",
     "text": [
      "Collecting pandas\n",
      "  Downloading pandas-2.0.0-cp311-cp311-win_amd64.whl (11.2 MB)\n",
      "     ---------------------------------------- 11.2/11.2 MB 7.5 MB/s eta 0:00:00\n",
      "Requirement already satisfied: python-dateutil>=2.8.2 in c:\\users\\jung\\appdata\\local\\programs\\python\\python311\\lib\\site-packages (from pandas) (2.8.2)\n",
      "Collecting pytz>=2020.1\n",
      "  Downloading pytz-2023.3-py2.py3-none-any.whl (502 kB)\n",
      "     -------------------------------------- 502.3/502.3 kB 6.3 MB/s eta 0:00:00\n",
      "Collecting tzdata>=2022.1\n",
      "  Downloading tzdata-2023.3-py2.py3-none-any.whl (341 kB)\n",
      "     -------------------------------------- 341.8/341.8 kB 5.3 MB/s eta 0:00:00\n",
      "Collecting numpy>=1.21.0\n",
      "  Downloading numpy-1.24.2-cp311-cp311-win_amd64.whl (14.8 MB)\n",
      "     ---------------------------------------- 14.8/14.8 MB 2.5 MB/s eta 0:00:00\n",
      "Requirement already satisfied: six>=1.5 in c:\\users\\jung\\appdata\\local\\programs\\python\\python311\\lib\\site-packages (from python-dateutil>=2.8.2->pandas) (1.16.0)\n",
      "Installing collected packages: pytz, tzdata, numpy, pandas\n",
      "Successfully installed numpy-1.24.2 pandas-2.0.0 pytz-2023.3 tzdata-2023.3\n"
     ]
    }
   ],
   "source": [
    "pip install pandas"
   ]
  },
  {
   "cell_type": "code",
   "execution_count": 40,
   "metadata": {},
   "outputs": [],
   "source": [
    "import pandas as pd"
   ]
  },
  {
   "cell_type": "code",
   "execution_count": null,
   "metadata": {},
   "outputs": [],
   "source": []
  }
 ],
 "metadata": {
  "interpreter": {
   "hash": "1b420848bddad60c0e5045a5b23e65b559d259bcc34afb948709bef4d47348d9"
  },
  "kernelspec": {
   "display_name": "Python 3.11.1 64-bit",
   "language": "python",
   "name": "python3"
  },
  "language_info": {
   "codemirror_mode": {
    "name": "ipython",
    "version": 3
   },
   "file_extension": ".py",
   "mimetype": "text/x-python",
   "name": "python",
   "nbconvert_exporter": "python",
   "pygments_lexer": "ipython3",
   "version": "3.11.1"
  },
  "orig_nbformat": 4
 },
 "nbformat": 4,
 "nbformat_minor": 2
}
