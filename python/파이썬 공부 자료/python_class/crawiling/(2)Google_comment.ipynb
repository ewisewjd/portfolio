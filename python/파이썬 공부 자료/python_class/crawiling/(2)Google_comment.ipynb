{
 "cells": [
  {
   "cell_type": "code",
   "execution_count": null,
   "metadata": {},
   "outputs": [],
   "source": [
    "# 매출 증대\n",
    "# - 데이터 분석가 뽑아놨더니.......??? 역활이 뭐임???\n",
    "# - 데이터 => 매출 증대를 보여주셔야 합니다.\n",
    "# - 고객 분석 => 우리가 서비스가 앱서비스야 => 플레이스토/앱스토어 크롤링해야죠.\n",
    "# - 고객이 뭐가 불만인지 해결해 줘야죠.\n",
    "# - 크롤링을 활용해서 우리회사가 돈을 벌 수 있는 방법이 어떤 것들이 있을까?"
   ]
  },
  {
   "cell_type": "code",
   "execution_count": 1,
   "metadata": {},
   "outputs": [],
   "source": [
    "from selenium import webdriver\n",
    "from selenium.webdriver.common.by import By\n",
    "import time"
   ]
  },
  {
   "cell_type": "code",
   "execution_count": 2,
   "metadata": {},
   "outputs": [],
   "source": [
    "browser = webdriver.Chrome()"
   ]
  },
  {
   "cell_type": "code",
   "execution_count": 47,
   "metadata": {},
   "outputs": [
    {
     "name": "stdout",
     "output_type": "stream",
     "text": [
      "https://play.google.com/store/search?q=쿠팡&c=apps\n"
     ]
    }
   ],
   "source": [
    "# 앱 검색\n",
    "app_name = input(\"댓글을 가져오고자 하는 앱 이름을 입력하세요\")\n",
    "\n",
    "url = \"https://play.google.com/store/search?q={}&c=apps\"\n",
    "\n",
    "search_url = url.format(app_name)\n",
    "print(search_url)\n",
    "browser.get(search_url)"
   ]
  },
  {
   "cell_type": "code",
   "execution_count": 49,
   "metadata": {},
   "outputs": [
    {
     "ename": "NoSuchElementException",
     "evalue": "Message: no such element: Unable to locate element: {\"method\":\"css selector\",\"selector\":\".Qfxief\"}\n  (Session info: chrome=112.0.5615.137)\nStacktrace:\n0   chromedriver                        0x0000000100572ae8 chromedriver + 4958952\n1   chromedriver                        0x000000010056a7b3 chromedriver + 4925363\n2   chromedriver                        0x000000010012c1d6 chromedriver + 475606\n3   chromedriver                        0x000000010016fa20 chromedriver + 752160\n4   chromedriver                        0x000000010016fc81 chromedriver + 752769\n5   chromedriver                        0x00000001001b3f64 chromedriver + 1032036\n6   chromedriver                        0x0000000100195c3d chromedriver + 908349\n7   chromedriver                        0x00000001001b125b chromedriver + 1020507\n8   chromedriver                        0x00000001001959e3 chromedriver + 907747\n9   chromedriver                        0x000000010015faef chromedriver + 686831\n10  chromedriver                        0x000000010016100e chromedriver + 692238\n11  chromedriver                        0x000000010052e9ad chromedriver + 4680109\n12  chromedriver                        0x0000000100533c12 chromedriver + 4701202\n13  chromedriver                        0x000000010053a79f chromedriver + 4728735\n14  chromedriver                        0x0000000100534b7a chromedriver + 4705146\n15  chromedriver                        0x000000010050727e chromedriver + 4518526\n16  chromedriver                        0x0000000100554908 chromedriver + 4835592\n17  chromedriver                        0x0000000100554a87 chromedriver + 4835975\n18  chromedriver                        0x000000010056400f chromedriver + 4898831\n19  libsystem_pthread.dylib             0x00007ff8182f5259 _pthread_start + 125\n20  libsystem_pthread.dylib             0x00007ff8182f0c7b thread_start + 15\n",
     "output_type": "error",
     "traceback": [
      "\u001b[0;31m---------------------------------------------------------------------------\u001b[0m",
      "\u001b[0;31mNoSuchElementException\u001b[0m                    Traceback (most recent call last)",
      "Cell \u001b[0;32mIn[49], line 2\u001b[0m\n\u001b[1;32m      1\u001b[0m \u001b[39m# 앱 링크로 이동\u001b[39;00m\n\u001b[0;32m----> 2\u001b[0m app_url \u001b[39m=\u001b[39m browser\u001b[39m.\u001b[39;49mfind_element(By\u001b[39m.\u001b[39;49mCLASS_NAME, \u001b[39m'\u001b[39;49m\u001b[39mQfxief\u001b[39;49m\u001b[39m'\u001b[39;49m)\u001b[39m.\u001b[39mget_attribute(\u001b[39m'\u001b[39m\u001b[39mhref\u001b[39m\u001b[39m'\u001b[39m)\n\u001b[1;32m      3\u001b[0m browser\u001b[39m.\u001b[39mget(app_url)\n",
      "File \u001b[0;32m/opt/homebrew/lib/python3.10/site-packages/selenium/webdriver/remote/webdriver.py:861\u001b[0m, in \u001b[0;36mWebDriver.find_element\u001b[0;34m(self, by, value)\u001b[0m\n\u001b[1;32m    858\u001b[0m     by \u001b[39m=\u001b[39m By\u001b[39m.\u001b[39mCSS_SELECTOR\n\u001b[1;32m    859\u001b[0m     value \u001b[39m=\u001b[39m \u001b[39m'\u001b[39m\u001b[39m[name=\u001b[39m\u001b[39m\"\u001b[39m\u001b[39m%s\u001b[39;00m\u001b[39m\"\u001b[39m\u001b[39m]\u001b[39m\u001b[39m'\u001b[39m \u001b[39m%\u001b[39m value\n\u001b[0;32m--> 861\u001b[0m \u001b[39mreturn\u001b[39;00m \u001b[39mself\u001b[39;49m\u001b[39m.\u001b[39;49mexecute(Command\u001b[39m.\u001b[39;49mFIND_ELEMENT, {\u001b[39m\"\u001b[39;49m\u001b[39musing\u001b[39;49m\u001b[39m\"\u001b[39;49m: by, \u001b[39m\"\u001b[39;49m\u001b[39mvalue\u001b[39;49m\u001b[39m\"\u001b[39;49m: value})[\u001b[39m\"\u001b[39m\u001b[39mvalue\u001b[39m\u001b[39m\"\u001b[39m]\n",
      "File \u001b[0;32m/opt/homebrew/lib/python3.10/site-packages/selenium/webdriver/remote/webdriver.py:444\u001b[0m, in \u001b[0;36mWebDriver.execute\u001b[0;34m(self, driver_command, params)\u001b[0m\n\u001b[1;32m    442\u001b[0m response \u001b[39m=\u001b[39m \u001b[39mself\u001b[39m\u001b[39m.\u001b[39mcommand_executor\u001b[39m.\u001b[39mexecute(driver_command, params)\n\u001b[1;32m    443\u001b[0m \u001b[39mif\u001b[39;00m response:\n\u001b[0;32m--> 444\u001b[0m     \u001b[39mself\u001b[39;49m\u001b[39m.\u001b[39;49merror_handler\u001b[39m.\u001b[39;49mcheck_response(response)\n\u001b[1;32m    445\u001b[0m     response[\u001b[39m\"\u001b[39m\u001b[39mvalue\u001b[39m\u001b[39m\"\u001b[39m] \u001b[39m=\u001b[39m \u001b[39mself\u001b[39m\u001b[39m.\u001b[39m_unwrap_value(response\u001b[39m.\u001b[39mget(\u001b[39m\"\u001b[39m\u001b[39mvalue\u001b[39m\u001b[39m\"\u001b[39m, \u001b[39mNone\u001b[39;00m))\n\u001b[1;32m    446\u001b[0m     \u001b[39mreturn\u001b[39;00m response\n",
      "File \u001b[0;32m/opt/homebrew/lib/python3.10/site-packages/selenium/webdriver/remote/errorhandler.py:249\u001b[0m, in \u001b[0;36mErrorHandler.check_response\u001b[0;34m(self, response)\u001b[0m\n\u001b[1;32m    247\u001b[0m         alert_text \u001b[39m=\u001b[39m value[\u001b[39m\"\u001b[39m\u001b[39malert\u001b[39m\u001b[39m\"\u001b[39m]\u001b[39m.\u001b[39mget(\u001b[39m\"\u001b[39m\u001b[39mtext\u001b[39m\u001b[39m\"\u001b[39m)\n\u001b[1;32m    248\u001b[0m     \u001b[39mraise\u001b[39;00m exception_class(message, screen, stacktrace, alert_text)  \u001b[39m# type: ignore[call-arg]  # mypy is not smart enough here\u001b[39;00m\n\u001b[0;32m--> 249\u001b[0m \u001b[39mraise\u001b[39;00m exception_class(message, screen, stacktrace)\n",
      "\u001b[0;31mNoSuchElementException\u001b[0m: Message: no such element: Unable to locate element: {\"method\":\"css selector\",\"selector\":\".Qfxief\"}\n  (Session info: chrome=112.0.5615.137)\nStacktrace:\n0   chromedriver                        0x0000000100572ae8 chromedriver + 4958952\n1   chromedriver                        0x000000010056a7b3 chromedriver + 4925363\n2   chromedriver                        0x000000010012c1d6 chromedriver + 475606\n3   chromedriver                        0x000000010016fa20 chromedriver + 752160\n4   chromedriver                        0x000000010016fc81 chromedriver + 752769\n5   chromedriver                        0x00000001001b3f64 chromedriver + 1032036\n6   chromedriver                        0x0000000100195c3d chromedriver + 908349\n7   chromedriver                        0x00000001001b125b chromedriver + 1020507\n8   chromedriver                        0x00000001001959e3 chromedriver + 907747\n9   chromedriver                        0x000000010015faef chromedriver + 686831\n10  chromedriver                        0x000000010016100e chromedriver + 692238\n11  chromedriver                        0x000000010052e9ad chromedriver + 4680109\n12  chromedriver                        0x0000000100533c12 chromedriver + 4701202\n13  chromedriver                        0x000000010053a79f chromedriver + 4728735\n14  chromedriver                        0x0000000100534b7a chromedriver + 4705146\n15  chromedriver                        0x000000010050727e chromedriver + 4518526\n16  chromedriver                        0x0000000100554908 chromedriver + 4835592\n17  chromedriver                        0x0000000100554a87 chromedriver + 4835975\n18  chromedriver                        0x000000010056400f chromedriver + 4898831\n19  libsystem_pthread.dylib             0x00007ff8182f5259 _pthread_start + 125\n20  libsystem_pthread.dylib             0x00007ff8182f0c7b thread_start + 15\n"
     ]
    }
   ],
   "source": [
    "# 앱 링크로 이동\n",
    "app_url = browser.find_element(By.CLASS_NAME, 'Qfxief').get_attribute('href')\n",
    "browser.get(app_url)"
   ]
  },
  {
   "cell_type": "code",
   "execution_count": 50,
   "metadata": {},
   "outputs": [],
   "source": [
    "# 댓글 클릭 => 모달 창이 뜬다.\n",
    "browser.find_element(By.XPATH, '//*[@id=\"yDmH0d\"]/c-wiz[2]/div/div/div[1]/div[2]/div/div[1]/c-wiz[4]/section/header/div/div[2]/button').click()"
   ]
  },
  {
   "cell_type": "code",
   "execution_count": 51,
   "metadata": {},
   "outputs": [],
   "source": [
    "# 모달창 클릭 (목적: 스크롤을 하기 위해서)\n",
    "browser.find_element(By.CLASS_NAME, 'fysCi').click()"
   ]
  },
  {
   "cell_type": "code",
   "execution_count": 52,
   "metadata": {},
   "outputs": [],
   "source": [
    "modal = browser.find_element(By.CLASS_NAME, 'fysCi')\n",
    "for i in range(3):\n",
    "    browser.execute_script(\"arguments[0].scrollTo(0, arguments[0].scrollHeight)\", modal)\n",
    "    time.sleep(3)"
   ]
  },
  {
   "cell_type": "code",
   "execution_count": 42,
   "metadata": {},
   "outputs": [],
   "source": [
    "import pandas as pd"
   ]
  },
  {
   "cell_type": "code",
   "execution_count": 53,
   "metadata": {},
   "outputs": [],
   "source": [
    "# 댓글 가져오는 코드\n",
    "reviews = browser.find_elements(By.CLASS_NAME, 'RHo1pe')\n",
    "\n",
    "num_review = 0\n",
    "data_list = []\n",
    "for review in reviews:\n",
    "    num_review += 1\n",
    "    if num_review == 10:\n",
    "        break\n",
    "    \n",
    "    # 유저 네임\n",
    "    user_name = review.find_element(By.CLASS_NAME, 'X5PpBb').text\n",
    "    # print(user_name)\n",
    "    \n",
    "    # 평점\n",
    "    rating = review.find_element(By.CLASS_NAME, 'iXRFPc').get_attribute('aria-label')[10]\n",
    "    # print(rating)\n",
    "\n",
    "    # 댓글작성시간\n",
    "    date = review.find_element(By.CLASS_NAME, 'bp9Aid').text\n",
    "    # print(date)\n",
    "\n",
    "    # 댓글내용\n",
    "    content = review.find_element(By.CLASS_NAME, 'h3YV2d').text\n",
    "    # print(content)\n",
    "\n",
    "    data = {\n",
    "        \"닉네임\" : user_name,\n",
    "        \"내용\" : content,\n",
    "        \"평점\" : rating,\n",
    "        \"작성시간\" : date\n",
    "    }\n",
    "\n",
    "    data_list.append(data)\n",
    "\n",
    "df = pd.DataFrame(data_list)\n",
    "df.to_csv(\"google_comment.csv\", encoding='utf-8-sig')"
   ]
  },
  {
   "cell_type": "code",
   "execution_count": 54,
   "metadata": {},
   "outputs": [
    {
     "name": "stdout",
     "output_type": "stream",
     "text": [
      "굿\n",
      "굿\n",
      "굿\n"
     ]
    }
   ],
   "source": [
    "for i in range(3):\n",
    "    print(\"굿\")"
   ]
  },
  {
   "cell_type": "code",
   "execution_count": null,
   "metadata": {},
   "outputs": [],
   "source": []
  }
 ],
 "metadata": {
  "kernelspec": {
   "display_name": "Python 3",
   "language": "python",
   "name": "python3"
  },
  "language_info": {
   "codemirror_mode": {
    "name": "ipython",
    "version": 3
   },
   "file_extension": ".py",
   "mimetype": "text/x-python",
   "name": "python",
   "nbconvert_exporter": "python",
   "pygments_lexer": "ipython3",
   "version": "3.10.9"
  },
  "orig_nbformat": 4,
  "vscode": {
   "interpreter": {
    "hash": "6ecdebf77f2ee3a47348d003f751c63e810ca996c1c68d1179f338200fa83b34"
   }
  }
 },
 "nbformat": 4,
 "nbformat_minor": 2
}
