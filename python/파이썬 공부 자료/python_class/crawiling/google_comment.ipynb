{
 "cells": [
  {
   "cell_type": "code",
   "execution_count": 1,
   "metadata": {},
   "outputs": [],
   "source": [
    "# 데이터 사이언스가 왜 필요할까 \n",
    "# 회사의 목적은 매출증대 \n",
    "# 고객분석 \n",
    "# 고객의 뭐가 불만인지 \n",
    "# 크롤링를활용해서 우리회사가 돈을 벌수 있는 방법이 어떤게 있을까?"
   ]
  },
  {
   "cell_type": "code",
   "execution_count": 6,
   "metadata": {},
   "outputs": [],
   "source": [
    "from selenium import webdriver\n",
    "from selenium.webdriver.common.by import By\n",
    "import time "
   ]
  },
  {
   "cell_type": "code",
   "execution_count": 7,
   "metadata": {},
   "outputs": [],
   "source": [
    "browser=webdriver.Chrome()"
   ]
  },
  {
   "cell_type": "code",
   "execution_count": 18,
   "metadata": {},
   "outputs": [
    {
     "data": {
      "text/plain": [
       "'https://play.google.com/store/search?q=배달의민족&c=apps'"
      ]
     },
     "execution_count": 18,
     "metadata": {},
     "output_type": "execute_result"
    }
   ],
   "source": [
    "# 앱 검색\n",
    "app_name=input(\"댓글을 달고자 하는 앱 이름을 입력하세요\")\n",
    "\n",
    "url=\"https://play.google.com/store/search?q={}&c=apps\"\n",
    "\n",
    "final_url=url.format(app_name)\n",
    "final_url"
   ]
  },
  {
   "cell_type": "code",
   "execution_count": 57,
   "metadata": {},
   "outputs": [],
   "source": [
    "browser.get(final_url)"
   ]
  },
  {
   "cell_type": "code",
   "execution_count": 58,
   "metadata": {},
   "outputs": [],
   "source": [
    "#앱 이동\n",
    "pp_url=browser.find_element(By.CLASS_NAME,\"Qfxief\").get_attribute('href')\n",
    "browser.get(pp_url)"
   ]
  },
  {
   "cell_type": "code",
   "execution_count": 59,
   "metadata": {},
   "outputs": [],
   "source": [
    "#댓글창 클릭 -> 모달창을 연다\n",
    "browser.find_element(By.XPATH,'//*[@id=\"yDmH0d\"]/c-wiz[2]/div/div/div[1]/div[2]/div/div[1]/c-wiz[4]/section/header/div/div[2]/button/i').click()"
   ]
  },
  {
   "cell_type": "code",
   "execution_count": 62,
   "metadata": {},
   "outputs": [],
   "source": [
    "# 모달창 클릭[목적: 스크롤을 하기위해서 ]\n",
    "browser.find_element(By.CLASS_NAME,\"fysCi\").click()"
   ]
  },
  {
   "cell_type": "code",
   "execution_count": 63,
   "metadata": {},
   "outputs": [],
   "source": [
    "#스크롤 하기 \n",
    "modal=browser.find_element(By.CLASS_NAME,\"fysCi\")\n",
    "browser.execute_script(\"arguments[0].scrollTo(0, arguments[0].scrollHeight)\",modal)"
   ]
  },
  {
   "cell_type": "code",
   "execution_count": 73,
   "metadata": {},
   "outputs": [
    {
     "name": "stdout",
     "output_type": "stream",
     "text": [
      "P\n",
      "5\n",
      "2023년 4월 11일\n",
      "잘쓰고있어요 계속 쓰면서 느낀 점은 1. 내가 원하는 메뉴를 시킨 사람의 리뷰만 골라보는 기능이 있으면 좋겠어요 2. 찜... 찜 최대제한... 이게 제일 간절해요 100개정도를 넘으면 밑에서부터 한집씩 내가 찜한 집들이 안보이는것같은데 세상에 가게가 이렇게 많은데 찜을 어떻게 100개만 해요ㅜ.ㅠ~~~ 표시되는 찜의 갯수가 늘어나면 좋겠어요 제발~~~~\n",
      "하지윤\n",
      "4\n",
      "2023년 2월 15일\n",
      "배달의민족 주문시 리뷰를 자주 참고하는 편입니다. 한가지 건의사항이 있다면 최신순,별점순 뿐만아니라 제가 주문하고자하는 메뉴를 특정해서 그 메뉴의 리뷰만 확인할 수 있는 기능이 있으면 좋을 것 같습니다. 메뉴검색 기능처럼 리뷰에서도 특정 메뉴 검색기능이 필요합니다. 주문수가 많지않은 메뉴의 리뷰를 보기 위해서 드래그하느라 시간이 많이 소요되는 비효율이 발생합니다. 긍정적으로 검토해주심 좋을 것 같습니다.\n",
      "쪼망이\n",
      "5\n",
      "2023년 2월 22일\n",
      "내가 주문했던 과거목록에서도 검색기능이 있었으면 좋겠어요.. 분명 이 가게에 시킨 기억은 있는데 뭘시켰고 맛있게 먹은게 맞는지 알고싶은데 찾기가 너무 어렵네요.. 먹던 메뉴도 검색가능했으면 좋겠어요! 예를 들면 곱창 을 치면 과거에 시킨 곱창목록이 뜨거나 혹은 가게 리뷰창에 내리뷰보기 가 있어도 좋을거같아요 :)\n",
      "조서윤\n",
      "1\n",
      "2023년 2월 19일\n",
      "검색 화면에서 전체/배달/포장 탭 중 배달 탭을 스크롤 내리면서 볼 때, 아래로 스크롤하는데 자꾸만 왼쪽 오른쪽으로 넘어가서 전체 탭이나 포장 탭을 보게 되는데 정말 불편합니다. 검색 후 배달 탭, 포장 탭, B마트 탭 뭐든 하나를 선택했으면 좌우로 넘기는 건 안 되게 하시면 안되나요? 가끔 그러는 것도 아니고 스크롤 한 번 내릴 때마다 왼쪽으로 넘어가서 전체 탭에 가게 되니까 너무 불편하고 답답해서 씁니다\n",
      "GY Jeong\n",
      "2\n",
      "2023년 3월 4일\n",
      "배달팁 낮은 순으로 정렬하면 0~4000원 이런식으로 된 가게가 가장 위로 올라옵니다. 그리고 지역에 따라 추가 배달료가 있다고 별도로 체크하게 되어있어서 결국 배달팁은 5000원이 넘습니다. 10만원 이상 시키면 배달팁 0원이라는데 장난하는 것도 아니고.... 결국 하나하나 눌러가면서 가격대별 금액을 체크하고 배달팁 별도로 받는지도 확인해야합니다.\n",
      "Jinping the Pooh\n",
      "3\n",
      "2023년 3월 7일\n",
      "음식배달 후 시간이 지나면 리뷰를 요청하는 알림이 상단에 뜹니다. 리뷰를 적기위해 그 알림을 누르면 앱이 들어가지는게 아니라 그냥 아무것도 실행되지 않습니다. 예전부터 이랬는데 버그 좀 고쳐주세요. 답변들은 후 추가 내용---->그...알림이 핸드폰으로 옵니다. 알림을 꺼놓은게 아니라 당연히 켜놓았구요. 알림이 오는데, 그 알림을 터치하면 당연히 앱이 구동되어야 하잖아요? 그런데 앱이 실행이 안되고 그냥 알림창만 없어집니다. 리뷰를 작성하라나는 그 알림만 그래요. 다른 알림은 그 알림을 터치하면 정상적으로 앱이 실행되는데, 리뷰 알림만 안들어가져요.\n",
      "임태수 (눈꽃)\n",
      "1\n",
      "2023년 3월 24일\n",
      "식사 한번에 최소 15000원 이상 주문, 거기에 배달료 3000기본이면 누가 시킵니까.. 배민의 수수료 장사가 도를 넘었습니다. 가게에서 수수료를 그렇게 땡겨가니 배달 음식 자체의 값과 배달팁이 그렇게 책정될 수 밖에요.. 그리고 같은 가게만 수십번 떠서 보기 싫은 가게를 자꾸 보게 되네요. 이런 점좀 개선하세요.\n",
      "진이 JIN TUBE\n",
      "3\n",
      "2023년 3월 12일\n",
      "안 먹고 싶은 곳이나 먹고 난 후 만족하지 못한 곳을 차단할 수 있는 옵션이 생기면 좋을 거 같아요. 자주 먹었던 곳을 추천해주는 건 좋은데 너무 자주 먹게 되서 차단을 잠시라도 해놓고 싶기도 하고 자주 먹어도 어쩔땐 불만족스러울 때가 있어서 차단옵션이 생겼으면 해요 다음 업데이트에는 생겼으면 ㅎㅎ\n",
      "ᄋᄌ\n",
      "4\n",
      "2023년 3월 5일\n",
      "안녕하세요! 배민 잘 이용하는 사용자입니다. 한 가지 건의사항이 있는데요. 받아들여지지는 않겠지만 리뷰에 별점 대신 재방문 수를 표시하면 어떨까 싶기도 하여 이렇게 달아봅니다! 아니면 별점 옆에 재방문 수를 표시해도 좋을 것 같다 생각합니다. 혹시 건의사항을 따로 쓰는 곳이 있다면 그곳에 다시 쓰도록 하겠습니다. 정말 정말 잘 쓰고 있습니다😊 감사합니다!!!\n"
     ]
    },
    {
     "data": {
      "text/plain": [
       "{'닉네임': 'ᄋᄌ',\n",
       " '내용': '안녕하세요! 배민 잘 이용하는 사용자입니다. 한 가지 건의사항이 있는데요. 받아들여지지는 않겠지만 리뷰에 별점 대신 재방문 수를 표시하면 어떨까 싶기도 하여 이렇게 달아봅니다! 아니면 별점 옆에 재방문 수를 표시해도 좋을 것 같다 생각합니다. 혹시 건의사항을 따로 쓰는 곳이 있다면 그곳에 다시 쓰도록 하겠습니다. 정말 정말 잘 쓰고 있습니다😊 감사합니다!!!',\n",
       " '평점': '4',\n",
       " '작성시간': '2023년 3월 5일'}"
      ]
     },
     "execution_count": 73,
     "metadata": {},
     "output_type": "execute_result"
    }
   ],
   "source": [
    "#댓글 가져오는 코드 \n",
    "reviews=browser.find_elements(By.CLASS_NAME,\"RHo1pe\")\n",
    "\n",
    "data_list=[]\n",
    "num_reviews=0\n",
    "for review in reviews:\n",
    "    num_reviews+=1\n",
    "    if num_reviews==10:\n",
    "        break\n",
    "    user_name=review.find_element(By.CLASS_NAME,'X5PpBb').text\n",
    "    print(user_name)\n",
    "    \n",
    "    #평점 \n",
    "    rating=review.find_element(By.CLASS_NAME,'iXRFPc').get_attribute('aria-label')[10]\n",
    "    print(rating)\n",
    "    \n",
    "    #댓글작성시간\n",
    "    date=review.find_element(By.CLASS_NAME,'bp9Aid').text\n",
    "    print(date)\n",
    "    \n",
    "    #댓글 내용 \n",
    "    \n",
    "    content=review.find_element(By.CLASS_NAME,\"h3YV2d\").text\n",
    "    print(content)\n",
    "    \n",
    "    data={\n",
    "        \"닉네임\": user_name,\n",
    "        \"내용\": content,\n",
    "        \"평점\":rating,\n",
    "        \"작성시간\":date\n",
    "    }\n",
    "    data_list.append(data)\n",
    "data    \n",
    "    \n"
   ]
  },
  {
   "cell_type": "code",
   "execution_count": 75,
   "metadata": {},
   "outputs": [],
   "source": [
    "import pandas as pd\n",
    "\n",
    "df=pd.DataFrame(data_list)\n",
    "df.to_csv(\"google_content.csv\", encoding=\"utf-8-sig\")"
   ]
  },
  {
   "cell_type": "code",
   "execution_count": 68,
   "metadata": {},
   "outputs": [
    {
     "name": "stdout",
     "output_type": "stream",
     "text": [
      "5\n"
     ]
    }
   ],
   "source": [
    "browser.find_element(By.CLASS_NAME, 'X5PpBb').get_attribute('innerText')\n",
    "stars = browser.find_element(By.CLASS_NAME, 'iXRFPc').get_attribute('aria-label')\n",
    "print(stars[10:11])\n"
   ]
  },
  {
   "cell_type": "code",
   "execution_count": null,
   "metadata": {},
   "outputs": [],
   "source": [
    "from selenium import webdriver\n",
    "from selenium.webdriver.common.by import By\n",
    "from selenium.webdriver.common.keys import Keys\n",
    "\n",
    "import time\n",
    "options = webdriver.ChromeOptions()\n",
    "\n",
    "# 코랩으로 실행하는 사람들은 아래 주석을 해제\n",
    "# options.add_argument(\"--headless\")\n",
    "# options.add_argument(\"--no-sandbox\")\n",
    "# options.add_argument(\"--disable-dev-shm-usage\")\n",
    "\n",
    "\n",
    "#크롬 드라이버 사용\n",
    "browser = webdriver.Chrome(\"chromedriver\",options=options)\n",
    "\n",
    "\n",
    "newsUrl = 'https://play.google.com/store/apps'\n",
    "#플레이스토어로 이동\n",
    "browser.get(newsUrl)\n",
    "\n",
    "#검색 버튼 (돋보기 클릭)\n",
    "browser.find_element(By.XPATH,'//*[@id=\"kO001e\"]/header/nav/div/div[1]/button').click()\n",
    "\n",
    "#열린 검색창 텍스트에 계산기 텍스트 입력\n",
    "browser.find_element(By.XPATH, '//*[@id=\"kO001e\"]/header/nav/c-wiz/div/div/label/input').send_keys(\"계산기\")\n",
    "\n",
    "#입력된 텍스트창에서 엔터를 입력시켜 앱목록으로 진입\n",
    "browser.find_element(By.XPATH, '//*[@id=\"kO001e\"]/header/nav/c-wiz/div/div/label/input').send_keys(Keys.ENTER)\n",
    "\n",
    "#페이지전환 2초 대기\n",
    "time.sleep(2)\n",
    "\n",
    "\n",
    "#검색된 앱 리스트가 있는 레이아웃 찾기\n",
    "app_layout = browser.find_element(By.CLASS_NAME,'fUEl2e')\n",
    "\n",
    "#해당 레이아웃 하나의 앱 목록들을 조회 (들 이기때문에 find_elements 사용)\n",
    "app_list = app_layout.find_elements(By.CLASS_NAME,'ULeU3b')\n",
    "\n",
    "\n",
    "#맨 첫번째 앱 클릭\n",
    "app_list[0].click()\n",
    "\n",
    "#페이지 전환 2초대기\n",
    "time.sleep(2)\n",
    "\n",
    "#앱 평가 댓글 더보기 버튼 찾기 css 셀렉터 사용\n",
    "#css 셀렉터로 찾기는 자세한 정보를 조금더 찾아야함\n",
    "comment_list_browser = browser.find_element(By.CSS_SELECTOR,'div > div.qZmL0 > c-wiz:nth-child(4) > section > header > div > div:nth-child(2) > button').click()\n",
    "\n",
    "#앱 평가 모달창 찾기\n",
    "comment_list_browser = browser.find_element(By.CLASS_NAME,'fysCi')\n",
    "\n",
    "#찾은 모달창 클릭으로 포커스 이동\n",
    "comment_list_browser.click()\n",
    "\n",
    "#모달창 포커스 이동 대기 2초\n",
    "#대기하지 않을 경우 자바스크립트가 동작하지 않음\n",
    "time.sleep(2)\n",
    "\n",
    "#처음부터 크롤링할 댓글의 갯수만큼 스크롤 반복\n",
    "#1회당 40개 댓글을 가저오며 for문을 통해 총 3번 => 40*3 120개의 댓글 조회\n",
    "for i in range(0,3):\n",
    "    coments = browser.find_elements(By.CLASS_NAME,'RHo1pe')\n",
    "    print(f\"댓글 스크롤중..현재 댓글갯수 {len(coments)}\")\n",
    "    #브라우저에게 현재 댓글 모달창의 길이 만큼 스크롤 내리라고 명령\n",
    "    browser.execute_script('arguments[0].scrollTo(0,arguments[0].scrollHeight)',comment_list_browser)\n",
    "    time.sleep(3)\n",
    "\n",
    "#가저온 댓글 리스트에서 인덱스 마다 댓글 정보 파싱\n",
    "for i in range(0,len(coments)):\n",
    "    print(f\"현재 인덱스 : {i}\")\n",
    "    print(coments[i].find_element(By.CLASS_NAME,'X5PpBb').get_attribute('innerHTML'))\n",
    "    print(coments[i].find_element(By.CLASS_NAME,'bp9Aid').get_attribute('innerHTML'))\n",
    "    print(coments[i].find_element(By.CLASS_NAME,'h3YV2d').get_attribute('innerHTML'))\n",
    "    color_star = coments[i].find_elements(By.CLASS_NAME,'Z1Dz7b')\n",
    "    uncolor_star = coments[i].find_elements(By.CLASS_NAME,'Wi7KIe')\n",
    "    print(f\"별갯수 {len(color_star)} \\n\")"
   ]
  },
  {
   "cell_type": "code",
   "execution_count": null,
   "metadata": {},
   "outputs": [],
   "source": []
  }
 ],
 "metadata": {
  "interpreter": {
   "hash": "1b420848bddad60c0e5045a5b23e65b559d259bcc34afb948709bef4d47348d9"
  },
  "kernelspec": {
   "display_name": "Python 3.11.1 64-bit",
   "language": "python",
   "name": "python3"
  },
  "language_info": {
   "codemirror_mode": {
    "name": "ipython",
    "version": 3
   },
   "file_extension": ".py",
   "mimetype": "text/x-python",
   "name": "python",
   "nbconvert_exporter": "python",
   "pygments_lexer": "ipython3",
   "version": "3.11.1"
  },
  "orig_nbformat": 4
 },
 "nbformat": 4,
 "nbformat_minor": 2
}
