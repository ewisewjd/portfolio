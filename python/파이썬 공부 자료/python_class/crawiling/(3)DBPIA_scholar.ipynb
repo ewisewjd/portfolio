{
 "cells": [
  {
   "attachments": {},
   "cell_type": "markdown",
   "metadata": {},
   "source": [
    "## DBPIA 논문 크롤링\n",
    "- 기본 페이지 외에 => 상세 페이지로 접근하는 로직에 대해 알 수 있습니다."
   ]
  },
  {
   "cell_type": "code",
   "execution_count": 1,
   "metadata": {},
   "outputs": [],
   "source": [
    "# libary import\n",
    "from selenium import webdriver\n",
    "from selenium.webdriver.common.by import By\n",
    "\n",
    "import time # 시간 딜레이시 사용\n",
    "import pandas as pd # 엑셀 저장시 사용"
   ]
  },
  {
   "cell_type": "code",
   "execution_count": 2,
   "metadata": {},
   "outputs": [],
   "source": [
    "browser = webdriver.Chrome()"
   ]
  },
  {
   "cell_type": "code",
   "execution_count": 3,
   "metadata": {},
   "outputs": [],
   "source": [
    "# 사이트 이동\n",
    "url = 'https://www.dbpia.co.kr/search/topSearch?searchOption=all&query=%EC%9D%B8%EA%B3%B5%EC%A7%80%EB%8A%A5'\n",
    "browser.get(url)"
   ]
  },
  {
   "cell_type": "code",
   "execution_count": 15,
   "metadata": {},
   "outputs": [
    {
     "name": "stdout",
     "output_type": "stream",
     "text": [
      "['https://www.dbpia.co.kr/journal/articleDetail?nodeId=NODE11230851', 'https://www.dbpia.co.kr/journal/articleDetail?nodeId=NODE11230843', 'https://www.dbpia.co.kr/journal/articleDetail?nodeId=NODE11230845', 'https://www.dbpia.co.kr/journal/articleDetail?nodeId=NODE11230844', 'https://www.dbpia.co.kr/journal/articleDetail?nodeId=NODE11288340', 'https://www.dbpia.co.kr/journal/articleDetail?nodeId=NODE11231160', 'https://www.dbpia.co.kr/journal/articleDetail?nodeId=NODE11231378', 'https://www.dbpia.co.kr/journal/articleDetail?nodeId=NODE11288024', 'https://www.dbpia.co.kr/journal/articleDetail?nodeId=NODE11231192', 'https://www.dbpia.co.kr/journal/articleDetail?nodeId=NODE11230847', 'https://www.dbpia.co.kr/journal/articleDetail?nodeId=NODE11337935', 'https://www.dbpia.co.kr/journal/articleDetail?nodeId=NODE11230365', 'https://www.dbpia.co.kr/journal/articleDetail?nodeId=NODE11342633', 'https://www.dbpia.co.kr/journal/articleDetail?nodeId=NODE11231818', 'https://www.dbpia.co.kr/journal/articleDetail?nodeId=NODE11225163', 'https://www.dbpia.co.kr/journal/articleDetail?nodeId=NODE11229021', 'https://www.dbpia.co.kr/journal/articleDetail?nodeId=NODE11228571', 'https://www.dbpia.co.kr/journal/articleDetail?nodeId=NODE11228572', 'https://www.dbpia.co.kr/journal/articleDetail?nodeId=NODE11219382', 'https://www.dbpia.co.kr/journal/articleDetail?nodeId=NODE11219168']\n"
     ]
    }
   ],
   "source": [
    "# 논문 링크만 쭉 가져오는 코드\n",
    "# link = browser.find_element(By.CLASS_NAME, 'thesis__link').get_attribute('href')\n",
    "datas = browser.find_elements(By.CLASS_NAME, 'thesis__link')\n",
    "\n",
    "detail_url_list = []\n",
    "for i in datas:\n",
    "    detail_url = i.get_attribute('href')\n",
    "    detail_url_list.append(detail_url)\n",
    "\n",
    "print(detail_url_list)"
   ]
  },
  {
   "cell_type": "code",
   "execution_count": 17,
   "metadata": {},
   "outputs": [],
   "source": [
    "for link in detail_url_list:\n",
    "    browser.get(link)\n",
    "    time.sleep(3)"
   ]
  },
  {
   "cell_type": "code",
   "execution_count": 18,
   "metadata": {},
   "outputs": [],
   "source": [
    "# 제목, 초록*키워드 가져와보시고\n",
    "# => 초록이 없는 경우가 있어요. (이건 어떻게 할 수 있을까요?)\n",
    "# - no such element가 뜨겠죠?\n",
    "# -> try, except(오류 상황이 발생): 다음 페이지로 넘어가 => 코드가 지저분해지잖아..\n",
    "# 다 하신분들은 => 3페이지까지도 해보시구요. (페이지 이동)"
   ]
  },
  {
   "cell_type": "code",
   "execution_count": 6,
   "metadata": {},
   "outputs": [
    {
     "name": "stdout",
     "output_type": "stream",
     "text": [
      "//*[@id=\"pageList\"]/a[1]\n",
      "//*[@id=\"pageList\"]/a[2]\n",
      "//*[@id=\"pageList\"]/a[3]\n"
     ]
    }
   ],
   "source": [
    "# 버튼을 클릭하는 부분\n",
    "# //*[@id=\"pageList\"]/a[2] - 2페이지\n",
    "# //*[@id=\"pageList\"]/a[3] - 3페이지\n",
    "# //*[@id=\"pageList\"]/a[10] - 10페이지\n",
    "\n",
    "page = '//*[@id=\"pageList\"]/a[{}]'\n",
    "\n",
    "for i in range(1,4):\n",
    "    final_page = page.format(i)\n",
    "    print(final_page)"
   ]
  },
  {
   "cell_type": "code",
   "execution_count": 16,
   "metadata": {},
   "outputs": [],
   "source": [
    "# (1) DB pia 사이트로 간다.\n",
    "# (2) 1페이지에 있는 논문 링크들을 다 가져온다.\n",
    "# (3) 2페이지로 간다.\n",
    "# (4) 2페이지에 있는 논문 링크들을 다 가져온다.\n",
    "# (5) 3페이지로 간다.\n",
    "\n",
    "page_xpath = '//*[@id=\"pageList\"]/a[{}]'\n",
    "\n",
    "link_list = []\n",
    "\n",
    "for i in range(1,3):\n",
    "    next_page_xpath = page_xpath.format(i)\n",
    "    browser.find_element(By.XPATH, next_page_xpath).click()\n",
    "    time.sleep(5)\n",
    "\n",
    "    # 해당 페이지의 링크 값들을 다 가져와서 link_list에 저장을 한다.\n",
    "    links = browser.find_elements(By.CLASS_NAME, 'thesis__link')\n",
    "\n",
    "    for j in links:\n",
    "        link = j.get_attribute('href')\n",
    "        link_list.append(link)"
   ]
  },
  {
   "cell_type": "code",
   "execution_count": 23,
   "metadata": {},
   "outputs": [],
   "source": [
    "import pandas as pd\n",
    "\n",
    "num = 0\n",
    "\n",
    "data_list = []\n",
    "for link in link_list:\n",
    "    num += 1\n",
    "    if num == 10:\n",
    "        break\n",
    "    browser.get(link)\n",
    "    time.sleep(2) # 무조건 5초를 기다려\n",
    "\n",
    "    # 타이틀\n",
    "    # title = browser.find_element(By.ID, 'thesisTitle').get_attribute('class') # -> thesisDetail__tit\n",
    "    title = browser.find_element(By.ID, 'thesisTitle').text\n",
    "\n",
    "    # 초록*키워드\n",
    "    content = browser.find_element(By.CLASS_NAME, 'abstractTxt').text\n",
    "\n",
    "    data = {\n",
    "        \"제목\" : title,\n",
    "        \"초록-키워드\" : content \n",
    "    }\n",
    "\n",
    "    data_list.append(data)\n",
    "\n",
    "df = pd.DataFrame(data_list)\n",
    "df\n",
    "df.to_csv(\"./dbpia_scholar.csv\", encoding=\"utf-8-sig\")"
   ]
  },
  {
   "cell_type": "code",
   "execution_count": null,
   "metadata": {},
   "outputs": [],
   "source": []
  },
  {
   "cell_type": "code",
   "execution_count": 8,
   "metadata": {},
   "outputs": [
    {
     "name": "stdout",
     "output_type": "stream",
     "text": [
      "https://www.google.com/search?q=검색어&start=0\n",
      "https://www.google.com/search?q=검색어&start=10\n",
      "https://www.google.com/search?q=검색어&start=20\n",
      "https://www.google.com/search?q=검색어&start=30\n",
      "https://www.google.com/search?q=검색어&start=40\n",
      "https://www.google.com/search?q=검색어&start=50\n",
      "https://www.google.com/search?q=검색어&start=60\n",
      "https://www.google.com/search?q=검색어&start=70\n",
      "https://www.google.com/search?q=검색어&start=80\n",
      "https://www.google.com/search?q=검색어&start=90\n"
     ]
    }
   ],
   "source": [
    "# https://www.google.com/search?q=%EC%9D%B8%EA%B3%B5%EC%A7%80%EB%8A%A5&tbm=nws&ei=SoVAZOndLMmx2roPyPOX8Ag&start=0 - 1페이지\n",
    "# https://www.google.com/search?q=%EC%9D%B8%EA%B3%B5%EC%A7%80%EB%8A%A5&tbm=nws&ei=SoVAZOndLMmx2roPyPOX8Ag&start=10 - 2페이지\n",
    "# https://www.google.com/search?q=%EC%9D%B8%EA%B3%B5%EC%A7%80%EB%8A%A5&tbm=nws&ei=U4VAZPbYKobf2roPmq-ayA4&start=20 - 3페이지\n",
    "# https://www.google.com/search?q=%EC%9D%B8%EA%B3%B5%EC%A7%80%EB%8A%A5&tbm=nws&ei=eYVAZKjqNc3M2roP0NKSuAM&start=90 - 10페이지\n",
    "# tbm => tab menu - nws(news) # GET data\n",
    "\n",
    "url = \"https://www.google.com/search?q=검색어&start={}\"\n",
    "\n",
    "for i in range(0,100, 10):\n",
    "    final_url = url.format(i)\n",
    "    print(final_url)"
   ]
  },
  {
   "cell_type": "code",
   "execution_count": 15,
   "metadata": {},
   "outputs": [
    {
     "data": {
      "text/plain": [
       "[0, 1, 2, 3]"
      ]
     },
     "execution_count": 15,
     "metadata": {},
     "output_type": "execute_result"
    }
   ],
   "source": []
  },
  {
   "cell_type": "code",
   "execution_count": null,
   "metadata": {},
   "outputs": [],
   "source": []
  }
 ],
 "metadata": {
  "kernelspec": {
   "display_name": "Python 3",
   "language": "python",
   "name": "python3"
  },
  "language_info": {
   "codemirror_mode": {
    "name": "ipython",
    "version": 3
   },
   "file_extension": ".py",
   "mimetype": "text/x-python",
   "name": "python",
   "nbconvert_exporter": "python",
   "pygments_lexer": "ipython3",
   "version": "3.10.9"
  },
  "orig_nbformat": 4,
  "vscode": {
   "interpreter": {
    "hash": "6ecdebf77f2ee3a47348d003f751c63e810ca996c1c68d1179f338200fa83b34"
   }
  }
 },
 "nbformat": 4,
 "nbformat_minor": 2
}
