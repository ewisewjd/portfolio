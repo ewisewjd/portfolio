{
 "cells": [
  {
   "cell_type": "code",
   "execution_count": 1,
   "metadata": {},
   "outputs": [],
   "source": [
    "#libary import \n",
    "from selenium import webdriver\n",
    "from selenium.webdriver.common.by import By\n",
    "import time\n",
    "import pandas as pd "
   ]
  },
  {
   "cell_type": "code",
   "execution_count": 2,
   "metadata": {},
   "outputs": [],
   "source": [
    "browser=webdriver.Chrome()"
   ]
  },
  {
   "cell_type": "code",
   "execution_count": 3,
   "metadata": {},
   "outputs": [],
   "source": [
    "#사이트 이동 \n",
    "url=\"https://www.dbpia.co.kr/search/topSearch?searchOption=all&query=%EC%9D%B8%EA%B3%B5%EC%A7%80%EB%8A%A5\"\n",
    "browser.get(url)"
   ]
  },
  {
   "cell_type": "code",
   "execution_count": 8,
   "metadata": {},
   "outputs": [
    {
     "name": "stdout",
     "output_type": "stream",
     "text": [
      "['https://www.dbpia.co.kr/journal/articleDetail?nodeId=NODE11230851', 'https://www.dbpia.co.kr/journal/articleDetail?nodeId=NODE11230843', 'https://www.dbpia.co.kr/journal/articleDetail?nodeId=NODE11230845', 'https://www.dbpia.co.kr/journal/articleDetail?nodeId=NODE11230844', 'https://www.dbpia.co.kr/journal/articleDetail?nodeId=NODE11288340', 'https://www.dbpia.co.kr/journal/articleDetail?nodeId=NODE11231160', 'https://www.dbpia.co.kr/journal/articleDetail?nodeId=NODE11231378', 'https://www.dbpia.co.kr/journal/articleDetail?nodeId=NODE11288024', 'https://www.dbpia.co.kr/journal/articleDetail?nodeId=NODE11231192', 'https://www.dbpia.co.kr/journal/articleDetail?nodeId=NODE11230847', 'https://www.dbpia.co.kr/journal/articleDetail?nodeId=NODE11337935', 'https://www.dbpia.co.kr/journal/articleDetail?nodeId=NODE11230365', 'https://www.dbpia.co.kr/journal/articleDetail?nodeId=NODE11342633', 'https://www.dbpia.co.kr/journal/articleDetail?nodeId=NODE11231818', 'https://www.dbpia.co.kr/journal/articleDetail?nodeId=NODE11225163', 'https://www.dbpia.co.kr/journal/articleDetail?nodeId=NODE11229021', 'https://www.dbpia.co.kr/journal/articleDetail?nodeId=NODE11228571', 'https://www.dbpia.co.kr/journal/articleDetail?nodeId=NODE11228572', 'https://www.dbpia.co.kr/journal/articleDetail?nodeId=NODE11219382', 'https://www.dbpia.co.kr/journal/articleDetail?nodeId=NODE11219168']\n"
     ]
    }
   ],
   "source": [
    "# 논문의 링크만 가져오는 코드 \n",
    "#browser.find_element(By.CLASS_NAME,'thesis__link').get_attribute('href')\n",
    "\n",
    "datas=browser.find_elements(By.CLASS_NAME,\"thesis__link\")\n",
    "\n",
    "detail_url_list=[]\n",
    "for i in datas:\n",
    "    detail_url=i.get_attribute('href')\n",
    "    #browser.get(detail_url)\n",
    "    detail_url_list.append(detail_url)\n",
    "    \n",
    "    \n",
    "print(detail_url_list)"
   ]
  },
  {
   "cell_type": "code",
   "execution_count": 12,
   "metadata": {},
   "outputs": [
    {
     "ename": "NoSuchElementException",
     "evalue": "Message: no such element: Unable to locate element: {\"method\":\"css selector\",\"selector\":\".abstractTxt\"}\n  (Session info: chrome=112.0.5615.121)\nStacktrace:\nBacktrace:\n\tGetHandleVerifier [0x0115DCE3+50899]\n\t(No symbol) [0x010EE111]\n\t(No symbol) [0x00FF5588]\n\t(No symbol) [0x010208F9]\n\t(No symbol) [0x01020AFB]\n\t(No symbol) [0x0104F902]\n\t(No symbol) [0x0103B944]\n\t(No symbol) [0x0104E01C]\n\t(No symbol) [0x0103B6F6]\n\t(No symbol) [0x01017708]\n\t(No symbol) [0x0101886D]\n\tGetHandleVerifier [0x013C3EAE+2566302]\n\tGetHandleVerifier [0x013F92B1+2784417]\n\tGetHandleVerifier [0x013F327C+2759788]\n\tGetHandleVerifier [0x011F5740+672048]\n\t(No symbol) [0x010F8872]\n\t(No symbol) [0x010F41C8]\n\t(No symbol) [0x010F42AB]\n\t(No symbol) [0x010E71B7]\n\tBaseThreadInitThunk [0x779BFA29+25]\n\tRtlGetAppContainerNamedObjectPath [0x77E17A7E+286]\n\tRtlGetAppContainerNamedObjectPath [0x77E17A4E+238]\n",
     "output_type": "error",
     "traceback": [
      "\u001b[1;31m---------------------------------------------------------------------------\u001b[0m",
      "\u001b[1;31mNoSuchElementException\u001b[0m                    Traceback (most recent call last)",
      "Cell \u001b[1;32mIn[12], line 8\u001b[0m\n\u001b[0;32m      6\u001b[0m title\u001b[38;5;241m=\u001b[39mbrowser\u001b[38;5;241m.\u001b[39mfind_element(By\u001b[38;5;241m.\u001b[39mID,\u001b[38;5;124m'\u001b[39m\u001b[38;5;124mthesisTitle\u001b[39m\u001b[38;5;124m'\u001b[39m)\u001b[38;5;241m.\u001b[39mtext\n\u001b[0;32m      7\u001b[0m title_list\u001b[38;5;241m.\u001b[39mappend(title)\n\u001b[1;32m----> 8\u001b[0m content\u001b[38;5;241m=\u001b[39m\u001b[43mbrowser\u001b[49m\u001b[38;5;241;43m.\u001b[39;49m\u001b[43mfind_element\u001b[49m\u001b[43m(\u001b[49m\u001b[43mBy\u001b[49m\u001b[38;5;241;43m.\u001b[39;49m\u001b[43mCLASS_NAME\u001b[49m\u001b[43m,\u001b[49m\u001b[38;5;124;43m\"\u001b[39;49m\u001b[38;5;124;43mabstractTxt\u001b[39;49m\u001b[38;5;124;43m\"\u001b[39;49m\u001b[43m)\u001b[49m\u001b[38;5;241m.\u001b[39mtext\n\u001b[0;32m      9\u001b[0m content_list\u001b[38;5;241m.\u001b[39mappend(content)\n\u001b[0;32m     10\u001b[0m total_contents\u001b[38;5;241m=\u001b[39m{\n\u001b[0;32m     11\u001b[0m     \u001b[38;5;124m\"\u001b[39m\u001b[38;5;124m제목\u001b[39m\u001b[38;5;124m\"\u001b[39m:title,\n\u001b[0;32m     12\u001b[0m     \u001b[38;5;124m\"\u001b[39m\u001b[38;5;124m내용\u001b[39m\u001b[38;5;124m\"\u001b[39m:content\n\u001b[0;32m     13\u001b[0m }\n",
      "File \u001b[1;32mc:\\Users\\jung\\AppData\\Local\\Programs\\Python\\Python311\\Lib\\site-packages\\selenium\\webdriver\\remote\\webdriver.py:831\u001b[0m, in \u001b[0;36mWebDriver.find_element\u001b[1;34m(self, by, value)\u001b[0m\n\u001b[0;32m    <a href='file:///c%3A/Users/jung/AppData/Local/Programs/Python/Python311/Lib/site-packages/selenium/webdriver/remote/webdriver.py?line=827'>828</a>\u001b[0m     by \u001b[39m=\u001b[39m By\u001b[39m.\u001b[39mCSS_SELECTOR\n\u001b[0;32m    <a href='file:///c%3A/Users/jung/AppData/Local/Programs/Python/Python311/Lib/site-packages/selenium/webdriver/remote/webdriver.py?line=828'>829</a>\u001b[0m     value \u001b[39m=\u001b[39m \u001b[39mf\u001b[39m\u001b[39m'\u001b[39m\u001b[39m[name=\u001b[39m\u001b[39m\"\u001b[39m\u001b[39m{\u001b[39;00mvalue\u001b[39m}\u001b[39;00m\u001b[39m\"\u001b[39m\u001b[39m]\u001b[39m\u001b[39m'\u001b[39m\n\u001b[1;32m--> <a href='file:///c%3A/Users/jung/AppData/Local/Programs/Python/Python311/Lib/site-packages/selenium/webdriver/remote/webdriver.py?line=830'>831</a>\u001b[0m \u001b[39mreturn\u001b[39;00m \u001b[39mself\u001b[39;49m\u001b[39m.\u001b[39;49mexecute(Command\u001b[39m.\u001b[39;49mFIND_ELEMENT, {\u001b[39m\"\u001b[39;49m\u001b[39musing\u001b[39;49m\u001b[39m\"\u001b[39;49m: by, \u001b[39m\"\u001b[39;49m\u001b[39mvalue\u001b[39;49m\u001b[39m\"\u001b[39;49m: value})[\u001b[39m\"\u001b[39m\u001b[39mvalue\u001b[39m\u001b[39m\"\u001b[39m]\n",
      "File \u001b[1;32mc:\\Users\\jung\\AppData\\Local\\Programs\\Python\\Python311\\Lib\\site-packages\\selenium\\webdriver\\remote\\webdriver.py:440\u001b[0m, in \u001b[0;36mWebDriver.execute\u001b[1;34m(self, driver_command, params)\u001b[0m\n\u001b[0;32m    <a href='file:///c%3A/Users/jung/AppData/Local/Programs/Python/Python311/Lib/site-packages/selenium/webdriver/remote/webdriver.py?line=437'>438</a>\u001b[0m response \u001b[39m=\u001b[39m \u001b[39mself\u001b[39m\u001b[39m.\u001b[39mcommand_executor\u001b[39m.\u001b[39mexecute(driver_command, params)\n\u001b[0;32m    <a href='file:///c%3A/Users/jung/AppData/Local/Programs/Python/Python311/Lib/site-packages/selenium/webdriver/remote/webdriver.py?line=438'>439</a>\u001b[0m \u001b[39mif\u001b[39;00m response:\n\u001b[1;32m--> <a href='file:///c%3A/Users/jung/AppData/Local/Programs/Python/Python311/Lib/site-packages/selenium/webdriver/remote/webdriver.py?line=439'>440</a>\u001b[0m     \u001b[39mself\u001b[39;49m\u001b[39m.\u001b[39;49merror_handler\u001b[39m.\u001b[39;49mcheck_response(response)\n\u001b[0;32m    <a href='file:///c%3A/Users/jung/AppData/Local/Programs/Python/Python311/Lib/site-packages/selenium/webdriver/remote/webdriver.py?line=440'>441</a>\u001b[0m     response[\u001b[39m\"\u001b[39m\u001b[39mvalue\u001b[39m\u001b[39m\"\u001b[39m] \u001b[39m=\u001b[39m \u001b[39mself\u001b[39m\u001b[39m.\u001b[39m_unwrap_value(response\u001b[39m.\u001b[39mget(\u001b[39m\"\u001b[39m\u001b[39mvalue\u001b[39m\u001b[39m\"\u001b[39m, \u001b[39mNone\u001b[39;00m))\n\u001b[0;32m    <a href='file:///c%3A/Users/jung/AppData/Local/Programs/Python/Python311/Lib/site-packages/selenium/webdriver/remote/webdriver.py?line=441'>442</a>\u001b[0m     \u001b[39mreturn\u001b[39;00m response\n",
      "File \u001b[1;32mc:\\Users\\jung\\AppData\\Local\\Programs\\Python\\Python311\\Lib\\site-packages\\selenium\\webdriver\\remote\\errorhandler.py:245\u001b[0m, in \u001b[0;36mErrorHandler.check_response\u001b[1;34m(self, response)\u001b[0m\n\u001b[0;32m    <a href='file:///c%3A/Users/jung/AppData/Local/Programs/Python/Python311/Lib/site-packages/selenium/webdriver/remote/errorhandler.py?line=242'>243</a>\u001b[0m         alert_text \u001b[39m=\u001b[39m value[\u001b[39m\"\u001b[39m\u001b[39malert\u001b[39m\u001b[39m\"\u001b[39m]\u001b[39m.\u001b[39mget(\u001b[39m\"\u001b[39m\u001b[39mtext\u001b[39m\u001b[39m\"\u001b[39m)\n\u001b[0;32m    <a href='file:///c%3A/Users/jung/AppData/Local/Programs/Python/Python311/Lib/site-packages/selenium/webdriver/remote/errorhandler.py?line=243'>244</a>\u001b[0m     \u001b[39mraise\u001b[39;00m exception_class(message, screen, stacktrace, alert_text)  \u001b[39m# type: ignore[call-arg]  # mypy is not smart enough here\u001b[39;00m\n\u001b[1;32m--> <a href='file:///c%3A/Users/jung/AppData/Local/Programs/Python/Python311/Lib/site-packages/selenium/webdriver/remote/errorhandler.py?line=244'>245</a>\u001b[0m \u001b[39mraise\u001b[39;00m exception_class(message, screen, stacktrace)\n",
      "\u001b[1;31mNoSuchElementException\u001b[0m: Message: no such element: Unable to locate element: {\"method\":\"css selector\",\"selector\":\".abstractTxt\"}\n  (Session info: chrome=112.0.5615.121)\nStacktrace:\nBacktrace:\n\tGetHandleVerifier [0x0115DCE3+50899]\n\t(No symbol) [0x010EE111]\n\t(No symbol) [0x00FF5588]\n\t(No symbol) [0x010208F9]\n\t(No symbol) [0x01020AFB]\n\t(No symbol) [0x0104F902]\n\t(No symbol) [0x0103B944]\n\t(No symbol) [0x0104E01C]\n\t(No symbol) [0x0103B6F6]\n\t(No symbol) [0x01017708]\n\t(No symbol) [0x0101886D]\n\tGetHandleVerifier [0x013C3EAE+2566302]\n\tGetHandleVerifier [0x013F92B1+2784417]\n\tGetHandleVerifier [0x013F327C+2759788]\n\tGetHandleVerifier [0x011F5740+672048]\n\t(No symbol) [0x010F8872]\n\t(No symbol) [0x010F41C8]\n\t(No symbol) [0x010F42AB]\n\t(No symbol) [0x010E71B7]\n\tBaseThreadInitThunk [0x779BFA29+25]\n\tRtlGetAppContainerNamedObjectPath [0x77E17A7E+286]\n\tRtlGetAppContainerNamedObjectPath [0x77E17A4E+238]\n"
     ]
    }
   ],
   "source": [
    "title_list=[]\n",
    "content_list=[]\n",
    "\n",
    "for link in detail_url_list:\n",
    "    browser.get(link)\n",
    "    title=browser.find_element(By.ID,'thesisTitle').text\n",
    "    title_list.append(title)\n",
    "    content=browser.find_element(By.CLASS_NAME,\"abstractTxt\").text\n",
    "    content_list.append(content)\n",
    "    total_contents={\n",
    "        \"제목\":title,\n",
    "        \"내용\":content\n",
    "    }\n",
    "    time.sleep(3)\n",
    "print(total_contents)"
   ]
  },
  {
   "cell_type": "code",
   "execution_count": null,
   "metadata": {},
   "outputs": [],
   "source": []
  },
  {
   "cell_type": "code",
   "execution_count": null,
   "metadata": {},
   "outputs": [],
   "source": []
  },
  {
   "cell_type": "code",
   "execution_count": 10,
   "metadata": {},
   "outputs": [
    {
     "data": {
      "text/plain": [
       "'유아 인공지능(AI) 관련 연구 동향 분석'"
      ]
     },
     "execution_count": 10,
     "metadata": {},
     "output_type": "execute_result"
    }
   ],
   "source": [
    "browser.find_element(By.ID,'thesisTitle').text"
   ]
  },
  {
   "cell_type": "code",
   "execution_count": 11,
   "metadata": {},
   "outputs": [
    {
     "data": {
      "text/plain": [
       "'본 연구는 유아 인공지능 관련 연구 동향을 살펴봄으로써 앞으로의 유아 인공지능 관련 연구가 나아가야 할 방향을 제시하고 관련 연구의 토대를 확고히 하기 위하여 시도되었다. 이를 위해 최근 7년간 실시되어온 유아 인공지능에 관한 국내 학술지 논문과 학위논문을 연도, 연구대상, 연구방법, 연구내용별로 구분하여 검토하고 분석하였으며 연구결과는 다음과 같다. 첫째, 국내 인공지능 관련 연구는 연구가 처음 실시된 2017년을 시작으로 2023년까지 꾸준히 시행되었으며 2022년에 급격히 증가하는 경향을 보였다. 둘째, 연구대상은 교사를 대상으로 하는 연구가 가장 많이 나타났고, 문헌 및 연구물, 유아, 애플리케이션 및 콘텐츠를 대상으로 하는 연구가 순서대로 나타났다. 셋째, 연구방법으로는 양적연구가 가장 많았으며 문헌연구, 질적연구, 혼합연구가 순서대로 나타났다. 넷째, 연구내용으로는 기초연구에서 인식 및 실태 조사가 가장 높게 나타났고, 실천연구에서 관련 변인 탐색과 프로그램 개발 및 효과검증의 연구가 많게 나타났다. 이상의 연구결과에서 유아 인공지능 관련 연구가 어떻게 이루어졌는지를 파악한 바를 토대로 유아 인공지능 관련 연구의 학술적 발전을 위해 필요한 연구의 방향과 시사점을 제시하고자 한다.\\n\\nThe purpose of this study was to examine the recent research trends in artificial intelligence for young children and to suggest directions for follow-up research in the area. The study analyzed research papers in South Korea from 2017 to 2023. The results of this study were as follow. First, artificial intelligence research for young children has been steadily conducted since the first research in 2017, and there was a rapid increase in the number of studies in 2022. Second, most of the studies were investigated on early childhood teachers, followed by literature, young children and applications and contents. Third, when analyzing the results of the study by research methods, quantitative methods were prevalent, followed by literature research, qualitative methods and mixed methods. Fourth, in basic research, studies on current status and recognition research on artificial intelligence were the most frequent, and in practical research, research on related variables was frequent. This study is expected to provide basic data and be a valuable foundation for research on artificial intelligence for young children.'"
      ]
     },
     "execution_count": 11,
     "metadata": {},
     "output_type": "execute_result"
    }
   ],
   "source": [
    "browser.find_element(By.CLASS_NAME,\"abstractTxt\").text"
   ]
  },
  {
   "cell_type": "code",
   "execution_count": null,
   "metadata": {},
   "outputs": [],
   "source": [
    "# 논문 링크만 쭉 가져오는 코드\n",
    "# link = browser.find_element(By.CLASS_NAME, 'thesis__link').get_attribute('href')\n",
    "\n",
    "datas = browser.find_elements(By.CLASS_NAME, 'thesis__link')\n",
    "\n",
    "detail_url_list = []\n",
    "for i in datas:\n",
    "    detail_url = i.get_attribute('href')\n",
    "    detail_url_list.append(detail_url)\n",
    "\n",
    "print(detail_url_list)\n"
   ]
  },
  {
   "cell_type": "code",
   "execution_count": null,
   "metadata": {},
   "outputs": [],
   "source": [
    "# (1) DB pia 사이트로 간다.\n",
    "# (2) 1페이지에 있는 논문 링크들을 다 가져온다.\n",
    "# (3) 2페이지로 간다.\n",
    "# (4) 2페이지에 있는 논문 링크들을 다 가져온다.\n",
    "# (5) 3페이지로 간다.\n",
    "\n",
    "page_xpath = '//*[@id=\"pageList\"]/a[{}]'\n",
    "\n",
    "link_list = []\n",
    "\n",
    "for i in range(1,3):\n",
    "    next_page_xpath = page_xpath.format(i)\n",
    "    browser.find_element(By.XPATH, next_page_xpath).click()\n",
    "    time.sleep(5)\n",
    "\n",
    "    # 해당 페이지의 링크 값들을 다 가져와서 link_list에 저장을 한다.\n",
    "    links = browser.find_elements(By.CLASS_NAME, 'thesis__link')\n",
    "\n",
    "    for j in links:\n",
    "        link = j.get_attribute('href')\n",
    "        link_list.append(link)\n",
    "num = 0\n",
    "\n",
    "for link in link_list:\n",
    "    num += 1\n",
    "    if num ==5:\n",
    "        break\n",
    "    browser.get(link)\n",
    "    time.sleep(5) # 무조건 5초를 기다려\n",
    "\n",
    "    # 타이틀\n",
    "    \n",
    "\n",
    "    # 초록*키워드\n"
   ]
  },
  {
   "cell_type": "code",
   "execution_count": null,
   "metadata": {},
   "outputs": [],
   "source": [
    "import requests\n",
    "\n",
    "url = \"https://google.com\"\n",
    "res = requests.get(url)\n",
    "\n",
    "res.content\n",
    "\n",
    "\n"
   ]
  }
 ],
 "metadata": {
  "interpreter": {
   "hash": "1b420848bddad60c0e5045a5b23e65b559d259bcc34afb948709bef4d47348d9"
  },
  "kernelspec": {
   "display_name": "Python 3.11.1 64-bit",
   "language": "python",
   "name": "python3"
  },
  "language_info": {
   "codemirror_mode": {
    "name": "ipython",
    "version": 3
   },
   "file_extension": ".py",
   "mimetype": "text/x-python",
   "name": "python",
   "nbconvert_exporter": "python",
   "pygments_lexer": "ipython3",
   "version": "3.11.1"
  },
  "orig_nbformat": 4
 },
 "nbformat": 4,
 "nbformat_minor": 2
}
