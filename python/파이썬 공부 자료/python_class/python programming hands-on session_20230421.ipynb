{
 "cells": [
  {
   "cell_type": "code",
   "execution_count": 131,
   "id": "22de74de",
   "metadata": {},
   "outputs": [
    {
     "data": {
      "text/plain": [
       "8"
      ]
     },
     "execution_count": 131,
     "metadata": {},
     "output_type": "execute_result"
    }
   ],
   "source": [
    "# C function definition\n",
    "# int add_number(int a, int b){\n",
    "#     int c = a + b;\n",
    "#     return c\n",
    "# }\n",
    "\n",
    "\n",
    "# python function definition with Type Hint\n",
    "def add_number(a :int, b :int) -> int:\n",
    "    '''\n",
    "    두 개의 숫자를 받아서 더한 결과를 돌려주는 함수입니다.\n",
    "    '''\n",
    "    c = a + b\n",
    "    return c\n",
    "\n",
    "add_number(5, 3)"
   ]
  },
  {
   "cell_type": "code",
   "execution_count": 16,
   "id": "8a8f67b0",
   "metadata": {},
   "outputs": [
    {
     "name": "stdout",
     "output_type": "stream",
     "text": [
      "(a, 1), (b, 2), (c, 3)\n",
      "(a, 1), (b, 2), (c, 3)\n",
      "('a', 1), ('b', 2), ('c', 3)\n"
     ]
    }
   ],
   "source": [
    "# for문\n",
    "\n",
    "# for i in range(): # iterator\n",
    "    \n",
    "    \n",
    "# for i in L:\n",
    "\n",
    "# with open('a.txt', 'r') as f:\n",
    "#     for line in f:\n",
    "      \n",
    "L = ['a', 'b', 'c']\n",
    "L2 = [1, 2, 3]\n",
    "\n",
    "# 출력결과 : (a, 1), (b, 2), (c, 3)\n",
    "\n",
    "# 1) index를 활용하는 방법\n",
    "for i in range(len(L)):\n",
    "    if i == (len(L)-1):\n",
    "        print(f\"({L[i]}, {L2[i]})\")\n",
    "    else:\n",
    "        print(f\"({L[i]}, {L2[i]})\", end=', ')\n",
    "\n",
    "# 2) enumerate, zip 함수를 활용하는 방법\n",
    "for idx, (i, j) in enumerate(zip(L, L2)):\n",
    "    #print(idx, val)\n",
    "    #i, j = val # unpacking\n",
    "    if idx == (len(L)-1):\n",
    "        print(f\"({i}, {j})\")\n",
    "    else:\n",
    "        print(f\"({i}, {j})\", end=', ')\n",
    "\n",
    "\n",
    "# 3) list comprehension\n",
    "L3 = [(a, b) for a, b in zip(L, L2)]\n",
    "print(*L3, sep=', ')"
   ]
  },
  {
   "cell_type": "code",
   "execution_count": 11,
   "id": "1c779cad",
   "metadata": {},
   "outputs": [
    {
     "name": "stdout",
     "output_type": "stream",
     "text": [
      "[0, 1, 2]\n",
      "[0, 1, 2]\n"
     ]
    }
   ],
   "source": [
    "# list comprehension practice\n",
    "#[원소표현 for x in 반복가능한객체 if 조건]\n",
    "\n",
    "# e.g.\n",
    "L = []\n",
    "for x in range(3):\n",
    "    L.append(x)\n",
    "print(L)\n",
    "\n",
    "L2 = [x for x in range(3)]\n",
    "print(L2)\n",
    "\n",
    "\n",
    "L3 = [int(s) for s in ['10', '11', '1234', '0011']]\n",
    "# for문\n",
    "L3 = []\n",
    "for s in ['10', '11', '1234', '0011']:\n",
    "    L3.append(int(s))\n",
    "L3"
   ]
  },
  {
   "cell_type": "code",
   "execution_count": 22,
   "id": "e8503b05",
   "metadata": {},
   "outputs": [
    {
     "data": {
      "text/plain": [
       "dict_items([('kim', 90), ('lee', 75), ('choi', 100)])"
      ]
     },
     "execution_count": 22,
     "metadata": {},
     "output_type": "execute_result"
    }
   ],
   "source": [
    "D = {\n",
    "    'kim' : 90,\n",
    "    'lee' : 75,\n",
    "    'choi' : 100}\n",
    "\n",
    "# ('kim', 90), ('lee', 75), ('choi', 100)\n",
    "D.keys()\n",
    "D.values()\n",
    "D.items()"
   ]
  },
  {
   "cell_type": "code",
   "execution_count": 23,
   "id": "d5e10b73",
   "metadata": {},
   "outputs": [
    {
     "name": "stdout",
     "output_type": "stream",
     "text": [
      "(kim, 90), (lee, 75), (choi, 100)\n"
     ]
    }
   ],
   "source": [
    "for idx, (i, j) in enumerate(D.items()):\n",
    "    if idx == (len(L)-1):\n",
    "        print(f\"({i}, {j})\")\n",
    "    else:\n",
    "        print(f\"({i}, {j})\", end=', ')"
   ]
  },
  {
   "cell_type": "code",
   "execution_count": 24,
   "id": "0e1e271c",
   "metadata": {},
   "outputs": [
    {
     "data": {
      "text/plain": [
       "{'kim': 90, 'lee': 75, 'choi': 100}"
      ]
     },
     "execution_count": 24,
     "metadata": {},
     "output_type": "execute_result"
    }
   ],
   "source": [
    "name_list = ['kim', 'lee', 'choi']\n",
    "score_list = [90, 75, 100]\n",
    "\n",
    "D = {}\n",
    "for name, score in zip(name_list, score_list):\n",
    "    D[name] = score\n",
    "D"
   ]
  },
  {
   "cell_type": "code",
   "execution_count": 25,
   "id": "5b3f6d91",
   "metadata": {},
   "outputs": [],
   "source": [
    "#아래 5개의 변수들은 각각 하나의 문서를 의미합니다.\n",
    "news1 = \"earn champion products ch approves stock split champion products inc said its board of directors approved a two for one stock split of its common shares for shareholders of record as of april the company also said its board voted to recommend to shareholders at the annual meeting april an increase in the authorized capital stock from five mln to mln shares reuter\"\n",
    "news2 = \"acq computer terminal systems cpml completes sale computer terminal systems inc said it has completed the sale of shares of its common stock and warrants to acquire an additional one mln shares to sedio n v of lugano switzerland for dlrs the company said the warrants are exercisable for five years at a purchase price of dlrs per share computer terminal said sedio also has the right to buy additional shares and increase its total holdings up to pct of the computer terminal s outstanding common stock under certain circumstances involving change of control at the company the company said if the conditions occur the warrants would be exercisable at a price equal to pct of its common stock s market price at the time not to exceed dlrs per share computer terminal also said it sold the technolgy rights to its dot matrix impact technology including any future improvements to woodco inc of houston tex for dlrs but it said it would continue to be the exclusive worldwide licensee of the technology for woodco the company said the moves were part of its reorganization plan and would help pay current operation costs and ensure product delivery computer terminal makes computer generated labels forms tags and ticket printers and terminals reuter\"\n",
    "news3 = \"earn cobanco inc cbco year net shr cts vs dlrs net vs assets mln vs mln deposits mln vs mln loans mln vs mln note th qtr not available year includes extraordinary gain from tax carry forward of dlrs or five cts per shr reuter\"\n",
    "news4 = \"earn am international inc am nd qtr jan oper shr loss two cts vs profit seven cts oper shr profit vs profit revs mln vs mln avg shrs mln vs mln six mths oper shr profit nil vs profit cts oper net profit vs profit revs mln vs mln avg shrs mln vs mln note per shr calculated after payment of preferred dividends results exclude credits of or four cts and or nine cts for qtr and six mths vs or six cts and or cts for prior periods from operating loss carryforwards reuter\"\n",
    "news5 = \"earn brown forman inc bfd th qtr net shr one dlr vs cts net mln vs mln revs mln vs mln nine mths shr dlrs vs dlrs net mln vs mln revs billion vs mln reuter\""
   ]
  },
  {
   "cell_type": "code",
   "execution_count": 78,
   "id": "d8b9472d",
   "metadata": {},
   "outputs": [
    {
     "name": "stdout",
     "output_type": "stream",
     "text": [
      "{'earn': 4, 'champion': 2, 'products': 2, 'ch': 1, 'approves': 1, 'stock': 6, 'split': 2, 'inc': 6, 'said': 9, 'its': 8, 'board': 2, 'of': 17, 'directors': 1, 'approved': 1, 'a': 3, 'two': 2, 'for': 8, 'one': 3, 'common': 4, 'shares': 5, 'shareholders': 2, 'record': 1, 'as': 1, 'april': 2, 'the': 18, 'company': 5, 'also': 3, 'voted': 1, 'to': 12, 'recommend': 1, 'at': 5, 'annual': 1, 'meeting': 1, 'an': 2, 'increase': 2, 'in': 1, 'authorized': 1, 'capital': 1, 'from': 3, 'five': 3, 'mln': 24, 'reuter': 5, 'acq': 1, 'computer': 7, 'terminal': 6, 'systems': 2, 'cpml': 1, 'completes': 1, 'sale': 2, 'it': 4, 'has': 2, 'completed': 1, 'and': 9, 'warrants': 3, 'acquire': 1, 'additional': 2, 'sedio': 2, 'n': 1, 'v': 1, 'lugano': 1, 'switzerland': 1, 'dlrs': 8, 'are': 1, 'exercisable': 2, 'years': 1, 'purchase': 1, 'price': 3, 'per': 4, 'share': 2, 'right': 1, 'buy': 1, 'total': 1, 'holdings': 1, 'up': 1, 'pct': 2, 's': 2, 'outstanding': 1, 'under': 1, 'certain': 1, 'circumstances': 1, 'involving': 1, 'change': 1, 'control': 1, 'if': 1, 'conditions': 1, 'occur': 1, 'would': 3, 'be': 2, 'equal': 1, 'market': 1, 'time': 1, 'not': 2, 'exceed': 1, 'sold': 1, 'technolgy': 1, 'rights': 1, 'dot': 1, 'matrix': 1, 'impact': 1, 'technology': 2, 'including': 1, 'any': 1, 'future': 1, 'improvements': 1, 'woodco': 2, 'houston': 1, 'tex': 1, 'but': 1, 'continue': 1, 'exclusive': 1, 'worldwide': 1, 'licensee': 1, 'moves': 1, 'were': 1, 'part': 1, 'reorganization': 1, 'plan': 1, 'help': 1, 'pay': 1, 'current': 1, 'operation': 1, 'costs': 1, 'ensure': 1, 'product': 1, 'delivery': 1, 'makes': 1, 'generated': 1, 'labels': 1, 'forms': 1, 'tags': 1, 'ticket': 1, 'printers': 1, 'terminals': 1, 'cobanco': 1, 'cbco': 1, 'year': 2, 'net': 6, 'shr': 8, 'cts': 10, 'vs': 20, 'assets': 1, 'deposits': 1, 'loans': 1, 'note': 2, 'th': 2, 'qtr': 4, 'available': 1, 'includes': 1, 'extraordinary': 1, 'gain': 1, 'tax': 1, 'carry': 1, 'forward': 1, 'or': 5, 'am': 2, 'international': 1, 'nd': 1, 'jan': 1, 'oper': 4, 'loss': 2, 'profit': 7, 'seven': 1, 'revs': 4, 'avg': 2, 'shrs': 2, 'six': 3, 'mths': 3, 'nil': 1, 'calculated': 1, 'after': 1, 'payment': 1, 'preferred': 1, 'dividends': 1, 'results': 1, 'exclude': 1, 'credits': 1, 'four': 1, 'nine': 2, 'prior': 1, 'periods': 1, 'operating': 1, 'carryforwards': 1, 'brown': 1, 'forman': 1, 'bfd': 1, 'dlr': 1, 'billion': 1}\n",
      "{'earn': 4, 'champion': 2, 'products': 2, 'ch': 1, 'approves': 1, 'stock': 6, 'split': 2, 'inc': 6, 'said': 9, 'its': 8, 'board': 2, 'of': 17, 'directors': 1, 'approved': 1, 'a': 3, 'two': 2, 'for': 8, 'one': 3, 'common': 4, 'shares': 5, 'shareholders': 2, 'record': 1, 'as': 1, 'april': 2, 'the': 18, 'company': 5, 'also': 3, 'voted': 1, 'to': 12, 'recommend': 1, 'at': 5, 'annual': 1, 'meeting': 1, 'an': 2, 'increase': 2, 'in': 1, 'authorized': 1, 'capital': 1, 'from': 3, 'five': 3, 'mln': 24, 'reuter': 5, 'acq': 1, 'computer': 7, 'terminal': 6, 'systems': 2, 'cpml': 1, 'completes': 1, 'sale': 2, 'it': 4, 'has': 2, 'completed': 1, 'and': 9, 'warrants': 3, 'acquire': 1, 'additional': 2, 'sedio': 2, 'n': 1, 'v': 1, 'lugano': 1, 'switzerland': 1, 'dlrs': 8, 'are': 1, 'exercisable': 2, 'years': 1, 'purchase': 1, 'price': 3, 'per': 4, 'share': 2, 'right': 1, 'buy': 1, 'total': 1, 'holdings': 1, 'up': 1, 'pct': 2, 's': 2, 'outstanding': 1, 'under': 1, 'certain': 1, 'circumstances': 1, 'involving': 1, 'change': 1, 'control': 1, 'if': 1, 'conditions': 1, 'occur': 1, 'would': 3, 'be': 2, 'equal': 1, 'market': 1, 'time': 1, 'not': 2, 'exceed': 1, 'sold': 1, 'technolgy': 1, 'rights': 1, 'dot': 1, 'matrix': 1, 'impact': 1, 'technology': 2, 'including': 1, 'any': 1, 'future': 1, 'improvements': 1, 'woodco': 2, 'houston': 1, 'tex': 1, 'but': 1, 'continue': 1, 'exclusive': 1, 'worldwide': 1, 'licensee': 1, 'moves': 1, 'were': 1, 'part': 1, 'reorganization': 1, 'plan': 1, 'help': 1, 'pay': 1, 'current': 1, 'operation': 1, 'costs': 1, 'ensure': 1, 'product': 1, 'delivery': 1, 'makes': 1, 'generated': 1, 'labels': 1, 'forms': 1, 'tags': 1, 'ticket': 1, 'printers': 1, 'terminals': 1, 'cobanco': 1, 'cbco': 1, 'year': 2, 'net': 6, 'shr': 8, 'cts': 10, 'vs': 20, 'assets': 1, 'deposits': 1, 'loans': 1, 'note': 2, 'th': 2, 'qtr': 4, 'available': 1, 'includes': 1, 'extraordinary': 1, 'gain': 1, 'tax': 1, 'carry': 1, 'forward': 1, 'or': 5, 'am': 2, 'international': 1, 'nd': 1, 'jan': 1, 'oper': 4, 'loss': 2, 'profit': 7, 'seven': 1, 'revs': 4, 'avg': 2, 'shrs': 2, 'six': 3, 'mths': 3, 'nil': 1, 'calculated': 1, 'after': 1, 'payment': 1, 'preferred': 1, 'dividends': 1, 'results': 1, 'exclude': 1, 'credits': 1, 'four': 1, 'nine': 2, 'prior': 1, 'periods': 1, 'operating': 1, 'carryforwards': 1, 'brown': 1, 'forman': 1, 'bfd': 1, 'dlr': 1, 'billion': 1}\n",
      "{'earn': 4, 'champion': 2, 'products': 2, 'ch': 1, 'approves': 1, 'stock': 6, 'split': 2, 'inc': 6, 'said': 9, 'its': 8, 'board': 2, 'of': 17, 'directors': 1, 'approved': 1, 'a': 3, 'two': 2, 'for': 8, 'one': 3, 'common': 4, 'shares': 5, 'shareholders': 2, 'record': 1, 'as': 1, 'april': 2, 'the': 18, 'company': 5, 'also': 3, 'voted': 1, 'to': 12, 'recommend': 1, 'at': 5, 'annual': 1, 'meeting': 1, 'an': 2, 'increase': 2, 'in': 1, 'authorized': 1, 'capital': 1, 'from': 3, 'five': 3, 'mln': 24, 'reuter': 5, 'acq': 1, 'computer': 7, 'terminal': 6, 'systems': 2, 'cpml': 1, 'completes': 1, 'sale': 2, 'it': 4, 'has': 2, 'completed': 1, 'and': 9, 'warrants': 3, 'acquire': 1, 'additional': 2, 'sedio': 2, 'n': 1, 'v': 1, 'lugano': 1, 'switzerland': 1, 'dlrs': 8, 'are': 1, 'exercisable': 2, 'years': 1, 'purchase': 1, 'price': 3, 'per': 4, 'share': 2, 'right': 1, 'buy': 1, 'total': 1, 'holdings': 1, 'up': 1, 'pct': 2, 's': 2, 'outstanding': 1, 'under': 1, 'certain': 1, 'circumstances': 1, 'involving': 1, 'change': 1, 'control': 1, 'if': 1, 'conditions': 1, 'occur': 1, 'would': 3, 'be': 2, 'equal': 1, 'market': 1, 'time': 1, 'not': 2, 'exceed': 1, 'sold': 1, 'technolgy': 1, 'rights': 1, 'dot': 1, 'matrix': 1, 'impact': 1, 'technology': 2, 'including': 1, 'any': 1, 'future': 1, 'improvements': 1, 'woodco': 2, 'houston': 1, 'tex': 1, 'but': 1, 'continue': 1, 'exclusive': 1, 'worldwide': 1, 'licensee': 1, 'moves': 1, 'were': 1, 'part': 1, 'reorganization': 1, 'plan': 1, 'help': 1, 'pay': 1, 'current': 1, 'operation': 1, 'costs': 1, 'ensure': 1, 'product': 1, 'delivery': 1, 'makes': 1, 'generated': 1, 'labels': 1, 'forms': 1, 'tags': 1, 'ticket': 1, 'printers': 1, 'terminals': 1, 'cobanco': 1, 'cbco': 1, 'year': 2, 'net': 6, 'shr': 8, 'cts': 10, 'vs': 20, 'assets': 1, 'deposits': 1, 'loans': 1, 'note': 2, 'th': 2, 'qtr': 4, 'available': 1, 'includes': 1, 'extraordinary': 1, 'gain': 1, 'tax': 1, 'carry': 1, 'forward': 1, 'or': 5, 'am': 2, 'international': 1, 'nd': 1, 'jan': 1, 'oper': 4, 'loss': 2, 'profit': 7, 'seven': 1, 'revs': 4, 'avg': 2, 'shrs': 2, 'six': 3, 'mths': 3, 'nil': 1, 'calculated': 1, 'after': 1, 'payment': 1, 'preferred': 1, 'dividends': 1, 'results': 1, 'exclude': 1, 'credits': 1, 'four': 1, 'nine': 2, 'prior': 1, 'periods': 1, 'operating': 1, 'carryforwards': 1, 'brown': 1, 'forman': 1, 'bfd': 1, 'dlr': 1, 'billion': 1}\n",
      "defaultdict(<class 'int'>, {'earn': 4, 'champion': 2, 'products': 2, 'ch': 1, 'approves': 1, 'stock': 6, 'split': 2, 'inc': 6, 'said': 9, 'its': 8, 'board': 2, 'of': 17, 'directors': 1, 'approved': 1, 'a': 3, 'two': 2, 'for': 8, 'one': 3, 'common': 4, 'shares': 5, 'shareholders': 2, 'record': 1, 'as': 1, 'april': 2, 'the': 18, 'company': 5, 'also': 3, 'voted': 1, 'to': 12, 'recommend': 1, 'at': 5, 'annual': 1, 'meeting': 1, 'an': 2, 'increase': 2, 'in': 1, 'authorized': 1, 'capital': 1, 'from': 3, 'five': 3, 'mln': 24, 'reuter': 5, 'acq': 1, 'computer': 7, 'terminal': 6, 'systems': 2, 'cpml': 1, 'completes': 1, 'sale': 2, 'it': 4, 'has': 2, 'completed': 1, 'and': 9, 'warrants': 3, 'acquire': 1, 'additional': 2, 'sedio': 2, 'n': 1, 'v': 1, 'lugano': 1, 'switzerland': 1, 'dlrs': 8, 'are': 1, 'exercisable': 2, 'years': 1, 'purchase': 1, 'price': 3, 'per': 4, 'share': 2, 'right': 1, 'buy': 1, 'total': 1, 'holdings': 1, 'up': 1, 'pct': 2, 's': 2, 'outstanding': 1, 'under': 1, 'certain': 1, 'circumstances': 1, 'involving': 1, 'change': 1, 'control': 1, 'if': 1, 'conditions': 1, 'occur': 1, 'would': 3, 'be': 2, 'equal': 1, 'market': 1, 'time': 1, 'not': 2, 'exceed': 1, 'sold': 1, 'technolgy': 1, 'rights': 1, 'dot': 1, 'matrix': 1, 'impact': 1, 'technology': 2, 'including': 1, 'any': 1, 'future': 1, 'improvements': 1, 'woodco': 2, 'houston': 1, 'tex': 1, 'but': 1, 'continue': 1, 'exclusive': 1, 'worldwide': 1, 'licensee': 1, 'moves': 1, 'were': 1, 'part': 1, 'reorganization': 1, 'plan': 1, 'help': 1, 'pay': 1, 'current': 1, 'operation': 1, 'costs': 1, 'ensure': 1, 'product': 1, 'delivery': 1, 'makes': 1, 'generated': 1, 'labels': 1, 'forms': 1, 'tags': 1, 'ticket': 1, 'printers': 1, 'terminals': 1, 'cobanco': 1, 'cbco': 1, 'year': 2, 'net': 6, 'shr': 8, 'cts': 10, 'vs': 20, 'assets': 1, 'deposits': 1, 'loans': 1, 'note': 2, 'th': 2, 'qtr': 4, 'available': 1, 'includes': 1, 'extraordinary': 1, 'gain': 1, 'tax': 1, 'carry': 1, 'forward': 1, 'or': 5, 'am': 2, 'international': 1, 'nd': 1, 'jan': 1, 'oper': 4, 'loss': 2, 'profit': 7, 'seven': 1, 'revs': 4, 'avg': 2, 'shrs': 2, 'six': 3, 'mths': 3, 'nil': 1, 'calculated': 1, 'after': 1, 'payment': 1, 'preferred': 1, 'dividends': 1, 'results': 1, 'exclude': 1, 'credits': 1, 'four': 1, 'nine': 2, 'prior': 1, 'periods': 1, 'operating': 1, 'carryforwards': 1, 'brown': 1, 'forman': 1, 'bfd': 1, 'dlr': 1, 'billion': 1})\n",
      "Counter({'mln': 24, 'vs': 20, 'the': 18, 'of': 17, 'to': 12, 'cts': 10, 'said': 9, 'and': 9, 'its': 8, 'for': 8, 'dlrs': 8, 'shr': 8, 'computer': 7, 'profit': 7, 'stock': 6, 'inc': 6, 'terminal': 6, 'net': 6, 'shares': 5, 'company': 5, 'at': 5, 'reuter': 5, 'or': 5, 'earn': 4, 'common': 4, 'it': 4, 'per': 4, 'qtr': 4, 'oper': 4, 'revs': 4, 'a': 3, 'one': 3, 'also': 3, 'from': 3, 'five': 3, 'warrants': 3, 'price': 3, 'would': 3, 'six': 3, 'mths': 3, 'champion': 2, 'products': 2, 'split': 2, 'board': 2, 'two': 2, 'shareholders': 2, 'april': 2, 'an': 2, 'increase': 2, 'systems': 2, 'sale': 2, 'has': 2, 'additional': 2, 'sedio': 2, 'exercisable': 2, 'share': 2, 'pct': 2, 's': 2, 'be': 2, 'not': 2, 'technology': 2, 'woodco': 2, 'year': 2, 'note': 2, 'th': 2, 'am': 2, 'loss': 2, 'avg': 2, 'shrs': 2, 'nine': 2, 'ch': 1, 'approves': 1, 'directors': 1, 'approved': 1, 'record': 1, 'as': 1, 'voted': 1, 'recommend': 1, 'annual': 1, 'meeting': 1, 'in': 1, 'authorized': 1, 'capital': 1, 'acq': 1, 'cpml': 1, 'completes': 1, 'completed': 1, 'acquire': 1, 'n': 1, 'v': 1, 'lugano': 1, 'switzerland': 1, 'are': 1, 'years': 1, 'purchase': 1, 'right': 1, 'buy': 1, 'total': 1, 'holdings': 1, 'up': 1, 'outstanding': 1, 'under': 1, 'certain': 1, 'circumstances': 1, 'involving': 1, 'change': 1, 'control': 1, 'if': 1, 'conditions': 1, 'occur': 1, 'equal': 1, 'market': 1, 'time': 1, 'exceed': 1, 'sold': 1, 'technolgy': 1, 'rights': 1, 'dot': 1, 'matrix': 1, 'impact': 1, 'including': 1, 'any': 1, 'future': 1, 'improvements': 1, 'houston': 1, 'tex': 1, 'but': 1, 'continue': 1, 'exclusive': 1, 'worldwide': 1, 'licensee': 1, 'moves': 1, 'were': 1, 'part': 1, 'reorganization': 1, 'plan': 1, 'help': 1, 'pay': 1, 'current': 1, 'operation': 1, 'costs': 1, 'ensure': 1, 'product': 1, 'delivery': 1, 'makes': 1, 'generated': 1, 'labels': 1, 'forms': 1, 'tags': 1, 'ticket': 1, 'printers': 1, 'terminals': 1, 'cobanco': 1, 'cbco': 1, 'assets': 1, 'deposits': 1, 'loans': 1, 'available': 1, 'includes': 1, 'extraordinary': 1, 'gain': 1, 'tax': 1, 'carry': 1, 'forward': 1, 'international': 1, 'nd': 1, 'jan': 1, 'seven': 1, 'nil': 1, 'calculated': 1, 'after': 1, 'payment': 1, 'preferred': 1, 'dividends': 1, 'results': 1, 'exclude': 1, 'credits': 1, 'four': 1, 'prior': 1, 'periods': 1, 'operating': 1, 'carryforwards': 1, 'brown': 1, 'forman': 1, 'bfd': 1, 'dlr': 1, 'billion': 1})\n"
     ]
    }
   ],
   "source": [
    "data = news1.split() + news2.split() + news3.split() + news4.split() + news5.split()\n",
    "\n",
    "# 1.\n",
    "word_Dict = {}\n",
    "for word in data:\n",
    "    if word in word_Dict: # 두번째 방문 이상\n",
    "        word_Dict[word] = word_Dict[word] + 1\n",
    "    else: # 첫 방문 때\n",
    "        word_Dict[word] = 1\n",
    "print(word_Dict)    \n",
    "\n",
    "# 2.\n",
    "word_Dict = {}\n",
    "for word in data:\n",
    "    word_Dict[word] = 0\n",
    "\n",
    "for word in data:\n",
    "    word_Dict[word] = word_Dict[word] + 1\n",
    "print(word_Dict)\n",
    "\n",
    "\n",
    "# 3.\n",
    "word_Dict = {}\n",
    "for word in data:\n",
    "    word_Dict[word] = word_Dict.get(word, 0) + 1\n",
    "print(word_Dict)\n",
    "\n",
    "\n",
    "# 4.\n",
    "from collections import defaultdict\n",
    "word_Dict = defaultdict(int)\n",
    "\n",
    "for word in data:\n",
    "    word_Dict[word] = word_Dict[word] + 1\n",
    "print(word_Dict)\n",
    "\n",
    "\n",
    "# 5.\n",
    "from collections import Counter\n",
    "print(Counter(data))"
   ]
  },
  {
   "cell_type": "markdown",
   "id": "54c078db",
   "metadata": {},
   "source": [
    "### function\n",
    "\n",
    "- definition\n",
    "\n",
    "\n",
    "- lambda expression\n",
    "\n",
    "\n",
    "- function call\n",
    "\n",
    "\n",
    "- parameter passing\n",
    "\n",
    "\n",
    "- local variable\n",
    "\n",
    "\n",
    "- (variable) scope, lifetime"
   ]
  },
  {
   "cell_type": "code",
   "execution_count": 71,
   "id": "ee47dabf",
   "metadata": {},
   "outputs": [
    {
     "data": {
      "text/plain": [
       "8"
      ]
     },
     "execution_count": 71,
     "metadata": {},
     "output_type": "execute_result"
    }
   ],
   "source": [
    "# function : 특정 기능을 하는 코드를 재사용하고 싶을 때.\n",
    "def add_number(a, b):\n",
    "    return a + b\n",
    "\n",
    "# function call\n",
    "number = add_number(3, 5)\n",
    "number\n",
    "\n",
    "# inline function (=lambda expression)\n",
    "add_number = lambda a, b: a+b\n",
    "number = add_number(3, 5)\n",
    "number"
   ]
  },
  {
   "cell_type": "code",
   "execution_count": 76,
   "id": "15bce3a2",
   "metadata": {},
   "outputs": [
    {
     "data": {
      "text/plain": [
       "['kim', 'yoon', 'jeong', 'jessica']"
      ]
     },
     "execution_count": 76,
     "metadata": {},
     "output_type": "execute_result"
    }
   ],
   "source": [
    "# Q. 리스트의 원소들을 길이에 따라 오름차순으로 정렬해주세요.\n",
    "def f(x): # x -> len(x)\n",
    "    return len(x)\n",
    "f = lambda x: len(x)\n",
    "\n",
    "L = ['kim', 'yoon', 'jeong', 'jessica']\n",
    "sorted(L, key=f)\n",
    "sorted(L, key=lambda x: len(x))  ## functional programming --> Swift, Scala"
   ]
  },
  {
   "cell_type": "code",
   "execution_count": 106,
   "id": "6eaf971d",
   "metadata": {},
   "outputs": [
    {
     "name": "stdout",
     "output_type": "stream",
     "text": [
      "b is 0.\n"
     ]
    }
   ],
   "source": [
    "def div(a: float, b: float, eps=0.0, debug=False) -> float:\n",
    "    '''\n",
    "    input :  a, b\n",
    "    return : a / b\n",
    "    '''\n",
    "    if debug:\n",
    "        print(\"a, b : \", a, b)\n",
    "    if eps: # eps != 0.0이면 True\n",
    "        N = a / (b + eps)\n",
    "        if debug:\n",
    "            print(\"N : \", N)\n",
    "        return N\n",
    "    else:  # eps = 0.0이면 False\n",
    "        try:\n",
    "            N = a / b  # epslion를 안쓰는 경우.\n",
    "            return N\n",
    "        except ZeroDivisionError:\n",
    "            print(\"b is 0.\")\n",
    "\n",
    "div(3, 0)\n",
    "#div(3, 0, 1e-6, True)\n",
    "#div(debug=True, eps=1e-3, b=1, a=10)"
   ]
  },
  {
   "cell_type": "code",
   "execution_count": 145,
   "id": "4e1ef1d9",
   "metadata": {},
   "outputs": [
    {
     "name": "stdout",
     "output_type": "stream",
     "text": [
      "[1, 2, 3, 4, 5] 3\n"
     ]
    }
   ],
   "source": [
    "# global variable\n",
    "## global variable은 ipynb notebook(.ipynb) 파일이 꺼지기 전까지 Lifetime을 가진다.\n",
    "L = [1, 2, 3, 4, 5]\n",
    "L2 = [1, 2, 5, 7, 8, 10]\n",
    "L3 = [128, 94, 44, 45, 66, 110001]\n",
    "\n",
    "# L, L2, L3의 중앙값을 찾아주는 코드를 작성하세요.\n",
    "def find_median(L: list[int]) -> float:\n",
    "    # Solution 2. L을 정렬하지 않고, 정렬된 L을 대신 사용한다.\n",
    "    # L.sort() # 오름차순 정렬.\n",
    "    \n",
    "    # local variable(특정 code block내에 있는 variable)\n",
    "    ## local variable은 code block을 나오는 순간 메모리에서 release.\n",
    "    ## local variable은 해당 함수가 실행될 때부터 return될 때까지 lifetime을 가진다.\n",
    "    \n",
    "    ## python에서는 indentation으로 code block을 구분합니다.\n",
    "    L = sorted(L)\n",
    "    med_idx = int(len(L)/2)\n",
    "    median = 0.0\n",
    "    #global median # 암살 시도.\n",
    "    \n",
    "    # code block내에 global variable과 이름이 같으면, 무조건 Local 취급.\n",
    "    if len(L)%2 == 0: # 짝수 개\n",
    "        # if\n",
    "        median = (L[med_idx] + L[med_idx - 1]) / 2\n",
    "        \n",
    "    else: # 홀수 개\n",
    "        median = L[med_idx]\n",
    "    \n",
    "    return median  # find_median\n",
    "\n",
    "\n",
    "# Python에서 mutable object를 parameter로 넣으면, 내부에서 해당 변수를 변경하면 그대로 반영됩니다.\n",
    "# mutable object --> Call by Reference (함수 내부로 파라미터 원본이 그대로 넘어간다.)\n",
    "# immutable object --> Call by Value (함수 내부로 파라미터에 해당하는 값을 복사해서 넘겨준다.)\n",
    "\n",
    "# Solution 1. copy 해서 넘겨준다.\n",
    "# print(L, find_median(L.copy()))\n",
    "# print(L2, find_median(L2.copy()))\n",
    "# print(L3, find_median(L3.copy()))\n",
    "print(L, find_median(L))\n",
    "# print(L2, find_median(L2))\n",
    "# print(L3, find_median(L3))\n",
    "\n",
    "# print(L)\n",
    "# print(L2)\n",
    "# print(L3)"
   ]
  },
  {
   "cell_type": "markdown",
   "id": "f68bd288",
   "metadata": {},
   "source": [
    "- Task : MNIST(28x28) image를 10가지(0~9)로 분류하는 문제.\n",
    "\n",
    "- Model : Input image(28, 28) -> Flatten(28x28, 1) -> Hidden Layer(200, 1) -> Activation Function(200, 1) -> Output(10, 1)"
   ]
  },
  {
   "cell_type": "code",
   "execution_count": 5,
   "id": "b73c028a",
   "metadata": {},
   "outputs": [
    {
     "data": {
      "text/plain": [
       "Net(\n",
       "  (fc1): Linear(in_features=784, out_features=200, bias=True)\n",
       "  (fc2): Linear(in_features=200, out_features=10, bias=True)\n",
       "  (relu): ReLU()\n",
       ")"
      ]
     },
     "execution_count": 5,
     "metadata": {},
     "output_type": "execute_result"
    }
   ],
   "source": [
    "import torch\n",
    "import torch.nn as nn  # PyTorch에 있는 nn(neural network) 구현 모듈을 불러옵니다.\n",
    "\n",
    "class Net(nn.Module):\n",
    "    def __init__(self):\n",
    "        super().__init__()  # superclass에 있는 __init__() 함수 호출.\n",
    "        self.fc1 = nn.Linear(28*28, 200) # Flattened Input --> Hidden\n",
    "        self.fc2 = nn.Linear(200, 10)    # Hidden --> Output\n",
    "        self.relu = nn.ReLU()            # activation function, ReLU\n",
    "        \n",
    "    def forward(self, x):\n",
    "        \"\"\"\n",
    "        input : x - input image (28, 28)\n",
    "        return : 10 dim vector - 0부터 9까지의 각 class에 속할 확률.\n",
    "        \n",
    "        e.g. input image(8) --> [0, 0, 0, 0, 0.1, 0.1, 0, 0, 0.8, 0]\n",
    "        \"\"\"\n",
    "        # feed-forward 연산. input에서 시작해서 output까지 순서대로 수행하는 함수.\n",
    "        x = torch.flatten(x, 1) # (28, 28) -> (28*28, 1)\n",
    "        x = self.fc1(x)         # (28*28, 1) -> (200, 1)\n",
    "        x = self.relu(x)        # (200, 1) -> (200, 1)\n",
    "        x = self.fc2(x)         # (200, 1) -> (10, 1)\n",
    "        return x\n",
    "    \n",
    "        \n",
    "model = Net()\n",
    "model"
   ]
  },
  {
   "cell_type": "code",
   "execution_count": null,
   "id": "8d852cba",
   "metadata": {},
   "outputs": [],
   "source": []
  }
 ],
 "metadata": {
  "kernelspec": {
   "display_name": "Python 3 (ipykernel)",
   "language": "python",
   "name": "python3"
  },
  "language_info": {
   "codemirror_mode": {
    "name": "ipython",
    "version": 3
   },
   "file_extension": ".py",
   "mimetype": "text/x-python",
   "name": "python",
   "nbconvert_exporter": "python",
   "pygments_lexer": "ipython3",
   "version": "3.10.5"
  }
 },
 "nbformat": 4,
 "nbformat_minor": 5
}
