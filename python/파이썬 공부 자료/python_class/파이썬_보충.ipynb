{
  "nbformat": 4,
  "nbformat_minor": 0,
  "metadata": {
    "colab": {
      "provenance": []
    },
    "kernelspec": {
      "name": "python3",
      "display_name": "Python 3"
    },
    "language_info": {
      "name": "python"
    }
  },
  "cells": [
    {
      "cell_type": "code",
      "execution_count": 5,
      "metadata": {
        "colab": {
          "base_uri": "https://localhost:8080/"
        },
        "id": "S5mu07dcR6h4",
        "outputId": "c17c0579-5420-407b-a270-835bd319ed7c"
      },
      "outputs": [
        {
          "output_type": "stream",
          "name": "stdout",
          "text": [
            "(kim,90)\n",
            "(lee,75)\n",
            "(choi,100)\n"
          ]
        }
      ],
      "source": [
        "# 딕셔너리와 포문 사용 \n",
        "d={\n",
        "    \"kim\":90,\n",
        "   'lee':75,\n",
        "   'choi':100\n",
        "}\n",
        "\n",
        "for i,j in zip(d.keys(), d.values()):\n",
        "  print(f\"({i},{j})\")"
      ]
    },
    {
      "cell_type": "code",
      "source": [
        "for value in zip(d.items()):\n",
        "  print(f\"({value})\")"
      ],
      "metadata": {
        "colab": {
          "base_uri": "https://localhost:8080/"
        },
        "id": "oHuurzy7X46r",
        "outputId": "8dc51af6-dc6a-4f99-8efe-0bb5ec69f332"
      },
      "execution_count": 14,
      "outputs": [
        {
          "output_type": "stream",
          "name": "stdout",
          "text": [
            "((('kim', 90),))\n",
            "((('lee', 75),))\n",
            "((('choi', 100),))\n"
          ]
        }
      ]
    },
    {
      "cell_type": "code",
      "source": [
        "name_list=['kim','lee','choi']\n",
        "score_list=[90,75,100]\n",
        "\n",
        "d={}\n",
        "\n",
        "for name, score in zip(name_list,score_list):\n",
        "  d[name]=score\n",
        "\n",
        "d"
      ],
      "metadata": {
        "colab": {
          "base_uri": "https://localhost:8080/"
        },
        "id": "dDcrNtlIZTbR",
        "outputId": "2da58937-acd5-466b-ed8b-86e014052555"
      },
      "execution_count": 16,
      "outputs": [
        {
          "output_type": "execute_result",
          "data": {
            "text/plain": [
              "{'kim': 90, 'lee': 75, 'choi': 100}"
            ]
          },
          "metadata": {},
          "execution_count": 16
        }
      ]
    },
    {
      "cell_type": "code",
      "source": [
        "#아래 5개의 변수들은 각각 하나의 문서를 의미합니다.\n",
        "news1 = \"earn champion products ch approves stock split champion products inc said its board of directors approved a two for one stock split of its common shares for shareholders of record as of april the company also said its board voted to recommend to shareholders at the annual meeting april an increase in the authorized capital stock from five mln to mln shares reuter\"\n",
        "news2 = \"acq computer terminal systems cpml completes sale computer terminal systems inc said it has completed the sale of shares of its common stock and warrants to acquire an additional one mln shares to sedio n v of lugano switzerland for dlrs the company said the warrants are exercisable for five years at a purchase price of dlrs per share computer terminal said sedio also has the right to buy additional shares and increase its total holdings up to pct of the computer terminal s outstanding common stock under certain circumstances involving change of control at the company the company said if the conditions occur the warrants would be exercisable at a price equal to pct of its common stock s market price at the time not to exceed dlrs per share computer terminal also said it sold the technolgy rights to its dot matrix impact technology including any future improvements to woodco inc of houston tex for dlrs but it said it would continue to be the exclusive worldwide licensee of the technology for woodco the company said the moves were part of its reorganization plan and would help pay current operation costs and ensure product delivery computer terminal makes computer generated labels forms tags and ticket printers and terminals reuter\"\n",
        "news3 = \"earn cobanco inc cbco year net shr cts vs dlrs net vs assets mln vs mln deposits mln vs mln loans mln vs mln note th qtr not available year includes extraordinary gain from tax carry forward of dlrs or five cts per shr reuter\"\n",
        "news4 = \"earn am international inc am nd qtr jan oper shr loss two cts vs profit seven cts oper shr profit vs profit revs mln vs mln avg shrs mln vs mln six mths oper shr profit nil vs profit cts oper net profit vs profit revs mln vs mln avg shrs mln vs mln note per shr calculated after payment of preferred dividends results exclude credits of or four cts and or nine cts for qtr and six mths vs or six cts and or cts for prior periods from operating loss carryforwards reuter\"\n",
        "news5 = \"earn brown forman inc bfd th qtr net shr one dlr vs cts net mln vs mln revs mln vs mln nine mths shr dlrs vs dlrs net mln vs mln revs billion vs mln reuter\"\n"
      ],
      "metadata": {
        "id": "smGLLJyvaVRQ"
      },
      "execution_count": 17,
      "outputs": []
    },
    {
      "cell_type": "code",
      "source": [
        "news1"
      ],
      "metadata": {
        "colab": {
          "base_uri": "https://localhost:8080/",
          "height": 109
        },
        "id": "NQOI2Gl_byK1",
        "outputId": "a6236872-ea47-44eb-db54-3f0c277a9dbc"
      },
      "execution_count": 18,
      "outputs": [
        {
          "output_type": "execute_result",
          "data": {
            "text/plain": [
              "'earn champion products ch approves stock split champion products inc said its board of directors approved a two for one stock split of its common shares for shareholders of record as of april the company also said its board voted to recommend to shareholders at the annual meeting april an increase in the authorized capital stock from five mln to mln shares reuter'"
            ],
            "application/vnd.google.colaboratory.intrinsic+json": {
              "type": "string"
            }
          },
          "metadata": {},
          "execution_count": 18
        }
      ]
    },
    {
      "cell_type": "code",
      "source": [
        "data=news1.split()\n",
        "\n",
        "#1\n",
        "word_Dict={}\n",
        "for word in data:\n",
        "  if word in word_Dict: # 두번 이상 만났을때 \n",
        "      word_Dict[word]+=1\n",
        "  else: # 첫방문 때\n",
        "    word_Dict[word]=1\n",
        "\n",
        "word_Dict"
      ],
      "metadata": {
        "colab": {
          "base_uri": "https://localhost:8080/"
        },
        "id": "XLFe82Dkcoir",
        "outputId": "d3f04f20-2563-42d4-ce14-127e6da41aa0"
      },
      "execution_count": 21,
      "outputs": [
        {
          "output_type": "execute_result",
          "data": {
            "text/plain": [
              "{'earn': 1,\n",
              " 'champion': 2,\n",
              " 'products': 2,\n",
              " 'ch': 1,\n",
              " 'approves': 1,\n",
              " 'stock': 3,\n",
              " 'split': 2,\n",
              " 'inc': 1,\n",
              " 'said': 2,\n",
              " 'its': 3,\n",
              " 'board': 2,\n",
              " 'of': 4,\n",
              " 'directors': 1,\n",
              " 'approved': 1,\n",
              " 'a': 1,\n",
              " 'two': 1,\n",
              " 'for': 2,\n",
              " 'one': 1,\n",
              " 'common': 1,\n",
              " 'shares': 2,\n",
              " 'shareholders': 2,\n",
              " 'record': 1,\n",
              " 'as': 1,\n",
              " 'april': 2,\n",
              " 'the': 3,\n",
              " 'company': 1,\n",
              " 'also': 1,\n",
              " 'voted': 1,\n",
              " 'to': 3,\n",
              " 'recommend': 1,\n",
              " 'at': 1,\n",
              " 'annual': 1,\n",
              " 'meeting': 1,\n",
              " 'an': 1,\n",
              " 'increase': 1,\n",
              " 'in': 1,\n",
              " 'authorized': 1,\n",
              " 'capital': 1,\n",
              " 'from': 1,\n",
              " 'five': 1,\n",
              " 'mln': 2,\n",
              " 'reuter': 1}"
            ]
          },
          "metadata": {},
          "execution_count": 21
        }
      ]
    },
    {
      "cell_type": "code",
      "source": [
        "# 2 \n",
        "word_Dict={}\n",
        "for word in data:\n",
        "  word_Dict[word]=0\n",
        "print(word_Dict)\n",
        "\n",
        "for word in data:\n",
        "  word_Dict[word]=word_Dict[word]+1\n",
        "\n",
        "word_Dict"
      ],
      "metadata": {
        "colab": {
          "base_uri": "https://localhost:8080/"
        },
        "id": "apGtKm8xeLep",
        "outputId": "b2894dfa-130b-4450-d0e8-5bcc89240fa2"
      },
      "execution_count": 22,
      "outputs": [
        {
          "output_type": "stream",
          "name": "stdout",
          "text": [
            "{'earn': 0, 'champion': 0, 'products': 0, 'ch': 0, 'approves': 0, 'stock': 0, 'split': 0, 'inc': 0, 'said': 0, 'its': 0, 'board': 0, 'of': 0, 'directors': 0, 'approved': 0, 'a': 0, 'two': 0, 'for': 0, 'one': 0, 'common': 0, 'shares': 0, 'shareholders': 0, 'record': 0, 'as': 0, 'april': 0, 'the': 0, 'company': 0, 'also': 0, 'voted': 0, 'to': 0, 'recommend': 0, 'at': 0, 'annual': 0, 'meeting': 0, 'an': 0, 'increase': 0, 'in': 0, 'authorized': 0, 'capital': 0, 'from': 0, 'five': 0, 'mln': 0, 'reuter': 0}\n"
          ]
        },
        {
          "output_type": "execute_result",
          "data": {
            "text/plain": [
              "{'earn': 1,\n",
              " 'champion': 2,\n",
              " 'products': 2,\n",
              " 'ch': 1,\n",
              " 'approves': 1,\n",
              " 'stock': 3,\n",
              " 'split': 2,\n",
              " 'inc': 1,\n",
              " 'said': 2,\n",
              " 'its': 3,\n",
              " 'board': 2,\n",
              " 'of': 4,\n",
              " 'directors': 1,\n",
              " 'approved': 1,\n",
              " 'a': 1,\n",
              " 'two': 1,\n",
              " 'for': 2,\n",
              " 'one': 1,\n",
              " 'common': 1,\n",
              " 'shares': 2,\n",
              " 'shareholders': 2,\n",
              " 'record': 1,\n",
              " 'as': 1,\n",
              " 'april': 2,\n",
              " 'the': 3,\n",
              " 'company': 1,\n",
              " 'also': 1,\n",
              " 'voted': 1,\n",
              " 'to': 3,\n",
              " 'recommend': 1,\n",
              " 'at': 1,\n",
              " 'annual': 1,\n",
              " 'meeting': 1,\n",
              " 'an': 1,\n",
              " 'increase': 1,\n",
              " 'in': 1,\n",
              " 'authorized': 1,\n",
              " 'capital': 1,\n",
              " 'from': 1,\n",
              " 'five': 1,\n",
              " 'mln': 2,\n",
              " 'reuter': 1}"
            ]
          },
          "metadata": {},
          "execution_count": 22
        }
      ]
    },
    {
      "cell_type": "code",
      "source": [
        "# 3. \n",
        "word_Dict={}\n",
        "for word in data:\n",
        "  word_Dict[word]=word_Dict.get(word,0)+1\n",
        "print(word_Dict)"
      ],
      "metadata": {
        "colab": {
          "base_uri": "https://localhost:8080/"
        },
        "id": "tdcqvICUfy16",
        "outputId": "6f39d013-25bb-460c-86b3-3a66d5a9f851"
      },
      "execution_count": 23,
      "outputs": [
        {
          "output_type": "stream",
          "name": "stdout",
          "text": [
            "{'earn': 1, 'champion': 2, 'products': 2, 'ch': 1, 'approves': 1, 'stock': 3, 'split': 2, 'inc': 1, 'said': 2, 'its': 3, 'board': 2, 'of': 4, 'directors': 1, 'approved': 1, 'a': 1, 'two': 1, 'for': 2, 'one': 1, 'common': 1, 'shares': 2, 'shareholders': 2, 'record': 1, 'as': 1, 'april': 2, 'the': 3, 'company': 1, 'also': 1, 'voted': 1, 'to': 3, 'recommend': 1, 'at': 1, 'annual': 1, 'meeting': 1, 'an': 1, 'increase': 1, 'in': 1, 'authorized': 1, 'capital': 1, 'from': 1, 'five': 1, 'mln': 2, 'reuter': 1}\n"
          ]
        }
      ]
    },
    {
      "cell_type": "code",
      "source": [
        "#4.\n",
        "\n",
        "from collections import  defaultdict\n",
        "word_Dict=defaultdict(int)\n",
        "\n",
        "for word in data:\n",
        "  word_Dict[word]=word_Dict[word]+1\n",
        "print(word_Dict)"
      ],
      "metadata": {
        "colab": {
          "base_uri": "https://localhost:8080/"
        },
        "id": "FpfPkpsogL6F",
        "outputId": "88a7e9a9-ab7b-4d58-fb3e-b706e145118d"
      },
      "execution_count": 24,
      "outputs": [
        {
          "output_type": "stream",
          "name": "stdout",
          "text": [
            "defaultdict(<class 'int'>, {'earn': 1, 'champion': 2, 'products': 2, 'ch': 1, 'approves': 1, 'stock': 3, 'split': 2, 'inc': 1, 'said': 2, 'its': 3, 'board': 2, 'of': 4, 'directors': 1, 'approved': 1, 'a': 1, 'two': 1, 'for': 2, 'one': 1, 'common': 1, 'shares': 2, 'shareholders': 2, 'record': 1, 'as': 1, 'april': 2, 'the': 3, 'company': 1, 'also': 1, 'voted': 1, 'to': 3, 'recommend': 1, 'at': 1, 'annual': 1, 'meeting': 1, 'an': 1, 'increase': 1, 'in': 1, 'authorized': 1, 'capital': 1, 'from': 1, 'five': 1, 'mln': 2, 'reuter': 1})\n"
          ]
        }
      ]
    },
    {
      "cell_type": "code",
      "source": [
        "# 5. \n",
        "from collections import Counter\n",
        "Counter(data)\n"
      ],
      "metadata": {
        "id": "F0mI-SS9hARk"
      },
      "execution_count": null,
      "outputs": []
    },
    {
      "cell_type": "code",
      "source": [
        "data = news1.split() + news2.split() + news3.split() + news4.split() + news5.split()\n",
        "\n",
        "# 1.\n",
        "word_Dict = {}\n",
        "for word in data:\n",
        "    if word in word_Dict: # 두번째 방문 이상\n",
        "        word_Dict[word] = word_Dict[word] + 1\n",
        "    else: # 첫 방문 때\n",
        "        word_Dict[word] = 1\n",
        "print(word_Dict)    \n",
        "\n",
        "# 2.\n",
        "word_Dict = {}\n",
        "for word in data:\n",
        "    word_Dict[word] = 0\n",
        "\n",
        "for word in data:\n",
        "    word_Dict[word] = word_Dict[word] + 1\n",
        "print(word_Dict)\n",
        "\n",
        "# 3.\n",
        "word_Dict = {}\n",
        "for word in data:\n",
        "    word_Dict[word] = word_Dict.get(word, 0) + 1\n",
        "print(word_Dict)\n",
        "\n",
        "# 4.\n",
        "from collections import defaultdict\n",
        "word_Dict = defaultdict(int)\n",
        "\n",
        "for word in data:\n",
        "    word_Dict[word] = word_Dict[word] + 1\n",
        "print(word_Dict)\n",
        "\n",
        "# 5.\n",
        "from collections import Counter\n",
        "Counter(data)\n"
      ],
      "metadata": {
        "id": "R7Wy0owLhOUH"
      },
      "execution_count": null,
      "outputs": []
    }
  ]
}