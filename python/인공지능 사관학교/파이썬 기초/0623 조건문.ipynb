{
 "cells": [
  {
   "cell_type": "markdown",
   "id": "99a22359",
   "metadata": {},
   "source": [
    "### 조건문"
   ]
  },
  {
   "cell_type": "code",
   "execution_count": 1,
   "id": "e32ddfd5",
   "metadata": {},
   "outputs": [
    {
     "name": "stdout",
     "output_type": "stream",
     "text": [
      "실행문장 실행\n"
     ]
    }
   ],
   "source": [
    "if True:\n",
    "    print(\"실행문장 실행\")\n",
    "    "
   ]
  },
  {
   "cell_type": "code",
   "execution_count": 2,
   "id": "99ac9c5e",
   "metadata": {},
   "outputs": [],
   "source": [
    "if False:\n",
    "    print(\"실행문장 실행\")"
   ]
  },
  {
   "cell_type": "code",
   "execution_count": 3,
   "id": "25d90aab",
   "metadata": {},
   "outputs": [
    {
     "name": "stdout",
     "output_type": "stream",
     "text": [
      "실행문장 실행\n",
      "if문 밖에 있는 실행문장\n"
     ]
    }
   ],
   "source": [
    "if True:\n",
    "    print(\"실행문장 실행\")\n",
    "print(\"if문 밖에 있는 실행문장\")"
   ]
  },
  {
   "cell_type": "code",
   "execution_count": 4,
   "id": "b51af90f",
   "metadata": {},
   "outputs": [
    {
     "name": "stdout",
     "output_type": "stream",
     "text": [
      "if문 밖에 있는 실행 문장\n"
     ]
    }
   ],
   "source": [
    "if False:\n",
    "    print(\"실행문장 실행\")\n",
    "print(\"if문 밖에 있는 실행 문장\")"
   ]
  },
  {
   "cell_type": "code",
   "execution_count": 5,
   "id": "7fe4960f",
   "metadata": {},
   "outputs": [
    {
     "name": "stdout",
     "output_type": "stream",
     "text": [
      "택시를 탄다\n"
     ]
    }
   ],
   "source": [
    "money=11000\n",
    "if money>10000:\n",
    "    print(\"택시를 탄다\")"
   ]
  },
  {
   "cell_type": "code",
   "execution_count": 6,
   "id": "d0cb1bef",
   "metadata": {},
   "outputs": [],
   "source": [
    "money=10000\n",
    "if money>10000:\n",
    "    print(\"택시를 탄다\")"
   ]
  },
  {
   "cell_type": "code",
   "execution_count": 7,
   "id": "380ddb4b",
   "metadata": {},
   "outputs": [
    {
     "name": "stdout",
     "output_type": "stream",
     "text": [
      "버스를 탄다\n"
     ]
    }
   ],
   "source": [
    "\n",
    "money=9000\n",
    "if money>10000:\n",
    "    print(\"택시를 탄다\")\n",
    "else:\n",
    "    print(\"버스를 탄다\")"
   ]
  },
  {
   "cell_type": "code",
   "execution_count": 8,
   "id": "2023d07d",
   "metadata": {},
   "outputs": [
    {
     "name": "stdout",
     "output_type": "stream",
     "text": [
      "택시를 탄다\n"
     ]
    }
   ],
   "source": [
    "money=11000\n",
    "print(\"택시를 탄다\") if money>10000 else print(\"버스를 탄다\")"
   ]
  },
  {
   "cell_type": "code",
   "execution_count": 9,
   "id": "7b85cfcb",
   "metadata": {},
   "outputs": [
    {
     "name": "stdout",
     "output_type": "stream",
     "text": [
      "정수입력>>30\n",
      "3과 5의 배수입니다\n"
     ]
    }
   ],
   "source": [
    "num= int(input(\"정수입력>>\"))\n",
    "if num %3==0 and num%5==0:\n",
    "    print(\"3과 5의 배수입니다\")\n",
    "else:\n",
    "    print(\"3과 5의 배수가 아닙니다\")"
   ]
  },
  {
   "cell_type": "code",
   "execution_count": 10,
   "id": "f39c6162",
   "metadata": {},
   "outputs": [
    {
     "name": "stdout",
     "output_type": "stream",
     "text": [
      "주민번호 뒷자리 입력 >> 1832560\n",
      "당신은 남자 입니다^^7\n",
      "1\n"
     ]
    }
   ],
   "source": [
    "human=input(\"주민번호 뒷자리 입력 >> \")\n",
    "if human[0] == \"1\":\n",
    "    print(\"당신은 남자 입니다^^7\")\n",
    "else:\n",
    "    print(\"당신은 여자 입니다^^*\")\n",
    "    \n",
    "print(human[0])\n"
   ]
  },
  {
   "cell_type": "code",
   "execution_count": 14,
   "id": "be27accf",
   "metadata": {},
   "outputs": [
    {
     "name": "stdout",
     "output_type": "stream",
     "text": [
      "이름입력 >>성우\n",
      "나이입력20\n",
      "카드 소지 여부True\n",
      "성우님은 입장료24500원에 예약되셧습니다\n"
     ]
    }
   ],
   "source": [
    "name=input(\"이름입력 >>\")\n",
    "age=int(input(\"나이입력\"))\n",
    "card_=input(\"카드 소지 여부\")\n",
    "adult=35000\n",
    "child=adult/2\n",
    "total=0\n",
    "\n",
    "if age>=19:\n",
    "    total=adult\n",
    "else:\n",
    "    total=child\n",
    "    \n",
    "if card_== \"True\":\n",
    "    if age>=19:\n",
    "        total=total*0.7\n",
    "    else:\n",
    "        total=total*0.9\n",
    "        \n",
    "else:\n",
    "    total = total\n",
    "    \n",
    "print(f\"{name}님은 입장료{int(total)}원에 예약되셧습니다\")"
   ]
  },
  {
   "cell_type": "code",
   "execution_count": null,
   "id": "47c52d4a",
   "metadata": {},
   "outputs": [],
   "source": [
    "mask=int(input(\"마스크 개수 입력>>\"))\n",
    "packge8=0\n",
    "packge5=0\n",
    "\n",
    "#마스크를 대량 구매한다 \n",
    "#패키지는 8개 들이 와 5개들이가 있다\n",
    "#if 조건문을 사용하여 8개들이와 5개 들이 개수를 파악해보자\n",
    "\n",
    "\n",
    "    "
   ]
  },
  {
   "cell_type": "code",
   "execution_count": 15,
   "id": "3dc9158e",
   "metadata": {},
   "outputs": [
    {
     "name": "stdout",
     "output_type": "stream",
     "text": [
      "마스크 개수 입력>>23\n",
      "8개들이 마스크 개수: 2\n",
      "5개들이 마스크 개수: 2\n"
     ]
    }
   ],
   "source": [
    "# 정답코드\n",
    "countofmask= int(input(\"마스크 개수 입력>>\"))\n",
    "\n",
    "#8개 들이 포장지 개수\n",
    "eightbox=countofmask//8\n",
    "\n",
    "#8개들이 포장 후에 5개들이 포장지로 포장한 다음 남은 마스크가 1개라도 있다면\n",
    "if (countofmask%8)%5>0:\n",
    "    fivebox=((countofmask%8) //5)+1\n",
    "#8개들이 5개들이로 포장한 후 남은 마스크가 하나도 없을 경우\n",
    "else:\n",
    "    fivebox=(countofmask%8)//5\n",
    "\n",
    "print(\"8개들이 마스크 개수:\",eightbox)\n",
    "print(\"5개들이 마스크 개수:\",fivebox)"
   ]
  },
  {
   "cell_type": "markdown",
   "id": "903175eb",
   "metadata": {},
   "source": [
    "#### 조건문 elif 실습예제\n"
   ]
  },
  {
   "cell_type": "code",
   "execution_count": 18,
   "id": "0205fec0",
   "metadata": {},
   "outputs": [
    {
     "name": "stdout",
     "output_type": "stream",
     "text": [
      "첫번째 정수 입력>>6\n",
      "첫번째 정수 입력>>33\n",
      "두번째 정수가 더 큽니다\n"
     ]
    }
   ],
   "source": [
    "#변수 num1과 num2에 숫자를 입력받아 크기를 비교하시요\n",
    "\n",
    "num1=int(input(\"첫번째 정수 입력>>\"))\n",
    "num2=int(input(\"첫번째 정수 입력>>\"))\n",
    "\n",
    "if num1>num2:\n",
    "    print(\"첫번째 정수가 더 큽니다\")\n",
    "elif num2>num1:\n",
    "    print(\"두번째 정수가 더 큽니다\")\n",
    "    "
   ]
  },
  {
   "cell_type": "code",
   "execution_count": 21,
   "id": "19a58078",
   "metadata": {},
   "outputs": [
    {
     "name": "stdout",
     "output_type": "stream",
     "text": [
      "점수를 입력하시요>>36\n",
      "36는 F학점입니다\n"
     ]
    }
   ],
   "source": [
    "# 변수 score에 점수를 입력받아서 다음과 같이 학점을 부여하시오\n",
    "\n",
    "score=int(input(\"점수를 입력하시요>>\"))\n",
    "\n",
    "# 100이하 90이상 a\n",
    "\n",
    "if score<60:\n",
    "    print(f\"{score}는 F학점입니다\")\n",
    "if 60<=score<70:\n",
    "    print(f\"{score}는 D학점입니다\")\n",
    "elif 70<=score<80:\n",
    "    print(f\"{score}는 C학점입니다\")   \n",
    "elif 80<=score<90:\n",
    "    print(f\"{score}는 B학점입니다\") \n",
    "elif 90<=score<100:\n",
    "    print(f\"{score}는 A학점입니다\") "
   ]
  },
  {
   "cell_type": "code",
   "execution_count": 25,
   "id": "8d2fb78f",
   "metadata": {},
   "outputs": [
    {
     "name": "stdout",
     "output_type": "stream",
     "text": [
      "x좌표를 입력하세요>>-12\n",
      "y좌표를 입력하세요>>-5\n",
      "좌표(-12,-5)는 3사분면 입니다\n"
     ]
    }
   ],
   "source": [
    "# X,Y 좌표를 받아서 사분면을 출력하시오\n",
    "#(X,Y 좌표는 모두 양수 혹은 음수값이라고 가정)\n",
    "x=int(input(\"x좌표를 입력하세요>>\"))\n",
    "y=int(input(\"y좌표를 입력하세요>>\"))\n",
    "\n",
    "if x>0 and y>0:\n",
    "    function=1\n",
    "elif x<0 and y>0:\n",
    "    function=2\n",
    "elif x<0 and y<0:\n",
    "    function=3\n",
    "else:\n",
    "    function=4\n",
    "\n",
    "\n",
    "print(f\"좌표({x},{y})는 {function}사분면 입니다\")"
   ]
  },
  {
   "cell_type": "code",
   "execution_count": 30,
   "id": "28fe5044",
   "metadata": {},
   "outputs": [
    {
     "name": "stdout",
     "output_type": "stream",
     "text": [
      "나이입력>>67\n",
      "요금은 375원입니다\n"
     ]
    }
   ],
   "source": [
    "# 사용자의 나이를 입력받아 버스 요금을 계산하는 프로그램을 작성하시오\n",
    "\n",
    "age=int(input(\"나이입력>>\"))\n",
    "pay=1500\n",
    "\n",
    "if age<5:\n",
    "    pay=pay*0.5\n",
    "elif 5<= age<20:\n",
    "    pay=pay*0.75\n",
    "elif age>=65:\n",
    "    pay=pay*0.25\n",
    "else:\n",
    "    pay=pay\n",
    "\n",
    "print(f\"요금은 {int(pay)}원입니다\")"
   ]
  },
  {
   "cell_type": "code",
   "execution_count": 36,
   "id": "619c65b2",
   "metadata": {},
   "outputs": [
    {
     "name": "stdout",
     "output_type": "stream",
     "text": [
      "====================\n",
      "메뉴선택: 1.콜라, 2사이다, 3,물\n",
      "돈 입력>>400\n",
      "돈을 더 넣어주세요\n",
      "잔액이 부족합니다\n",
      "-1\n",
      "1\n",
      "1\n",
      "잔돈출력:-1,1,1\n"
     ]
    }
   ],
   "source": [
    "# 자판기 프로그램을 만들어 보자\n",
    "\n",
    "\n",
    "#자판기 메뉴 출력\n",
    "print(\"=\"*20)\n",
    "print(\"메뉴선택: 1.콜라, 2사이다, 3,물\")\n",
    "\n",
    "#돈 넣기\n",
    "cash=int(input(\"돈 입력>>\"))\n",
    "\n",
    "#잔액확인을 위한 변수 만들기\n",
    "total=cash\n",
    "chun=0\n",
    "oh=0\n",
    "beak=0\n",
    "\n",
    "#투입된 돈이 600원이 안될경우 돈을 넣어주세요 출력 아니라면 정상작동\n",
    "\n",
    "if cash<600:\n",
    "    print(\"돈을 더 넣어주세요\")\n",
    "else:\n",
    "    menu=int(input(\"메뉴입력>>\"))\n",
    "\n",
    "# 메뉴 선택- 콜라 사이다 물을 각각 잔액에서 빼주기 \n",
    "if menu==1:\n",
    "    total=total-600\n",
    "elif menu==2:\n",
    "    total=total-800\n",
    "elif menu==3:\n",
    "    total=total-1000\n",
    "else:\n",
    "    print(\"잘못된 메뉴를 선택하셨습니다\")\n",
    "\n",
    "#잔액 부족 \n",
    "if total<600:\n",
    "    print(\"잔액이 부족합니다\")\n",
    "\n",
    "#잔돈 출력\n",
    "chun=total//1000\n",
    "print(chun)\n",
    "oh=(total-(chun*1000))//500\n",
    "print(oh)\n",
    "beak=(((total-(chun*1000))-oh*500)//100)\n",
    "print(beak)\n",
    "print(f\"잔돈출력:{chun},{oh},{beak}\")\n"
   ]
  },
  {
   "cell_type": "code",
   "execution_count": 4,
   "id": "d232f08c",
   "metadata": {},
   "outputs": [
    {
     "name": "stdout",
     "output_type": "stream",
     "text": [
      "====================\n",
      "메뉴선택: 1.콜라, 2사이다, 3,물\n",
      "돈 입력>>5600\n",
      "메뉴입력>>3\n",
      "4\n",
      "1\n",
      "1\n",
      "잔돈출력:4,1,1\n"
     ]
    }
   ],
   "source": [
    "#자판기 프로그램을 다시 만들어 보자 (정답)\n",
    "\n",
    "#1. 메뉴 출력화면\n",
    "print(\"=\"*20)\n",
    "print(\"메뉴선택: 1.콜라, 2사이다, 3,물\")\n",
    "\n",
    "#2. 돈 넣기 \n",
    "cash=int(input(\"돈 입력>>\"))\n",
    "\n",
    "#3. 잔액 확인을 위한 변수 설정 \n",
    "total=cash\n",
    "chun=0\n",
    "oh=0\n",
    "beak=0\n",
    "\n",
    "#4.\n",
    "#투입된 돈이 600원이 안될경우 돈을 넣어주세요 출력 아니라면 정상작동\n",
    "\n",
    "if cash>=600:\n",
    "    menu=int(input(\"메뉴입력>>\"))\n",
    "# 메뉴 선택- 콜라 사이다 물을 각각 잔액에서 빼주기 \n",
    "    if menu==1:\n",
    "        total=total-600\n",
    "    elif menu==2:\n",
    "        total=total-800\n",
    "    elif menu==3:\n",
    "        total=total-1000\n",
    "  #잔액 부족 \n",
    "    elif total<600:\n",
    "        print(\"잔액이 부족합니다\")\n",
    "    else:\n",
    "        print(\"잘못된 메뉴를 선택하셨습니다\")\n",
    "\n",
    "\n",
    "else:\n",
    "    print(\"돈을 더 넣어주세요\")\n",
    "\n",
    "#잔돈 출력\n",
    "chun=total//1000\n",
    "print(chun)\n",
    "oh=(total-(chun*1000))//500\n",
    "print(oh)\n",
    "beak=(((total-(chun*1000))-oh*500)//100)\n",
    "print(beak)\n",
    "print(f\"잔돈출력:{chun},{oh},{beak}\")\n"
   ]
  },
  {
   "cell_type": "code",
   "execution_count": 3,
   "id": "7d563465",
   "metadata": {},
   "outputs": [
    {
     "name": "stdout",
     "output_type": "stream",
     "text": [
      "insert coin>>5600\n",
      "메뉴선택3\n",
      "잔돈4개, 1개, 1개 입니다.\n"
     ]
    }
   ],
   "source": [
    "#조건문을 활용한 자판기 만들기\n",
    "money=int(input(\"insert coin>>\"))\n",
    "num=int(input(\"메뉴선택\"))\n",
    "\n",
    "#메뉴선택하기\n",
    "if money >= 600:\n",
    "    #1.번 메뉴 선택\n",
    "    if num==1:\n",
    "        money-=600\n",
    "    elif num==2:\n",
    "        money-=800\n",
    "    elif num==3:\n",
    "        money-=1000\n",
    "    else:\n",
    "        print(\"잘못된 메뉴입니다.\")\n",
    "        \n",
    "# 잔돈 계산하기\n",
    "\n",
    "#cash_1000=0\n",
    "#cash_500=0\n",
    "#cash_100=0\n",
    "    cash_1000,cash_500,cash_100=0,0,0\n",
    "    \n",
    "    if money >=1000:\n",
    "        #천원짜리 개수\n",
    "        cash_1000=money//1000\n",
    "        #오백원짜리 개수\n",
    "        cash_500=money%1000//500\n",
    "        #백원짜리 개수 \n",
    "        cash_100=money%1000%500//100\n",
    "    \n",
    "    #천원 미만 500원 이상일경우\n",
    "    elif money>=500:\n",
    "        cash_500=money//500\n",
    "        cash_100=money%500//100\n",
    "        \n",
    "    #오백원 미만일 경우\n",
    "    else:\n",
    "        cash_100=money//100\n",
    "        \n",
    "    print(f\"잔돈{cash_1000}개, {cash_500}개, {cash_100}개 입니다.\")\n",
    "\n",
    "\n",
    "\n",
    "else:\n",
    "    print(\"돈을 더 넣어주세요>>\")"
   ]
  },
  {
   "cell_type": "code",
   "execution_count": null,
   "id": "f846e965",
   "metadata": {},
   "outputs": [],
   "source": []
  }
 ],
 "metadata": {
  "kernelspec": {
   "display_name": "Python 3 (ipykernel)",
   "language": "python",
   "name": "python3"
  },
  "language_info": {
   "codemirror_mode": {
    "name": "ipython",
    "version": 3
   },
   "file_extension": ".py",
   "mimetype": "text/x-python",
   "name": "python",
   "nbconvert_exporter": "python",
   "pygments_lexer": "ipython3",
   "version": "3.9.12"
  }
 },
 "nbformat": 4,
 "nbformat_minor": 5
}
