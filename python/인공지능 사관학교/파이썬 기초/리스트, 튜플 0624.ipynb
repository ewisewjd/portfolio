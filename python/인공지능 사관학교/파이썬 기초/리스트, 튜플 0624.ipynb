{
 "cells": [
  {
   "cell_type": "markdown",
   "id": "7e793515",
   "metadata": {},
   "source": [
    "# 리스트와 튜플\n"
   ]
  },
  {
   "cell_type": "code",
   "execution_count": 2,
   "id": "e20c3e58",
   "metadata": {},
   "outputs": [
    {
     "name": "stdout",
     "output_type": "stream",
     "text": [
      "2\n",
      "9\n",
      "17\n"
     ]
    }
   ],
   "source": [
    "list1=[2,5,7,9,10]\n",
    "print(list1[0])\n",
    "print(list1[3])\n",
    "print(list1[2]+list1[-1])"
   ]
  },
  {
   "cell_type": "code",
   "execution_count": 3,
   "id": "c63a8bde",
   "metadata": {},
   "outputs": [
    {
     "name": "stdout",
     "output_type": "stream",
     "text": [
      "['a', 'b', 'c']\n"
     ]
    }
   ],
   "source": [
    "list2=[1,2,3,['a','b','c']]\n",
    "temp=list2[-1]\n",
    "print(temp)"
   ]
  },
  {
   "cell_type": "code",
   "execution_count": 5,
   "id": "90348515",
   "metadata": {},
   "outputs": [
    {
     "name": "stdout",
     "output_type": "stream",
     "text": [
      "b\n"
     ]
    }
   ],
   "source": [
    "list2=[1,2,3,['a','b','c']]\n",
    "temp=list2[-1]\n",
    "\n",
    "print(list2[-1][1])"
   ]
  },
  {
   "cell_type": "code",
   "execution_count": 7,
   "id": "4f32a6ba",
   "metadata": {},
   "outputs": [
    {
     "data": {
      "text/plain": [
       "[1, 2, 3, 3, 4, 5, 6, 7]"
      ]
     },
     "execution_count": 7,
     "metadata": {},
     "output_type": "execute_result"
    }
   ],
   "source": [
    "list4=[1,2,3]\n",
    "list5=[3,4,5,6,7]\n",
    "list4+list5"
   ]
  },
  {
   "cell_type": "code",
   "execution_count": 9,
   "id": "5d0c0012",
   "metadata": {},
   "outputs": [
    {
     "data": {
      "text/plain": [
       "[1, 2, 3, 99, 99]"
      ]
     },
     "execution_count": 9,
     "metadata": {},
     "output_type": "execute_result"
    }
   ],
   "source": [
    "list4.append(99)\n",
    "list4"
   ]
  },
  {
   "cell_type": "code",
   "execution_count": 15,
   "id": "41207956",
   "metadata": {},
   "outputs": [
    {
     "data": {
      "text/plain": [
       "['사과', '수박', '오렌지']"
      ]
     },
     "execution_count": 15,
     "metadata": {},
     "output_type": "execute_result"
    }
   ],
   "source": [
    "list_=['사과','포도',['수박','멜론'],'복숭아','딸기','오렌지']\n",
    "choice_list=[]\n",
    "apple=list_[0]\n",
    "watermelon=list_[2][0]\n",
    "orange=list_[-1]\n",
    "choice_list.append(apple)\n",
    "choice_list.append(watermelon)\n",
    "choice_list.append(orange)\n",
    "\n",
    "choice_list"
   ]
  },
  {
   "cell_type": "code",
   "execution_count": 16,
   "id": "6eab9cd8",
   "metadata": {},
   "outputs": [
    {
     "data": {
      "text/plain": [
       "['수박', '사과', '오렌지', '수박', '사과', '오렌지']"
      ]
     },
     "execution_count": 16,
     "metadata": {},
     "output_type": "execute_result"
    }
   ],
   "source": [
    "choice_list.insert(-1, apple)\n",
    "choice_list.insert(1, orange)\n",
    "choice_list.insert(0, watermelon)\n",
    "\n",
    "choice_list"
   ]
  },
  {
   "cell_type": "code",
   "execution_count": 17,
   "id": "1b8774b3",
   "metadata": {},
   "outputs": [
    {
     "data": {
      "text/plain": [
       "[['love dive', '아이브'],\n",
       " ['사랑인가봐', '멜로망스'],\n",
       " ['TOMBOY', '여자아이들'],\n",
       " ['봄여름가을겨울', '빅뱅'],\n",
       " ['that that', '싸이']]"
      ]
     },
     "execution_count": 17,
     "metadata": {},
     "output_type": "execute_result"
    }
   ],
   "source": [
    "music_list=[['love dive',\"아이브\"],['TOMBOY',\"여자아이들\"],[\"that that\",'싸이']]\n",
    "\n",
    "music_list.insert(1,[\"사랑인가봐\", \"멜로망스\"])\n",
    "music_list.insert(3,[\"봄여름가을겨울\",\"빅뱅\"])\n",
    "\n",
    "music_list"
   ]
  },
  {
   "cell_type": "code",
   "execution_count": 18,
   "id": "faa3f23b",
   "metadata": {},
   "outputs": [
    {
     "name": "stdout",
     "output_type": "stream",
     "text": [
      "[['love dive', '아이브'], ['사랑인가봐', '멜로망스'], ['TOMBOY', '여자아이들'], ['봄여름가을겨울', '빅뱅'], ['that that', '싸이']]\n"
     ]
    }
   ],
   "source": []
  },
  {
   "cell_type": "code",
   "execution_count": 20,
   "id": "6b072398",
   "metadata": {},
   "outputs": [
    {
     "name": "stdout",
     "output_type": "stream",
     "text": [
      "위치값3\n",
      "노래그대 그리고 나\n",
      "가수소리새\n"
     ]
    },
    {
     "data": {
      "text/plain": [
       "[['love dive', '아이브'],\n",
       " ['사랑인가봐', '멜로망스'],\n",
       " ['TOMBOY', '여자아이들'],\n",
       " ['그대 그리고 나', '소리새'],\n",
       " ['봄여름가을겨울', '빅뱅'],\n",
       " ['that that', '싸이']]"
      ]
     },
     "execution_count": 20,
     "metadata": {},
     "output_type": "execute_result"
    }
   ],
   "source": [
    "#insert 실습\n",
    "#정수형태의 인덱스 값과 노래 제목, 가수명도 각각 입력 받은 후 변수에 저장하고 ,insert함수를 이용하여 list music_list에 새로운 값을 추가하시오\n",
    "\n",
    "index_value=int(input(\"위치값\"))\n",
    "song=input(\"노래\")\n",
    "singer=input(\"가수\")\n",
    "\n",
    "music_list.insert(index_value, [song, singer])ㅁ\n",
    "\n",
    "#insert(인덱스 위치, 넣을값)\n",
    "\n",
    "music_list\n"
   ]
  },
  {
   "cell_type": "code",
   "execution_count": 29,
   "id": "46eb5161",
   "metadata": {},
   "outputs": [
    {
     "data": {
      "text/plain": [
       "[0, 1, 2, 3, 4]"
      ]
     },
     "execution_count": 29,
     "metadata": {},
     "output_type": "execute_result"
    }
   ],
   "source": [
    "list6= [0,1,2,3,4]\n",
    "list6"
   ]
  },
  {
   "cell_type": "code",
   "execution_count": 22,
   "id": "fb5b9f05",
   "metadata": {},
   "outputs": [],
   "source": [
    "list6[1]=7"
   ]
  },
  {
   "cell_type": "code",
   "execution_count": 28,
   "id": "eb239b77",
   "metadata": {},
   "outputs": [
    {
     "data": {
      "text/plain": [
       "[0, 9]"
      ]
     },
     "execution_count": 28,
     "metadata": {},
     "output_type": "execute_result"
    }
   ],
   "source": [
    "list6"
   ]
  },
  {
   "cell_type": "code",
   "execution_count": 34,
   "id": "5593a029",
   "metadata": {},
   "outputs": [
    {
     "data": {
      "text/plain": [
       "[9]"
      ]
     },
     "execution_count": 34,
     "metadata": {},
     "output_type": "execute_result"
    }
   ],
   "source": [
    "list6[0:] =[9]\n",
    "list6"
   ]
  },
  {
   "cell_type": "code",
   "execution_count": 35,
   "id": "46ee67f3",
   "metadata": {},
   "outputs": [
    {
     "data": {
      "text/plain": [
       "[9]"
      ]
     },
     "execution_count": 35,
     "metadata": {},
     "output_type": "execute_result"
    }
   ],
   "source": [
    "list6"
   ]
  },
  {
   "cell_type": "code",
   "execution_count": 45,
   "id": "0de0b648",
   "metadata": {},
   "outputs": [],
   "source": [
    "array=[1,2,3,4,5]\n",
    "array[-1]=7"
   ]
  },
  {
   "cell_type": "code",
   "execution_count": 46,
   "id": "7ae81dad",
   "metadata": {},
   "outputs": [
    {
     "data": {
      "text/plain": [
       "[1, 2, 3, 4, 7]"
      ]
     },
     "execution_count": 46,
     "metadata": {},
     "output_type": "execute_result"
    }
   ],
   "source": [
    "array"
   ]
  },
  {
   "cell_type": "code",
   "execution_count": 47,
   "id": "a6c9f41f",
   "metadata": {},
   "outputs": [
    {
     "data": {
      "text/plain": [
       "[1, ['a', 'b', 'c'], 3, 4, 7]"
      ]
     },
     "execution_count": 47,
     "metadata": {},
     "output_type": "execute_result"
    }
   ],
   "source": [
    "array[1]=['a','b','c']\n",
    "array"
   ]
  },
  {
   "cell_type": "code",
   "execution_count": 48,
   "id": "f290c4d8",
   "metadata": {},
   "outputs": [],
   "source": [
    "array[-2:]='d','e','f','g'"
   ]
  },
  {
   "cell_type": "code",
   "execution_count": 49,
   "id": "9cca33e8",
   "metadata": {},
   "outputs": [
    {
     "data": {
      "text/plain": [
       "[1, ['a', 'b', 'c'], 3, 'd', 'e', 'f', 'g']"
      ]
     },
     "execution_count": 49,
     "metadata": {},
     "output_type": "execute_result"
    }
   ],
   "source": [
    "array"
   ]
  },
  {
   "cell_type": "code",
   "execution_count": 55,
   "id": "2f9ce584",
   "metadata": {},
   "outputs": [
    {
     "data": {
      "text/plain": [
       "['h', 'y', 'j', ['a', 'b', 'c'], 3, 'd', 'e', 'f', 'g']"
      ]
     },
     "execution_count": 55,
     "metadata": {},
     "output_type": "execute_result"
    }
   ],
   "source": [
    "array[0:1]='h','y','j'\n",
    "array"
   ]
  },
  {
   "cell_type": "code",
   "execution_count": 57,
   "id": "d7c737f5",
   "metadata": {},
   "outputs": [
    {
     "data": {
      "text/plain": [
       "[0, 5]"
      ]
     },
     "execution_count": 57,
     "metadata": {},
     "output_type": "execute_result"
    }
   ],
   "source": [
    "list7=[0,1,2,3,4,5]\n",
    "del list7 [1:5]\n",
    "list7"
   ]
  },
  {
   "cell_type": "code",
   "execution_count": 58,
   "id": "0c69965e",
   "metadata": {},
   "outputs": [
    {
     "data": {
      "text/plain": [
       "['b', 'c', 'd', 'e']"
      ]
     },
     "execution_count": 58,
     "metadata": {},
     "output_type": "execute_result"
    }
   ],
   "source": [
    "list7=['a','b','c','d','e']\n",
    "list7.remove('a')\n",
    "list7"
   ]
  },
  {
   "cell_type": "code",
   "execution_count": 60,
   "id": "1ee7b21f",
   "metadata": {},
   "outputs": [
    {
     "data": {
      "text/plain": [
       "[9, 77, 13, 51, 100, 3]"
      ]
     },
     "execution_count": 60,
     "metadata": {},
     "output_type": "execute_result"
    }
   ],
   "source": [
    "list8=[9,77,13,51,100,3]\n",
    "list8"
   ]
  },
  {
   "cell_type": "code",
   "execution_count": 61,
   "id": "d2643328",
   "metadata": {},
   "outputs": [
    {
     "data": {
      "text/plain": [
       "[3, 9, 13, 51, 77, 100]"
      ]
     },
     "execution_count": 61,
     "metadata": {},
     "output_type": "execute_result"
    }
   ],
   "source": [
    "list8.sort()\n",
    "list8"
   ]
  },
  {
   "cell_type": "code",
   "execution_count": 62,
   "id": "b26f6ac2",
   "metadata": {},
   "outputs": [],
   "source": [
    "list9=[9,77,13,51,100,3]\n",
    "list9.reverse()"
   ]
  },
  {
   "cell_type": "code",
   "execution_count": 63,
   "id": "7acc55f6",
   "metadata": {},
   "outputs": [
    {
     "data": {
      "text/plain": [
       "[3, 100, 51, 13, 77, 9]"
      ]
     },
     "execution_count": 63,
     "metadata": {},
     "output_type": "execute_result"
    }
   ],
   "source": [
    "list9"
   ]
  },
  {
   "cell_type": "code",
   "execution_count": 70,
   "id": "aa3132d9",
   "metadata": {},
   "outputs": [],
   "source": [
    "list8=[9,77,13,51,100,3]\n"
   ]
  },
  {
   "cell_type": "code",
   "execution_count": 73,
   "id": "2c51c636",
   "metadata": {},
   "outputs": [
    {
     "ename": "AttributeError",
     "evalue": "'NoneType' object has no attribute 'reverse'",
     "output_type": "error",
     "traceback": [
      "\u001b[1;31m---------------------------------------------------------------------------\u001b[0m",
      "\u001b[1;31mAttributeError\u001b[0m                            Traceback (most recent call last)",
      "Input \u001b[1;32mIn [73]\u001b[0m, in \u001b[0;36m<cell line: 1>\u001b[1;34m()\u001b[0m\n\u001b[1;32m----> 1\u001b[0m \u001b[43mlist8\u001b[49m\u001b[38;5;241;43m.\u001b[39;49m\u001b[43msort\u001b[49m\u001b[43m(\u001b[49m\u001b[43m)\u001b[49m\u001b[38;5;241;43m.\u001b[39;49m\u001b[43mreverse\u001b[49m()\n",
      "\u001b[1;31mAttributeError\u001b[0m: 'NoneType' object has no attribute 'reverse'"
     ]
    }
   ],
   "source": [
    "list8.sort()\n"
   ]
  },
  {
   "cell_type": "code",
   "execution_count": 71,
   "id": "66188a42",
   "metadata": {},
   "outputs": [
    {
     "data": {
      "text/plain": [
       "[9, 77, 13, 51, 100, 3]"
      ]
     },
     "execution_count": 71,
     "metadata": {},
     "output_type": "execute_result"
    }
   ],
   "source": [
    "list8"
   ]
  },
  {
   "cell_type": "code",
   "execution_count": 72,
   "id": "87873283",
   "metadata": {},
   "outputs": [
    {
     "data": {
      "text/plain": [
       "[100, 77, 51, 13, 9, 3]"
      ]
     },
     "execution_count": 72,
     "metadata": {},
     "output_type": "execute_result"
    }
   ],
   "source": [
    "list8.sort(reverse=True)\n",
    "list8"
   ]
  },
  {
   "cell_type": "code",
   "execution_count": 74,
   "id": "aa17b171",
   "metadata": {},
   "outputs": [
    {
     "data": {
      "text/plain": [
       "2"
      ]
     },
     "execution_count": 74,
     "metadata": {},
     "output_type": "execute_result"
    }
   ],
   "source": [
    "list11=['a','b','c','d','e','f']\n",
    "list11.index('c')"
   ]
  },
  {
   "cell_type": "code",
   "execution_count": 76,
   "id": "bd8f88dd",
   "metadata": {},
   "outputs": [
    {
     "data": {
      "text/plain": [
       "'d'"
      ]
     },
     "execution_count": 76,
     "metadata": {},
     "output_type": "execute_result"
    }
   ],
   "source": [
    "list11.pop(3)"
   ]
  },
  {
   "cell_type": "code",
   "execution_count": 77,
   "id": "5654a577",
   "metadata": {},
   "outputs": [
    {
     "data": {
      "text/plain": [
       "['a', 'b', 'c', 'e', 'f']"
      ]
     },
     "execution_count": 77,
     "metadata": {},
     "output_type": "execute_result"
    }
   ],
   "source": [
    "list11"
   ]
  },
  {
   "cell_type": "code",
   "execution_count": 78,
   "id": "e5c756dd",
   "metadata": {},
   "outputs": [
    {
     "data": {
      "text/plain": [
       "5"
      ]
     },
     "execution_count": 78,
     "metadata": {},
     "output_type": "execute_result"
    }
   ],
   "source": [
    "len(list11)"
   ]
  },
  {
   "cell_type": "code",
   "execution_count": 79,
   "id": "9d34ed52",
   "metadata": {},
   "outputs": [
    {
     "data": {
      "text/plain": [
       "3"
      ]
     },
     "execution_count": 79,
     "metadata": {},
     "output_type": "execute_result"
    }
   ],
   "source": [
    "list3=[0,1,2]\n",
    "len(list3)"
   ]
  },
  {
   "cell_type": "code",
   "execution_count": null,
   "id": "99b1e201",
   "metadata": {},
   "outputs": [],
   "source": [
    "list14=['a']"
   ]
  },
  {
   "cell_type": "code",
   "execution_count": 80,
   "id": "56041a08",
   "metadata": {},
   "outputs": [
    {
     "data": {
      "text/plain": [
       "True"
      ]
     },
     "execution_count": 80,
     "metadata": {},
     "output_type": "execute_result"
    }
   ],
   "source": [
    "str1='파이썬 최고'\n",
    "\"파이썬\"in str1"
   ]
  },
  {
   "cell_type": "code",
   "execution_count": 81,
   "id": "6e6f9f73",
   "metadata": {},
   "outputs": [
    {
     "data": {
      "text/plain": [
       "False"
      ]
     },
     "execution_count": 81,
     "metadata": {},
     "output_type": "execute_result"
    }
   ],
   "source": [
    "\"파이썬\" not in str1"
   ]
  },
  {
   "cell_type": "code",
   "execution_count": 82,
   "id": "ff7b2010",
   "metadata": {},
   "outputs": [
    {
     "data": {
      "text/plain": [
       "False"
      ]
     },
     "execution_count": 82,
     "metadata": {},
     "output_type": "execute_result"
    }
   ],
   "source": [
    "list1=[77,38,10]\n",
    "33 in list1"
   ]
  },
  {
   "cell_type": "code",
   "execution_count": 83,
   "id": "4767c438",
   "metadata": {},
   "outputs": [
    {
     "data": {
      "text/plain": [
       "True"
      ]
     },
     "execution_count": 83,
     "metadata": {},
     "output_type": "execute_result"
    }
   ],
   "source": [
    "33 not in list1"
   ]
  },
  {
   "cell_type": "code",
   "execution_count": 93,
   "id": "c52676db",
   "metadata": {
    "scrolled": true
   },
   "outputs": [
    {
     "name": "stdout",
     "output_type": "stream",
     "text": [
      "검색할 문자를 입력하세요:i\n",
      "['hi,', 'my', 'name', 'is', 'seongwoo']\n",
      "i는 들어있지 않네요\n"
     ]
    }
   ],
   "source": [
    "s=\"hi, my name is seongwoo\"\n",
    "a=input(\"검색할 문자를 입력하세요:\")\n",
    "b=s.split()\n",
    "print(b)\n",
    "if a in b:\n",
    "   print(f\"{a}는\", b.count(a),\"번 들어있네요 \")\n",
    "   \n",
    "    \n",
    "else:\n",
    "    print(f\"{a}는 들어있지 않네요\")"
   ]
  },
  {
   "cell_type": "code",
   "execution_count": 94,
   "id": "ad6a0c63",
   "metadata": {},
   "outputs": [
    {
     "name": "stdout",
     "output_type": "stream",
     "text": [
      "검색할 문자를 입력하세요:i\n",
      "i는 2번 들어있네요 \n"
     ]
    }
   ],
   "source": [
    "s=\"hi, my name is seongwoo\"\n",
    "a=input(\"검색할 문자를 입력하세요:\")\n",
    "b=s.count(a)\n",
    "\n",
    "# 문자열 중에서 검색할 문자가 들어 있다면\n",
    "if a in s: \n",
    "     print(f\"{a}는 {b}번 들어있네요 \")\n",
    "else:\n",
    "    print(f\"{a}는 들어있지 않네요\")\n",
    "        \n"
   ]
  },
  {
   "cell_type": "code",
   "execution_count": 100,
   "id": "a5ba14fa",
   "metadata": {},
   "outputs": [
    {
     "name": "stdout",
     "output_type": "stream",
     "text": [
      "짝\n",
      "1\n",
      "2\n",
      "짝\n",
      "4\n",
      "5\n",
      "짝\n",
      "7\n",
      "8\n",
      "짝\n",
      "10\n",
      "11\n",
      "짝\n",
      "13\n",
      "14\n",
      "짝\n",
      "16\n",
      "17\n",
      "짝\n",
      "19\n",
      "20\n",
      "짝\n",
      "22\n",
      "23\n",
      "짝\n",
      "25\n",
      "26\n",
      "짝\n",
      "28\n",
      "29\n",
      "짝\n",
      "31\n",
      "32\n",
      "짝\n",
      "34\n",
      "35\n",
      "짝\n",
      "37\n",
      "38\n",
      "짝\n",
      "40\n",
      "41\n",
      "짝\n",
      "43\n",
      "44\n",
      "짝\n",
      "46\n",
      "47\n",
      "짝\n",
      "49\n",
      "50\n",
      "짝\n",
      "52\n",
      "53\n",
      "짝\n",
      "55\n",
      "56\n",
      "짝\n",
      "58\n",
      "59\n",
      "짝\n",
      "61\n",
      "62\n",
      "짝\n",
      "64\n",
      "65\n",
      "짝\n",
      "67\n",
      "68\n",
      "짝\n",
      "70\n",
      "71\n",
      "짝\n",
      "73\n",
      "74\n",
      "짝\n",
      "76\n",
      "77\n",
      "짝\n",
      "79\n",
      "80\n",
      "짝\n",
      "82\n",
      "83\n",
      "짝\n",
      "85\n",
      "86\n",
      "짝\n",
      "88\n",
      "89\n",
      "짝\n",
      "91\n",
      "92\n",
      "짝\n",
      "94\n",
      "95\n",
      "짝\n",
      "97\n",
      "98\n",
      "짝\n",
      "100\n"
     ]
    }
   ],
   "source": [
    "for i in range(0,101):\n",
    "    if i%3==0:\n",
    "        print(\"짝\")\n",
    "    else:\n",
    "        print(i)"
   ]
  },
  {
   "cell_type": "code",
   "execution_count": null,
   "id": "85e05728",
   "metadata": {},
   "outputs": [],
   "source": []
  }
 ],
 "metadata": {
  "kernelspec": {
   "display_name": "Python 3 (ipykernel)",
   "language": "python",
   "name": "python3"
  },
  "language_info": {
   "codemirror_mode": {
    "name": "ipython",
    "version": 3
   },
   "file_extension": ".py",
   "mimetype": "text/x-python",
   "name": "python",
   "nbconvert_exporter": "python",
   "pygments_lexer": "ipython3",
   "version": "3.9.12"
  }
 },
 "nbformat": 4,
 "nbformat_minor": 5
}
