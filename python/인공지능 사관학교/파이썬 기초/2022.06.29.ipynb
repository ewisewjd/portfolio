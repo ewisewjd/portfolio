{
 "cells": [
  {
   "cell_type": "markdown",
   "id": "73f51558",
   "metadata": {},
   "source": [
    "### 구구단 가로로 출력"
   ]
  },
  {
   "cell_type": "code",
   "execution_count": 35,
   "id": "dea54724",
   "metadata": {},
   "outputs": [
    {
     "name": "stdout",
     "output_type": "stream",
     "text": [
      "2*1=2\t2*2=4\t2*3=6\t2*4=8\t2*5=10\t2*6=12\t2*7=14\t2*8=16\t2*9=18\t\n",
      "3*1=3\t3*2=6\t3*3=9\t3*4=12\t3*5=15\t3*6=18\t3*7=21\t3*8=24\t3*9=27\t\n",
      "4*1=4\t4*2=8\t4*3=12\t4*4=16\t4*5=20\t4*6=24\t4*7=28\t4*8=32\t4*9=36\t\n",
      "5*1=5\t5*2=10\t5*3=15\t5*4=20\t5*5=25\t5*6=30\t5*7=35\t5*8=40\t5*9=45\t\n",
      "6*1=6\t6*2=12\t6*3=18\t6*4=24\t6*5=30\t6*6=36\t6*7=42\t6*8=48\t6*9=54\t\n",
      "7*1=7\t7*2=14\t7*3=21\t7*4=28\t7*5=35\t7*6=42\t7*7=49\t7*8=56\t7*9=63\t\n",
      "8*1=8\t8*2=16\t8*3=24\t8*4=32\t8*5=40\t8*6=48\t8*7=56\t8*8=64\t8*9=72\t\n",
      "9*1=9\t9*2=18\t9*3=27\t9*4=36\t9*5=45\t9*6=54\t9*7=63\t9*8=72\t9*9=81\t\n"
     ]
    }
   ],
   "source": [
    "#구구단!\n",
    "# 단수 반복\n",
    "for dan in range(2, 10, 1):     #단 입력 코드\n",
    "    for su in range(1, 10, 1):        #수 입력코드\n",
    "        print(f\"{dan}*{su}={dan*su}\",end=\"\\t\")\n",
    "    print()"
   ]
  },
  {
   "cell_type": "markdown",
   "id": "be7bb8ad",
   "metadata": {},
   "source": [
    "### 구구단 세로로 출력"
   ]
  },
  {
   "cell_type": "code",
   "execution_count": 59,
   "id": "c5f116b2",
   "metadata": {},
   "outputs": [
    {
     "name": "stdout",
     "output_type": "stream",
     "text": [
      "2*1=2\t3*1=3\t4*1=4\t5*1=5\t6*1=6\t7*1=7\t8*1=8\t9*1=9\t\n",
      "2*2=4\t3*2=6\t4*2=8\t5*2=10\t6*2=12\t7*2=14\t8*2=16\t9*2=18\t\n",
      "2*3=6\t3*3=9\t4*3=12\t5*3=15\t6*3=18\t7*3=21\t8*3=24\t9*3=27\t\n",
      "2*4=8\t3*4=12\t4*4=16\t5*4=20\t6*4=24\t7*4=28\t8*4=32\t9*4=36\t\n",
      "2*5=10\t3*5=15\t4*5=20\t5*5=25\t6*5=30\t7*5=35\t8*5=40\t9*5=45\t\n",
      "2*6=12\t3*6=18\t4*6=24\t5*6=30\t6*6=36\t7*6=42\t8*6=48\t9*6=54\t\n",
      "2*7=14\t3*7=21\t4*7=28\t5*7=35\t6*7=42\t7*7=49\t8*7=56\t9*7=63\t\n",
      "2*8=16\t3*8=24\t4*8=32\t5*8=40\t6*8=48\t7*8=56\t8*8=64\t9*8=72\t\n",
      "2*9=18\t3*9=27\t4*9=36\t5*9=45\t6*9=54\t7*9=63\t8*9=72\t9*9=81\t\n"
     ]
    }
   ],
   "source": [
    "#단 과 수 의 코드 위치만 바꿔주기\n",
    "for su in range(1, 10, 1):      #수 입력      \n",
    "    for dan in range(2, 10, 1):  #단 입력\n",
    "        print(f\"{dan}*{su}={dan*su}\",end=\"\\t\")\n",
    "    print()"
   ]
  },
  {
   "cell_type": "code",
   "execution_count": 64,
   "id": "4369da61",
   "metadata": {},
   "outputs": [
    {
     "name": "stdout",
     "output_type": "stream",
     "text": [
      "짝수 2개 ,홀수7개\n"
     ]
    }
   ],
   "source": [
    "# 짝수와, 홀수의 개수를 출력하시오.\n",
    "lsit1 = [1,30,7,9,17,3,5,23,44]\n",
    "J = 0          #짝수 변수는 J\n",
    "h = 0           #홀수 변수는 h\n",
    "for i in lsit1:    #list1의 변수 i \n",
    "    if i%2 == 0:  #만약 2로 나눴을때 0이나오면 = 짝수\n",
    "        J += 1\n",
    "    else:         # 위 조건의 반대 = 홀수\n",
    "        h +=1\n",
    "print(f\"짝수 {J}개 ,홀수{h}개\")"
   ]
  },
  {
   "cell_type": "code",
   "execution_count": null,
   "id": "b48e9fc8",
   "metadata": {},
   "outputs": [],
   "source": [
    "lsit1 = [1,30,7,9,17,3,5,23,44]\n",
    "even = 0   # 짝수일때 개수\n",
    "odd = 0    #홀수일때 개수\n",
    "for i in lsit1:\n",
    "    if i%2 == 0:\n",
    "        even += 1\n",
    "    else:\n",
    "        odd +=1\n",
    "print(f\"짝수 {even}개 ,홀수{odd}개\")"
   ]
  },
  {
   "cell_type": "code",
   "execution_count": null,
   "id": "55b13542",
   "metadata": {},
   "outputs": [],
   "source": []
  },
  {
   "cell_type": "code",
   "execution_count": null,
   "id": "564eef97",
   "metadata": {},
   "outputs": [],
   "source": []
  },
  {
   "cell_type": "code",
   "execution_count": null,
   "id": "976e189d",
   "metadata": {},
   "outputs": [],
   "source": []
  },
  {
   "cell_type": "markdown",
   "id": "4629410d",
   "metadata": {},
   "source": [
    "### 다음 score_list 에 들어있는 데이터를 이용해 아래와 같이 성적표를 만드는 프로그램을 작성하시오.\n",
    "- (단 학생의 숫자가 늘어나도 동작할 수 있도록 고려하시오.)"
   ]
  },
  {
   "cell_type": "code",
   "execution_count": 44,
   "id": "e91cef60",
   "metadata": {},
   "outputs": [
    {
     "name": "stdout",
     "output_type": "stream",
     "text": [
      "박매일 89 78 99 88 B\n",
      "김미희 67 88 77 77 C\n",
      "강예진 100 55 96 83 B\n"
     ]
    }
   ],
   "source": [
    "score_list = [[\"박매일\", 89,78,99], [\"김미희\", 67,88,77],[\"강예진\", 100,55,96]]\n",
    "name = \"이름\"            # 변수선언\n",
    "num1 = \"Python\" \n",
    "num2 = \"Java\"\n",
    "num3 = \"DB\"\n",
    "   \n",
    "\n",
    "\n",
    "for name, num1, num2, num3 in score_list:     #score_list에 서 변수 값 지정 \n",
    "    total = int((num1+num2+num3)/3)   \n",
    "    \n",
    "    if total >= 90:  #90이상 A\n",
    "        grade =\"A\"\n",
    "    elif total >= 80:  #80이상 B\n",
    "        grade =\"B\"\n",
    "    elif total >= 70:  #70이상 C\n",
    "        grade =\"C\"\n",
    "    elif total >= 60:  #60이상 D\n",
    "        grade =\"D\"\n",
    "    else :                #60미만 F\n",
    "        grade =\"F\"\n",
    "    \n",
    "\n",
    "    print(f\"{name} {num1} {num2} {num3} {total} {grade}\",end=\"\\n\")\n",
    "        \n"
   ]
  }
 ],
 "metadata": {
  "kernelspec": {
   "display_name": "Python 3 (ipykernel)",
   "language": "python",
   "name": "python3"
  },
  "language_info": {
   "codemirror_mode": {
    "name": "ipython",
    "version": 3
   },
   "file_extension": ".py",
   "mimetype": "text/x-python",
   "name": "python",
   "nbconvert_exporter": "python",
   "pygments_lexer": "ipython3",
   "version": "3.9.12"
  }
 },
 "nbformat": 4,
 "nbformat_minor": 5
}
