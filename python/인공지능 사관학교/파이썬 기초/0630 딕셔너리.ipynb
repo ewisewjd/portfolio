{
 "cells": [
  {
   "cell_type": "code",
   "execution_count": 1,
   "id": "baf58bfa",
   "metadata": {},
   "outputs": [
    {
     "data": {
      "text/plain": [
       "{'name': 'sw', 'age': 26, 'phone': '010-0000-0000'}"
      ]
     },
     "execution_count": 1,
     "metadata": {},
     "output_type": "execute_result"
    }
   ],
   "source": [
    "dic1={ \"name\":\"sw\",\"age\":26,\"phone\":\"010-0000-0000\"}\n",
    "dic1"
   ]
  },
  {
   "cell_type": "code",
   "execution_count": 2,
   "id": "f212cc39",
   "metadata": {},
   "outputs": [
    {
     "data": {
      "text/plain": [
       "dict"
      ]
     },
     "execution_count": 2,
     "metadata": {},
     "output_type": "execute_result"
    }
   ],
   "source": [
    "type(dic1)"
   ]
  },
  {
   "cell_type": "code",
   "execution_count": 3,
   "id": "6d6f7244",
   "metadata": {},
   "outputs": [],
   "source": [
    "dic1['birth']='02/08'"
   ]
  },
  {
   "cell_type": "code",
   "execution_count": 4,
   "id": "8dca0d67",
   "metadata": {},
   "outputs": [
    {
     "data": {
      "text/plain": [
       "{'name': 'sw', 'age': 26, 'phone': '010-0000-0000', 'birth': '02/08'}"
      ]
     },
     "execution_count": 4,
     "metadata": {},
     "output_type": "execute_result"
    }
   ],
   "source": [
    "dic1"
   ]
  },
  {
   "cell_type": "code",
   "execution_count": 5,
   "id": "e30b1d1e",
   "metadata": {},
   "outputs": [
    {
     "data": {
      "text/plain": [
       "{'노래제목': '참고사항', '가수': '이무진', '날짜': '2022,06.23'}"
      ]
     },
     "execution_count": 5,
     "metadata": {},
     "output_type": "execute_result"
    }
   ],
   "source": [
    "#딕셔너리 값 추가 실습\n",
    "dic_test={\"노래제목\":\"참고사항\"}\n",
    "\n",
    "dic_test[\"가수\"]=\"이무진\"\n",
    "dic_test[\"날짜\"]=\"2022,06.23\"\n",
    "\n",
    "dic_test"
   ]
  },
  {
   "cell_type": "code",
   "execution_count": 6,
   "id": "6890ca27",
   "metadata": {},
   "outputs": [],
   "source": [
    "del dic1['age']"
   ]
  },
  {
   "cell_type": "code",
   "execution_count": 7,
   "id": "7f0e1395",
   "metadata": {},
   "outputs": [
    {
     "data": {
      "text/plain": [
       "{'name': 'sw', 'phone': '010-0000-0000', 'birth': '02/08'}"
      ]
     },
     "execution_count": 7,
     "metadata": {},
     "output_type": "execute_result"
    }
   ],
   "source": [
    "dic1"
   ]
  },
  {
   "cell_type": "code",
   "execution_count": 9,
   "id": "60ce4fdf",
   "metadata": {},
   "outputs": [
    {
     "data": {
      "text/plain": [
       "'sw'"
      ]
     },
     "execution_count": 9,
     "metadata": {},
     "output_type": "execute_result"
    }
   ],
   "source": [
    "dic1['name']"
   ]
  },
  {
   "cell_type": "code",
   "execution_count": 10,
   "id": "48ddc654",
   "metadata": {},
   "outputs": [
    {
     "data": {
      "text/plain": [
       "'sw'"
      ]
     },
     "execution_count": 10,
     "metadata": {},
     "output_type": "execute_result"
    }
   ],
   "source": [
    "dic1.get('name')"
   ]
  },
  {
   "cell_type": "code",
   "execution_count": 11,
   "id": "cfa173ce",
   "metadata": {},
   "outputs": [
    {
     "data": {
      "text/plain": [
       "dict_keys(['name', 'phone', 'birth'])"
      ]
     },
     "execution_count": 11,
     "metadata": {},
     "output_type": "execute_result"
    }
   ],
   "source": [
    "dic1.keys()"
   ]
  },
  {
   "cell_type": "code",
   "execution_count": 12,
   "id": "52bcc13f",
   "metadata": {},
   "outputs": [
    {
     "data": {
      "text/plain": [
       "['name', 'phone', 'birth']"
      ]
     },
     "execution_count": 12,
     "metadata": {},
     "output_type": "execute_result"
    }
   ],
   "source": [
    "list(dic1.keys())"
   ]
  },
  {
   "cell_type": "code",
   "execution_count": 13,
   "id": "590c0843",
   "metadata": {},
   "outputs": [
    {
     "data": {
      "text/plain": [
       "dict_values(['sw', '010-0000-0000', '02/08'])"
      ]
     },
     "execution_count": 13,
     "metadata": {},
     "output_type": "execute_result"
    }
   ],
   "source": [
    "dic1.values()\n"
   ]
  },
  {
   "cell_type": "code",
   "execution_count": 14,
   "id": "3c9667d0",
   "metadata": {},
   "outputs": [
    {
     "data": {
      "text/plain": [
       "['sw', '010-0000-0000', '02/08']"
      ]
     },
     "execution_count": 14,
     "metadata": {},
     "output_type": "execute_result"
    }
   ],
   "source": [
    "list(dic1.values())"
   ]
  },
  {
   "cell_type": "code",
   "execution_count": 15,
   "id": "94ecb0f3",
   "metadata": {},
   "outputs": [
    {
     "name": "stdout",
     "output_type": "stream",
     "text": [
      "name\n",
      "phone\n",
      "birth\n"
     ]
    }
   ],
   "source": [
    "for key in dic1.keys():\n",
    "    print(key)"
   ]
  },
  {
   "cell_type": "code",
   "execution_count": 16,
   "id": "0027a49f",
   "metadata": {},
   "outputs": [
    {
     "name": "stdout",
     "output_type": "stream",
     "text": [
      "sw\n",
      "010-0000-0000\n",
      "02/08\n"
     ]
    }
   ],
   "source": [
    "for value in dic1.values():\n",
    "    print(value)"
   ]
  },
  {
   "cell_type": "code",
   "execution_count": 17,
   "id": "d1e32eaa",
   "metadata": {},
   "outputs": [
    {
     "name": "stdout",
     "output_type": "stream",
     "text": [
      "name \t sw\n",
      "phone \t 010-0000-0000\n",
      "birth \t 02/08\n"
     ]
    }
   ],
   "source": [
    "for key, value in dic1.items():\n",
    "    print(key, \"\\t\",value)"
   ]
  },
  {
   "cell_type": "code",
   "execution_count": 18,
   "id": "bfa00cd0",
   "metadata": {},
   "outputs": [
    {
     "data": {
      "text/plain": [
       "True"
      ]
     },
     "execution_count": 18,
     "metadata": {},
     "output_type": "execute_result"
    }
   ],
   "source": [
    "'name'in dic1"
   ]
  },
  {
   "cell_type": "code",
   "execution_count": 19,
   "id": "7f52bfe8",
   "metadata": {},
   "outputs": [
    {
     "data": {
      "text/plain": [
       "False"
      ]
     },
     "execution_count": 19,
     "metadata": {},
     "output_type": "execute_result"
    }
   ],
   "source": [
    "'gender' in dic1"
   ]
  },
  {
   "cell_type": "code",
   "execution_count": 20,
   "id": "b7737199",
   "metadata": {},
   "outputs": [
    {
     "data": {
      "text/plain": [
       "{'name': 'sw', 'phone': '010-0000-0000', 'birth': '02/08'}"
      ]
     },
     "execution_count": 20,
     "metadata": {},
     "output_type": "execute_result"
    }
   ],
   "source": [
    "dic1\n"
   ]
  },
  {
   "cell_type": "code",
   "execution_count": 22,
   "id": "3fc24daa",
   "metadata": {},
   "outputs": [],
   "source": [
    "dic1.clear()\n"
   ]
  },
  {
   "cell_type": "code",
   "execution_count": 23,
   "id": "f050f528",
   "metadata": {},
   "outputs": [
    {
     "data": {
      "text/plain": [
       "{}"
      ]
     },
     "execution_count": 23,
     "metadata": {},
     "output_type": "execute_result"
    }
   ],
   "source": [
    "dic1"
   ]
  },
  {
   "cell_type": "code",
   "execution_count": 24,
   "id": "e91b82ac",
   "metadata": {},
   "outputs": [],
   "source": [
    "dic1['age']=10,11,12"
   ]
  },
  {
   "cell_type": "code",
   "execution_count": 25,
   "id": "2a0e4ae5",
   "metadata": {},
   "outputs": [
    {
     "data": {
      "text/plain": [
       "{'age': (10, 11, 12)}"
      ]
     },
     "execution_count": 25,
     "metadata": {},
     "output_type": "execute_result"
    }
   ],
   "source": [
    "dic1"
   ]
  },
  {
   "cell_type": "code",
   "execution_count": 26,
   "id": "1004df4c",
   "metadata": {},
   "outputs": [],
   "source": [
    "dic1['age']=50"
   ]
  },
  {
   "cell_type": "code",
   "execution_count": 27,
   "id": "9bece537",
   "metadata": {},
   "outputs": [
    {
     "data": {
      "text/plain": [
       "{'age': 50}"
      ]
     },
     "execution_count": 27,
     "metadata": {},
     "output_type": "execute_result"
    }
   ],
   "source": [
    "dic1"
   ]
  },
  {
   "cell_type": "code",
   "execution_count": null,
   "id": "79a6b889",
   "metadata": {},
   "outputs": [],
   "source": []
  }
 ],
 "metadata": {
  "kernelspec": {
   "display_name": "Python 3 (ipykernel)",
   "language": "python",
   "name": "python3"
  },
  "language_info": {
   "codemirror_mode": {
    "name": "ipython",
    "version": 3
   },
   "file_extension": ".py",
   "mimetype": "text/x-python",
   "name": "python",
   "nbconvert_exporter": "python",
   "pygments_lexer": "ipython3",
   "version": "3.9.12"
  }
 },
 "nbformat": 4,
 "nbformat_minor": 5
}
