{
 "cells": [
  {
   "cell_type": "code",
   "execution_count": null,
   "id": "87a771dd",
   "metadata": {},
   "outputs": [],
   "source": [
    "def number_sum(num1,num2):\n",
    "    result=num1+num2\n",
    "    return result"
   ]
  },
  {
   "cell_type": "code",
   "execution_count": null,
   "id": "15e4e1e3",
   "metadata": {},
   "outputs": [],
   "source": [
    "number_sum(3,10)"
   ]
  },
  {
   "cell_type": "code",
   "execution_count": null,
   "id": "a937c91b",
   "metadata": {},
   "outputs": [],
   "source": [
    "#예제 \n",
    "#두수를 입력 받아 그 차이를 리턴하는 함수를 정의하시오\n",
    "\n",
    "def number_minus(num1,num2):\n",
    "    result=0\n",
    "    if abs(num1)> abs(num2):\n",
    "        result=num1-num2\n",
    "    else : \n",
    "        result=num2-num1\n",
    "        \n",
    "    return result\n",
    "\n",
    "num1=int(input(\"첫번째 정수 입력>>\"))\n",
    "num2=int(input(\"두번째 정수입력>>\"))\n",
    "\n",
    "result= number_minus(num1,num2)\n",
    "result"
   ]
  },
  {
   "cell_type": "code",
   "execution_count": null,
   "id": "a8638903",
   "metadata": {},
   "outputs": [],
   "source": [
    "#예제 \n",
    "#두수를 입력 받아 그 차이를 리턴하는 함수를 정의하시오\n",
    "\n",
    "def number_minus(num1,num2):\n",
    "    result=0\n",
    "    result=num1-num2\n",
    "        \n",
    "    return abs(result)\n",
    "\n",
    "num1=int(input(\"첫번째 정수 입력>>\"))\n",
    "num2=int(input(\"두번째 정수입력>>\"))\n",
    "\n",
    "result= number_minus(num1,num2)\n",
    "result"
   ]
  },
  {
   "cell_type": "code",
   "execution_count": null,
   "id": "8443de18",
   "metadata": {},
   "outputs": [],
   "source": [
    "# 선생님 코드\n",
    "\n",
    "# 함수 선언!\n",
    "def number_minus(num1, num2) :\n",
    "    result = 0\n",
    "    if num1 > num2 :\n",
    "        result = num1 - num2\n",
    "    else :\n",
    "        result = num2 - num1\n",
    "    return result\n",
    "\n",
    "\n",
    "\n",
    "num1 = int(input(\"첫 번째 정수 입력 >> \"))\n",
    "num2 = int(input(\"두 번째 정수 입력 >> \"))\n",
    "result = number_minus(num1, num2)\n",
    "result"
   ]
  },
  {
   "cell_type": "code",
   "execution_count": null,
   "id": "41f4b2b5",
   "metadata": {},
   "outputs": [],
   "source": [
    "#함수 연습문제 \n",
    "#문자열을 입력받아 \"ㅋ\"를 제거하고 return하는 함수를 정의 하시오\n",
    "\n",
    "# 함수 정의\n",
    "\n",
    "def s_replace(arg):\n",
    "    if  'ㅋ' in arg:\n",
    "        result=arg.replace('ㅋ','')\n",
    "        \n",
    "    return result\n",
    "\n",
    "s=input(\"들어갈 입력값을 입력하시오>>\")\n",
    "\n",
    "result= s_replace(s)\n",
    "result"
   ]
  },
  {
   "cell_type": "code",
   "execution_count": null,
   "id": "83943548",
   "metadata": {},
   "outputs": [],
   "source": [
    "# 함수 예제 \n",
    "# 두수를 입력 받아서 원하는 연산을 수행하는 함수를 정의하시오.\n",
    "\n",
    "#함수 만들기 \n",
    "def cal(num1, num2, op):\n",
    "    yeonsan=0\n",
    "    if op==\"+\":\n",
    "        yeonsan=num1+num2\n",
    "    else:\n",
    "        yeonsan=num1-num2\n",
    "    \n",
    "    return yeonsan\n"
   ]
  },
  {
   "cell_type": "code",
   "execution_count": null,
   "id": "b1e96fc4",
   "metadata": {},
   "outputs": [],
   "source": [
    "num1=int(input(\"첫번째 정수 입력>>\"))\n",
    "num2=int(input(\"두번째 정수 입력>>\"))\n",
    "\n",
    "op=input(\"연산자 입력(+,-)>>\")\n",
    "\n",
    "result= cal(num1,num2,op)\n",
    "result"
   ]
  },
  {
   "cell_type": "markdown",
   "id": "98755fd9",
   "metadata": {},
   "source": [
    "### 선생님 코드"
   ]
  },
  {
   "cell_type": "code",
   "execution_count": null,
   "id": "3af4ffa3",
   "metadata": {},
   "outputs": [],
   "source": [
    "\n",
    "def cal(num1,num2,op):\n",
    "    \"\"\"덧셈과 뺄셈을 계산하는 함수입니다.\"\"\"\n",
    "    if op==\"+\":\n",
    "        result=num1+num2\n",
    "        \n",
    "    else:\n",
    "        reult=num1-num2\n",
    "        \n",
    "    return result"
   ]
  },
  {
   "cell_type": "code",
   "execution_count": null,
   "id": "d491832b",
   "metadata": {},
   "outputs": [],
   "source": [
    "num1=int(input(\"첫번째 정수 입력>>\"))\n",
    "num2=int(input(\"두번째 정수 입력>>\"))\n",
    "\n",
    "op=input(\"연산자 입력(+,-)>>\")\n",
    "result=cal(num1,num2,op)\n",
    "print(f\"결과:{result}\")"
   ]
  },
  {
   "cell_type": "code",
   "execution_count": null,
   "id": "3ddf3f2d",
   "metadata": {},
   "outputs": [],
   "source": [
    "# 함수 예제\n",
    "#약수를 구하는 함수를 정의하시오\n",
    "\n",
    "#함수정의\n",
    "def divisor(arg):\n",
    "    for i in range(1,arg+1):\n",
    "        if arg %i==0:\n",
    "            print(i,end=\" \")    "
   ]
  },
  {
   "cell_type": "code",
   "execution_count": null,
   "id": "06cef772",
   "metadata": {},
   "outputs": [],
   "source": [
    "divisor(10)"
   ]
  },
  {
   "cell_type": "code",
   "execution_count": null,
   "id": "60b0a14f",
   "metadata": {},
   "outputs": [],
   "source": [
    "divisor(30)"
   ]
  },
  {
   "cell_type": "code",
   "execution_count": null,
   "id": "69d8b6ac",
   "metadata": {},
   "outputs": [],
   "source": [
    "#가변 매개변수를 활용해 모든 숫자를 더해서 반환하는 함수를 작성하시오\n",
    "\n",
    "#함수 정의\n",
    "def add(*arg):\n",
    "    result=sum(arg)\n",
    "    return result"
   ]
  },
  {
   "cell_type": "code",
   "execution_count": null,
   "id": "9ae1ddb8",
   "metadata": {},
   "outputs": [],
   "source": [
    "add(1,2,3)"
   ]
  },
  {
   "cell_type": "code",
   "execution_count": null,
   "id": "6de8eb31",
   "metadata": {},
   "outputs": [],
   "source": [
    "add(1,2,3,55,6,7,8,9,10,44,55,32,6,7)"
   ]
  },
  {
   "cell_type": "code",
   "execution_count": 1,
   "id": "50723f09",
   "metadata": {},
   "outputs": [],
   "source": [
    "# 네이버 영화 리뷰 분석\n",
    "import pickle\n",
    "\n",
    "#pickle:리스트와 같은 자료구조 자체를 저장하거나 불러오게 해주는 라이브러리(기능들의 집합)\n",
    "\n",
    "\n",
    "#pickle모듈을 이용하여 데이터 로드\n",
    "\n",
    "with open('data/movie_review.pkl','rb') as f:\n",
    "    my=pickle.load(f)"
   ]
  },
  {
   "cell_type": "code",
   "execution_count": 2,
   "id": "053dc0c4",
   "metadata": {},
   "outputs": [],
   "source": [
    "review_naver = [\"월 스미스가 하드캐리ㅋㅋㅋㅋㅋㅋㅋ\",\n",
    "               \"쟈스민 너무 멋지고 팬 엄청나게 생길듯ㅋㅋ\",\n",
    "               \"기대보다 더욱 재밌는 영화였다^^\"\n",
    "               ]\n",
    "review_google = [\"색감도 노래도 너무 화려하고 재밌었어요ㅋㅋㅋ\",\n",
    "               \"오늘부터 디즈니 팬입니다ㅋㅋㅋ\",\n",
    "               \"디즈니의 새로운 해석도 놀랍고, 윌스미스도 신의한수!\"\n",
    "                ]"
   ]
  },
  {
   "cell_type": "code",
   "execution_count": 5,
   "id": "2a696d8f",
   "metadata": {},
   "outputs": [],
   "source": [
    "\n",
    "def remove_z(args):\n",
    "    result=[]\n",
    "    for i in args:\n",
    "        result.append(i.replace(\"ㅋ\",\"\"))\n",
    "        \n",
    "    return result"
   ]
  },
  {
   "cell_type": "code",
   "execution_count": 6,
   "id": "a7c3f52a",
   "metadata": {},
   "outputs": [
    {
     "name": "stdout",
     "output_type": "stream",
     "text": [
      "['월 스미스가 하드캐리', '쟈스민 너무 멋지고 팬 엄청나게 생길듯', '기대보다 더욱 재밌는 영화였다^^']\n"
     ]
    }
   ],
   "source": [
    "print(remove_z(review_naver))"
   ]
  },
  {
   "cell_type": "code",
   "execution_count": 7,
   "id": "bda0c647",
   "metadata": {},
   "outputs": [
    {
     "name": "stdout",
     "output_type": "stream",
     "text": [
      "['색감도 노래도 너무 화려하고 재밌었어요', '오늘부터 디즈니 팬입니다', '디즈니의 새로운 해석도 놀랍고, 윌스미스도 신의한수!']\n"
     ]
    }
   ],
   "source": [
    "print(remove_z(review_google))"
   ]
  },
  {
   "cell_type": "code",
   "execution_count": null,
   "id": "b5429435",
   "metadata": {},
   "outputs": [],
   "source": []
  }
 ],
 "metadata": {
  "kernelspec": {
   "display_name": "Python 3 (ipykernel)",
   "language": "python",
   "name": "python3"
  },
  "language_info": {
   "codemirror_mode": {
    "name": "ipython",
    "version": 3
   },
   "file_extension": ".py",
   "mimetype": "text/x-python",
   "name": "python",
   "nbconvert_exporter": "python",
   "pygments_lexer": "ipython3",
   "version": "3.9.12"
  }
 },
 "nbformat": 4,
 "nbformat_minor": 5
}
