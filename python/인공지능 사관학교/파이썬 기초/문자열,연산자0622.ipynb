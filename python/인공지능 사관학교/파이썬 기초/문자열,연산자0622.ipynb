{
 "cells": [
  {
   "cell_type": "code",
   "execution_count": 1,
   "id": "f603a456",
   "metadata": {},
   "outputs": [
    {
     "data": {
      "text/plain": [
       "'오늘은 7월 7일 입니다.'"
      ]
     },
     "execution_count": 1,
     "metadata": {},
     "output_type": "execute_result"
    }
   ],
   "source": [
    "day=7\n",
    "s='오늘은 7월 %d일 입니다.'%day\n",
    "s"
   ]
  },
  {
   "cell_type": "code",
   "execution_count": 2,
   "id": "fc079d30",
   "metadata": {},
   "outputs": [
    {
     "data": {
      "text/plain": [
       "'오늘은 7월 7 일입니다'"
      ]
     },
     "execution_count": 2,
     "metadata": {},
     "output_type": "execute_result"
    }
   ],
   "source": [
    "month=7\n",
    "day=7\n",
    "s='오늘은 %d월 %d 일입니다'%(month, day)\n",
    "s"
   ]
  },
  {
   "cell_type": "code",
   "execution_count": 3,
   "id": "be0f80f3",
   "metadata": {},
   "outputs": [
    {
     "data": {
      "text/plain": [
       "'오늘은 7월 7일입니다'"
      ]
     },
     "execution_count": 3,
     "metadata": {},
     "output_type": "execute_result"
    }
   ],
   "source": [
    "month=7\n",
    "day=7\n",
    "s='오늘은 {}월 {}일입니다'.format(month, day)\n",
    "s"
   ]
  },
  {
   "cell_type": "markdown",
   "id": "302390cc",
   "metadata": {},
   "source": [
    "# 문자열의 포멧팅 공부중\n"
   ]
  },
  {
   "cell_type": "code",
   "execution_count": 4,
   "id": "9c8e7bc5",
   "metadata": {},
   "outputs": [
    {
     "data": {
      "text/plain": [
       "'오늘은 7월 7일 입니다.'"
      ]
     },
     "execution_count": 4,
     "metadata": {},
     "output_type": "execute_result"
    }
   ],
   "source": [
    "month=7\n",
    "day=7\n",
    "s=f'오늘은 {month}월 {day}일 입니다.'\n",
    "s"
   ]
  },
  {
   "cell_type": "code",
   "execution_count": 5,
   "id": "bb76b640",
   "metadata": {},
   "outputs": [
    {
     "name": "stdout",
     "output_type": "stream",
     "text": [
      "100와 200의 합은 300입니다\n"
     ]
    }
   ],
   "source": [
    "x=100\n",
    "y=200\n",
    "sum2=x+y\n",
    "print(f\"{x}와 {y}의 합은 {sum2}입니다\")"
   ]
  },
  {
   "cell_type": "markdown",
   "id": "9943608d",
   "metadata": {},
   "source": [
    "# 자주 사용하는 문자열 함수\n"
   ]
  },
  {
   "cell_type": "code",
   "execution_count": 6,
   "id": "3e0497b6",
   "metadata": {},
   "outputs": [
    {
     "data": {
      "text/plain": [
       "3"
      ]
     },
     "execution_count": 6,
     "metadata": {},
     "output_type": "execute_result"
    }
   ],
   "source": [
    "#count 함수: 문자열에 포함된 문자 개수 세기\n",
    "s=' 오늘 점심 메뉴는 탕수육입니다. 저는 탕수육을 매우 좋아해서 탕수육만 먹을겁니다.'\n",
    "\n",
    "s.count('탕수육')"
   ]
  },
  {
   "cell_type": "code",
   "execution_count": 9,
   "id": "06b24150",
   "metadata": {},
   "outputs": [
    {
     "data": {
      "text/plain": [
       "10"
      ]
     },
     "execution_count": 9,
     "metadata": {},
     "output_type": "execute_result"
    }
   ],
   "source": [
    "s.count(' ')"
   ]
  },
  {
   "cell_type": "code",
   "execution_count": 10,
   "id": "11b5d772",
   "metadata": {},
   "outputs": [
    {
     "data": {
      "text/plain": [
       "'    오늘 점심 메뉴는 탕수육입니다. 저는 탕수육을 매우 좋아해서 탕수육만 먹을겁니다.      '"
      ]
     },
     "execution_count": 10,
     "metadata": {},
     "output_type": "execute_result"
    }
   ],
   "source": [
    "s='    오늘 점심 메뉴는 탕수육입니다. 저는 탕수육을 매우 좋아해서 탕수육만 먹을겁니다.      '\n",
    "s"
   ]
  },
  {
   "cell_type": "code",
   "execution_count": 11,
   "id": "ca93d1ea",
   "metadata": {},
   "outputs": [
    {
     "data": {
      "text/plain": [
       "'오늘 점심 메뉴는 탕수육입니다. 저는 탕수육을 매우 좋아해서 탕수육만 먹을겁니다.'"
      ]
     },
     "execution_count": 11,
     "metadata": {},
     "output_type": "execute_result"
    }
   ],
   "source": [
    "s.strip()"
   ]
  },
  {
   "cell_type": "code",
   "execution_count": 12,
   "id": "54bca42f",
   "metadata": {},
   "outputs": [
    {
     "data": {
      "text/plain": [
       "' 오늘 점심 메뉴는 마라탕입니다. 저는 마라탕을 매우 좋아해서 마라탕만 먹을겁니다.'"
      ]
     },
     "execution_count": 12,
     "metadata": {},
     "output_type": "execute_result"
    }
   ],
   "source": [
    "s=' 오늘 점심 메뉴는 탕수육입니다. 저는 탕수육을 매우 좋아해서 탕수육만 먹을겁니다.'\n",
    "s.replace('탕수육','마라탕')"
   ]
  },
  {
   "cell_type": "code",
   "execution_count": 13,
   "id": "a01ca47c",
   "metadata": {},
   "outputs": [
    {
     "data": {
      "text/plain": [
       "' 오늘 점심 메뉴는 탕수육입니다. 저는 탕수육을 매우 좋아해서 탕수육만 먹을겁니다.'"
      ]
     },
     "execution_count": 13,
     "metadata": {},
     "output_type": "execute_result"
    }
   ],
   "source": [
    "s"
   ]
  },
  {
   "cell_type": "code",
   "execution_count": 14,
   "id": "e097a042",
   "metadata": {},
   "outputs": [
    {
     "data": {
      "text/plain": [
       "['오늘', '점심', '메뉴는', '탕수육입니다.', '저는', '탕수육을', '매우', '좋아해서', '탕수육만', '먹을겁니다.']"
      ]
     },
     "execution_count": 14,
     "metadata": {},
     "output_type": "execute_result"
    }
   ],
   "source": [
    "s.split()"
   ]
  },
  {
   "cell_type": "markdown",
   "id": "f78dfea9",
   "metadata": {},
   "source": [
    "# 연산자\n"
   ]
  },
  {
   "cell_type": "code",
   "execution_count": 15,
   "id": "8d26e95c",
   "metadata": {},
   "outputs": [
    {
     "name": "stdout",
     "output_type": "stream",
     "text": [
      "1.4285714285714286\n",
      "3\n",
      "1\n"
     ]
    }
   ],
   "source": [
    "num1=10\n",
    "num2=7\n",
    "print(num1/num2)\n",
    "print(num1%num2)\n",
    "print(num1//num2)"
   ]
  },
  {
   "cell_type": "code",
   "execution_count": 16,
   "id": "18199730",
   "metadata": {},
   "outputs": [
    {
     "name": "stdout",
     "output_type": "stream",
     "text": [
      "안녕하세요\n"
     ]
    }
   ],
   "source": [
    "#문자열 더하기\n",
    "str1='안녕'\n",
    "str2='하세요'\n",
    "\n",
    "print(str1+str2)"
   ]
  },
  {
   "cell_type": "code",
   "execution_count": 17,
   "id": "4c67ff4f",
   "metadata": {},
   "outputs": [
    {
     "name": "stdout",
     "output_type": "stream",
     "text": [
      "107\n"
     ]
    }
   ],
   "source": [
    "str1='10'\n",
    "str2='7'\n",
    "\n",
    "print(str1+str2)"
   ]
  },
  {
   "cell_type": "code",
   "execution_count": 19,
   "id": "1e437055",
   "metadata": {},
   "outputs": [
    {
     "name": "stdout",
     "output_type": "stream",
     "text": [
      "107\n"
     ]
    }
   ],
   "source": [
    "num=10\n",
    "str2='7'\n",
    "\n",
    "print(str(num)+str2)"
   ]
  },
  {
   "cell_type": "code",
   "execution_count": 20,
   "id": "ac650576",
   "metadata": {},
   "outputs": [
    {
     "name": "stdout",
     "output_type": "stream",
     "text": [
      "더하기 결과: 26\n",
      "빼기 결과: 20\n",
      "곱하기 결과: 69\n",
      "나누기 결과: 7.666666666666667\n"
     ]
    }
   ],
   "source": [
    "num1=23\n",
    "num2=3\n",
    "\n",
    "print(\"더하기 결과:\", num1+num2)\n",
    "print(\"빼기 결과:\", num1-num2)\n",
    "print(\"곱하기 결과:\",num1*num2)\n",
    "print(\"나누기 결과:\",num1/num2)\n"
   ]
  },
  {
   "cell_type": "code",
   "execution_count": 22,
   "id": "70311aaa",
   "metadata": {},
   "outputs": [
    {
     "name": "stdout",
     "output_type": "stream",
     "text": [
      "정수를 입력하세요>>133\n"
     ]
    }
   ],
   "source": [
    "num1=input(\"정수를 입력하세요>>\")\n"
   ]
  },
  {
   "cell_type": "code",
   "execution_count": 23,
   "id": "aff90c7e",
   "metadata": {},
   "outputs": [
    {
     "data": {
      "text/plain": [
       "'133'"
      ]
     },
     "execution_count": 23,
     "metadata": {},
     "output_type": "execute_result"
    }
   ],
   "source": [
    "num1"
   ]
  },
  {
   "cell_type": "code",
   "execution_count": 24,
   "id": "dfcd3823",
   "metadata": {},
   "outputs": [
    {
     "name": "stdout",
     "output_type": "stream",
     "text": [
      "정수를 입력하세여>>133\n"
     ]
    }
   ],
   "source": [
    "num1=int(input(\"정수를 입력하세여>>\"))\n"
   ]
  },
  {
   "cell_type": "code",
   "execution_count": 25,
   "id": "f5b81c59",
   "metadata": {},
   "outputs": [
    {
     "data": {
      "text/plain": [
       "133"
      ]
     },
     "execution_count": 25,
     "metadata": {},
     "output_type": "execute_result"
    }
   ],
   "source": [
    "num1"
   ]
  },
  {
   "cell_type": "code",
   "execution_count": 26,
   "id": "f31db9ed",
   "metadata": {},
   "outputs": [
    {
     "name": "stdout",
     "output_type": "stream",
     "text": [
      "정수를 입력하세요>>3\n",
      "정수를 입력하세요>>7\n",
      "더하기 결과: 10\n",
      "빼기 결과: -4\n",
      "곱하기 결과: 21\n",
      "나누기 결과: 0.42857142857142855\n"
     ]
    }
   ],
   "source": [
    "num1=int(input(\"정수를 입력하세요>>\"))\n",
    "num2=int(input(\"정수를 입력하세요>>\"))\n",
    "\n",
    "print(\"더하기 결과:\", num1+num2)\n",
    "print(\"빼기 결과:\", num1-num2)\n",
    "print(\"곱하기 결과:\",num1*num2)\n",
    "print(\"나누기 결과:\",num1/num2)"
   ]
  },
  {
   "cell_type": "code",
   "execution_count": 28,
   "id": "700ac103",
   "metadata": {},
   "outputs": [
    {
     "name": "stdout",
     "output_type": "stream",
     "text": [
      "python 점수 입력>>100\n",
      "machin 점수 입력>>80\n",
      "deep 점수 입력>>60\n",
      "합계:240\n",
      "평균:80.0\n"
     ]
    }
   ],
   "source": [
    "python=int(input(\"python 점수 입력>>\"))\n",
    "machin=int(input(\"machin 점수 입력>>\"))\n",
    "deep=int(input(\"deep 점수 입력>>\"))\n",
    "\n",
    "sum1=python+machin+deep\n",
    "mean=sum1/3\n",
    "\n",
    "print(\"합계:{}\".format(sum1))\n",
    "print(\"평균:{}\".format(mean))"
   ]
  },
  {
   "cell_type": "code",
   "execution_count": 37,
   "id": "7cd0add2",
   "metadata": {},
   "outputs": [
    {
     "name": "stdout",
     "output_type": "stream",
     "text": [
      "시간 입력>>3723\n",
      "1시간 2분 3초\n"
     ]
    }
   ],
   "source": [
    "time=int(input(\"시간 입력>>\"))\n",
    "hour=time//3600\n",
    "minute=time//60%60\n",
    "second=time%60\n",
    "print(\"{}시간 {}분 {}초\".format(hour, minute,second))"
   ]
  },
  {
   "cell_type": "code",
   "execution_count": 38,
   "id": "52d25f8a",
   "metadata": {},
   "outputs": [
    {
     "name": "stdout",
     "output_type": "stream",
     "text": [
      "시간 입력>>7533\n",
      "2시간 2분 3초\n"
     ]
    }
   ],
   "source": [
    "# 위에 정답 \n",
    "time=int(input(\"시간 입력>>\"))\n",
    "hour=time//3600\n",
    "\n",
    "\n",
    "print(\"{}시간 {}분 {}초\".format(hour, minute,second))"
   ]
  },
  {
   "cell_type": "code",
   "execution_count": 39,
   "id": "d61f3625",
   "metadata": {},
   "outputs": [
    {
     "name": "stdout",
     "output_type": "stream",
     "text": [
      "xxxxxxxxxx\n"
     ]
    }
   ],
   "source": [
    "s=\"x\"\n",
    "print(s*10)"
   ]
  },
  {
   "cell_type": "code",
   "execution_count": 40,
   "id": "990539b6",
   "metadata": {},
   "outputs": [
    {
     "name": "stdout",
     "output_type": "stream",
     "text": [
      "안녕하세요안녕하세요\n"
     ]
    }
   ],
   "source": [
    "s=\"안녕하세요\"\n",
    "print(s*2)"
   ]
  },
  {
   "cell_type": "code",
   "execution_count": 42,
   "id": "d6076b62",
   "metadata": {},
   "outputs": [
    {
     "name": "stdout",
     "output_type": "stream",
     "text": [
      "************연산하기*********\n",
      "정수입력>>10\n",
      "정수입력>>20\n",
      "+연산자 입력>>+\n",
      "10+20= 30\n"
     ]
    }
   ],
   "source": [
    "print(\"************연산하기*********\")\n",
    "num1=int(input(\"정수입력>>\"))\n",
    "num2=int(input(\"정수입력>>\"))\n",
    "cal=input(\"+연산자 입력>>\")\n",
    "print(\"{}{}{}= {}\".format(num1,cal,num2,num1+num2))"
   ]
  },
  {
   "cell_type": "code",
   "execution_count": 48,
   "id": "691e47fd",
   "metadata": {},
   "outputs": [
    {
     "name": "stdout",
     "output_type": "stream",
     "text": [
      "정수 입력>>10\n",
      "지수입력>>30\n",
      "10의 30승은 1000000000000000000000000000000입니다.\n"
     ]
    }
   ],
   "source": [
    "num=int(input(\"정수 입력>>\"))\n",
    "power=int(input(\"지수입력>>\"))\n",
    "print(f\"{num}의 {power}승은 {num**power}입니다.\")"
   ]
  },
  {
   "cell_type": "code",
   "execution_count": 49,
   "id": "059fb42e",
   "metadata": {},
   "outputs": [
    {
     "name": "stdout",
     "output_type": "stream",
     "text": [
      "False\n",
      "True\n",
      "False\n",
      "True\n"
     ]
    }
   ],
   "source": [
    "a=3\n",
    "b=7\n",
    "print(a>b)\n",
    "print(a<=b)\n",
    "print(a==b)\n",
    "print(a != b)"
   ]
  },
  {
   "cell_type": "code",
   "execution_count": 50,
   "id": "5a3f008e",
   "metadata": {},
   "outputs": [
    {
     "name": "stdout",
     "output_type": "stream",
     "text": [
      "a:7,b:1\n",
      "False\n",
      "True\n",
      "False\n",
      "True\n"
     ]
    }
   ],
   "source": [
    "import random\n",
    "\n",
    "a=random.randint(1,10)\n",
    "b=random.randint(1,10)\n",
    "\n",
    "print(\"a:{},b:{}\".format(a,b))\n",
    "\n",
    "print(a<b)\n",
    "print(a>b)\n",
    "print(a==b)\n",
    "print(a != b)"
   ]
  },
  {
   "cell_type": "code",
   "execution_count": 52,
   "id": "4159c3cd",
   "metadata": {},
   "outputs": [
    {
     "data": {
      "text/plain": [
       "False"
      ]
     },
     "execution_count": 52,
     "metadata": {},
     "output_type": "execute_result"
    }
   ],
   "source": [
    "a=3\n",
    "b=7\n",
    "not a<b\n",
    "\n"
   ]
  },
  {
   "cell_type": "code",
   "execution_count": 53,
   "id": "442458e0",
   "metadata": {
    "scrolled": false
   },
   "outputs": [
    {
     "data": {
      "text/plain": [
       "False"
      ]
     },
     "execution_count": 53,
     "metadata": {},
     "output_type": "execute_result"
    }
   ],
   "source": [
    "3>5 and 10==20"
   ]
  },
  {
   "cell_type": "code",
   "execution_count": 54,
   "id": "d300f1a4",
   "metadata": {},
   "outputs": [
    {
     "data": {
      "text/plain": [
       "False"
      ]
     },
     "execution_count": 54,
     "metadata": {},
     "output_type": "execute_result"
    }
   ],
   "source": [
    "3>5 and 10<20"
   ]
  },
  {
   "cell_type": "code",
   "execution_count": 55,
   "id": "af95cf6d",
   "metadata": {},
   "outputs": [
    {
     "data": {
      "text/plain": [
       "True"
      ]
     },
     "execution_count": 55,
     "metadata": {},
     "output_type": "execute_result"
    }
   ],
   "source": [
    "3<5 and 10<20"
   ]
  },
  {
   "cell_type": "code",
   "execution_count": 56,
   "id": "5c553e3e",
   "metadata": {},
   "outputs": [
    {
     "data": {
      "text/plain": [
       "False"
      ]
     },
     "execution_count": 56,
     "metadata": {},
     "output_type": "execute_result"
    }
   ],
   "source": [
    "3>5 or 10==20"
   ]
  },
  {
   "cell_type": "code",
   "execution_count": 57,
   "id": "194e5dc5",
   "metadata": {},
   "outputs": [
    {
     "data": {
      "text/plain": [
       "True"
      ]
     },
     "execution_count": 57,
     "metadata": {},
     "output_type": "execute_result"
    }
   ],
   "source": [
    "3>5 or 10<20"
   ]
  },
  {
   "cell_type": "code",
   "execution_count": 58,
   "id": "f2c07de2",
   "metadata": {},
   "outputs": [
    {
     "data": {
      "text/plain": [
       "True"
      ]
     },
     "execution_count": 58,
     "metadata": {},
     "output_type": "execute_result"
    }
   ],
   "source": [
    "3<5 or 10<20"
   ]
  },
  {
   "cell_type": "code",
   "execution_count": 59,
   "id": "be30c9f1",
   "metadata": {},
   "outputs": [
    {
     "data": {
      "text/plain": [
       "'합격'"
      ]
     },
     "execution_count": 59,
     "metadata": {},
     "output_type": "execute_result"
    }
   ],
   "source": [
    "score=80\n",
    "\n",
    "\"합격\" if score >= 60 else \"불합격\""
   ]
  },
  {
   "cell_type": "code",
   "execution_count": 60,
   "id": "6c99f5de",
   "metadata": {},
   "outputs": [
    {
     "data": {
      "text/plain": [
       "'불합격'"
      ]
     },
     "execution_count": 60,
     "metadata": {},
     "output_type": "execute_result"
    }
   ],
   "source": [
    "score=50\n",
    "\"합격\" if score >= 60 else \"불합격\""
   ]
  },
  {
   "cell_type": "code",
   "execution_count": 62,
   "id": "f3fa5fde",
   "metadata": {},
   "outputs": [
    {
     "name": "stdout",
     "output_type": "stream",
     "text": [
      "정수입력>>3\n",
      "정수입력>>10\n",
      "b: 10\n"
     ]
    }
   ],
   "source": [
    "a= int(input(\"정수입력>>\"))\n",
    "b=int(input(\"정수입력>>\"))\n",
    "\n",
    "print(\"a:\",a) if a>=b else print(\"b:\", b)"
   ]
  },
  {
   "cell_type": "code",
   "execution_count": 64,
   "id": "d076b58e",
   "metadata": {},
   "outputs": [
    {
     "name": "stdout",
     "output_type": "stream",
     "text": [
      "정수입력>>33\n",
      "정수입력>>5\n",
      "두수의 차: 28\n"
     ]
    }
   ],
   "source": [
    "a= int(input(\"첫번째 정수입력>>\"))\n",
    "b=int(input(\"두번째 정수입력>>\"))\n",
    "\n",
    "print(\"두수의 차:\",a-b) if a>b else print(\"두수의차:\",b-a) \n"
   ]
  },
  {
   "cell_type": "code",
   "execution_count": 72,
   "id": "cccff852",
   "metadata": {},
   "outputs": [
    {
     "name": "stdout",
     "output_type": "stream",
     "text": [
      "정수입력>>5\n",
      "5는 홀수 입니다\n"
     ]
    }
   ],
   "source": [
    "a=int(input(\"정수입력>>\"))\n",
    "\n",
    "print(f\"{a}는 짝수 입니다\") if a%2 ==0 else print(f\"{a}는 홀수 입니다\")"
   ]
  },
  {
   "cell_type": "code",
   "execution_count": null,
   "id": "b9439e50",
   "metadata": {},
   "outputs": [],
   "source": []
  },
  {
   "cell_type": "code",
   "execution_count": null,
   "id": "060d8b41",
   "metadata": {},
   "outputs": [],
   "source": []
  }
 ],
 "metadata": {
  "kernelspec": {
   "display_name": "Python 3 (ipykernel)",
   "language": "python",
   "name": "python3"
  },
  "language_info": {
   "codemirror_mode": {
    "name": "ipython",
    "version": 3
   },
   "file_extension": ".py",
   "mimetype": "text/x-python",
   "name": "python",
   "nbconvert_exporter": "python",
   "pygments_lexer": "ipython3",
   "version": "3.9.12"
  }
 },
 "nbformat": 4,
 "nbformat_minor": 5
}
