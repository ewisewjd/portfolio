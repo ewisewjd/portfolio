{
 "cells": [
  {
   "cell_type": "code",
   "execution_count": null,
   "id": "bd1d403e",
   "metadata": {},
   "outputs": [],
   "source": [
    "num=3\n",
    "print(num)"
   ]
  },
  {
   "cell_type": "code",
   "execution_count": null,
   "id": "be0d709a",
   "metadata": {},
   "outputs": [],
   "source": [
    "num1= 13\n",
    "print(num1)"
   ]
  },
  {
   "cell_type": "code",
   "execution_count": null,
   "id": "bf4e5d27",
   "metadata": {},
   "outputs": [],
   "source": [
    "num2=25\n",
    "print(num2)"
   ]
  },
  {
   "cell_type": "code",
   "execution_count": null,
   "id": "70975947",
   "metadata": {},
   "outputs": [],
   "source": [
    "num2=77\n",
    "print(num2)"
   ]
  },
  {
   "cell_type": "code",
   "execution_count": null,
   "id": "ae019e14",
   "metadata": {},
   "outputs": [],
   "source": [
    "type(num2)"
   ]
  },
  {
   "cell_type": "code",
   "execution_count": null,
   "id": "ac6b44ff",
   "metadata": {},
   "outputs": [],
   "source": [
    "num3=3.1425\n",
    "print(num3)"
   ]
  },
  {
   "cell_type": "code",
   "execution_count": null,
   "id": "937be92b",
   "metadata": {},
   "outputs": [],
   "source": [
    "str1=\"Funny python\"\n",
    "str2=\"Easy python\"\n",
    "type(str2)"
   ]
  },
  {
   "cell_type": "code",
   "execution_count": null,
   "id": "52f48d2e",
   "metadata": {},
   "outputs": [],
   "source": [
    "print(str2)"
   ]
  },
  {
   "cell_type": "code",
   "execution_count": null,
   "id": "24ddf2e2",
   "metadata": {},
   "outputs": [],
   "source": [
    "number=10\n",
    "Number=20\n",
    "print(\"number:\",number)\n",
    "print(\"Number:\",Number)"
   ]
  },
  {
   "cell_type": "code",
   "execution_count": null,
   "id": "01233616",
   "metadata": {
    "scrolled": false
   },
   "outputs": [],
   "source": [
    "1a=10"
   ]
  },
  {
   "cell_type": "code",
   "execution_count": null,
   "id": "1d9a5b4a",
   "metadata": {
    "scrolled": true
   },
   "outputs": [],
   "source": [
    "import keyword\n",
    "keyword.kwlist"
   ]
  },
  {
   "cell_type": "code",
   "execution_count": null,
   "id": "da73e26c",
   "metadata": {
    "scrolled": true
   },
   "outputs": [],
   "source": [
    "dir()"
   ]
  },
  {
   "cell_type": "code",
   "execution_count": null,
   "id": "d5611e90",
   "metadata": {},
   "outputs": [],
   "source": [
    "a,b,c= 10,15,30\n",
    "print(a)\n",
    "print(b)\n",
    "print(c)\n",
    "#순서 기준인가?"
   ]
  },
  {
   "cell_type": "code",
   "execution_count": null,
   "id": "4d1033e6",
   "metadata": {},
   "outputs": [],
   "source": [
    "a=10\n",
    "b=15\n",
    "print(a)\n",
    "print(b)"
   ]
  },
  {
   "cell_type": "code",
   "execution_count": null,
   "id": "c00c862c",
   "metadata": {},
   "outputs": [],
   "source": [
    "str1=str2='python'\n",
    "print(str1)\n",
    "print(str2)"
   ]
  },
  {
   "cell_type": "code",
   "execution_count": null,
   "id": "c6e3740d",
   "metadata": {
    "scrolled": true
   },
   "outputs": [],
   "source": [
    "x=100\n",
    "y=200\n",
    "sum\n",
    "print(z)"
   ]
  },
  {
   "cell_type": "code",
   "execution_count": 1,
   "id": "dc2653f2",
   "metadata": {},
   "outputs": [
    {
     "data": {
      "text/plain": [
       "10"
      ]
     },
     "execution_count": 1,
     "metadata": {},
     "output_type": "execute_result"
    }
   ],
   "source": [
    "sum([1,2,3,4])"
   ]
  },
  {
   "cell_type": "code",
   "execution_count": 2,
   "id": "9c8f1d1e",
   "metadata": {},
   "outputs": [
    {
     "ename": "TypeError",
     "evalue": "'int' object is not iterable",
     "output_type": "error",
     "traceback": [
      "\u001b[1;31m---------------------------------------------------------------------------\u001b[0m",
      "\u001b[1;31mTypeError\u001b[0m                                 Traceback (most recent call last)",
      "Input \u001b[1;32mIn [2]\u001b[0m, in \u001b[0;36m<cell line: 3>\u001b[1;34m()\u001b[0m\n\u001b[0;32m      1\u001b[0m x\u001b[38;5;241m=\u001b[39m\u001b[38;5;241m100\u001b[39m\n\u001b[0;32m      2\u001b[0m y\u001b[38;5;241m=\u001b[39m\u001b[38;5;241m100\u001b[39m\n\u001b[1;32m----> 3\u001b[0m z\u001b[38;5;241m=\u001b[39m\u001b[38;5;28;43msum\u001b[39;49m\u001b[43m(\u001b[49m\u001b[43mx\u001b[49m\u001b[43m,\u001b[49m\u001b[43my\u001b[49m\u001b[43m)\u001b[49m\n\u001b[0;32m      4\u001b[0m \u001b[38;5;28mprint\u001b[39m(z)\n",
      "\u001b[1;31mTypeError\u001b[0m: 'int' object is not iterable"
     ]
    }
   ],
   "source": [
    "x=100\n",
    "y=100\n",
    "z=sum(x,y)\n",
    "print(z)"
   ]
  },
  {
   "cell_type": "code",
   "execution_count": 3,
   "id": "7e9dbaae",
   "metadata": {},
   "outputs": [
    {
     "ename": "SyntaxError",
     "evalue": "invalid syntax (3697783148.py, line 1)",
     "output_type": "error",
     "traceback": [
      "\u001b[1;36m  Input \u001b[1;32mIn [3]\u001b[1;36m\u001b[0m\n\u001b[1;33m    s= 'she's gone\u001b[0m\n\u001b[1;37m            ^\u001b[0m\n\u001b[1;31mSyntaxError\u001b[0m\u001b[1;31m:\u001b[0m invalid syntax\n"
     ]
    }
   ],
   "source": [
    "s= 'she's gone\n",
    "s"
   ]
  },
  {
   "cell_type": "code",
   "execution_count": 4,
   "id": "bf6abf1e",
   "metadata": {},
   "outputs": [
    {
     "data": {
      "text/plain": [
       "\"'she's gone\""
      ]
     },
     "execution_count": 4,
     "metadata": {},
     "output_type": "execute_result"
    }
   ],
   "source": [
    "s=\"'she's gone\"\n",
    "s"
   ]
  },
  {
   "cell_type": "code",
   "execution_count": 6,
   "id": "7885818d",
   "metadata": {},
   "outputs": [
    {
     "data": {
      "text/plain": [
       "\"she's gone\""
      ]
     },
     "execution_count": 6,
     "metadata": {},
     "output_type": "execute_result"
    }
   ],
   "source": [
    "s2=\"she\\'s gone\"\n",
    "s2"
   ]
  },
  {
   "cell_type": "code",
   "execution_count": 8,
   "id": "1f303af2",
   "metadata": {},
   "outputs": [
    {
     "name": "stdout",
     "output_type": "stream",
     "text": [
      "he said that \"she is gone\" \"she is gone too\" he said that \"she is gone\"\n"
     ]
    }
   ],
   "source": [
    "\n",
    "print(s1, s2)"
   ]
  },
  {
   "cell_type": "code",
   "execution_count": 9,
   "id": "00c85b4b",
   "metadata": {},
   "outputs": [
    {
     "name": "stdout",
     "output_type": "stream",
     "text": [
      "여러 줄로 만들어진 문자를 하나로 \n",
      "대입시키고 \n",
      "싶을때\n",
      "\n"
     ]
    }
   ],
   "source": [
    "s='''여러 줄로 만들어진 문자를 하나로 \n",
    "대입시키고 \n",
    "싶을때\n",
    "'''\n",
    "print(s)"
   ]
  },
  {
   "cell_type": "code",
   "execution_count": 12,
   "id": "190e8541",
   "metadata": {},
   "outputs": [
    {
     "name": "stdout",
     "output_type": "stream",
     "text": [
      "M\n",
      "i\n",
      "C\n"
     ]
    }
   ],
   "source": [
    "s=\"My name is CW\"\n",
    "print(s[0])\n",
    "print(s[8])\n",
    "print(s[11])"
   ]
  },
  {
   "cell_type": "code",
   "execution_count": 14,
   "id": "050df951",
   "metadata": {},
   "outputs": [
    {
     "name": "stdout",
     "output_type": "stream",
     "text": [
      "W\n",
      "C\n",
      "n\n"
     ]
    }
   ],
   "source": [
    "s=\"My name is CW\"\n",
    "print(s[-1])\n",
    "print(s[-2])\n",
    "print(s[-10])"
   ]
  },
  {
   "cell_type": "code",
   "execution_count": 18,
   "id": "fbfe97a6",
   "metadata": {},
   "outputs": [
    {
     "name": "stdout",
     "output_type": "stream",
     "text": [
      "My\n",
      "name\n",
      "is\n"
     ]
    }
   ],
   "source": [
    "s=\"My name is CW\"\n",
    "print(s[0:2])\n",
    "print(s[3:7])\n",
    "print(s[8:10])"
   ]
  },
  {
   "cell_type": "code",
   "execution_count": 19,
   "id": "e836d709",
   "metadata": {},
   "outputs": [
    {
     "name": "stdout",
     "output_type": "stream",
     "text": [
      "My name\n",
      "My name\n"
     ]
    }
   ],
   "source": [
    "s=\"My name is CW\"\n",
    "print(s[0:7])\n",
    "print(s[:7])\n"
   ]
  },
  {
   "cell_type": "code",
   "execution_count": 21,
   "id": "a84416e5",
   "metadata": {},
   "outputs": [
    {
     "name": "stdout",
     "output_type": "stream",
     "text": [
      "is CW\n",
      "is CW\n",
      "is CW\n"
     ]
    }
   ],
   "source": [
    "s=\"My name is CW\"\n",
    "print(s[8:13])\n",
    "print(s[-5:])\n",
    "print(s[8:])"
   ]
  },
  {
   "cell_type": "code",
   "execution_count": 23,
   "id": "6e8db47e",
   "metadata": {},
   "outputs": [
    {
     "name": "stdout",
     "output_type": "stream",
     "text": [
      "My name is CW\n",
      "My name is CW\n"
     ]
    }
   ],
   "source": [
    "s=\"My name is CW\"\n",
    "print(s[:])\n",
    "print(s[0:13])\n",
    "print(s)"
   ]
  },
  {
   "cell_type": "code",
   "execution_count": 26,
   "id": "0650bce6",
   "metadata": {},
   "outputs": [
    {
     "name": "stdout",
     "output_type": "stream",
     "text": [
      "날짜: 2020년 3월 3일\n",
      "날씨: 맑음\n"
     ]
    }
   ],
   "source": [
    "#문자열 실습 예제\n",
    "s=\"2020년 3월 3일의 날씨는 맑음입니다.\"\n",
    "\n",
    "print(\"날짜:\",s[:11])\n",
    "print(\"날씨:\",s[-6:-4])\n"
   ]
  },
  {
   "cell_type": "code",
   "execution_count": null,
   "id": "5d32fed4",
   "metadata": {},
   "outputs": [],
   "source": []
  }
 ],
 "metadata": {
  "kernelspec": {
   "display_name": "Python 3 (ipykernel)",
   "language": "python",
   "name": "python3"
  },
  "language_info": {
   "codemirror_mode": {
    "name": "ipython",
    "version": 3
   },
   "file_extension": ".py",
   "mimetype": "text/x-python",
   "name": "python",
   "nbconvert_exporter": "python",
   "pygments_lexer": "ipython3",
   "version": "3.9.12"
  }
 },
 "nbformat": 4,
 "nbformat_minor": 5
}
