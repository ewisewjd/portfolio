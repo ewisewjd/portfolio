{
  "nbformat": 4,
  "nbformat_minor": 0,
  "metadata": {
    "colab": {
      "provenance": []
    },
    "kernelspec": {
      "name": "python3",
      "display_name": "Python 3"
    },
    "language_info": {
      "name": "python"
    }
  },
  "cells": [
    {
      "cell_type": "markdown",
      "source": [
        "## 자료는 국사편찬위원회 한국사 데이터 베이스\n",
        "태종실록 8월"
      ],
      "metadata": {
        "id": "hmLwNKdpy92o"
      }
    },
    {
      "cell_type": "code",
      "source": [
        "import requests\n",
        "from bs4 import BeautifulSoup"
      ],
      "metadata": {
        "id": "Kq6gn94vzI1j"
      },
      "execution_count": null,
      "outputs": []
    },
    {
      "cell_type": "code",
      "source": [
        "url=\"http://sillok.history.go.kr/search/inspectionDayList.do\""
      ],
      "metadata": {
        "id": "5OkuH25lzSJ6"
      },
      "execution_count": null,
      "outputs": []
    },
    {
      "cell_type": "code",
      "source": [
        "data={\n",
        "    'id':'kaa_101080',\n",
        "    'did':\"\",\n",
        "    'level':'3'\n",
        "}"
      ],
      "metadata": {
        "id": "aZRnHbzFzZ5a"
      },
      "execution_count": null,
      "outputs": []
    },
    {
      "cell_type": "code",
      "source": [
        "res= requests.post(url,data=data)"
      ],
      "metadata": {
        "id": "2Xe1WUHdz9_0"
      },
      "execution_count": null,
      "outputs": []
    },
    {
      "cell_type": "code",
      "source": [
        "res"
      ],
      "metadata": {
        "colab": {
          "base_uri": "https://localhost:8080/"
        },
        "id": "bKagESxd0PMD",
        "outputId": "4ca749a5-ed55-4c5a-b263-85bcbe0eae60"
      },
      "execution_count": null,
      "outputs": [
        {
          "output_type": "execute_result",
          "data": {
            "text/plain": [
              "<Response [200]>"
            ]
          },
          "metadata": {},
          "execution_count": 86
        }
      ]
    },
    {
      "cell_type": "code",
      "source": [
        "res.text"
      ],
      "metadata": {
        "colab": {
          "base_uri": "https://localhost:8080/",
          "height": 130
        },
        "id": "DBBdCjHw0pMk",
        "outputId": "f861b95b-1494-46cf-90fd-d56f788b50df"
      },
      "execution_count": null,
      "outputs": [
        {
          "output_type": "execute_result",
          "data": {
            "application/vnd.google.colaboratory.intrinsic+json": {
              "type": "string"
            },
            "text/plain": [
              "'\\r\\n\\r\\n\\r\\n\\r\\n\\r\\n\\r\\n<!DOCTYPE html PUBLIC \"-//W3C//DTD HTML 4.01 Transitional//EN\" \"http://www.w3.org/TR/html4/loose.dtd\">\\r\\n<html xmlns=\"http://www.w3.org/1999/xhtml\" lang=\"ko\">\\r\\n<head>\\r\\n<meta http-equiv=\"X-UA-Compatible\" content=\"IE=Edge\" />\\r\\n<meta http-equiv=\"Content-Type\" content=\"text/html; charset=UTF-8\">\\r\\n<meta http-equiv=\"Content-Script-Type\" content=\"text/javascript\">\\r\\n<meta http-equiv=\"Content-Style-Type\" content=\"text/css\">\\r\\n<meta http-equiv=\"imagetoolbar\" content=\"no\">\\r\\n<title>조선왕조실록</title>\\r\\n<link rel=\"shortcut icon\" type=\"image/x-icon\" href=\"/favicon.ico\" />\\r\\n<link rel=\"stylesheet\" type=\"text/css\" href=\"/css/style.css;jsessionid=11287279A47F04FA336CDEF7519B946E\" />\\r\\n<script type=\"text/javascript\" src=\"/js/jquery.min.js;jsessionid=11287279A47F04FA336CDEF7519B946E\"></script>\\r\\n<script type=\"text/javascript\" src=\"/js/jquery-ui.js;jsessionid=11287279A47F04FA336CDEF7519B946E\"></script>\\r\\n<script type=\"text/javascript\" src=\"/js/common.js;jsessionid=11287279A47F04FA336CDEF7519B946E\"></script>\\r\\n<script type=\"text/javascript\" src=\"/js/jquery.treeview.js;jsessionid=11287279A47F04FA336CDEF7519B946E\"></script>\\r\\n<!-- <script type=\"text/javascript\" src=\"/js/jquery.poshytip.min.js;jsessionid=11287279A47F04FA336CDEF7519B946E\"></script> -->\\r\\n<!-- <script type=\"text/javascript\" src=\"/js/jquery.tooltipster.min.js;jsessionid=11287279A47F04FA336CDEF7519B946E\"></script> -->\\r\\n<script type=\"text/javascript\" src=\"/js/jquery.switchButton.js;jsessionid=11287279A47F04FA336CDEF7519B946E\"></script>\\r\\n<script type=\"text/javascript\" src=\"/js/jquery.simplemodal.js;jsessionid=11287279A47F04FA336CDEF7519B946E\"></script>\\r\\n<script type=\"text/javascript\" src=\"/js/modal.basic.js;jsessionid=11287279A47F04FA336CDEF7519B946E\"></script>\\r\\n<script type=\"text/javascript\" src=\"/js/makePCookie.js;jsessionid=11287279A47F04FA336CDEF7519B946E\"></script>\\t\\r\\n<script type=\"text/javascript\">\\r\\n<!--\\r\\n\\t$(function(){\\r\\n\\t\\t//트리\\r\\n\\t\\t$(\"#tree_menulist1, #tree_menulist2\").treeview({\\r\\n\\t\\t\\tanimated:\"fast\",\\r\\n\\t\\t\\tcollapsed: true\\r\\n\\t\\t});\\r\\n\\r\\n\\t\\t//left_slide_on();\\r\\n\\r\\n\\t\\t//툴팁\\r\\n\\t\\t/* $(\\'.tooltip\\').poshytip({\\r\\n\\t\\t\\tclassName: \\'tip-yellowsimple\\',\\r\\n\\t\\t\\tshowTimeout: 1,\\r\\n\\t\\t\\talignTo: \\'target\\',\\r\\n\\t\\t\\talignX: \\'center\\',\\r\\n\\t\\t\\toffsetY: 8,\\r\\n\\t\\t\\talignY: \\'top\\',\\r\\n\\t\\t\\tallowTipHover: false\\r\\n\\t\\t}); */\\r\\n\\t\\t\\r\\n\\t\\t//툴팁 - 본문\\r\\n\\t\\t/* $(\\'.tooltip2\\').poshytip({\\r\\n\\t\\t\\tclassName: \\'tip-yellowsimple type2\\',\\r\\n\\t\\t\\tshowTimeout: 1,\\r\\n\\t\\t\\talignTo: \\'target\\',\\r\\n\\t\\t\\talignX: \\'inner-left\\',\\r\\n\\t\\t\\toffsetX: -5,\\r\\n\\t\\t\\toffsetY: 3,\\r\\n\\t\\t\\talignY: \\'top\\',\\r\\n\\t\\t\\tallowTipHover: false\\r\\n\\t\\t}); */\\r\\n\\r\\n\\t});\\r\\n\\r\\n//-->\\r\\n\\tfunction getContextPath(){\\r\\n\\t\\treturn \\'\\';\\r\\n\\t\\t/*\\r\\n\\t    var offset=location.href.indexOf(location.host)+location.host.length;\\r\\n\\t    var ctxPath=location.href.substring(offset,location.href.indexOf(\\'/\\',offset+1));\\r\\n\\t    return ctxPath;\\r\\n\\t    */\\r\\n\\t}\\r\\n\\r\\n\\tfunction popSeonwon() {\\r\\n\\t\\tsetLog(\\'\\',\\'SUB\\',\\'\\',\\'24\\');\\r\\n\\t\\t\\r\\n\\t\\tvar url = \"/manInfo/seonwonList.do;jsessionid=11287279A47F04FA336CDEF7519B946E\";\\r\\n\\t\\twindow.open(url,\"seonwonList\",\"toolbar=no,status=no,width=1200,height=900,directories=no,scrollbars=yes,location=no,resizable=yes,menubar=no\");\\r\\n\\t}\\r\\n</script>\\r\\n<script type=\"text/javascript\" src=\"/js/webime/jquery.blockUI.js;jsessionid=11287279A47F04FA336CDEF7519B946E\"></script>\\r\\n<script type=\"text/javascript\" src=\"/js/webime/tiny_mce_src.js;jsessionid=11287279A47F04FA336CDEF7519B946E\"></script>\\r\\n<script type=\"text/javascript\" src=\"/js/webime/common.js;jsessionid=11287279A47F04FA336CDEF7519B946E\"></script>\\r\\n<script type=\"text/javascript\" src=\"/js/webime/search.js;jsessionid=11287279A47F04FA336CDEF7519B946E\"></script>\\r\\n</head>\\r\\n<body>\\r\\n<div id=\"skipnavi\">\\r\\n\\t<ul>\\r\\n\\t<li><a href=\"#search_area\">통합검색 바로가기</a></li>\\r\\n\\t<li><a href=\"#util_menu\">메뉴 바로가기</a></li>\\r\\n\\t<li><a href=\"#cont_area\">본문 바로가기</a></li>\\r\\n\\t</ul>\\r\\n</div>\\r\\n<div id=\"wrapper\">\\r\\n\\t<!-- header start -->\\r\\n\\t\\r\\n\\r\\n\\r\\n\\r\\n\\r\\n\\r\\n\\r\\n<script type=\"text/javascript\">\\r\\n\\t$(document).ready(function(){\\r\\n\\t\\thInitPage();\\r\\n\\t});\\r\\n\\t\\r\\n\\tfunction notice() {\\r\\n\\t\\talert(\"사이트 긴급 점검중입니다.(15:00~18:00)\\\\n검색 및 자료열람 기능에 제한이 있습니다.\");\\r\\n\\t}\\r\\n\\t\\r\\n\\tvar hf;\\r\\n\\tfunction hInitPage() {\\r\\n\\t\\thf = document.topSearchForm;\\r\\n\\t\\t\\r\\n\\t\\tsetImevar(\"topSearchWord_ime\", \\'\\', \"http://www.koreanhistory.or.kr\");\\r\\n\\t}\\r\\n\\t\\r\\n\\tfunction searchResult() {\\r\\n\\t\\tsessionStorage.setItem(\\'scroll_position\\',0);\\r\\n\\r\\n\\t\\tvar searchTerm = getImevar(\"topSearchWord_ime\").replace(/(\\\\s+)/g,\" \");\\r\\n\\t\\t\\r\\n\\t\\tsearchTerm = changeScript(searchTerm, \"topSearchWord_ime\");\\r\\n\\t\\tsearchTerm = $.trim(searchTerm);\\r\\n\\t\\tif(searchTerm.length < 1) {\\r\\n\\t\\t\\talert(\"검색어를 입력해주십시오.\");\\r\\n\\t\\t\\tf.topSearchWord.focus();\\r\\n\\t\\t\\treturn;\\r\\n\\t\\t} else if(searchTerm.length > 100) {\\r\\n\\t\\t\\talert(\"검색질의어가 100자를 초과했습니다.\\\\n최초 100자에 대해서만 검색을 요청합니다.\");\\r\\n\\t\\t}\\r\\n\\t\\t\\r\\n\\t\\thf.topSearchWord.value = searchTerm;\\r\\n\\t\\thf.action = \"/search/searchResultList.do;jsessionid=11287279A47F04FA336CDEF7519B946E\";\\r\\n\\t\\thf.pageIndex.value = 1;\\r\\n\\t\\thf.submit();\\r\\n\\t}\\r\\n\\t\\r\\n\\tfunction goDetailSearch() {\\r\\n\\t\\thf.action = \"/search/detailSearch.do;jsessionid=11287279A47F04FA336CDEF7519B946E\";\\r\\n\\t\\thf.submit();\\r\\n\\t}\\r\\n\\t\\r\\n\\tfunction goMenu(url,type,id,dist) {\\r\\n\\t\\tsetLog(url,type,id,dist);\\r\\n\\t}\\r\\n</script>\\r\\n<div class=\"header\">\\r\\n\\t<div class=\"header_top\">\\r\\n\\t\\t<h1>\\r\\n\\t\\t\\t<img src=\"/images/common/top_logo.png;jsessionid=11287279A47F04FA336CDEF7519B946E\" alt=\"국사편찬위원회 조선왕조실록\" usemap=\"#toplogo\" />\\r\\n\\t\\t\\t<map name=\"toplogo\" id=\"toplogo\">\\r\\n\\t\\t\\t\\t<area shape=\"rect\" coords=\"1,1,86,21\" href=\"http://www.history.go.kr/\" target=\"_blank\" alt=\"국사편찬위원회 홈페이지로 이동\" />\\r\\n\\t\\t\\t\\t<area shape=\"rect\" coords=\"101,2,176,20\" href=\"/;jsessionid=11287279A47F04FA336CDEF7519B946E\" alt=\"조선왕조실록 첫페이지로 이동\" />\\r\\n\\t\\t\\t</map>\\t\\t\\t\\r\\n\\t\\t</h1>\\r\\n\\t\\t<ul class=\"util_menu\" id=\"util_menu\">\\r\\n\\t\\t\\t<li><a href=\"/search/inspectionList.do;jsessionid=11287279A47F04FA336CDEF7519B946E\">자료열람</a></li>\\r\\n\\t\\t\\t<li><a href=\"javascript:setLog(\\'/manInfo/nameList.do;jsessionid=11287279A47F04FA336CDEF7519B946E\\',\\'SUB\\',\\'\\',\\'21\\');\">부가열람</a></li>\\r\\n\\t\\t\\t<li><a href=\"/intro/intro.do;jsessionid=11287279A47F04FA336CDEF7519B946E\">소개</a></li>\\r\\n\\t\\t\\t<li><a href=\"javascript:setLog(\\'/board/noticeList.do;jsessionid=11287279A47F04FA336CDEF7519B946E\\',\\'MD\\',\\'\\',\\'11\\');\">실록마당</a></li>\\r\\n\\t\\t\\t<li><a href=\"/mc/main.do;jsessionid=11287279A47F04FA336CDEF7519B946E\">명ㆍ청실록</a></li>\\r\\n\\t\\t\\t<li class=\"util_etc\"><a href=\"/intro/sitemap.do;jsessionid=11287279A47F04FA336CDEF7519B946E\">사이트맵</a></li>\\r\\n\\t\\t\\t<li class=\"util_etc\"><a href=\"/help/inspection.do;jsessionid=11287279A47F04FA336CDEF7519B946E\">도움말</a></li>\\r\\n\\t\\t\\t<li class=\"util_etc\"><a href=\"/intro/english.do;jsessionid=11287279A47F04FA336CDEF7519B946E\">English</a></li>\\r\\n\\t\\t</ul>\\r\\n\\t</div>\\r\\n\\t\\r\\n\\t<form id=\"topSearchForm\" name=\"topSearchForm\" action=\"/search/inspectionDayList.do;jsessionid=11287279A47F04FA336CDEF7519B946E\" method=\"post\">\\r\\n\\t\\t<input type=\"hidden\" id=\"topSearchWord\" name=\"topSearchWord\" value=\\'\\'/>\\r\\n\\t\\t<input type=\"hidden\" id=\"pageIndex\" name=\"pageIndex\" value=\"1\"/>\\r\\n\\t\\t<input type=\"hidden\" id=\"initPageUnit\" name=\"initPageUnit\" value=\"0\"/>\\r\\n\\r\\n\\t<div class=\"head_center clear2\">\\r\\n\\t\\t<a href=\"/;jsessionid=11287279A47F04FA336CDEF7519B946E\" class=\"sub_logo\"><img src=\"/images/common/sub_logo.png;jsessionid=11287279A47F04FA336CDEF7519B946E\" alt=\"조선왕조실록\" /></a>\\r\\n\\r\\n\\t\\t<!-- 검색 start -->\\r\\n\\t\\t<div class=\"search_area\" id=\"search_area\">\\r\\n\\t\\t\\t<fieldset><legend><label for=\"top_search\">검색</label></legend>\\r\\n\\t\\t\\t\\t<div class=\"search_input_wrap\">\\r\\n\\t\\t\\t\\t\\t<select title=\"검색조건 선택\" id=\"sillokType\" name=\"sillokType\">\\r\\n\\t\\t\\t\\t\\t\\t<option value=\"S\" >조선왕조실록</option>\\r\\n\\t\\t\\t\\t\\t\\t<option value=\"SMC\" >통합(명/청실록)</option>\\r\\n\\t\\t\\t\\t\\t</select>\\r\\n\\t\\t\\t\\t\\t<input type=\"text\" title=\"검색어 입력\" id=\"topSearchWord_ime\" name=\"topSearchWord_ime\" onkeydown=\"onEnter(event, searchResult);\" autocomplete=\"off\" style=\"width:290px;\"/>\\r\\n\\t\\t\\t\\t\\t<script type=\"text/javascript\" >\\r\\n\\t\\t\\t\\t\\t\\t$(document).ready(function() { embedIme(\"topSearchWord_ime\"); });\\r\\n\\t\\t\\t\\t\\t</script>\\r\\n\\t\\t\\t\\t\\t<a href=\"#\" class=\"auto_view\" title=\"자동완성 열기\"></a>\\r\\n\\t\\t\\t\\t</div>\\r\\n\\t\\t\\t\\t<!-- 자동완성 start -->\\r\\n\\t\\t\\t\\t<div class=\"auto_complete\" style=\"display:none;\">\\r\\n\\t\\t\\t\\t\\t<ul id=\"autoComplete\"></ul>\\r\\n\\t\\t\\t\\t\\t<div><a href=\"#\" class=\"auto_close\">자동완성 닫기</a></div>\\r\\n\\t\\t\\t\\t</div>\\r\\n\\t\\t\\t\\t<!--// 자동완성 end -->\\r\\n\\t\\t\\t\\t<a href=\"javascript:searchResult();\" class=\"btn_search\">검색</a>\\r\\n\\t\\t\\t</fieldset>\\r\\n\\t\\t</div>\\r\\n\\t\\t<!--// 검색 end -->\\r\\n\\r\\n\\t\\t<a href=\"javascript:goDetailSearch();\" class=\"btn_extra btn_detail\">상세검색</a>\\r\\n\\t\\t<a href=\"javascript:openHanjaInput(\\'topSearchWord_ime\\');\" class=\"btn_extra btn_character\">문자입력기</a>\\r\\n\\t</div>\\r\\n\\t\\r\\n\\t</form>\\r\\n\\t<form id=\"webimeForm\" name=\"webimeForm\" action=\"/search/inspectionDayList.do;jsessionid=11287279A47F04FA336CDEF7519B946E\" method=\"post\">\\r\\n\\t\\t<input type=\"hidden\" id=\"target\" name=\"target\" value=\"\"/>\\r\\n\\t</form>\\r\\n</div>\\r\\n\\r\\n\\t<!--// header end -->\\r\\n\\r\\n\\t<!-- content start -->\\r\\n\\t<div id=\"content\" class=\"clear2\">\\r\\n\\t\\r\\n\\t\\t<!-- 왼쪽영역 start : 활성 메뉴 a 에 class=\"on\" 삽입 -->\\r\\n\\t\\t\\r\\n\\t\\t<!--// 왼쪽영역 end -->\\r\\n\\t\\t\\r\\n\\t\\t<!-- 본문영역 start -->\\r\\n\\t\\t\\r\\n\\r\\n\\r\\n\\r\\n\\r\\n\\r\\n<script type=\"text/javascript\">\\r\\n\\tvar isLoading = false;\\r\\n\\tvar tree = \\'\\';\\r\\n\\tvar curTreeType = \\'KING\\';\\r\\n\\r\\n\\t$(document).ready(function(){\\r\\n\\t\\tinitPage();\\r\\n\\t});\\r\\n\\t\\r\\n\\t$(window).load(function() {\\r\\n\\t\\tisLoading = true;\\r\\n\\t});\\r\\n\\t\\r\\n\\tfunction initPage() {\\r\\n\\t\\t\\r\\n\\t}\\r\\n\\t\\r\\n\\tfunction searchDayList(id, level) {\\r\\n\\t\\tvar f = document.searchForm;\\r\\n\\t\\tf.id.value = encodeURIComponent(id);\\r\\n\\t\\tf.level.value = level;\\r\\n\\t\\tf.action = \"/search/inspectionDayList.do;jsessionid=11287279A47F04FA336CDEF7519B946E\";\\r\\n\\t\\tf.submit();\\r\\n\\t}\\r\\n\\t\\r\\n\\tfunction searchDay(id) {\\r\\n\\t\\tvar f = document.searchForm;\\r\\n\\t\\tf.id.value = id.substring(0,10);\\r\\n\\t\\tf.did.value = id;\\r\\n\\t\\tf.action = \"/search/inspectionDayList.do;jsessionid=11287279A47F04FA336CDEF7519B946E\";\\r\\n\\t\\tf.submit();\\r\\n\\t}\\r\\n\\t\\r\\n\\tfunction searchView(id) {\\r\\n\\t\\tsetLog(\\'\\',\\'SLK\\',id,\\'\\');\\r\\n\\t\\t\\r\\n\\t\\tvar f = document.searchForm;\\r\\n\\t\\tf.id.value = encodeURIComponent(id);\\r\\n\\t\\tf.action = \"/id;jsessionid=11287279A47F04FA336CDEF7519B946E/\"+encodeURIComponent(id);\\r\\n\\t\\tf.submit();\\r\\n\\t}\\r\\n\\t\\r\\n\\tfunction goPrev(id) {\\r\\n\\t\\tif(!isLoading) {\\r\\n\\t\\t\\talert(\"로딩중입니다. 잠시 후에 다시 눌러주시기 바랍니다.\");\\r\\n\\t\\t\\treturn;\\r\\n\\t\\t} else {\\r\\n\\t\\t\\tisLoading = false;\\r\\n\\t\\t}\\r\\n\\t\\t\\r\\n\\t\\tvar f = document.searchForm;\\r\\n\\t\\tf.id.value = id.substring(0,10);\\r\\n\\t\\tf.did.value = id;\\r\\n\\t\\tf.action = \"/search/inspectionDayList.do;jsessionid=11287279A47F04FA336CDEF7519B946E\";\\r\\n\\t\\tf.submit();\\r\\n\\t}\\r\\n\\t\\r\\n\\tfunction goNext(id) {\\r\\n\\t\\tif(!isLoading) {\\r\\n\\t\\t\\talert(\"로딩중입니다. 잠시 후에 다시 눌러주시기 바랍니다.\");\\r\\n\\t\\t\\treturn;\\r\\n\\t\\t} else {\\r\\n\\t\\t\\tisLoading = false;\\r\\n\\t\\t}\\r\\n\\t\\t\\r\\n\\t\\tvar f = document.searchForm;\\r\\n\\t\\tf.id.value = id.substring(0,10);\\r\\n\\t\\tf.did.value = id;\\r\\n\\t\\tf.action = \"/search/inspectionDayList.do;jsessionid=11287279A47F04FA336CDEF7519B946E\";\\r\\n\\t\\tf.submit();\\r\\n\\t}\\r\\n\\t\\r\\n\\tfunction goUp(id) {\\r\\n\\t\\tvar f = document.searchForm;\\r\\n\\t\\tf.id.value = id.substring(0,3);\\r\\n\\t\\tf.action = \"/search/inspectionMonthList.do;jsessionid=11287279A47F04FA336CDEF7519B946E\";\\r\\n\\t\\tf.submit();\\r\\n\\t}\\r\\n\\t\\r\\n\\tfunction goSjw(id, kingHg) {\\r\\n\\t\\tsetLog(\\'\\',\\'REL\\',id,\\'01\\');\\r\\n\\t\\twindow.open(\"http://sjw.history.go.kr/search/inspectionDayList.do?treeID=SJW-\"+encodeURIComponent(id)+\"&treeLevel=3&treeType=왕대별&treeKingName=\"+kingHg);\\r\\n\\t}\\r\\n\\t\\r\\n\\tfunction goBib(id) {\\r\\n\\t\\tsetLog(\\'\\',\\'REL\\',id,\\'02\\');\\r\\n\\t\\twindow.open(\"http://db.history.go.kr/url.jsp?ID=\"+encodeURIComponent(id));\\r\\n\\t}\\r\\n\\t\\r\\n\\tfunction popErrorReport() {\\r\\n\\t\\tvar url = \"/popup/errorReport.do;jsessionid=11287279A47F04FA336CDEF7519B946E\";\\r\\n\\t\\twindow.open(url,\"popErrorReport\",\"toolbar=no,status=no,width=680,height=700,directories=no,scrollbars=yes,location=no,resizable=yes,menubar=no\");\\r\\n\\t}\\r\\n\\t\\r\\n\\tfunction popPrint() {\\r\\n\\t\\tvar url = \"/popup/print.do;jsessionid=11287279A47F04FA336CDEF7519B946E\";\\r\\n\\t\\twindow.open(url,\"popPrint\",\"toolbar=no,status=no,width=680,height=700,directories=no,scrollbars=yes,location=no,resizable=yes,menubar=no\");\\r\\n\\t}\\r\\n\\t\\r\\n\\tfunction idcilpboard( silid ) {\\r\\n\\t\\tvar cliptext = silid;\\r\\n\\t\\tif ( window.clipboardData ){\\r\\n\\t      if(window.clipboardData.setData(\\'Text\\', cliptext)){\\r\\n\\t           alert(\\'주소가 복사되었습니다.\\\\n\\\\Ctrl + V 또는 붙여 넣기를 선택하여 이용하시기 바랍니다.\\');\\r\\n\\t      }\\r\\n\\t\\t} else {\\r\\n\\t\\t\\t window.prompt (\"주소를 복사하기위해 Ctrl+C 혹은 \\'복사\\'를 선택하십시오:\", cliptext);  \\r\\n\\t\\t}\\r\\n\\t}\\r\\n\\t\\r\\n\\tfunction urlcilpboard( silid ) {\\r\\n\\t\\tvar offset=location.href.indexOf(location.host)+location.host.length;\\r\\n\\t    var ctxPath=location.href.substring(0 ,location.href.indexOf(\\'/\\',offset+1));\\r\\n\\t\\t\\r\\n\\t\\t//var cliptext = \"http://\" + location.hostname +\":\"+ location.port+ \"/;jsessionid=11287279A47F04FA336CDEF7519B946Esearch/inspectionView.do?id=\" + silid;\\r\\n\\t\\tvar cliptext = ctxPath+\"/search/inspectionDayList.do?id=\" + silid;\\r\\n\\t\\tif ( window.clipboardData ){\\r\\n\\t      if(window.clipboardData.setData(\\'Text\\', cliptext)){\\r\\n\\t           alert(\\'주소가 복사되었습니다.\\\\n\\\\Ctrl + V 또는 붙여 넣기를 선택하여 이용하시기 바랍니다.\\');\\r\\n\\t      }\\r\\n\\t\\t} else {\\r\\n\\t\\t\\t window.prompt (\"주소를 복사하기위해 Ctrl+C 혹은 \\'복사\\'를 선택하십시오:\", cliptext);  \\r\\n\\t\\t}\\r\\n\\t}\\r\\n\\t\\r\\n\\tfunction imageViewer(id) {\\r\\n\\t\\tvar url = \"/popup/viewer.do;jsessionid=11287279A47F04FA336CDEF7519B946E?id=\"+id;\\r\\n\\t\\twindow.open(url,\"popViewer\",\"toolbar=no,status=no,width=1200,height=768,directories=no,scrollbars=yes,location=no,resizable=yes,menubar=no\");\\r\\n\\t}\\r\\n</script>\\r\\n<!-- 왼쪽영역 start : 활성 메뉴 a 에 class=\"on\" 삽입 -->\\r\\n<a href=\"#\" class=\"btn_slide off\" title=\"왼쪽 목록 펼치기\"></a>\\r\\n<div class=\"left_area\">\\r\\n\\t<p class=\"left_tab clear2\"><a href=\"javascript:initTree(\\'KING\\');\" class=\"left_tab01 on\">왕대</a><a href=\"javascript:initTree(\\'BOOK\\');\"  class=\"left_tab02 \">권별</a></p>\\r\\n\\r\\n\\t<!-- 트리 목록 start : 활성 a 태그에 class=\"on\" 삽입 -->\\r\\n\\t<div class=\"tree_wrap\">\\r\\n\\t<p class=\"tree_home\">태조-철종</p>\\r\\n\\t\\t<ul id=\"tree_menulist1\" class=\"filetree\">\\r\\n\\t\\t\\t\\r\\n\\t\\t\\t\\t<li id=\"kaa\" level=\"1\" type=\"KING\"  volume=\"0\">\\r\\n\\t\\t\\t\\t\\t<!-- <span class=\"folder\"><a href=\"javascript:preExpandTree(\\'\\', \\'\\', \\'KING\\', \\'0\\');\"></a></span> -->\\r\\n\\t\\t\\t\\t\\t<span class=\"folder\"><a href=\"javascript:javascript:searchTree(\\'kaa\\',\\'1\\');\" title=\"태조실록\">태조실록</a></span>\\r\\n\\t\\t\\t\\t\\t<ul id=\"tree_menulist_kaa\"></ul>\\r\\n\\t\\t\\t\\t</li>\\r\\n\\t\\t\\t\\r\\n\\t\\t\\t\\t<li id=\"kba\" level=\"1\" type=\"KING\"  volume=\"0\">\\r\\n\\t\\t\\t\\t\\t<!-- <span class=\"folder\"><a href=\"javascript:preExpandTree(\\'\\', \\'\\', \\'KING\\', \\'0\\');\"></a></span> -->\\r\\n\\t\\t\\t\\t\\t<span class=\"folder\"><a href=\"javascript:javascript:searchTree(\\'kba\\',\\'1\\');\" title=\"정종실록\">정종실록</a></span>\\r\\n\\t\\t\\t\\t\\t<ul id=\"tree_menulist_kba\"></ul>\\r\\n\\t\\t\\t\\t</li>\\r\\n\\t\\t\\t\\r\\n\\t\\t\\t\\t<li id=\"kca\" level=\"1\" type=\"KING\"  volume=\"0\">\\r\\n\\t\\t\\t\\t\\t<!-- <span class=\"folder\"><a href=\"javascript:preExpandTree(\\'\\', \\'\\', \\'KING\\', \\'0\\');\"></a></span> -->\\r\\n\\t\\t\\t\\t\\t<span class=\"folder\"><a href=\"javascript:javascript:searchTree(\\'kca\\',\\'1\\');\" title=\"태종실록\">태종실록</a></span>\\r\\n\\t\\t\\t\\t\\t<ul id=\"tree_menulist_kca\"></ul>\\r\\n\\t\\t\\t\\t</li>\\r\\n\\t\\t\\t\\r\\n\\t\\t\\t\\t<li id=\"kda\" level=\"1\" type=\"KING\"  volume=\"0\">\\r\\n\\t\\t\\t\\t\\t<!-- <span class=\"folder\"><a href=\"javascript:preExpandTree(\\'\\', \\'\\', \\'KING\\', \\'0\\');\"></a></span> -->\\r\\n\\t\\t\\t\\t\\t<span class=\"folder\"><a href=\"javascript:javascript:searchTree(\\'kda\\',\\'1\\');\" title=\"세종실록\">세종실록</a></span>\\r\\n\\t\\t\\t\\t\\t<ul id=\"tree_menulist_kda\"></ul>\\r\\n\\t\\t\\t\\t</li>\\r\\n\\t\\t\\t\\r\\n\\t\\t\\t\\t<li id=\"kea\" level=\"1\" type=\"KING\"  volume=\"0\">\\r\\n\\t\\t\\t\\t\\t<!-- <span class=\"folder\"><a href=\"javascript:preExpandTree(\\'\\', \\'\\', \\'KING\\', \\'0\\');\"></a></span> -->\\r\\n\\t\\t\\t\\t\\t<span class=\"folder\"><a href=\"javascript:javascript:searchTree(\\'kea\\',\\'1\\');\" title=\"문종실록\">문종실록</a></span>\\r\\n\\t\\t\\t\\t\\t<ul id=\"tree_menulist_kea\"></ul>\\r\\n\\t\\t\\t\\t</li>\\r\\n\\t\\t\\t\\r\\n\\t\\t\\t\\t<li id=\"kfa\" level=\"1\" type=\"KING\"  volume=\"0\">\\r\\n\\t\\t\\t\\t\\t<!-- <span class=\"folder\"><a href=\"javascript:preExpandTree(\\'\\', \\'\\', \\'KING\\', \\'0\\');\"></a></span> -->\\r\\n\\t\\t\\t\\t\\t<span class=\"folder\"><a href=\"javascript:javascript:searchTree(\\'kfa\\',\\'1\\');\" title=\"단종실록\">단종실록</a></span>\\r\\n\\t\\t\\t\\t\\t<ul id=\"tree_menulist_kfa\"></ul>\\r\\n\\t\\t\\t\\t</li>\\r\\n\\t\\t\\t\\r\\n\\t\\t\\t\\t<li id=\"kga\" level=\"1\" type=\"KING\"  volume=\"0\">\\r\\n\\t\\t\\t\\t\\t<!-- <span class=\"folder\"><a href=\"javascript:preExpandTree(\\'\\', \\'\\', \\'KING\\', \\'0\\');\"></a></span> -->\\r\\n\\t\\t\\t\\t\\t<span class=\"folder\"><a href=\"javascript:javascript:searchTree(\\'kga\\',\\'1\\');\" title=\"세조실록\">세조실록</a></span>\\r\\n\\t\\t\\t\\t\\t<ul id=\"tree_menulist_kga\"></ul>\\r\\n\\t\\t\\t\\t</li>\\r\\n\\t\\t\\t\\r\\n\\t\\t\\t\\t<li id=\"kha\" level=\"1\" type=\"KING\"  volume=\"0\">\\r\\n\\t\\t\\t\\t\\t<!-- <span class=\"folder\"><a href=\"javascript:preExpandTree(\\'\\', \\'\\', \\'KING\\', \\'0\\');\"></a></span> -->\\r\\n\\t\\t\\t\\t\\t<span class=\"folder\"><a href=\"javascript:javascript:searchTree(\\'kha\\',\\'1\\');\" title=\"예종실록\">예종실록</a></span>\\r\\n\\t\\t\\t\\t\\t<ul id=\"tree_menulist_kha\"></ul>\\r\\n\\t\\t\\t\\t</li>\\r\\n\\t\\t\\t\\r\\n\\t\\t\\t\\t<li id=\"kia\" level=\"1\" type=\"KING\"  volume=\"0\">\\r\\n\\t\\t\\t\\t\\t<!-- <span class=\"folder\"><a href=\"javascript:preExpandTree(\\'\\', \\'\\', \\'KING\\', \\'0\\');\"></a></span> -->\\r\\n\\t\\t\\t\\t\\t<span class=\"folder\"><a href=\"javascript:javascript:searchTree(\\'kia\\',\\'1\\');\" title=\"성종실록\">성종실록</a></span>\\r\\n\\t\\t\\t\\t\\t<ul id=\"tree_menulist_kia\"></ul>\\r\\n\\t\\t\\t\\t</li>\\r\\n\\t\\t\\t\\r\\n\\t\\t\\t\\t<li id=\"kja\" level=\"1\" type=\"KING\"  volume=\"0\">\\r\\n\\t\\t\\t\\t\\t<!-- <span class=\"folder\"><a href=\"javascript:preExpandTree(\\'\\', \\'\\', \\'KING\\', \\'0\\');\"></a></span> -->\\r\\n\\t\\t\\t\\t\\t<span class=\"folder\"><a href=\"javascript:javascript:searchTree(\\'kja\\',\\'1\\');\" title=\"연산군일기\">연산군일기</a></span>\\r\\n\\t\\t\\t\\t\\t<ul id=\"tree_menulist_kja\"></ul>\\r\\n\\t\\t\\t\\t</li>\\r\\n\\t\\t\\t\\r\\n\\t\\t\\t\\t<li id=\"kka\" level=\"1\" type=\"KING\"  volume=\"0\">\\r\\n\\t\\t\\t\\t\\t<!-- <span class=\"folder\"><a href=\"javascript:preExpandTree(\\'\\', \\'\\', \\'KING\\', \\'0\\');\"></a></span> -->\\r\\n\\t\\t\\t\\t\\t<span class=\"folder\"><a href=\"javascript:javascript:searchTree(\\'kka\\',\\'1\\');\" title=\"중종실록\">중종실록</a></span>\\r\\n\\t\\t\\t\\t\\t<ul id=\"tree_menulist_kka\"></ul>\\r\\n\\t\\t\\t\\t</li>\\r\\n\\t\\t\\t\\r\\n\\t\\t\\t\\t<li id=\"kla\" level=\"1\" type=\"KING\"  volume=\"0\">\\r\\n\\t\\t\\t\\t\\t<!-- <span class=\"folder\"><a href=\"javascript:preExpandTree(\\'\\', \\'\\', \\'KING\\', \\'0\\');\"></a></span> -->\\r\\n\\t\\t\\t\\t\\t<span class=\"folder\"><a href=\"javascript:javascript:searchTree(\\'kla\\',\\'1\\');\" title=\"인종실록\">인종실록</a></span>\\r\\n\\t\\t\\t\\t\\t<ul id=\"tree_menulist_kla\"></ul>\\r\\n\\t\\t\\t\\t</li>\\r\\n\\t\\t\\t\\r\\n\\t\\t\\t\\t<li id=\"kma\" level=\"1\" type=\"KING\"  volume=\"0\">\\r\\n\\t\\t\\t\\t\\t<!-- <span class=\"folder\"><a href=\"javascript:preExpandTree(\\'\\', \\'\\', \\'KING\\', \\'0\\');\"></a></span> -->\\r\\n\\t\\t\\t\\t\\t<span class=\"folder\"><a href=\"javascript:javascript:searchTree(\\'kma\\',\\'1\\');\" title=\"명종실록\">명종실록</a></span>\\r\\n\\t\\t\\t\\t\\t<ul id=\"tree_menulist_kma\"></ul>\\r\\n\\t\\t\\t\\t</li>\\r\\n\\t\\t\\t\\r\\n\\t\\t\\t\\t<li id=\"kna\" level=\"1\" type=\"KING\"  volume=\"0\">\\r\\n\\t\\t\\t\\t\\t<!-- <span class=\"folder\"><a href=\"javascript:preExpandTree(\\'\\', \\'\\', \\'KING\\', \\'0\\');\"></a></span> -->\\r\\n\\t\\t\\t\\t\\t<span class=\"folder\"><a href=\"javascript:javascript:searchTree(\\'kna\\',\\'1\\');\" title=\"선조실록\">선조실록</a></span>\\r\\n\\t\\t\\t\\t\\t<ul id=\"tree_menulist_kna\"></ul>\\r\\n\\t\\t\\t\\t</li>\\r\\n\\t\\t\\t\\r\\n\\t\\t\\t\\t<li id=\"knb\" level=\"1\" type=\"KING\"  volume=\"0\">\\r\\n\\t\\t\\t\\t\\t<!-- <span class=\"folder\"><a href=\"javascript:preExpandTree(\\'\\', \\'\\', \\'KING\\', \\'0\\');\"></a></span> -->\\r\\n\\t\\t\\t\\t\\t<span class=\"folder\"><a href=\"javascript:javascript:searchTree(\\'knb\\',\\'1\\');\" title=\"선조수정실록\">선조수정실록</a></span>\\r\\n\\t\\t\\t\\t\\t<ul id=\"tree_menulist_knb\"></ul>\\r\\n\\t\\t\\t\\t</li>\\r\\n\\t\\t\\t\\r\\n\\t\\t\\t\\t<li id=\"koa\" level=\"1\" type=\"KING\"  volume=\"0\">\\r\\n\\t\\t\\t\\t\\t<!-- <span class=\"folder\"><a href=\"javascript:preExpandTree(\\'\\', \\'\\', \\'KING\\', \\'0\\');\"></a></span> -->\\r\\n\\t\\t\\t\\t\\t<span class=\"folder\"><a href=\"javascript:javascript:searchTree(\\'koa\\',\\'1\\');\" title=\"광해군중초본\">광해군중초본</a></span>\\r\\n\\t\\t\\t\\t\\t<ul id=\"tree_menulist_koa\"></ul>\\r\\n\\t\\t\\t\\t</li>\\r\\n\\t\\t\\t\\r\\n\\t\\t\\t\\t<li id=\"kob\" level=\"1\" type=\"KING\"  volume=\"0\">\\r\\n\\t\\t\\t\\t\\t<!-- <span class=\"folder\"><a href=\"javascript:preExpandTree(\\'\\', \\'\\', \\'KING\\', \\'0\\');\"></a></span> -->\\r\\n\\t\\t\\t\\t\\t<span class=\"folder\"><a href=\"javascript:javascript:searchTree(\\'kob\\',\\'1\\');\" title=\"광해군정초본\">광해군정초본</a></span>\\r\\n\\t\\t\\t\\t\\t<ul id=\"tree_menulist_kob\"></ul>\\r\\n\\t\\t\\t\\t</li>\\r\\n\\t\\t\\t\\r\\n\\t\\t\\t\\t<li id=\"kpa\" level=\"1\" type=\"KING\"  volume=\"0\">\\r\\n\\t\\t\\t\\t\\t<!-- <span class=\"folder\"><a href=\"javascript:preExpandTree(\\'\\', \\'\\', \\'KING\\', \\'0\\');\"></a></span> -->\\r\\n\\t\\t\\t\\t\\t<span class=\"folder\"><a href=\"javascript:javascript:searchTree(\\'kpa\\',\\'1\\');\" title=\"인조실록\">인조실록</a></span>\\r\\n\\t\\t\\t\\t\\t<ul id=\"tree_menulist_kpa\"></ul>\\r\\n\\t\\t\\t\\t</li>\\r\\n\\t\\t\\t\\r\\n\\t\\t\\t\\t<li id=\"kqa\" level=\"1\" type=\"KING\"  volume=\"0\">\\r\\n\\t\\t\\t\\t\\t<!-- <span class=\"folder\"><a href=\"javascript:preExpandTree(\\'\\', \\'\\', \\'KING\\', \\'0\\');\"></a></span> -->\\r\\n\\t\\t\\t\\t\\t<span class=\"folder\"><a href=\"javascript:javascript:searchTree(\\'kqa\\',\\'1\\');\" title=\"효종실록\">효종실록</a></span>\\r\\n\\t\\t\\t\\t\\t<ul id=\"tree_menulist_kqa\"></ul>\\r\\n\\t\\t\\t\\t</li>\\r\\n\\t\\t\\t\\r\\n\\t\\t\\t\\t<li id=\"kra\" level=\"1\" type=\"KING\"  volume=\"0\">\\r\\n\\t\\t\\t\\t\\t<!-- <span class=\"folder\"><a href=\"javascript:preExpandTree(\\'\\', \\'\\', \\'KING\\', \\'0\\');\"></a></span> -->\\r\\n\\t\\t\\t\\t\\t<span class=\"folder\"><a href=\"javascript:javascript:searchTree(\\'kra\\',\\'1\\');\" title=\"현종실록\">현종실록</a></span>\\r\\n\\t\\t\\t\\t\\t<ul id=\"tree_menulist_kra\"></ul>\\r\\n\\t\\t\\t\\t</li>\\r\\n\\t\\t\\t\\r\\n\\t\\t\\t\\t<li id=\"krb\" level=\"1\" type=\"KING\"  volume=\"0\">\\r\\n\\t\\t\\t\\t\\t<!-- <span class=\"folder\"><a href=\"javascript:preExpandTree(\\'\\', \\'\\', \\'KING\\', \\'0\\');\"></a></span> -->\\r\\n\\t\\t\\t\\t\\t<span class=\"folder\"><a href=\"javascript:javascript:searchTree(\\'krb\\',\\'1\\');\" title=\"현종개수실록\">현종개수실록</a></span>\\r\\n\\t\\t\\t\\t\\t<ul id=\"tree_menulist_krb\"></ul>\\r\\n\\t\\t\\t\\t</li>\\r\\n\\t\\t\\t\\r\\n\\t\\t\\t\\t<li id=\"ksa\" level=\"1\" type=\"KING\"  volume=\"0\">\\r\\n\\t\\t\\t\\t\\t<!-- <span class=\"folder\"><a href=\"javascript:preExpandTree(\\'\\', \\'\\', \\'KING\\', \\'0\\');\"></a></span> -->\\r\\n\\t\\t\\t\\t\\t<span class=\"folder\"><a href=\"javascript:javascript:searchTree(\\'ksa\\',\\'1\\');\" title=\"숙종실록\">숙종실록</a></span>\\r\\n\\t\\t\\t\\t\\t<ul id=\"tree_menulist_ksa\"></ul>\\r\\n\\t\\t\\t\\t</li>\\r\\n\\t\\t\\t\\r\\n\\t\\t\\t\\t<li id=\"ksb\" level=\"1\" type=\"KING\"  volume=\"0\">\\r\\n\\t\\t\\t\\t\\t<!-- <span class=\"folder\"><a href=\"javascript:preExpandTree(\\'\\', \\'\\', \\'KING\\', \\'0\\');\"></a></span> -->\\r\\n\\t\\t\\t\\t\\t<span class=\"folder\"><a href=\"javascript:javascript:searchTree(\\'ksb\\',\\'1\\');\" title=\"숙종보궐정오\">숙종보궐정오</a></span>\\r\\n\\t\\t\\t\\t\\t<ul id=\"tree_menulist_ksb\"></ul>\\r\\n\\t\\t\\t\\t</li>\\r\\n\\t\\t\\t\\r\\n\\t\\t\\t\\t<li id=\"kta\" level=\"1\" type=\"KING\"  volume=\"0\">\\r\\n\\t\\t\\t\\t\\t<!-- <span class=\"folder\"><a href=\"javascript:preExpandTree(\\'\\', \\'\\', \\'KING\\', \\'0\\');\"></a></span> -->\\r\\n\\t\\t\\t\\t\\t<span class=\"folder\"><a href=\"javascript:javascript:searchTree(\\'kta\\',\\'1\\');\" title=\"경종실록\">경종실록</a></span>\\r\\n\\t\\t\\t\\t\\t<ul id=\"tree_menulist_kta\"></ul>\\r\\n\\t\\t\\t\\t</li>\\r\\n\\t\\t\\t\\r\\n\\t\\t\\t\\t<li id=\"ktb\" level=\"1\" type=\"KING\"  volume=\"0\">\\r\\n\\t\\t\\t\\t\\t<!-- <span class=\"folder\"><a href=\"javascript:preExpandTree(\\'\\', \\'\\', \\'KING\\', \\'0\\');\"></a></span> -->\\r\\n\\t\\t\\t\\t\\t<span class=\"folder\"><a href=\"javascript:javascript:searchTree(\\'ktb\\',\\'1\\');\" title=\"경종수정실록\">경종수정실록</a></span>\\r\\n\\t\\t\\t\\t\\t<ul id=\"tree_menulist_ktb\"></ul>\\r\\n\\t\\t\\t\\t</li>\\r\\n\\t\\t\\t\\r\\n\\t\\t\\t\\t<li id=\"kua\" level=\"1\" type=\"KING\"  volume=\"0\">\\r\\n\\t\\t\\t\\t\\t<!-- <span class=\"folder\"><a href=\"javascript:preExpandTree(\\'\\', \\'\\', \\'KING\\', \\'0\\');\"></a></span> -->\\r\\n\\t\\t\\t\\t\\t<span class=\"folder\"><a href=\"javascript:javascript:searchTree(\\'kua\\',\\'1\\');\" title=\"영조실록\">영조실록</a></span>\\r\\n\\t\\t\\t\\t\\t<ul id=\"tree_menulist_kua\"></ul>\\r\\n\\t\\t\\t\\t</li>\\r\\n\\t\\t\\t\\r\\n\\t\\t\\t\\t<li id=\"kva\" level=\"1\" type=\"KING\"  volume=\"0\">\\r\\n\\t\\t\\t\\t\\t<!-- <span class=\"folder\"><a href=\"javascript:preExpandTree(\\'\\', \\'\\', \\'KING\\', \\'0\\');\"></a></span> -->\\r\\n\\t\\t\\t\\t\\t<span class=\"folder\"><a href=\"javascript:javascript:searchTree(\\'kva\\',\\'1\\');\" title=\"정조실록\">정조실록</a></span>\\r\\n\\t\\t\\t\\t\\t<ul id=\"tree_menulist_kva\"></ul>\\r\\n\\t\\t\\t\\t</li>\\r\\n\\t\\t\\t\\r\\n\\t\\t\\t\\t<li id=\"kwa\" level=\"1\" type=\"KING\"  volume=\"0\">\\r\\n\\t\\t\\t\\t\\t<!-- <span class=\"folder\"><a href=\"javascript:preExpandTree(\\'\\', \\'\\', \\'KING\\', \\'0\\');\"></a></span> -->\\r\\n\\t\\t\\t\\t\\t<span class=\"folder\"><a href=\"javascript:javascript:searchTree(\\'kwa\\',\\'1\\');\" title=\"순조실록\">순조실록</a></span>\\r\\n\\t\\t\\t\\t\\t<ul id=\"tree_menulist_kwa\"></ul>\\r\\n\\t\\t\\t\\t</li>\\r\\n\\t\\t\\t\\r\\n\\t\\t\\t\\t<li id=\"kxa\" level=\"1\" type=\"KING\"  volume=\"0\">\\r\\n\\t\\t\\t\\t\\t<!-- <span class=\"folder\"><a href=\"javascript:preExpandTree(\\'\\', \\'\\', \\'KING\\', \\'0\\');\"></a></span> -->\\r\\n\\t\\t\\t\\t\\t<span class=\"folder\"><a href=\"javascript:javascript:searchTree(\\'kxa\\',\\'1\\');\" title=\"헌종실록\">헌종실록</a></span>\\r\\n\\t\\t\\t\\t\\t<ul id=\"tree_menulist_kxa\"></ul>\\r\\n\\t\\t\\t\\t</li>\\r\\n\\t\\t\\t\\r\\n\\t\\t\\t\\t<li id=\"kya\" level=\"1\" type=\"KING\"  volume=\"0\">\\r\\n\\t\\t\\t\\t\\t<!-- <span class=\"folder\"><a href=\"javascript:preExpandTree(\\'\\', \\'\\', \\'KING\\', \\'0\\');\"></a></span> -->\\r\\n\\t\\t\\t\\t\\t<span class=\"folder\"><a href=\"javascript:javascript:searchTree(\\'kya\\',\\'1\\');\" title=\"철종실록\">철종실록</a></span>\\r\\n\\t\\t\\t\\t\\t<ul id=\"tree_menulist_kya\"></ul>\\r\\n\\t\\t\\t\\t</li>\\r\\n\\t\\t\\t\\r\\n\\t\\t</ul>\\r\\n\\r\\n\\t\\t<p class=\"tree_home mt_10\">고종-순종</p>\\r\\n\\t\\t<ul id=\"tree_menulist2\" class=\"filetree\">\\r\\n\\t\\t\\t\\r\\n\\t\\t\\t\\t<li id=\"kza\" level=\"1\" type=\"KING\"  volume=\"0\">\\r\\n\\t\\t\\t\\t\\t<!-- <span class=\"folder\"><a href=\"javascript:preExpandTree(\\'\\', \\'\\', \\'KING\\', \\'0\\');\"></a></span> -->\\r\\n\\t\\t\\t\\t\\t<span class=\"folder\"><a href=\"javascript:javascript:searchTree(\\'kza\\',\\'1\\');\" title=\"고종실록\">고종실록</a></span>\\r\\n\\t\\t\\t\\t\\t<ul id=\"tree_menulist_kza\"></ul>\\r\\n\\t\\t\\t\\t</li>\\r\\n\\t\\t\\t\\r\\n\\t\\t\\t\\t<li id=\"kzb\" level=\"1\" type=\"KING\"  volume=\"0\">\\r\\n\\t\\t\\t\\t\\t<!-- <span class=\"folder\"><a href=\"javascript:preExpandTree(\\'\\', \\'\\', \\'KING\\', \\'0\\');\"></a></span> -->\\r\\n\\t\\t\\t\\t\\t<span class=\"folder\"><a href=\"javascript:javascript:searchTree(\\'kzb\\',\\'1\\');\" title=\"순종실록\">순종실록</a></span>\\r\\n\\t\\t\\t\\t\\t<ul id=\"tree_menulist_kzb\"></ul>\\r\\n\\t\\t\\t\\t</li>\\r\\n\\t\\t\\t\\r\\n\\t\\t\\t\\t<li id=\"kzc\" level=\"1\" type=\"KING\"  volume=\"0\">\\r\\n\\t\\t\\t\\t\\t<!-- <span class=\"folder\"><a href=\"javascript:preExpandTree(\\'\\', \\'\\', \\'KING\\', \\'0\\');\"></a></span> -->\\r\\n\\t\\t\\t\\t\\t<span class=\"folder\"><a href=\"javascript:javascript:searchTree(\\'kzc\\',\\'1\\');\" title=\"순종실록부록\">순종실록부록</a></span>\\r\\n\\t\\t\\t\\t\\t<ul id=\"tree_menulist_kzc\"></ul>\\r\\n\\t\\t\\t\\t</li>\\r\\n\\t\\t\\t\\r\\n\\t\\t</ul>\\r\\n\\t</div>\\r\\n\\t<!--// 트리 목록 end -->\\r\\n</div>\\r\\n<!--// 왼쪽영역 end -->\\r\\n\\r\\n<form id=\"searchForm\" name=\"searchForm\" action=\"/search/inspectionDayList.do;jsessionid=11287279A47F04FA336CDEF7519B946E\" method=\"post\">\\r\\n\\t<input type=\"hidden\" id=\"id\" name=\"id\" value=\"\"/>\\r\\n\\t<input type=\"hidden\" id=\"did\" name=\"did\" value=\"\"/>\\r\\n\\t<input type=\"hidden\" id=\"level\" name=\"level\" value=\"\"/>\\r\\n</form>\\r\\n\\r\\n<!-- 본문영역 start -->\\r\\n<div class=\"cont_area\" id=\"cont_area\">\\r\\n\\t<div class=\"cont_in_left cont_full\">\\r\\n\\t\\t\\r\\n\\t\\t\\r\\n\\t\\t\\t\\r\\n\\t\\t\\t\\r\\n\\t\\t\\t\\r\\n\\t\\t\\r\\n\\t\\t\\r\\n\\t\\t\\r\\n\\t\\t\\r\\n\\t\\t\\t\\r\\n\\t\\t\\t\\t\\r\\n\\t\\t\\t\\t\\r\\n\\t\\t\\t\\t\\r\\n\\t\\t\\t\\r\\n\\t\\t\\t\\r\\n\\t\\t\\t\\r\\n\\t\\t\\t\\r\\n\\t\\t\\t\\r\\n\\t\\t\\r\\n\\t\\t\\r\\n\\t\\t\\r\\n\\t\\t\\r\\n\\t\\t\\t\\r\\n\\t\\t\\t\\r\\n\\t\\t\\t\\r\\n\\t\\t\\t\\r\\n\\t\\t\\t\\r\\n\\t\\t\\r\\n\\t\\t\\r\\n\\t\\t\\r\\n\\t\\t\\r\\n\\t\\t\\r\\n\\r\\n\\t\\t<!-- location start -->\\r\\n\\t\\t<ul class=\"location\">\\r\\n\\t\\t<li class=\"loc_home\"><a href=\"/\"><img src=\"/images/common/icon_home.gif;jsessionid=11287279A47F04FA336CDEF7519B946E\" alt=\"홈\" /></a></li>\\r\\n\\t\\t<li><a href=\"/search/inspectionList.do;jsessionid=11287279A47F04FA336CDEF7519B946E\">자료열람</a></li>\\r\\n\\t\\t\\r\\n\\t\\t\\t\\r\\n\\t\\t\\t\\r\\n\\t\\t\\t\\t<li><a href=\"/search/inspectionMonthList.do;jsessionid=11287279A47F04FA336CDEF7519B946E?id=kaa\">태조실록</a></li>\\r\\n\\t\\t\\t\\t<li><a href=\"/search/inspectionMonthList.do;jsessionid=11287279A47F04FA336CDEF7519B946E?id=kaa\">태조 1년</a></li>\\r\\n\\t\\t\\t\\t<li class=\"loc_thispage\"><a href=\"/search/inspectionDayList.do;jsessionid=11287279A47F04FA336CDEF7519B946E?id=kaa_101080\">태조 1년 8월</a></li>\\r\\n\\t\\t\\t\\t\\r\\n\\t\\t\\t\\r\\n\\t\\t\\t\\r\\n\\t\\t\\t\\t\\r\\n\\t\\t</ul>\\r\\n\\t\\t<!-- location start -->\\r\\n\\r\\n\\t\\t<!-- 버튼셋 start -->\\r\\n\\t\\t<!-- <ul class=\"view_btnset mt_-20\">\\r\\n\\t\\t\\t<li><a href=\"javascript:goPrev(\\'kaa_101070\\');\" class=\"btn_top btn_prev tooltip\" title=\"내용 중 앞문서\"></a></li>\\r\\n\\t\\t\\t<li><a href=\"javascript:goPrev(\\'kaa_101090\\');\" class=\"btn_top btn_next tooltip\" title=\"내용 중 뒷문서\"></a></li>\\r\\n\\t\\t\\t<li><a href=\"javascript:goUp(\\'kaa_101080\\');\" class=\"btn_top btn_list_top tooltip\" title=\"내용 중 상위문서\"></a></li>\\r\\n\\t\\t\\t<li><a href=\"javascript:extension();\" class=\"btn_top btn_zoomin tooltip\" title=\"확대\"></a></li>\\r\\n\\t\\t\\t<li><a href=\"javascript:reduce();\" class=\"btn_top btn_zoomout tooltip\" title=\"축소\"></a></li>\\r\\n\\t\\t\\t<li><a href=\"javascript:popPrint();\" class=\"btn_top btn_print tooltip\" title=\"인쇄\"></a></li>\\r\\n\\t\\t\\t<li><a href=\"#\" class=\"btn_top btn_link tooltip btn_subview\" title=\"주소복사\"></a>\\r\\n\\t\\t\\t\\t<span>\\r\\n\\t\\t\\t\\t\\t<ul>\\r\\n\\t\\t\\t\\t\\t<li><a href=\"javascript:idcilpboard(\\'kaa_101080\\');\">기사ID</a></li>\\r\\n\\t\\t\\t\\t\\t<li><a href=\"javascript:urlcilpboard(\\'kaa_101080\\');\">URL</a></li>\\r\\n\\t\\t\\t\\t\\t</ul>\\r\\n\\t\\t\\t\\t</span>\\r\\n\\t\\t\\t</li>\\r\\n\\t\\t\\t<li><a href=\"javascript:popErrorReport();\" class=\"btn_top btn_error\">오류신고</a></li>\\r\\n\\t\\t</ul> -->\\r\\n\\t\\t<!--// 버튼셋 end -->\\r\\n\\r\\n\\t\\t<!-- 날짜 start -->\\r\\n\\t\\t<div class=\"page_tit clear2 pl_20\">\\r\\n\\t\\t\\t<div class=\"view_tit\">\\r\\n\\t\\t\\t\\t\\r\\n\\t\\t\\t\\t\\t\\r\\n\\t\\t\\t\\t\\t\\r\\n\\t\\t\\t\\t\\t\\t<span class=\"tit_loc\">태조실록 1권, 태조 1년 8월 1일 경술 1번째기사\\r\\n\\t\\t\\t\\t\\t\\t\\t<span>\\r\\n\\t\\t\\t\\t\\t\\t\\t\\t\\r\\n\\t\\t\\t\\t\\t\\t\\t\\t\\t\\r\\n\\t\\t\\t\\t\\t\\t\\t\\t\\t\\r\\n\\t\\t\\t\\t\\t\\t\\t\\t\\t\\r\\n\\t\\t\\t\\t\\t\\t\\t\\t\\t\\r\\n\\t\\t\\t\\t\\t\\t\\t\\t\\t\\t1392년 명 홍무(洪武) 25년\\r\\n\\t\\t\\t\\t\\t\\t\\t\\t\\t\\r\\n\\t\\t\\t\\t\\t\\t\\t\\t\\r\\n\\t\\t\\t\\t\\t\\t\\t</span>\\r\\n\\t\\t\\t\\t\\t\\t</span>\\r\\n\\t\\t\\t\\t\\t\\r\\n\\t\\t\\t\\t\\t\\r\\n\\t\\t\\t\\t\\r\\n\\t\\t\\t\\t<br>\\r\\n\\t\\t\\t\\t<span class=\"day_list\">\\r\\n\\t\\t\\t\\t\\t<ul>\\r\\n\\t\\t\\t\\t\\t\\t\\r\\n\\t\\t\\t\\t\\t\\t\\t\\r\\n\\t\\t\\t\\t\\t\\t\\t\\r\\n\\t\\t\\t\\t\\t\\t\\t\\t<li><a href=\"javascript:searchDay(\\'kaa_101080\\');\" class=\"on\">전체</a></li>\\r\\n\\t\\t\\t\\t\\t\\t\\t\\t\\r\\n\\t\\t\\t\\t\\t\\t\\t\\t\\t<li><a href=\"javascript:searchDay(\\'kaa_10108001\\');\" >1일</a></li>\\t\\t\\t\\t\\t\\t\\t\\t\\r\\n\\t\\t\\t\\t\\t\\t\\t\\t\\r\\n\\t\\t\\t\\t\\t\\t\\t\\t\\t<li><a href=\"javascript:searchDay(\\'kaa_10108002\\');\" >2일</a></li>\\t\\t\\t\\t\\t\\t\\t\\t\\r\\n\\t\\t\\t\\t\\t\\t\\t\\t\\r\\n\\t\\t\\t\\t\\t\\t\\t\\t\\t<li><a href=\"javascript:searchDay(\\'kaa_10108005\\');\" >5일</a></li>\\t\\t\\t\\t\\t\\t\\t\\t\\r\\n\\t\\t\\t\\t\\t\\t\\t\\t\\r\\n\\t\\t\\t\\t\\t\\t\\t\\t\\t<li><a href=\"javascript:searchDay(\\'kaa_10108007\\');\" >7일</a></li>\\t\\t\\t\\t\\t\\t\\t\\t\\r\\n\\t\\t\\t\\t\\t\\t\\t\\t\\r\\n\\t\\t\\t\\t\\t\\t\\t\\t\\t<li><a href=\"javascript:searchDay(\\'kaa_10108008\\');\" >8일</a></li>\\t\\t\\t\\t\\t\\t\\t\\t\\r\\n\\t\\t\\t\\t\\t\\t\\t\\t\\r\\n\\t\\t\\t\\t\\t\\t\\t\\t\\t<li><a href=\"javascript:searchDay(\\'kaa_10108009\\');\" >9일</a></li>\\t\\t\\t\\t\\t\\t\\t\\t\\r\\n\\t\\t\\t\\t\\t\\t\\t\\t\\r\\n\\t\\t\\t\\t\\t\\t\\t\\t\\t<li><a href=\"javascript:searchDay(\\'kaa_10108011\\');\" >11일</a></li>\\t\\t\\t\\t\\t\\t\\t\\t\\r\\n\\t\\t\\t\\t\\t\\t\\t\\t\\r\\n\\t\\t\\t\\t\\t\\t\\t\\t\\t<li><a href=\"javascript:searchDay(\\'kaa_10108012\\');\" >12일</a></li>\\t\\t\\t\\t\\t\\t\\t\\t\\r\\n\\t\\t\\t\\t\\t\\t\\t\\t\\r\\n\\t\\t\\t\\t\\t\\t\\t\\t\\t<li><a href=\"javascript:searchDay(\\'kaa_10108013\\');\" >13일</a></li>\\t\\t\\t\\t\\t\\t\\t\\t\\r\\n\\t\\t\\t\\t\\t\\t\\t\\t\\r\\n\\t\\t\\t\\t\\t\\t\\t\\t\\t<li><a href=\"javascript:searchDay(\\'kaa_10108015\\');\" >15일</a></li>\\t\\t\\t\\t\\t\\t\\t\\t\\r\\n\\t\\t\\t\\t\\t\\t\\t\\t\\r\\n\\t\\t\\t\\t\\t\\t\\t\\t\\t<li><a href=\"javascript:searchDay(\\'kaa_10108018\\');\" >18일</a></li>\\t\\t\\t\\t\\t\\t\\t\\t\\r\\n\\t\\t\\t\\t\\t\\t\\t\\t\\r\\n\\t\\t\\t\\t\\t\\t\\t\\t\\t<li><a href=\"javascript:searchDay(\\'kaa_10108019\\');\" >19일</a></li>\\t\\t\\t\\t\\t\\t\\t\\t\\r\\n\\t\\t\\t\\t\\t\\t\\t\\t\\r\\n\\t\\t\\t\\t\\t\\t\\t\\t\\t<li><a href=\"javascript:searchDay(\\'kaa_10108020\\');\" >20일</a></li>\\t\\t\\t\\t\\t\\t\\t\\t\\r\\n\\t\\t\\t\\t\\t\\t\\t\\t\\r\\n\\t\\t\\t\\t\\t\\t\\t\\t\\t<li><a href=\"javascript:searchDay(\\'kaa_10108021\\');\" >21일</a></li>\\t\\t\\t\\t\\t\\t\\t\\t\\r\\n\\t\\t\\t\\t\\t\\t\\t\\t\\r\\n\\t\\t\\t\\t\\t\\t\\t\\t\\t<li><a href=\"javascript:searchDay(\\'kaa_10108022\\');\" >22일</a></li>\\t\\t\\t\\t\\t\\t\\t\\t\\r\\n\\t\\t\\t\\t\\t\\t\\t\\t\\r\\n\\t\\t\\t\\t\\t\\t\\t\\t\\t<li><a href=\"javascript:searchDay(\\'kaa_10108023\\');\" >23일</a></li>\\t\\t\\t\\t\\t\\t\\t\\t\\r\\n\\t\\t\\t\\t\\t\\t\\t\\t\\r\\n\\t\\t\\t\\t\\t\\t\\t\\t\\t<li><a href=\"javascript:searchDay(\\'kaa_10108025\\');\" >25일</a></li>\\t\\t\\t\\t\\t\\t\\t\\t\\r\\n\\t\\t\\t\\t\\t\\t\\t\\t\\r\\n\\t\\t\\t\\t\\t\\t\\t\\t\\t<li><a href=\"javascript:searchDay(\\'kaa_10108026\\');\" >26일</a></li>\\t\\t\\t\\t\\t\\t\\t\\t\\r\\n\\t\\t\\t\\t\\t\\t\\t\\t\\r\\n\\t\\t\\t\\t\\t\\t\\t\\t\\t<li><a href=\"javascript:searchDay(\\'kaa_10108027\\');\" >27일</a></li>\\t\\t\\t\\t\\t\\t\\t\\t\\r\\n\\t\\t\\t\\t\\t\\t\\t\\t\\r\\n\\t\\t\\t\\t\\t\\t\\t\\t\\t<li><a href=\"javascript:searchDay(\\'kaa_10108028\\');\" >28일</a></li>\\t\\t\\t\\t\\t\\t\\t\\t\\r\\n\\t\\t\\t\\t\\t\\t\\t\\t\\r\\n\\t\\t\\t\\t\\t\\t\\t\\t\\t<li><a href=\"javascript:searchDay(\\'kaa_10108029\\');\" >29일</a></li>\\t\\t\\t\\t\\t\\t\\t\\t\\r\\n\\t\\t\\t\\t\\t\\t\\t\\t\\r\\n\\t\\t\\t\\t\\t\\t\\t\\r\\n\\t\\t\\t\\t\\t\\t\\t\\r\\n\\t\\t\\t\\t\\t\\t\\r\\n\\t\\t\\t\\t\\t</ul>\\r\\n\\t\\t\\t\\t</span>\\r\\n\\t\\t\\t</div>\\r\\n\\t\\t</div>\\r\\n\\t\\t<!--// 날짜 제목 end -->\\r\\n\\r\\n\\t\\t\\t<!-- 버튼셋 start -->\\r\\n\\t\\t\\t<div class=\"view_scroll_wrap clear2\">\\r\\n\\t\\t\\t\\t<ul class=\"view_btnset2\">\\r\\n\\t\\t\\t\\t\\r\\n\\t\\t\\t\\t\\t\\r\\n\\t\\t\\t\\t\\t\\r\\n\\t\\t\\t\\t\\r\\n\\t\\t\\t\\t<li><a href=\"javascript:imageViewer(\\'kaa_101080\\');\" class=\"btn_view_org\">원본 보기</a></li>\\r\\n\\t\\t\\t\\t</ul>\\r\\n\\t\\t\\t</div>\\r\\n\\t\\t\\t<!--// 베튼셋 end -->\\r\\n\\r\\n\\t\\t\\t<!-- view start -->\\r\\n\\t\\t\\t<div class=\"ins_view_wrap clear2\">\\r\\n\\t\\t\\t\\t<div class=\"ins_list\">\\r\\n\\t\\t\\t\\t\\t<!-- left content start -->\\r\\n\\t\\t\\t\\t\\t<dl class=\"ins_list_main\">\\r\\n\\t\\t\\t\\t\\t\\t\\r\\n\\t\\t\\t\\t\\t\\t\\t\\r\\n\\t\\t\\t\\t\\t\\t\\t\\r\\n\\t\\t\\t\\t\\t\\t\\t\\t<dt>태조실록1권, 태조 1년 8월 </dt>\\r\\n\\t\\t\\t\\t\\t\\t\\t\\r\\n\\t\\t\\t\\t\\t\\t\\t\\r\\n\\t\\t\\t\\t\\t\\t\\r\\n\\t\\t\\t\\t\\t\\t<dd>\\r\\n\\t\\t\\t\\t\\t\\t\\t<ul>\\r\\n\\t\\t\\t\\t\\t\\t\\t\\t\\r\\n\\t\\t\\t\\t\\t\\t\\t\\t\\t\\r\\n\\t\\t\\t\\t\\t\\t\\t\\t\\t\\t\\r\\n\\t\\t\\t\\t\\t\\t\\t\\t\\t\\t<li><a href=\"javascript:searchView(\\'kaa_10108001_001\\');\">신하들의 조회를 서서 받다</a>\\r\\n\\t\\t\\t\\t\\t\\t\\t\\t\\t\\r\\n\\t\\t\\t\\t\\t\\t\\t\\t\\r\\n\\t\\t\\t\\t\\t\\t\\t\\t\\t\\r\\n\\t\\t\\t\\t\\t\\t\\t\\t\\t\\t\\r\\n\\t\\t\\t\\t\\t\\t\\t\\t\\t\\t<li><a href=\"javascript:searchView(\\'kaa_10108002_001\\');\">공신 도감을 설치하다</a>\\r\\n\\t\\t\\t\\t\\t\\t\\t\\t\\t\\r\\n\\t\\t\\t\\t\\t\\t\\t\\t\\r\\n\\t\\t\\t\\t\\t\\t\\t\\t\\t\\r\\n\\t\\t\\t\\t\\t\\t\\t\\t\\t\\t\\r\\n\\t\\t\\t\\t\\t\\t\\t\\t\\t\\t<li><a href=\"javascript:searchView(\\'kaa_10108002_002\\');\">대간과 육조에게 현량을 천거토록 하다</a>\\r\\n\\t\\t\\t\\t\\t\\t\\t\\t\\t\\r\\n\\t\\t\\t\\t\\t\\t\\t\\t\\r\\n\\t\\t\\t\\t\\t\\t\\t\\t\\t\\r\\n\\t\\t\\t\\t\\t\\t\\t\\t\\t\\t\\r\\n\\t\\t\\t\\t\\t\\t\\t\\t\\t\\t<li><a href=\"javascript:searchView(\\'kaa_10108002_003\\');\">입관 보리법을 제정하다</a>\\r\\n\\t\\t\\t\\t\\t\\t\\t\\t\\t\\r\\n\\t\\t\\t\\t\\t\\t\\t\\t\\r\\n\\t\\t\\t\\t\\t\\t\\t\\t\\t\\r\\n\\t\\t\\t\\t\\t\\t\\t\\t\\t\\t\\r\\n\\t\\t\\t\\t\\t\\t\\t\\t\\t\\t<li><a href=\"javascript:searchView(\\'kaa_10108002_004\\');\">수령의 전최법을 제정하다</a>\\r\\n\\t\\t\\t\\t\\t\\t\\t\\t\\t\\r\\n\\t\\t\\t\\t\\t\\t\\t\\t\\r\\n\\t\\t\\t\\t\\t\\t\\t\\t\\t\\r\\n\\t\\t\\t\\t\\t\\t\\t\\t\\t\\t\\r\\n\\t\\t\\t\\t\\t\\t\\t\\t\\t\\t<li><a href=\"javascript:searchView(\\'kaa_10108002_005\\');\">도당에서 대장 도감을 폐지하도록 청하다</a>\\r\\n\\t\\t\\t\\t\\t\\t\\t\\t\\t\\r\\n\\t\\t\\t\\t\\t\\t\\t\\t\\r\\n\\t\\t\\t\\t\\t\\t\\t\\t\\t\\r\\n\\t\\t\\t\\t\\t\\t\\t\\t\\t\\t\\r\\n\\t\\t\\t\\t\\t\\t\\t\\t\\t\\t<li><a href=\"javascript:searchView(\\'kaa_10108005_001\\');\">도당에서 팔관회와 연등회를 폐지하도록 청하다</a>\\r\\n\\t\\t\\t\\t\\t\\t\\t\\t\\t\\r\\n\\t\\t\\t\\t\\t\\t\\t\\t\\r\\n\\t\\t\\t\\t\\t\\t\\t\\t\\t\\r\\n\\t\\t\\t\\t\\t\\t\\t\\t\\t\\t\\r\\n\\t\\t\\t\\t\\t\\t\\t\\t\\t\\t<li><a href=\"javascript:searchView(\\'kaa_10108007_001\\');\">강씨를 왕비로 정하고 현비라 하다</a>\\r\\n\\t\\t\\t\\t\\t\\t\\t\\t\\t\\r\\n\\t\\t\\t\\t\\t\\t\\t\\t\\r\\n\\t\\t\\t\\t\\t\\t\\t\\t\\t\\r\\n\\t\\t\\t\\t\\t\\t\\t\\t\\t\\t\\r\\n\\t\\t\\t\\t\\t\\t\\t\\t\\t\\t<li><a href=\"javascript:searchView(\\'kaa_10108007_002\\');\">여러 왕자를 군으로 봉하다</a>\\r\\n\\t\\t\\t\\t\\t\\t\\t\\t\\t\\r\\n\\t\\t\\t\\t\\t\\t\\t\\t\\r\\n\\t\\t\\t\\t\\t\\t\\t\\t\\t\\r\\n\\t\\t\\t\\t\\t\\t\\t\\t\\t\\t\\r\\n\\t\\t\\t\\t\\t\\t\\t\\t\\t\\t<li><a href=\"javascript:searchView(\\'kaa_10108007_003\\');\">왕요를 공양군으로, 왕우를 귀의군으로 봉하여 왕씨의 제사를 주관하게 하다</a>\\r\\n\\t\\t\\t\\t\\t\\t\\t\\t\\t\\r\\n\\t\\t\\t\\t\\t\\t\\t\\t\\r\\n\\t\\t\\t\\t\\t\\t\\t\\t\\t\\r\\n\\t\\t\\t\\t\\t\\t\\t\\t\\t\\t\\r\\n\\t\\t\\t\\t\\t\\t\\t\\t\\t\\t<li><a href=\"javascript:searchView(\\'kaa_10108007_004\\');\">전주를 완산부로 승격시키면서 유구를 부윤으로 임명하다</a>\\r\\n\\t\\t\\t\\t\\t\\t\\t\\t\\t\\r\\n\\t\\t\\t\\t\\t\\t\\t\\t\\r\\n\\t\\t\\t\\t\\t\\t\\t\\t\\t\\r\\n\\t\\t\\t\\t\\t\\t\\t\\t\\t\\t\\r\\n\\t\\t\\t\\t\\t\\t\\t\\t\\t\\t<li><a href=\"javascript:searchView(\\'kaa_10108007_005\\');\">각도의 수령, 유학 교수관, 역승에게 본직에 그대로 있도록 하다</a>\\r\\n\\t\\t\\t\\t\\t\\t\\t\\t\\t\\r\\n\\t\\t\\t\\t\\t\\t\\t\\t\\r\\n\\t\\t\\t\\t\\t\\t\\t\\t\\t\\r\\n\\t\\t\\t\\t\\t\\t\\t\\t\\t\\t\\r\\n\\t\\t\\t\\t\\t\\t\\t\\t\\t\\t<li><a href=\"javascript:searchView(\\'kaa_10108008_001\\');\">태종을 동북면으로 보내 4대 선조의 능실에 제사지내게 하고 능호를 짓다</a>\\r\\n\\t\\t\\t\\t\\t\\t\\t\\t\\t\\r\\n\\t\\t\\t\\t\\t\\t\\t\\t\\r\\n\\t\\t\\t\\t\\t\\t\\t\\t\\t\\r\\n\\t\\t\\t\\t\\t\\t\\t\\t\\t\\t\\r\\n\\t\\t\\t\\t\\t\\t\\t\\t\\t\\t<li><a href=\"javascript:searchView(\\'kaa_10108008_002\\');\">고려 태조를 마전군에 이안시켜 제사지내게 하다</a>\\r\\n\\t\\t\\t\\t\\t\\t\\t\\t\\t\\r\\n\\t\\t\\t\\t\\t\\t\\t\\t\\r\\n\\t\\t\\t\\t\\t\\t\\t\\t\\t\\r\\n\\t\\t\\t\\t\\t\\t\\t\\t\\t\\t\\r\\n\\t\\t\\t\\t\\t\\t\\t\\t\\t\\t<li><a href=\"javascript:searchView(\\'kaa_10108008_003\\');\">개성 소윤 함부림을 경상도 등에 보내 수령의 업무를 고과하도록 하다</a>\\r\\n\\t\\t\\t\\t\\t\\t\\t\\t\\t\\r\\n\\t\\t\\t\\t\\t\\t\\t\\t\\r\\n\\t\\t\\t\\t\\t\\t\\t\\t\\t\\r\\n\\t\\t\\t\\t\\t\\t\\t\\t\\t\\t\\r\\n\\t\\t\\t\\t\\t\\t\\t\\t\\t\\t<li><a href=\"javascript:searchView(\\'kaa_10108008_004\\');\">대학사 민제를 시켜 문묘에서 석전제를 지내게 하다</a>\\r\\n\\t\\t\\t\\t\\t\\t\\t\\t\\t\\r\\n\\t\\t\\t\\t\\t\\t\\t\\t\\r\\n\\t\\t\\t\\t\\t\\t\\t\\t\\t\\r\\n\\t\\t\\t\\t\\t\\t\\t\\t\\t\\t\\r\\n\\t\\t\\t\\t\\t\\t\\t\\t\\t\\t<li><a href=\"javascript:searchView(\\'kaa_10108009_001\\');\">봉상시에 명하여 4대 선조의 신주를 만들게 하다</a>\\r\\n\\t\\t\\t\\t\\t\\t\\t\\t\\t\\r\\n\\t\\t\\t\\t\\t\\t\\t\\t\\r\\n\\t\\t\\t\\t\\t\\t\\t\\t\\t\\r\\n\\t\\t\\t\\t\\t\\t\\t\\t\\t\\t\\r\\n\\t\\t\\t\\t\\t\\t\\t\\t\\t\\t<li><a href=\"javascript:searchView(\\'kaa_10108009_002\\');\">참찬문하부사 최영지에게 서북면을 안무케 하다</a>\\r\\n\\t\\t\\t\\t\\t\\t\\t\\t\\t\\r\\n\\t\\t\\t\\t\\t\\t\\t\\t\\r\\n\\t\\t\\t\\t\\t\\t\\t\\t\\t\\r\\n\\t\\t\\t\\t\\t\\t\\t\\t\\t\\t\\r\\n\\t\\t\\t\\t\\t\\t\\t\\t\\t\\t<li><a href=\"javascript:searchView(\\'kaa_10108011_001\\');\">처음으로 신하들의 조회를 앉아서 받다</a>\\r\\n\\t\\t\\t\\t\\t\\t\\t\\t\\t\\r\\n\\t\\t\\t\\t\\t\\t\\t\\t\\r\\n\\t\\t\\t\\t\\t\\t\\t\\t\\t\\r\\n\\t\\t\\t\\t\\t\\t\\t\\t\\t\\t\\r\\n\\t\\t\\t\\t\\t\\t\\t\\t\\t\\t<li><a href=\"javascript:searchView(\\'kaa_10108011_002\\');\">역대의 사전(祀典)에 대한 상서문. 불경의 백고좌 법석, 7개 도량의 내력을 상고케 하다</a>\\r\\n\\t\\t\\t\\t\\t\\t\\t\\t\\t\\r\\n\\t\\t\\t\\t\\t\\t\\t\\t\\r\\n\\t\\t\\t\\t\\t\\t\\t\\t\\t\\r\\n\\t\\t\\t\\t\\t\\t\\t\\t\\t\\t\\r\\n\\t\\t\\t\\t\\t\\t\\t\\t\\t\\t<li><a href=\"javascript:searchView(\\'kaa_10108012_001\\');\">조박이 고려의 성종과 문종을 마전군의 태조묘에서 같이 제사지내도록 청하니 윤허하다</a>\\r\\n\\t\\t\\t\\t\\t\\t\\t\\t\\t\\r\\n\\t\\t\\t\\t\\t\\t\\t\\t\\r\\n\\t\\t\\t\\t\\t\\t\\t\\t\\t\\r\\n\\t\\t\\t\\t\\t\\t\\t\\t\\t\\t\\r\\n\\t\\t\\t\\t\\t\\t\\t\\t\\t\\t<li><a href=\"javascript:searchView(\\'kaa_10108013_001\\');\">고려 태조의 주물로 만든 상을 마전군으로 옮기다</a>\\r\\n\\t\\t\\t\\t\\t\\t\\t\\t\\t\\r\\n\\t\\t\\t\\t\\t\\t\\t\\t\\r\\n\\t\\t\\t\\t\\t\\t\\t\\t\\t\\r\\n\\t\\t\\t\\t\\t\\t\\t\\t\\t\\t\\r\\n\\t\\t\\t\\t\\t\\t\\t\\t\\t\\t<li><a href=\"javascript:searchView(\\'kaa_10108013_002\\');\">도당에 한양 천도를 명하다</a>\\r\\n\\t\\t\\t\\t\\t\\t\\t\\t\\t\\r\\n\\t\\t\\t\\t\\t\\t\\t\\t\\r\\n\\t\\t\\t\\t\\t\\t\\t\\t\\t\\r\\n\\t\\t\\t\\t\\t\\t\\t\\t\\t\\t\\r\\n\\t\\t\\t\\t\\t\\t\\t\\t\\t\\t<li><a href=\"javascript:searchView(\\'kaa_10108015_001\\');\">올량합이 오다</a>\\r\\n\\t\\t\\t\\t\\t\\t\\t\\t\\t\\r\\n\\t\\t\\t\\t\\t\\t\\t\\t\\r\\n\\t\\t\\t\\t\\t\\t\\t\\t\\t\\r\\n\\t\\t\\t\\t\\t\\t\\t\\t\\t\\t\\r\\n\\t\\t\\t\\t\\t\\t\\t\\t\\t\\t<li><a href=\"javascript:searchView(\\'kaa_10108015_002\\');\">삼사 우복야 이염을 한양부에 보내 궁실을 수즙케 하다</a>\\r\\n\\t\\t\\t\\t\\t\\t\\t\\t\\t\\r\\n\\t\\t\\t\\t\\t\\t\\t\\t\\r\\n\\t\\t\\t\\t\\t\\t\\t\\t\\t\\r\\n\\t\\t\\t\\t\\t\\t\\t\\t\\t\\t\\r\\n\\t\\t\\t\\t\\t\\t\\t\\t\\t\\t<li><a href=\"javascript:searchView(\\'kaa_10108018_001\\');\">유구국의 중산왕이 사신을 보내 조회하다</a>\\r\\n\\t\\t\\t\\t\\t\\t\\t\\t\\t\\r\\n\\t\\t\\t\\t\\t\\t\\t\\t\\r\\n\\t\\t\\t\\t\\t\\t\\t\\t\\t\\r\\n\\t\\t\\t\\t\\t\\t\\t\\t\\t\\t\\r\\n\\t\\t\\t\\t\\t\\t\\t\\t\\t\\t<li><a href=\"javascript:searchView(\\'kaa_10108019_001\\');\">대사헌 남재가 임금의 거동시에 대간 등을 수가하도록 청하니 윤허하다</a>\\r\\n\\t\\t\\t\\t\\t\\t\\t\\t\\t\\r\\n\\t\\t\\t\\t\\t\\t\\t\\t\\r\\n\\t\\t\\t\\t\\t\\t\\t\\t\\t\\r\\n\\t\\t\\t\\t\\t\\t\\t\\t\\t\\t\\r\\n\\t\\t\\t\\t\\t\\t\\t\\t\\t\\t<li><a href=\"javascript:searchView(\\'kaa_10108019_002\\');\">공신과 그 부인들이 각각 임금과 중궁을 위해 잔치를 베풀다</a>\\r\\n\\t\\t\\t\\t\\t\\t\\t\\t\\t\\r\\n\\t\\t\\t\\t\\t\\t\\t\\t\\r\\n\\t\\t\\t\\t\\t\\t\\t\\t\\t\\r\\n\\t\\t\\t\\t\\t\\t\\t\\t\\t\\t\\r\\n\\t\\t\\t\\t\\t\\t\\t\\t\\t\\t<li><a href=\"javascript:searchView(\\'kaa_10108019_003\\');\">문하부 낭사에서 미천한 신분인 상의중추원사 이인수를 파직시키도록 청하다</a>\\r\\n\\t\\t\\t\\t\\t\\t\\t\\t\\t\\r\\n\\t\\t\\t\\t\\t\\t\\t\\t\\r\\n\\t\\t\\t\\t\\t\\t\\t\\t\\t\\r\\n\\t\\t\\t\\t\\t\\t\\t\\t\\t\\t\\r\\n\\t\\t\\t\\t\\t\\t\\t\\t\\t\\t<li><a href=\"javascript:searchView(\\'kaa_10108020_001\\');\">서자 이방석을 왕세자로 정하다</a>\\r\\n\\t\\t\\t\\t\\t\\t\\t\\t\\t\\r\\n\\t\\t\\t\\t\\t\\t\\t\\t\\r\\n\\t\\t\\t\\t\\t\\t\\t\\t\\t\\r\\n\\t\\t\\t\\t\\t\\t\\t\\t\\t\\t\\r\\n\\t\\t\\t\\t\\t\\t\\t\\t\\t\\t<li><a href=\"javascript:searchView(\\'kaa_10108020_002\\');\">개국 공신의 위차를 정하다</a>\\r\\n\\t\\t\\t\\t\\t\\t\\t\\t\\t\\r\\n\\t\\t\\t\\t\\t\\t\\t\\t\\r\\n\\t\\t\\t\\t\\t\\t\\t\\t\\t\\r\\n\\t\\t\\t\\t\\t\\t\\t\\t\\t\\t\\r\\n\\t\\t\\t\\t\\t\\t\\t\\t\\t\\t<li><a href=\"javascript:searchView(\\'kaa_10108020_003\\');\">사헌부에서 고려 종친 등의 노비 수를 제한하도록 청하니, 윤허하다</a>\\r\\n\\t\\t\\t\\t\\t\\t\\t\\t\\t\\r\\n\\t\\t\\t\\t\\t\\t\\t\\t\\r\\n\\t\\t\\t\\t\\t\\t\\t\\t\\t\\r\\n\\t\\t\\t\\t\\t\\t\\t\\t\\t\\t\\r\\n\\t\\t\\t\\t\\t\\t\\t\\t\\t\\t<li><a href=\"javascript:searchView(\\'kaa_10108021_001\\');\">의흥 친군위·대간 등을 거느리고 평주 온천에 가다</a>\\r\\n\\t\\t\\t\\t\\t\\t\\t\\t\\t\\r\\n\\t\\t\\t\\t\\t\\t\\t\\t\\r\\n\\t\\t\\t\\t\\t\\t\\t\\t\\t\\r\\n\\t\\t\\t\\t\\t\\t\\t\\t\\t\\t\\r\\n\\t\\t\\t\\t\\t\\t\\t\\t\\t\\t<li><a href=\"javascript:searchView(\\'kaa_10108022_001\\');\">기탄에 머물다. 동지중추원사 조기에게 민폐를 끼치지 못하도록 명하다</a>\\r\\n\\t\\t\\t\\t\\t\\t\\t\\t\\t\\r\\n\\t\\t\\t\\t\\t\\t\\t\\t\\r\\n\\t\\t\\t\\t\\t\\t\\t\\t\\t\\r\\n\\t\\t\\t\\t\\t\\t\\t\\t\\t\\t\\r\\n\\t\\t\\t\\t\\t\\t\\t\\t\\t\\t<li><a href=\"javascript:searchView(\\'kaa_10108023_001\\');\">온천에 도착하다</a>\\r\\n\\t\\t\\t\\t\\t\\t\\t\\t\\t\\r\\n\\t\\t\\t\\t\\t\\t\\t\\t\\r\\n\\t\\t\\t\\t\\t\\t\\t\\t\\t\\r\\n\\t\\t\\t\\t\\t\\t\\t\\t\\t\\t\\r\\n\\t\\t\\t\\t\\t\\t\\t\\t\\t\\t<li><a href=\"javascript:searchView(\\'kaa_10108023_002\\');\">이숭인·이종학·우홍수의 졸기</a>\\r\\n\\t\\t\\t\\t\\t\\t\\t\\t\\t\\r\\n\\t\\t\\t\\t\\t\\t\\t\\t\\r\\n\\t\\t\\t\\t\\t\\t\\t\\t\\t\\r\\n\\t\\t\\t\\t\\t\\t\\t\\t\\t\\t\\r\\n\\t\\t\\t\\t\\t\\t\\t\\t\\t\\t<li><a href=\"javascript:searchView(\\'kaa_10108025_001\\');\">죄를 범한 고려 종친들의 처족 노비를 속공시키다</a>\\r\\n\\t\\t\\t\\t\\t\\t\\t\\t\\t\\r\\n\\t\\t\\t\\t\\t\\t\\t\\t\\r\\n\\t\\t\\t\\t\\t\\t\\t\\t\\t\\r\\n\\t\\t\\t\\t\\t\\t\\t\\t\\t\\t\\r\\n\\t\\t\\t\\t\\t\\t\\t\\t\\t\\t<li><a href=\"javascript:searchView(\\'kaa_10108026_001\\');\">사은사가 돌아와 명의 황태자가 죽고 그 아들 윤문으로 황태손을 삼았음을 아뢰다</a>\\r\\n\\t\\t\\t\\t\\t\\t\\t\\t\\t\\r\\n\\t\\t\\t\\t\\t\\t\\t\\t\\r\\n\\t\\t\\t\\t\\t\\t\\t\\t\\t\\r\\n\\t\\t\\t\\t\\t\\t\\t\\t\\t\\t\\r\\n\\t\\t\\t\\t\\t\\t\\t\\t\\t\\t<li><a href=\"javascript:searchView(\\'kaa_10108027_001\\');\">판예빈시사 정자위가 진헌마 1천 필을 요동으로 압령하고 돌아오다</a>\\r\\n\\t\\t\\t\\t\\t\\t\\t\\t\\t\\r\\n\\t\\t\\t\\t\\t\\t\\t\\t\\r\\n\\t\\t\\t\\t\\t\\t\\t\\t\\t\\r\\n\\t\\t\\t\\t\\t\\t\\t\\t\\t\\t\\r\\n\\t\\t\\t\\t\\t\\t\\t\\t\\t\\t<li><a href=\"javascript:searchView(\\'kaa_10108028_001\\');\">예부에서 보낸 상제에 따라 죽은 황태자에게 거애하다</a>\\r\\n\\t\\t\\t\\t\\t\\t\\t\\t\\t\\r\\n\\t\\t\\t\\t\\t\\t\\t\\t\\r\\n\\t\\t\\t\\t\\t\\t\\t\\t\\t\\r\\n\\t\\t\\t\\t\\t\\t\\t\\t\\t\\t\\r\\n\\t\\t\\t\\t\\t\\t\\t\\t\\t\\t<li><a href=\"javascript:searchView(\\'kaa_10108029_001\\');\">밀직사 조임을 경사로 보내 태조가 즉위하게 된 사유를 알리는 표문을 올리다</a>\\r\\n\\t\\t\\t\\t\\t\\t\\t\\t\\t\\r\\n\\t\\t\\t\\t\\t\\t\\t\\t\\r\\n\\t\\t\\t\\t\\t\\t\\t</ul>\\r\\n\\t\\t\\t\\t\\t\\t</dd>\\r\\n\\t\\t\\t\\t\\t</dl>\\r\\n\\t\\t\\t\\t\\t<!--// left content end -->\\r\\n\\t\\t\\t\\t\\t\\r\\n\\t\\t\\t\\t\\t\\r\\n\\t\\t\\t\\t\\t\\t\\r\\n\\t\\t\\t\\t\\t\\t\\t\\r\\n\\t\\t\\t\\t\\t\\t\\t\\r\\n\\t\\t\\t\\t\\t\\t\\t\\r\\n\\t\\t\\t\\t\\t\\t\\r\\n\\t\\t\\t\\t\\t\\t\\r\\n\\t\\t\\t\\t\\t\\t\\r\\n\\t\\t\\t\\t\\t\\t\\r\\n\\t\\t\\t\\t\\t\\t\\r\\n\\t\\t\\t\\t\\t\\r\\n\\t\\t\\t\\t\\t\\r\\n\\t\\t\\t\\t\\t\\t\\r\\n\\t\\t\\t\\t\\t\\t\\t\\r\\n\\t\\t\\t\\t\\t\\t\\t\\r\\n\\t\\t\\t\\t\\t\\t\\t\\r\\n\\t\\t\\t\\t\\t\\t\\r\\n\\t\\t\\t\\t\\t\\t\\r\\n\\t\\t\\t\\t\\t\\t\\r\\n\\t\\t\\t\\t\\t\\t\\r\\n\\t\\t\\t\\t\\t\\t\\r\\n\\t\\t\\t\\t\\t\\r\\n\\t\\t\\t\\t\\t\\r\\n\\t\\t\\t\\t\\t\\r\\n\\t\\t\\t\\t\\t\\r\\n\\r\\n\\t\\t\\t\\t\\t<!-- left content start -->\\r\\n\\t\\t\\t\\t\\t<div class=\"ins_side clear2\">\\r\\n\\t\\t\\t\\t\\t\\t\\r\\n\\t\\t\\t\\t\\t\\t<div class=\"ins_side_box clear2\">\\r\\n\\t\\t\\t\\t\\t\\t\\t<dl class=\"ins_list_side\">\\r\\n\\t\\t\\t\\t\\t\\t\\t\\t<dt>\\r\\n\\t\\t\\t\\t\\t\\t\\t\\t\\t<span class=\"ins_list_prev\">이전</span>\\r\\n\\t\\t\\t\\t\\t\\t\\t\\t\\t\\r\\n\\t\\t\\t\\t\\t\\t\\t\\t\\t\\t\\r\\n\\t\\t\\t\\t\\t\\t\\t\\t\\t\\t\\r\\n\\t\\t\\t\\t\\t\\t\\t\\t\\t\\t\\t태조 1년 7월\\r\\n\\t\\t\\t\\t\\t\\t\\t\\t\\t\\t\\r\\n\\t\\t\\t\\t\\t\\t\\t\\t\\t\\t\\r\\n\\t\\t\\t\\t\\t\\t\\t\\t\\t\\t\\r\\n\\t\\t\\t\\t\\t\\t\\t\\t\\t\\t\\r\\n\\t\\t\\t\\t\\t\\t\\t\\t\\t\\t\\t\\t\\t\\t\\t\\t\\t\\t\\t\\r\\n\\t\\t\\t\\t\\t\\t\\t\\t</dt>\\r\\n\\t\\t\\t\\t\\t\\t\\t\\t<dd>\\r\\n\\t\\t\\t\\t\\t\\t\\t\\t\\t<ul>\\r\\n\\t\\t\\t\\t\\t\\t\\t\\t\\t\\r\\n\\t\\t\\t\\t\\t\\t\\t\\t\\t\\t\\r\\n\\t\\t\\t\\t\\t\\t\\t\\t\\t\\t\\t<li><a href=\"javascript:searchView(\\'kaa_10107017_001\\');\">태조가 백관의 추대를 받아 수창궁에서 왕위에 오르다</a></li>\\r\\n\\t\\t\\t\\t\\t\\t\\t\\t\\t\\t\\r\\n\\t\\t\\t\\t\\t\\t\\t\\t\\t\\r\\n\\t\\t\\t\\t\\t\\t\\t\\t\\t\\t\\r\\n\\t\\t\\t\\t\\t\\t\\t\\t\\t\\t\\t<li><a href=\"javascript:searchView(\\'kaa_10107017_002\\');\">태조가 잠저에 있을 당시 여러 가지 개국의 조짐이 나타나다</a></li>\\r\\n\\t\\t\\t\\t\\t\\t\\t\\t\\t\\t\\r\\n\\t\\t\\t\\t\\t\\t\\t\\t\\t\\r\\n\\t\\t\\t\\t\\t\\t\\t\\t\\t\\t\\r\\n\\t\\t\\t\\t\\t\\t\\t\\t\\t\\t\\t<li><a href=\"javascript:searchView(\\'kaa_10107018_001\\');\">태조가 왕위에 오르자 가뭄끝에 비가 내리다</a></li>\\r\\n\\t\\t\\t\\t\\t\\t\\t\\t\\t\\t\\r\\n\\t\\t\\t\\t\\t\\t\\t\\t\\t\\r\\n\\t\\t\\t\\t\\t\\t\\t\\t\\t\\t\\r\\n\\t\\t\\t\\t\\t\\t\\t\\t\\t\\r\\n\\t\\t\\t\\t\\t\\t\\t\\t\\t\\t\\r\\n\\t\\t\\t\\t\\t\\t\\t\\t\\t\\r\\n\\t\\t\\t\\t\\t\\t\\t\\t\\t\\t\\r\\n\\t\\t\\t\\t\\t\\t\\t\\t\\t\\r\\n\\t\\t\\t\\t\\t\\t\\t\\t\\t\\t\\r\\n\\t\\t\\t\\t\\t\\t\\t\\t\\t\\r\\n\\t\\t\\t\\t\\t\\t\\t\\t\\t\\t\\r\\n\\t\\t\\t\\t\\t\\t\\t\\t\\t\\r\\n\\t\\t\\t\\t\\t\\t\\t\\t\\t\\t\\r\\n\\t\\t\\t\\t\\t\\t\\t\\t\\t\\r\\n\\t\\t\\t\\t\\t\\t\\t\\t\\t\\t\\r\\n\\t\\t\\t\\t\\t\\t\\t\\t\\t\\r\\n\\t\\t\\t\\t\\t\\t\\t\\t\\t\\t\\r\\n\\t\\t\\t\\t\\t\\t\\t\\t\\t\\r\\n\\t\\t\\t\\t\\t\\t\\t\\t\\t\\t\\r\\n\\t\\t\\t\\t\\t\\t\\t\\t\\t\\r\\n\\t\\t\\t\\t\\t\\t\\t\\t\\t\\t\\r\\n\\t\\t\\t\\t\\t\\t\\t\\t\\t\\r\\n\\t\\t\\t\\t\\t\\t\\t\\t\\t\\t\\r\\n\\t\\t\\t\\t\\t\\t\\t\\t\\t\\r\\n\\t\\t\\t\\t\\t\\t\\t\\t\\t\\t\\r\\n\\t\\t\\t\\t\\t\\t\\t\\t\\t\\r\\n\\t\\t\\t\\t\\t\\t\\t\\t\\t\\t\\r\\n\\t\\t\\t\\t\\t\\t\\t\\t\\t\\r\\n\\t\\t\\t\\t\\t\\t\\t\\t\\t\\t\\r\\n\\t\\t\\t\\t\\t\\t\\t\\t\\t\\r\\n\\t\\t\\t\\t\\t\\t\\t\\t\\t\\t\\r\\n\\t\\t\\t\\t\\t\\t\\t\\t\\t\\r\\n\\t\\t\\t\\t\\t\\t\\t\\t\\t\\t\\r\\n\\t\\t\\t\\t\\t\\t\\t\\t\\t\\r\\n\\t\\t\\t\\t\\t\\t\\t\\t\\t</ul>\\r\\n\\t\\t\\t\\t\\t\\t\\t\\t</dd>\\r\\n\\t\\t\\t\\t\\t\\t\\t</dl>\\r\\n\\t\\t\\t\\t\\t\\t\\t<a href=\"javascript:goPrev(\\'kaa_101070\\');\" title=\"이전일자 더 보기\" class=\"more\">이동</a>\\r\\n\\t\\t\\t\\t\\t\\t</div>\\r\\n\\t\\t\\t\\t\\t\\t\\r\\n\\t\\t\\t\\t\\t\\t\\r\\n\\t\\t\\t\\t\\t\\t<div class=\"ins_side_box clear2\">\\r\\n\\t\\t\\t\\t\\t\\t\\t<dl class=\"ins_list_side\">\\r\\n\\t\\t\\t\\t\\t\\t\\t\\t<dt>\\r\\n\\t\\t\\t\\t\\t\\t\\t\\t\\t<span class=\"ins_list_next\">다음</span>\\r\\n\\t\\t\\t\\t\\t\\t\\t\\t\\t\\r\\n\\t\\t\\t\\t\\t\\t\\t\\t\\t\\t\\r\\n\\t\\t\\t\\t\\t\\t\\t\\t\\t\\t\\t\\r\\n\\t\\t\\t\\t\\t\\t\\t\\t\\t\\t\\t\\t태조 1년 9월\\r\\n\\t\\t\\t\\t\\t\\t\\t\\t\\t\\t\\t\\r\\n\\t\\t\\t\\t\\t\\t\\t\\t\\t\\t\\t\\r\\n\\t\\t\\t\\t\\t\\t\\t\\t\\t\\t\\r\\n\\t\\t\\t\\t\\t\\t\\t\\t\\t\\t\\r\\n\\t\\t\\t\\t\\t\\t\\t\\t\\t\\r\\n\\t\\t\\t\\t\\t\\t\\t\\t</dt>\\r\\n\\t\\t\\t\\t\\t\\t\\t\\t<dd>\\r\\n\\t\\t\\t\\t\\t\\t\\t\\t\\t<ul>\\r\\n\\t\\t\\t\\t\\t\\t\\t\\t\\t\\r\\n\\t\\t\\t\\t\\t\\t\\t\\t\\t\\t\\r\\n\\t\\t\\t\\t\\t\\t\\t\\t\\t\\t\\t<li><a href=\"javascript:searchView(\\'kaa_10109001_001\\');\">삼사 좌사 이거인을 경사에 보내 황태자의 죽음을 애도하는 표문을 올리다</a></li>\\r\\n\\t\\t\\t\\t\\t\\t\\t\\t\\t\\t\\r\\n\\t\\t\\t\\t\\t\\t\\t\\t\\t\\r\\n\\t\\t\\t\\t\\t\\t\\t\\t\\t\\t\\r\\n\\t\\t\\t\\t\\t\\t\\t\\t\\t\\t\\t<li><a href=\"javascript:searchView(\\'kaa_10109003_001\\');\">배극렴 등이 한양의 궁궐과 성곽이 완성된 후 신도로 이전하자고 청하니 윤허하다</a></li>\\r\\n\\t\\t\\t\\t\\t\\t\\t\\t\\t\\t\\r\\n\\t\\t\\t\\t\\t\\t\\t\\t\\t\\r\\n\\t\\t\\t\\t\\t\\t\\t\\t\\t\\t\\r\\n\\t\\t\\t\\t\\t\\t\\t\\t\\t\\t\\t<li><a href=\"javascript:searchView(\\'kaa_10109003_002\\');\">대호군 이부와 봉상 소경 허해를 순군옥에 가두다</a></li>\\r\\n\\t\\t\\t\\t\\t\\t\\t\\t\\t\\t\\r\\n\\t\\t\\t\\t\\t\\t\\t\\t\\t\\r\\n\\t\\t\\t\\t\\t\\t\\t\\t\\t\\t\\r\\n\\t\\t\\t\\t\\t\\t\\t\\t\\t\\r\\n\\t\\t\\t\\t\\t\\t\\t\\t\\t\\t\\r\\n\\t\\t\\t\\t\\t\\t\\t\\t\\t\\r\\n\\t\\t\\t\\t\\t\\t\\t\\t\\t\\t\\r\\n\\t\\t\\t\\t\\t\\t\\t\\t\\t\\r\\n\\t\\t\\t\\t\\t\\t\\t\\t\\t\\t\\r\\n\\t\\t\\t\\t\\t\\t\\t\\t\\t\\r\\n\\t\\t\\t\\t\\t\\t\\t\\t\\t\\t\\r\\n\\t\\t\\t\\t\\t\\t\\t\\t\\t\\r\\n\\t\\t\\t\\t\\t\\t\\t\\t\\t\\t\\r\\n\\t\\t\\t\\t\\t\\t\\t\\t\\t\\r\\n\\t\\t\\t\\t\\t\\t\\t\\t\\t\\t\\r\\n\\t\\t\\t\\t\\t\\t\\t\\t\\t\\r\\n\\t\\t\\t\\t\\t\\t\\t\\t\\t\\t\\r\\n\\t\\t\\t\\t\\t\\t\\t\\t\\t\\r\\n\\t\\t\\t\\t\\t\\t\\t\\t\\t\\t\\r\\n\\t\\t\\t\\t\\t\\t\\t\\t\\t\\r\\n\\t\\t\\t\\t\\t\\t\\t\\t\\t\\t\\r\\n\\t\\t\\t\\t\\t\\t\\t\\t\\t\\r\\n\\t\\t\\t\\t\\t\\t\\t\\t\\t\\t\\r\\n\\t\\t\\t\\t\\t\\t\\t\\t\\t\\r\\n\\t\\t\\t\\t\\t\\t\\t\\t\\t\\t\\r\\n\\t\\t\\t\\t\\t\\t\\t\\t\\t\\r\\n\\t\\t\\t\\t\\t\\t\\t\\t\\t\\t\\r\\n\\t\\t\\t\\t\\t\\t\\t\\t\\t\\r\\n\\t\\t\\t\\t\\t\\t\\t\\t\\t\\t\\r\\n\\t\\t\\t\\t\\t\\t\\t\\t\\t\\r\\n\\t\\t\\t\\t\\t\\t\\t\\t\\t\\t\\r\\n\\t\\t\\t\\t\\t\\t\\t\\t\\t\\r\\n\\t\\t\\t\\t\\t\\t\\t\\t\\t\\t\\r\\n\\t\\t\\t\\t\\t\\t\\t\\t\\t\\r\\n\\t\\t\\t\\t\\t\\t\\t\\t\\t\\t\\r\\n\\t\\t\\t\\t\\t\\t\\t\\t\\t\\r\\n\\t\\t\\t\\t\\t\\t\\t\\t\\t\\t\\r\\n\\t\\t\\t\\t\\t\\t\\t\\t\\t\\r\\n\\t\\t\\t\\t\\t\\t\\t\\t\\t\\t\\r\\n\\t\\t\\t\\t\\t\\t\\t\\t\\t\\r\\n\\t\\t\\t\\t\\t\\t\\t\\t\\t\\t\\r\\n\\t\\t\\t\\t\\t\\t\\t\\t\\t\\r\\n\\t\\t\\t\\t\\t\\t\\t\\t\\t\\t\\r\\n\\t\\t\\t\\t\\t\\t\\t\\t\\t\\r\\n\\t\\t\\t\\t\\t\\t\\t\\t\\t\\t\\r\\n\\t\\t\\t\\t\\t\\t\\t\\t\\t\\r\\n\\t\\t\\t\\t\\t\\t\\t\\t\\t\\t\\r\\n\\t\\t\\t\\t\\t\\t\\t\\t\\t\\r\\n\\t\\t\\t\\t\\t\\t\\t\\t\\t\\t\\r\\n\\t\\t\\t\\t\\t\\t\\t\\t\\t\\r\\n\\t\\t\\t\\t\\t\\t\\t\\t\\t\\t\\r\\n\\t\\t\\t\\t\\t\\t\\t\\t\\t\\r\\n\\t\\t\\t\\t\\t\\t\\t\\t\\t\\t\\r\\n\\t\\t\\t\\t\\t\\t\\t\\t\\t\\r\\n\\t\\t\\t\\t\\t\\t\\t\\t\\t\\t\\r\\n\\t\\t\\t\\t\\t\\t\\t\\t\\t\\r\\n\\t\\t\\t\\t\\t\\t\\t\\t\\t</ul>\\r\\n\\t\\t\\t\\t\\t\\t\\t\\t</dd>\\r\\n\\t\\t\\t\\t\\t\\t\\t</dl>\\r\\n\\t\\t\\t\\t\\t\\t\\t<a href=\"javascript:goNext(\\'kaa_101090\\');\" title=\"다음일자 더 보기\" class=\"more\">이동</a>\\r\\n\\t\\t\\t\\t\\t\\t</div>\\r\\n\\t\\t\\t\\t\\t\\t\\r\\n\\t\\t\\t\\t\\t</div>\\r\\n\\t\\t\\t\\t</div>\\r\\n\\t\\t\\t</div>\\r\\n\\t\\t\\t<!--// view end -->\\r\\n\\t</div>\\r\\n\\r\\n\\t<!-- 레이어팝업 start -->\\r\\n\\t<div class=\"view_info info_pop clear2\">\\r\\n\\t\\t<p>김인후(金麟厚)<a href=\"#\" class=\"btn_info_close\" title=\"창 닫기\"></a></p>\\r\\n\\t\\t<ul>\\r\\n\\t\\t\\t<li><span>성명</span>김인후(金麟厚)</li>\\r\\n\\t\\t\\t<li><span>신분</span>문반</li>\\r\\n\\t\\t\\t<li><span>자</span>후지(厚之)</li>\\r\\n\\t\\t\\t<li><span>호</span>하서(河西)</li>\\r\\n\\t\\t\\t<li><span>본관</span>울산(蔚山)</li>\\r\\n\\t\\t\\t<li><span>생년</span>1510</li>\\r\\n\\t\\t\\t<li><span>몰년</span>1560</li>\\r\\n\\t\\t\\t<li><span>국가</span></li>\\r\\n\\t\\t</ul>\\r\\n\\t\\t<a href=\"#\" class=\"btn_info_detail\">상세보기</a>\\r\\n\\t</div>\\r\\n\\t<!--// 레이어팝업 end -->\\r\\n</div>\\r\\n<!--// cont_area 본문영역 end -->\\r\\n\\t\\t<!--// cont_area 본문영역 end -->\\r\\n\\t\\t\\r\\n\\t</div>  \\r\\n\\t<!--// content end -->\\r\\n</div>\\r\\n<!--// wrapper end -->\\r\\n\\t\\r\\n<!-- Footer start -->\\r\\n\\r\\n\\r\\n\\r\\n\\r\\n\\r\\n<script type=\"text/javascript\">\\r\\n\\tfunction goSite() {\\r\\n\\t\\tvar url = $(\"#relSite\").children(\"option:selected\").val();\\r\\n\\t\\tif(url == \"\") return;\\r\\n\\t    window.open(url,\\'_blank\\',\\'\\');\\r\\n\\t}\\r\\n</script>\\r\\n<div class=\"footer\">\\r\\n\\t<div class=\"footer_info clear2\">\\r\\n\\t\\t<a href=\"http://www.history.go.kr\" target=\"_blank\"><img src=\"/images/common/foot_logo.png;jsessionid=11287279A47F04FA336CDEF7519B946E\" alt=\"국사편찬위원회\" /></a>\\r\\n\\t\\t<div class=\"footer_cont\">\\r\\n\\t\\t\\t<ul class=\"clear2\">\\r\\n\\t\\t\\t<li><a href=\"http://www.history.go.kr/contents/contentsPage.do?groupId=000000000571&menuId=000000000572&pageId=000000000211&itemId=&action=&itemIndex=&condition=&keyword=&category=&totalCount=0&page=1&rowPerPage=10&searchKeyword=\"  target=\"_blank\">개인정보처리방침</a></li>\\r\\n\\t\\t\\t<li><a href=\"/board/errorReportList.do;jsessionid=11287279A47F04FA336CDEF7519B946E\">오류신고 확인</a></li>\\r\\n\\t\\t\\t</ul>\\r\\n\\t\\t\\t<p>Copyright ©\\xa0National Institute of Korean History.\\xa0All Rights Reserved.</p>\\r\\n\\t\\t</div>\\r\\n\\t\\t<div class=\"family_link\">\\r\\n\\t\\t\\t<span>\\r\\n\\t\\t\\t\\t<select id=\"relSite\"  onchange=\"goSite();\">\\r\\n\\t\\t\\t\\t\\t<option value=\"\">관련사이트 바로가기</option>\\r\\n\\t\\t\\t\\t\\t<option value=\"http://db.history.go.kr\">한국사데이터베이스</option>\\r\\n\\t\\t\\t\\t\\t<option value=\"http://sjw.history.go.kr\">승정원일기</option>\\r\\n\\t\\t\\t\\t\\t<option value=\"http://db.history.go.kr/item/level.do?itemId=bb\">비변사등록</option>\\r\\n\\t\\t\\t\\t\\t<option value=\"http://e-kyujanggak.snu.ac.kr\">규장각한국학연구원</option>\\r\\n\\t\\t\\t\\t\\t<option value=\"http://db.itkc.or.kr\">한국고전종합DB</option>\\r\\n\\t\\t\\t\\t\\t<option value=\"http://www.sejongkorea.org\">세종대왕기념사업회</option>\\r\\n\\t\\t\\t\\t\\t<option value=\"http://www.koreanhistory.or.kr\">한국역사정보통합시스템</option>\\r\\n\\t\\t\\t\\t\\t<option value=\"http://www.lotteryarts.or.kr\">복권기금 문화나눔</option>\\r\\n\\t\\t\\t\\t</select>\\r\\n\\t\\t\\t</span>\\r\\n\\t\\t\\t<a href=\"javascript:goSite();\">이동</a>\\r\\n\\t\\t</div>\\r\\n\\t</div>\\r\\n</div>\\r\\n<!--// Footer end -->\\r\\n\\r\\n</body>\\r\\n</html>\\r\\n'"
            ]
          },
          "metadata": {},
          "execution_count": 87
        }
      ]
    },
    {
      "cell_type": "code",
      "source": [
        "my_soup=BeautifulSoup(res.text,'html.parser')\n",
        "my_soup"
      ],
      "metadata": {
        "id": "MAH_BX_p0ll2"
      },
      "execution_count": null,
      "outputs": []
    },
    {
      "cell_type": "code",
      "source": [
        "elem=my_soup.find('dl',{\"class\":'ins_list_main'}).find_all('li')\n",
        "elem\n"
      ],
      "metadata": {
        "id": "QS69cjps7TPf"
      },
      "execution_count": null,
      "outputs": []
    },
    {
      "cell_type": "code",
      "source": [
        "potst=[]\n",
        "\n",
        "elem=my_soup.find('dl',{\"class\":'ins_list_main'})\n",
        "\n",
        "for Elem in elem.find_all('li'):\n",
        "  history= Elem.find('a').get_text()\n",
        "  posts.append(history)\n",
        "\n",
        "posts"
      ],
      "metadata": {
        "colab": {
          "base_uri": "https://localhost:8080/"
        },
        "id": "ZMard3-aYJyc",
        "outputId": "49d5b0da-dd99-4d03-862d-fb8611ad9916"
      },
      "execution_count": null,
      "outputs": [
        {
          "output_type": "execute_result",
          "data": {
            "text/plain": [
              "['삼사 좌사 이거인을 경사에 보내 황태자의 죽음을 애도하는 표문을 올리다',\n",
              " '배극렴 등이 한양의 궁궐과 성곽이 완성된 후 신도로 이전하자고 청하니 윤허하다',\n",
              " '대호군 이부와 봉상 소경 허해를 순군옥에 가두다',\n",
              " '영복군 왕격을 화령부에 안치하다',\n",
              " '화성이 동정을 범하다',\n",
              " '달이 심성을 가리다',\n",
              " '임금이 온천에서 돌아오니, 세자와 백관이 선의문 밖에서 맞이하다',\n",
              " '유구국 사신과 오량합의 사람이 조회에 참여하다',\n",
              " '여러 도의 안렴사에게 관원의 상벌을 정확히 하여 정사를 보필토록 명하는 교서',\n",
              " '예문춘추관에서 사관의 입시 사료 수집 등에 관한 일을 상언하니 윤허하다',\n",
              " '대간에서 유언을 유포시킨 이부와 허해를 탄핵하니 외방으로 귀양보내다',\n",
              " '공신 도감에서 개국 공신의 포상 규정을 상언하니 윤허하다',\n",
              " '달이 묘성을 가리다. 임금이 수창궁에서 성절을 축하하는 의식을 행하다',\n",
              " '상의중추원사 황희석이 상복을 입은 채로 알현하다',\n",
              " '달이 오거성을 범하다',\n",
              " '증조모의 기일이므로 조회를 정지하다',\n",
              " '조회를 보고 나서 대사성 유경에게 《대학연의》를 강론하게 하다',\n",
              " '개국 공신에게 연회를 베풀고 공신 녹권 등을 내리다',\n",
              " '환관의 제어, 불교의 배척, 여자의 외출제한 등 12개 조목을 건의한 대사헌 남재의 상서문',\n",
              " '개국 공신의 부인들에게 현비전에서 잔치를 베풀다',\n",
              " '절비의 기일이므로 조회를 정지하다',\n",
              " '학교·수령·의창·향리 등 22개 조목에 대한 도평의사사의 상언',\n",
              " '올량합에게 의복을 하사하다',\n",
              " '내정에서 격구하다',\n",
              " '배극렴 등이 여러 왕자들에게 규정된 과전 외의 전지를 더 주도록 청하다',\n",
              " '대사성 유경에게 《대학연의》를 강론케 하다',\n",
              " '조견·한상경·임언충·황거정·한충·민여익 등을 개국 공신에 추록케 하다',\n",
              " '개국 공신이 여러 왕자들과 왕륜동에서 회맹한 내용',\n",
              " '개국 공신의 자손들이 충효계를 맺고 왕륜동에서 회맹하다',\n",
              " '천둥과 번개가 치다. 서운관 관원들과 종묘를 지을 자리를 논의하다']"
            ]
          },
          "metadata": {},
          "execution_count": 144
        }
      ]
    },
    {
      "cell_type": "code",
      "source": [
        "url=\"http://sillok.history.go.kr/search/inspectionDayList.do\"\n",
        "x=[80,90,100,110] \n",
        "posts=[]\n",
        "\n",
        "for i in x:\n",
        "  data={\n",
        "      'id':'kaa_1010'+str(i),\n",
        "      'did':\"\",\n",
        "      'level':'3'\n",
        "      }\n",
        "  res= requests.post(url,data=data)\n",
        "  my_soup=BeautifulSoup(res.text,'html.parser')\n",
        "  my_soup\n",
        "  \n",
        "  elem=my_soup.find('dl',{\"class\":'ins_list_main'})\n",
        "  \n",
        "  for Elem in elem.find_all('li'):\n",
        "    history= Elem.find('a').get_text()\n",
        "    posts.append(history)\n",
        "\n",
        "posts"
      ],
      "metadata": {
        "colab": {
          "base_uri": "https://localhost:8080/"
        },
        "id": "WvZLnFxu0QnI",
        "outputId": "1458061e-e47c-41d2-cc3d-95b015e91053"
      },
      "execution_count": null,
      "outputs": [
        {
          "output_type": "execute_result",
          "data": {
            "text/plain": [
              "['신하들의 조회를 서서 받다',\n",
              " '공신 도감을 설치하다',\n",
              " '대간과 육조에게 현량을 천거토록 하다',\n",
              " '입관 보리법을 제정하다',\n",
              " '수령의 전최법을 제정하다',\n",
              " '도당에서 대장 도감을 폐지하도록 청하다',\n",
              " '도당에서 팔관회와 연등회를 폐지하도록 청하다',\n",
              " '강씨를 왕비로 정하고 현비라 하다',\n",
              " '여러 왕자를 군으로 봉하다',\n",
              " '왕요를 공양군으로, 왕우를 귀의군으로 봉하여 왕씨의 제사를 주관하게 하다',\n",
              " '전주를 완산부로 승격시키면서 유구를 부윤으로 임명하다',\n",
              " '각도의 수령, 유학 교수관, 역승에게 본직에 그대로 있도록 하다',\n",
              " '태종을 동북면으로 보내 4대 선조의 능실에 제사지내게 하고 능호를 짓다',\n",
              " '고려 태조를 마전군에 이안시켜 제사지내게 하다',\n",
              " '개성 소윤 함부림을 경상도 등에 보내 수령의 업무를 고과하도록 하다',\n",
              " '대학사 민제를 시켜 문묘에서 석전제를 지내게 하다',\n",
              " '봉상시에 명하여 4대 선조의 신주를 만들게 하다',\n",
              " '참찬문하부사 최영지에게 서북면을 안무케 하다',\n",
              " '처음으로 신하들의 조회를 앉아서 받다',\n",
              " '역대의 사전(祀典)에 대한 상서문. 불경의 백고좌 법석, 7개 도량의 내력을 상고케 하다',\n",
              " '조박이 고려의 성종과 문종을 마전군의 태조묘에서 같이 제사지내도록 청하니 윤허하다',\n",
              " '고려 태조의 주물로 만든 상을 마전군으로 옮기다',\n",
              " '도당에 한양 천도를 명하다',\n",
              " '올량합이 오다',\n",
              " '삼사 우복야 이염을 한양부에 보내 궁실을 수즙케 하다',\n",
              " '유구국의 중산왕이 사신을 보내 조회하다',\n",
              " '대사헌 남재가 임금의 거동시에 대간 등을 수가하도록 청하니 윤허하다',\n",
              " '공신과 그 부인들이 각각 임금과 중궁을 위해 잔치를 베풀다',\n",
              " '문하부 낭사에서 미천한 신분인 상의중추원사 이인수를 파직시키도록 청하다',\n",
              " '서자 이방석을 왕세자로 정하다',\n",
              " '개국 공신의 위차를 정하다',\n",
              " '사헌부에서 고려 종친 등의 노비 수를 제한하도록 청하니, 윤허하다',\n",
              " '의흥 친군위·대간 등을 거느리고 평주 온천에 가다',\n",
              " '기탄에 머물다. 동지중추원사 조기에게 민폐를 끼치지 못하도록 명하다',\n",
              " '온천에 도착하다',\n",
              " '이숭인·이종학·우홍수의 졸기',\n",
              " '죄를 범한 고려 종친들의 처족 노비를 속공시키다',\n",
              " '사은사가 돌아와 명의 황태자가 죽고 그 아들 윤문으로 황태손을 삼았음을 아뢰다',\n",
              " '판예빈시사 정자위가 진헌마 1천 필을 요동으로 압령하고 돌아오다',\n",
              " '예부에서 보낸 상제에 따라 죽은 황태자에게 거애하다',\n",
              " '밀직사 조임을 경사로 보내 태조가 즉위하게 된 사유를 알리는 표문을 올리다',\n",
              " '삼사 좌사 이거인을 경사에 보내 황태자의 죽음을 애도하는 표문을 올리다',\n",
              " '배극렴 등이 한양의 궁궐과 성곽이 완성된 후 신도로 이전하자고 청하니 윤허하다',\n",
              " '대호군 이부와 봉상 소경 허해를 순군옥에 가두다',\n",
              " '영복군 왕격을 화령부에 안치하다',\n",
              " '화성이 동정을 범하다',\n",
              " '달이 심성을 가리다',\n",
              " '임금이 온천에서 돌아오니, 세자와 백관이 선의문 밖에서 맞이하다',\n",
              " '유구국 사신과 오량합의 사람이 조회에 참여하다',\n",
              " '여러 도의 안렴사에게 관원의 상벌을 정확히 하여 정사를 보필토록 명하는 교서',\n",
              " '예문춘추관에서 사관의 입시 사료 수집 등에 관한 일을 상언하니 윤허하다',\n",
              " '대간에서 유언을 유포시킨 이부와 허해를 탄핵하니 외방으로 귀양보내다',\n",
              " '공신 도감에서 개국 공신의 포상 규정을 상언하니 윤허하다',\n",
              " '달이 묘성을 가리다. 임금이 수창궁에서 성절을 축하하는 의식을 행하다',\n",
              " '상의중추원사 황희석이 상복을 입은 채로 알현하다',\n",
              " '달이 오거성을 범하다',\n",
              " '증조모의 기일이므로 조회를 정지하다',\n",
              " '조회를 보고 나서 대사성 유경에게 《대학연의》를 강론하게 하다',\n",
              " '개국 공신에게 연회를 베풀고 공신 녹권 등을 내리다',\n",
              " '환관의 제어, 불교의 배척, 여자의 외출제한 등 12개 조목을 건의한 대사헌 남재의 상서문',\n",
              " '개국 공신의 부인들에게 현비전에서 잔치를 베풀다',\n",
              " '절비의 기일이므로 조회를 정지하다',\n",
              " '학교·수령·의창·향리 등 22개 조목에 대한 도평의사사의 상언',\n",
              " '올량합에게 의복을 하사하다',\n",
              " '내정에서 격구하다',\n",
              " '배극렴 등이 여러 왕자들에게 규정된 과전 외의 전지를 더 주도록 청하다',\n",
              " '대사성 유경에게 《대학연의》를 강론케 하다',\n",
              " '조견·한상경·임언충·황거정·한충·민여익 등을 개국 공신에 추록케 하다',\n",
              " '개국 공신이 여러 왕자들과 왕륜동에서 회맹한 내용',\n",
              " '개국 공신의 자손들이 충효계를 맺고 왕륜동에서 회맹하다',\n",
              " '천둥과 번개가 치다. 서운관 관원들과 종묘를 지을 자리를 논의하다']"
            ]
          },
          "metadata": {},
          "execution_count": 167
        }
      ]
    },
    {
      "cell_type": "code",
      "source": [
        "x=[80,90,100,110] \n",
        "posts=[]\n",
        "\n",
        "for i in x:\n",
        "\n",
        "  data={\n",
        "      'id':'kaa_1010'+str(i),\n",
        "      'did':\"\",\n",
        "      'level':'3'}\n",
        "  print(data)"
      ],
      "metadata": {
        "colab": {
          "base_uri": "https://localhost:8080/"
        },
        "id": "p8TEJMh8d5xz",
        "outputId": "2b314361-e8e6-4088-c54b-90093ba5af9f"
      },
      "execution_count": null,
      "outputs": [
        {
          "output_type": "stream",
          "name": "stdout",
          "text": [
            "{'id': 'kaa_101080', 'did': '', 'level': '3'}\n",
            "{'id': 'kaa_101090', 'did': '', 'level': '3'}\n",
            "{'id': 'kaa_1010100', 'did': '', 'level': '3'}\n",
            "{'id': 'kaa_1010110', 'did': '', 'level': '3'}\n"
          ]
        }
      ]
    },
    {
      "cell_type": "code",
      "source": [
        "print(data)"
      ],
      "metadata": {
        "colab": {
          "base_uri": "https://localhost:8080/"
        },
        "id": "-c18VoSuXLMj",
        "outputId": "4923eff9-e0bd-46d2-eb0d-175cd5800d1e"
      },
      "execution_count": null,
      "outputs": [
        {
          "output_type": "stream",
          "name": "stdout",
          "text": [
            "{'id': 'kaa_1010110', 'did': '', 'level': '3'}\n"
          ]
        }
      ]
    },
    {
      "cell_type": "code",
      "source": [],
      "metadata": {
        "id": "a_XEXEICd5OM"
      },
      "execution_count": null,
      "outputs": []
    },
    {
      "cell_type": "code",
      "source": [
        "print(i)"
      ],
      "metadata": {
        "colab": {
          "base_uri": "https://localhost:8080/"
        },
        "id": "lT4dPAPxTt9n",
        "outputId": "15e89cd4-1147-41c1-e42d-22fc8fef7cc6"
      },
      "execution_count": null,
      "outputs": [
        {
          "output_type": "stream",
          "name": "stdout",
          "text": [
            "110\n"
          ]
        }
      ]
    },
    {
      "cell_type": "code",
      "source": [
        "x=[80,90,100,110]\n",
        "len(x)"
      ],
      "metadata": {
        "colab": {
          "base_uri": "https://localhost:8080/"
        },
        "id": "jchh3Ir0VYkl",
        "outputId": "6cda8b07-cfcd-4d06-b724-3c1235bcf071"
      },
      "execution_count": null,
      "outputs": [
        {
          "output_type": "execute_result",
          "data": {
            "text/plain": [
              "4"
            ]
          },
          "metadata": {},
          "execution_count": 128
        }
      ]
    },
    {
      "cell_type": "code",
      "source": [
        "posts"
      ],
      "metadata": {
        "colab": {
          "base_uri": "https://localhost:8080/"
        },
        "id": "xqg_sw9HCCvO",
        "outputId": "19a4b07b-01ca-4151-95f1-a54611b5b308"
      },
      "execution_count": null,
      "outputs": [
        {
          "output_type": "execute_result",
          "data": {
            "text/plain": [
              "['밀직사 조임을 경사로 보내 태조가 즉위하게 된 사유를 알리는 표문을 올리다']"
            ]
          },
          "metadata": {},
          "execution_count": 131
        }
      ]
    },
    {
      "cell_type": "code",
      "source": [
        "posts"
      ],
      "metadata": {
        "id": "oSYL4suY1WPQ"
      },
      "execution_count": null,
      "outputs": []
    },
    {
      "cell_type": "code",
      "source": [
        "http://sillok.history.go.kr/search/inspectionDayList.do\n",
        "http://sillok.history.go.kr/search/inspectionDayList.do\n",
        "http://sillok.history.go.kr/search/inspectionDayList.do\n",
        "http://sillok.history.go.kr/search/inspectionDayList.do"
      ],
      "metadata": {
        "id": "FX7LipqU11Gr"
      },
      "execution_count": null,
      "outputs": []
    },
    {
      "cell_type": "code",
      "source": [
        "x=[80,90,100,110]"
      ],
      "metadata": {
        "id": "pgYQpMsLT4E1"
      },
      "execution_count": null,
      "outputs": []
    },
    {
      "cell_type": "code",
      "source": [
        "for i in x:\n",
        "  print(i)"
      ],
      "metadata": {
        "colab": {
          "base_uri": "https://localhost:8080/"
        },
        "id": "-vnuvJWTT9JB",
        "outputId": "061d6e49-05fe-4d3c-f4b4-007b4ca81441"
      },
      "execution_count": null,
      "outputs": [
        {
          "output_type": "stream",
          "name": "stdout",
          "text": [
            "80\n",
            "90\n",
            "100\n",
            "110\n"
          ]
        }
      ]
    },
    {
      "cell_type": "code",
      "source": [
        "for i in x:\n",
        "\n",
        "  data={\n",
        "      'id':f'kaa_1010{i}',\n",
        "      'did':\"\",\n",
        "      'level':'3'\n",
        "      }\n",
        "\n",
        "  print(data)"
      ],
      "metadata": {
        "colab": {
          "base_uri": "https://localhost:8080/"
        },
        "id": "XNHq1v0jT_1S",
        "outputId": "6a66466c-53b2-40f9-c9ad-a9027f359e5e"
      },
      "execution_count": null,
      "outputs": [
        {
          "output_type": "stream",
          "name": "stdout",
          "text": [
            "{'id': 'kaa_101080', 'did': '', 'level': '3'}\n",
            "{'id': 'kaa_101090', 'did': '', 'level': '3'}\n",
            "{'id': 'kaa_1010100', 'did': '', 'level': '3'}\n",
            "{'id': 'kaa_1010110', 'did': '', 'level': '3'}\n"
          ]
        }
      ]
    },
    {
      "cell_type": "code",
      "source": [
        "x=[80,90,100,110]\n",
        "y=[]\n",
        "for i in range(len(x)):\n",
        "  y.append(i)\n",
        "\n",
        "print(y)"
      ],
      "metadata": {
        "colab": {
          "base_uri": "https://localhost:8080/"
        },
        "id": "lqe9_akSV8t7",
        "outputId": "bab71aa0-ef84-47bb-f2ce-c6647a10571f"
      },
      "execution_count": null,
      "outputs": [
        {
          "output_type": "stream",
          "name": "stdout",
          "text": [
            "[0, 1, 2, 3]\n"
          ]
        }
      ]
    },
    {
      "cell_type": "code",
      "source": [
        "\"python\"+'hello'"
      ],
      "metadata": {
        "colab": {
          "base_uri": "https://localhost:8080/",
          "height": 36
        },
        "id": "66X0p2uCXEOB",
        "outputId": "d31692b0-a86f-48ca-e27b-f852783d50a7"
      },
      "execution_count": null,
      "outputs": [
        {
          "output_type": "execute_result",
          "data": {
            "application/vnd.google.colaboratory.intrinsic+json": {
              "type": "string"
            },
            "text/plain": [
              "'pythonhello'"
            ]
          },
          "metadata": {},
          "execution_count": 152
        }
      ]
    },
    {
      "cell_type": "code",
      "source": [],
      "metadata": {
        "id": "BpTCyaQjaJek"
      },
      "execution_count": null,
      "outputs": []
    }
  ]
}